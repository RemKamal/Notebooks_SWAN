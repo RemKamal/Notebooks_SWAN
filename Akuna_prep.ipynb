{
 "cells": [
  {
   "cell_type": "code",
   "execution_count": 4,
   "metadata": {},
   "outputs": [
    {
     "ename": "IndentationError",
     "evalue": "expected an indented block (<ipython-input-4-927e3a63ac7d>, line 20)",
     "output_type": "error",
     "traceback": [
      "\u001b[0;36m  File \u001b[0;32m\"<ipython-input-4-927e3a63ac7d>\"\u001b[0;36m, line \u001b[0;32m20\u001b[0m\n\u001b[0;31m    points = [0,0,  1,0,  1,1]\u001b[0m\n\u001b[0m                              ^\u001b[0m\n\u001b[0;31mIndentationError\u001b[0m\u001b[0;31m:\u001b[0m expected an indented block\n"
     ]
    }
   ],
   "source": [
    "def distance(pnts):\n",
    "    #distance = math.sqrt( ((p1[0]-p2[0])**2)+((p1[1]-p2[1])**2) )\n",
    "        \n",
    "\n",
    "\n",
    "def find_min_dist(points):\n",
    "    x1, y1, x2, y2, x3, y3 = points\n",
    "    \n",
    "    x_min = min(x1, x2, x3)\n",
    "    x_max = max(x1, x2, x3)\n",
    "\n",
    "    y_min = min(y1, y2, y3)\n",
    "    y_max = max(y1, y2, y3)\n",
    "    \n",
    "    min_dist = 100000000\n",
    "    for x in range(x_min, x_max+1):\n",
    "        for y in range(y_min, y_max+1):\n",
    "            \n",
    "\n",
    "points = [0,0,  1,0,  1,1]\n",
    "\n",
    "find_min_dist(points)\n"
   ]
  },
  {
   "cell_type": "code",
   "execution_count": null,
   "metadata": {},
   "outputs": [],
   "source": []
  }
 ],
 "metadata": {
  "kernelspec": {
   "display_name": "Python 2",
   "language": "python",
   "name": "python2"
  },
  "language_info": {
   "codemirror_mode": {
    "name": "ipython",
    "version": 2
   },
   "file_extension": ".py",
   "mimetype": "text/x-python",
   "name": "python",
   "nbconvert_exporter": "python",
   "pygments_lexer": "ipython2",
   "version": "2.7.15"
  }
 },
 "nbformat": 4,
 "nbformat_minor": 2
}
