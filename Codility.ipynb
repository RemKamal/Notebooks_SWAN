{
 "cells": [
  {
   "cell_type": "code",
   "execution_count": 7,
   "metadata": {},
   "outputs": [],
   "source": [
    "import sys\n",
    " \n",
    "def solution(A):\n",
    "    #1st pass\n",
    "    parts = [0] * len(A)\n",
    "    parts[0] = A[0]\n",
    "  \n",
    "    for idx in xrange(1, len(A)):\n",
    "        parts[idx] = A[idx] + parts[idx-1]\n",
    "  \n",
    "    print parts\n",
    "    #2nd pass\n",
    "    solution = sys.maxint\n",
    "    for idx in xrange(0, len(parts)-1):\n",
    "        print 'solution=', solution\n",
    "        new = abs(parts[-1] - 2 * parts[idx])\n",
    "        \n",
    "        print 'new=', new\n",
    "        solution = min(solution,new);  \n",
    "  \n",
    "    return solution"
   ]
  },
  {
   "cell_type": "code",
   "execution_count": 8,
   "metadata": {},
   "outputs": [
    {
     "name": "stdout",
     "output_type": "stream",
     "text": [
      "[3, 4, 6, 10, 13]\n",
      "solution= 9223372036854775807\n",
      "new= 7\n",
      "solution= 7\n",
      "new= 5\n",
      "solution= 5\n",
      "new= 1\n",
      "solution= 1\n",
      "new= 7\n",
      "1\n"
     ]
    }
   ],
   "source": [
    "A = [3, 1, 2, 4, 3] \n",
    "print solution(A)"
   ]
  },
  {
   "cell_type": "code",
   "execution_count": 10,
   "metadata": {},
   "outputs": [
    {
     "name": "stdout",
     "output_type": "stream",
     "text": [
      "10\n",
      "9\n",
      "8\n",
      "7\n",
      "6\n",
      "5\n",
      "4\n",
      "3\n",
      "2\n",
      "1\n",
      "0\n"
     ]
    }
   ],
   "source": [
    "for idx in range (10, -1, -1):\n",
    "    print idx"
   ]
  },
  {
   "cell_type": "code",
   "execution_count": 19,
   "metadata": {},
   "outputs": [],
   "source": [
    "import sys\n",
    " \n",
    "def solution(A):\n",
    "    \n",
    "    lows = [0] * len(A)\n",
    "    higs = [0] * len(A)\n",
    "    lows[0] = A[0] \n",
    "    higs[-1] = A[-1]\n",
    "    \n",
    "    \n",
    "    #1st pass\n",
    "    for idx in range(1, len(A)):\n",
    "        lows[idx] = A[idx] + lows[idx-1]\n",
    "    \n",
    "    for idx in range (len(A)-2, 0, -1):\n",
    "        #print ('idx=', idx)\n",
    "        higs[idx] = A[idx] + higs[idx+1]\n",
    "    \n",
    "    print ('lows=', lows)\n",
    "    print ('high=', higs)\n",
    "    \n",
    "    minim = 10000\n",
    "    for idx, (iL, iH) in enumerate(zip(lows, higs)):\n",
    "        print ('idx=', idx)\n",
    "        if idx == len(lows)-1:\n",
    "            continue\n",
    "        print('minim=', minim)\n",
    "        new_min = abs(lows[idx]-higs[idx+1])\n",
    "        minim = min(minim, new_min)\n",
    "        \n",
    "    return minim"
   ]
  },
  {
   "cell_type": "code",
   "execution_count": 20,
   "metadata": {},
   "outputs": [
    {
     "name": "stdout",
     "output_type": "stream",
     "text": [
      "('lows=', [3, 4, 6, 10, 13])\n",
      "('high=', [0, 10, 9, 7, 3])\n",
      "('idx=', 0)\n",
      "('minim=', 10000)\n",
      "('idx=', 1)\n",
      "('minim=', 7)\n",
      "('idx=', 2)\n",
      "('minim=', 5)\n",
      "('idx=', 3)\n",
      "('minim=', 1)\n",
      "('idx=', 4)\n",
      "1\n"
     ]
    }
   ],
   "source": [
    "A = [3, 1, 2, 4, 3] \n",
    "print (solution(A))"
   ]
  },
  {
   "cell_type": "code",
   "execution_count": null,
   "metadata": {},
   "outputs": [],
   "source": []
  }
 ],
 "metadata": {
  "kernelspec": {
   "display_name": "Python 2",
   "language": "python",
   "name": "python2"
  },
  "language_info": {
   "codemirror_mode": {
    "name": "ipython",
    "version": 2
   },
   "file_extension": ".py",
   "mimetype": "text/x-python",
   "name": "python",
   "nbconvert_exporter": "python",
   "pygments_lexer": "ipython2",
   "version": "2.7.15"
  }
 },
 "nbformat": 4,
 "nbformat_minor": 2
}
