{
 "cells": [
  {
   "cell_type": "code",
   "execution_count": 2,
   "metadata": {},
   "outputs": [
    {
     "name": "stdout",
     "output_type": "stream",
     "text": [
      "7\n"
     ]
    }
   ],
   "source": [
    "A = [6, 1]\n",
    "print (sum(A))"
   ]
  },
  {
   "cell_type": "code",
   "execution_count": null,
   "metadata": {},
   "outputs": [],
   "source": [
    "\n",
    "public class StringTest {\n",
    "\n",
    "    solution \n",
    "        int totalOfKAndL = 0;\n",
    "\n",
    "        Integer[] maxAndStartingIndex = getMaxContiguosFromArray(a, k);\n",
    "        totalOfKAndL+=maxAndStartingIndex[0];\n",
    "        System.out.println(maxAndStartingIndex[0]);\n",
    "        Integer[] leadingElements = Arrays.copyOfRange(a, 0, maxAndStartingIndex[1]);\n",
    "        Integer[] trailingElements = Arrays.copyOfRange(a, (maxAndStartingIndex[1]+k), a.length);\n",
    "\n",
    "        List<Integer> mergedLeadingAndTrailingElements = new ArrayList(Arrays.asList(leadingElements));\n",
    "        mergedLeadingAndTrailingElements.addAll(Arrays.asList(trailingElements));\n",
    "        Integer[] mergedLeadingAndTrailingElementsArray =  mergedLeadingAndTrailingElements.toArray(new Integer[0]);\n",
    "\n",
    "        maxAndStartingIndex = getMaxContiguosFromArray(mergedLeadingAndTrailingElementsArray, l);\n",
    "        System.out.println(maxAndStartingIndex[0]);\n",
    "        totalOfKAndL+=maxAndStartingIndex[0];\n",
    "        System.out.println(totalOfKAndL);\n",
    "    }\n",
    "\n",
    "    static Integer[] getMaxContiguosFromArray(Integer[] a, int numberOrElements){\n",
    "        int sumForFirst = 0;\n",
    "        int sumForFirstPrev = 0;\n",
    "        int startingIndexForK = 0;\n",
    "        Integer[] maxAndStartingIndex = new Integer[2];\n",
    "        for(int i = 0; i < a.length; i++){\n",
    "            if(i <= a.length - numberOrElements) {\n",
    "                for (int j = i; j < i + numberOrElements; j++) {\n",
    "                    sumForFirst += a[j];\n",
    "                }\n",
    "            }\n",
    "\n",
    "            if(sumForFirst >  sumForFirstPrev) {\n",
    "                sumForFirstPrev = sumForFirst;\n",
    "                startingIndexForK = i;\n",
    "\n",
    "            }\n",
    "            sumForFirst = 0;\n",
    "        }\n",
    "        maxAndStartingIndex[0] = sumForFirstPrev;\n",
    "        maxAndStartingIndex[1] = startingIndexForK;\n",
    "        return maxAndStartingIndex;\n",
    "    }\n",
    "\n",
    "    public static void main(String[] args) {\n",
    "        Integer a[] = {6, 1, 3, 4, 5, 6, 8, 2, 7};\n",
    "\n",
    "        function(a, 3,2);\n",
    "\n",
    "    }\n",
    "}"
   ]
  },
  {
   "cell_type": "code",
   "execution_count": 4,
   "metadata": {},
   "outputs": [
    {
     "data": {
      "text/plain": [
       "444444420"
      ]
     },
     "execution_count": 4,
     "metadata": {},
     "output_type": "execute_result"
    }
   ],
   "source": [
    "(555555555+555555555+666666666+777777777+888888888)%1000000007"
   ]
  },
  {
   "cell_type": "code",
   "execution_count": 5,
   "metadata": {},
   "outputs": [
    {
     "data": {
      "text/plain": [
       "444444420"
      ]
     },
     "execution_count": 5,
     "metadata": {},
     "output_type": "execute_result"
    }
   ],
   "source": [
    "sum([555555555, 555555555, 666666666, 777777777, 888888888])%1000000007"
   ]
  },
  {
   "cell_type": "code",
   "execution_count": null,
   "metadata": {},
   "outputs": [],
   "source": []
  }
 ],
 "metadata": {
  "kernelspec": {
   "display_name": "Python 2",
   "language": "python",
   "name": "python2"
  },
  "language_info": {
   "codemirror_mode": {
    "name": "ipython",
    "version": 2
   },
   "file_extension": ".py",
   "mimetype": "text/x-python",
   "name": "python",
   "nbconvert_exporter": "python",
   "pygments_lexer": "ipython2",
   "version": "2.7.15"
  }
 },
 "nbformat": 4,
 "nbformat_minor": 2
}
