{
 "cells": [
  {
   "cell_type": "code",
   "execution_count": 18,
   "metadata": {},
   "outputs": [
    {
     "name": "stdout",
     "output_type": "stream",
     "text": [
      "[0, 1, 2, 3, 4, 5, 6, 7, 8, 9, 10, 11, 12, 13, 14, 15, 16, 17, 18, 19, 20, 21, 22, 23, 24, 25, 26, 27, 28, 29, 30, 31, 32, 33, 34, 35, 36, 37, 38, 39, 40, 41, 42, 43, 44, 45, 46, 47, 48, 49, 50, 51, 52, 53, 54, 55, 56, 57, 58, 59, 60, 61, 62, 63, 64, 65, 66, 67, 68, 69, 70, 71, 72, 73, 74, 75, 76, 77, 78, 79, 80, 81, 82, 83, 84, 85, 86, 87, 88, 89, 90, 91, 92, 93, 94, 95, 96, 97, 98, 99]\n",
      "[2, 4, 6, 8, 10, 12, 14, 16, 18, 20, 22, 24, 26, 28, 30, 32, 34, 36, 38, 40, 42, 44, 46, 48, 50, 52, 54, 56, 58, 60, 62, 64, 66, 68, 70, 72, 74, 76, 78, 80, 82, 84, 86, 88, 90, 92, 94, 96, 98, 100, 102, 104, 106, 108, 110, 112, 114, 116, 118, 120, 122, 124, 126, 128, 130, 132, 134, 136, 138, 140, 142, 144, 146, 148, 150, 152, 154, 156, 158, 160, 162, 164, 166, 168, 170, 172, 174, 176, 178, 180, 182, 184, 186, 188, 190, 192, 194, 196, 198, 200]\n"
     ]
    },
    {
     "ename": "TypeError",
     "evalue": "unsupported operand type(s) for ** or pow(): 'list' and 'int'",
     "output_type": "error",
     "traceback": [
      "\u001b[0;31m\u001b[0m",
      "\u001b[0;31mTypeError\u001b[0mTraceback (most recent call last)",
      "\u001b[0;32m<ipython-input-18-961454ab4be1>\u001b[0m in \u001b[0;36m<module>\u001b[0;34m()\u001b[0m\n\u001b[1;32m     26\u001b[0m     \u001b[0mlis\u001b[0m \u001b[0;34m=\u001b[0m \u001b[0;34m[\u001b[0m\u001b[0mparams\u001b[0m\u001b[0;34m]\u001b[0m\u001b[0;34m\u001b[0m\u001b[0m\n\u001b[1;32m     27\u001b[0m     \u001b[0mpool\u001b[0m \u001b[0;34m=\u001b[0m \u001b[0mmultiprocessing\u001b[0m\u001b[0;34m.\u001b[0m\u001b[0mPool\u001b[0m\u001b[0;34m(\u001b[0m\u001b[0;36m4\u001b[0m\u001b[0;34m)\u001b[0m\u001b[0;34m\u001b[0m\u001b[0m\n\u001b[0;32m---> 28\u001b[0;31m     \u001b[0mresults\u001b[0m \u001b[0;34m=\u001b[0m \u001b[0mpool\u001b[0m\u001b[0;34m.\u001b[0m\u001b[0mmap\u001b[0m\u001b[0;34m(\u001b[0m\u001b[0mrunSimulation\u001b[0m\u001b[0;34m,\u001b[0m \u001b[0mlis\u001b[0m\u001b[0;34m)\u001b[0m\u001b[0;34m\u001b[0m\u001b[0m\n\u001b[0m\u001b[1;32m     29\u001b[0m \u001b[0;34m\u001b[0m\u001b[0m\n\u001b[1;32m     30\u001b[0m     \u001b[0mpp\u001b[0m\u001b[0;34m(\u001b[0m\u001b[0mresults\u001b[0m\u001b[0;34m)\u001b[0m\u001b[0;34m\u001b[0m\u001b[0m\n",
      "\u001b[0;32m/cvmfs/sft.cern.ch/lcg/views/LCG_91/x86_64-slc6-gcc62-opt/lib/python2.7/site-packages/multiprocessing/pool.pyc\u001b[0m in \u001b[0;36mmap\u001b[0;34m(self, func, iterable, chunksize)\u001b[0m\n\u001b[1;32m    146\u001b[0m         '''\n\u001b[1;32m    147\u001b[0m         \u001b[0;32massert\u001b[0m \u001b[0mself\u001b[0m\u001b[0;34m.\u001b[0m\u001b[0m_state\u001b[0m \u001b[0;34m==\u001b[0m \u001b[0mRUN\u001b[0m\u001b[0;34m\u001b[0m\u001b[0m\n\u001b[0;32m--> 148\u001b[0;31m         \u001b[0;32mreturn\u001b[0m \u001b[0mself\u001b[0m\u001b[0;34m.\u001b[0m\u001b[0mmap_async\u001b[0m\u001b[0;34m(\u001b[0m\u001b[0mfunc\u001b[0m\u001b[0;34m,\u001b[0m \u001b[0miterable\u001b[0m\u001b[0;34m,\u001b[0m \u001b[0mchunksize\u001b[0m\u001b[0;34m)\u001b[0m\u001b[0;34m.\u001b[0m\u001b[0mget\u001b[0m\u001b[0;34m(\u001b[0m\u001b[0;34m)\u001b[0m\u001b[0;34m\u001b[0m\u001b[0m\n\u001b[0m\u001b[1;32m    149\u001b[0m \u001b[0;34m\u001b[0m\u001b[0m\n\u001b[1;32m    150\u001b[0m     \u001b[0;32mdef\u001b[0m \u001b[0mimap\u001b[0m\u001b[0;34m(\u001b[0m\u001b[0mself\u001b[0m\u001b[0;34m,\u001b[0m \u001b[0mfunc\u001b[0m\u001b[0;34m,\u001b[0m \u001b[0miterable\u001b[0m\u001b[0;34m,\u001b[0m \u001b[0mchunksize\u001b[0m\u001b[0;34m=\u001b[0m\u001b[0;36m1\u001b[0m\u001b[0;34m)\u001b[0m\u001b[0;34m:\u001b[0m\u001b[0;34m\u001b[0m\u001b[0m\n",
      "\u001b[0;32m/cvmfs/sft.cern.ch/lcg/views/LCG_91/x86_64-slc6-gcc62-opt/lib/python2.7/site-packages/multiprocessing/pool.pyc\u001b[0m in \u001b[0;36mget\u001b[0;34m(self, timeout)\u001b[0m\n\u001b[1;32m    420\u001b[0m             \u001b[0;32mreturn\u001b[0m \u001b[0mself\u001b[0m\u001b[0;34m.\u001b[0m\u001b[0m_value\u001b[0m\u001b[0;34m\u001b[0m\u001b[0m\n\u001b[1;32m    421\u001b[0m         \u001b[0;32melse\u001b[0m\u001b[0;34m:\u001b[0m\u001b[0;34m\u001b[0m\u001b[0m\n\u001b[0;32m--> 422\u001b[0;31m             \u001b[0;32mraise\u001b[0m \u001b[0mself\u001b[0m\u001b[0;34m.\u001b[0m\u001b[0m_value\u001b[0m\u001b[0;34m\u001b[0m\u001b[0m\n\u001b[0m\u001b[1;32m    423\u001b[0m \u001b[0;34m\u001b[0m\u001b[0m\n\u001b[1;32m    424\u001b[0m     \u001b[0;32mdef\u001b[0m \u001b[0m_set\u001b[0m\u001b[0;34m(\u001b[0m\u001b[0mself\u001b[0m\u001b[0;34m,\u001b[0m \u001b[0mi\u001b[0m\u001b[0;34m,\u001b[0m \u001b[0mobj\u001b[0m\u001b[0;34m)\u001b[0m\u001b[0;34m:\u001b[0m\u001b[0;34m\u001b[0m\u001b[0m\n",
      "\u001b[0;31mTypeError\u001b[0m: unsupported operand type(s) for ** or pow(): 'list' and 'int'"
     ]
    }
   ],
   "source": [
    "import multiprocessing\n",
    "from pprint import pprint as pp\n",
    "\n",
    "\n",
    "def runSimulation(params):\n",
    "    \"\"\"This is the main processing function. It will contain whatever\n",
    "    code should be run on multiple processors.\n",
    "    \n",
    "    \"\"\"\n",
    "    param1, param2 = params\n",
    "    # Example computation\n",
    "    processedData = []\n",
    "    for ctr in range(5):\n",
    "        processedData.append(param1 * ctr - param2 ** 2)\n",
    "\n",
    "    return processedData\n",
    "\n",
    "if __name__ == '__main__':\n",
    "    # Define the parameters to test\n",
    "    param1 = range(100)\n",
    "    param2 = range(2, 202, 2)\n",
    "\n",
    "    # Zip the parameters because pool.map() takes only one iterable\n",
    "    params = (param1, param2)\n",
    "    for p in params:\n",
    "        print p\n",
    "    lis = [params]\n",
    "    pool = multiprocessing.Pool(4)\n",
    "    results = pool.map(runSimulation, lis)\n",
    "    \n",
    "    pp(results)\n"
   ]
  },
  {
   "cell_type": "code",
   "execution_count": 32,
   "metadata": {},
   "outputs": [
    {
     "name": "stdout",
     "output_type": "stream",
     "text": [
      "[(1, 2, 3)]\n"
     ]
    },
    {
     "data": {
      "text/plain": [
       "[(1, 2, 3)]"
      ]
     },
     "execution_count": 32,
     "metadata": {},
     "output_type": "execute_result"
    }
   ],
   "source": [
    "a =1\n",
    "b =2\n",
    "c =3\n",
    "typ = (a, b, c)\n",
    "myli = []\n",
    "myli.append(typ)\n",
    "pp(myli)\n",
    "\n",
    "q= myli\n",
    "q"
   ]
  },
  {
   "cell_type": "code",
   "execution_count": 7,
   "metadata": {},
   "outputs": [
    {
     "name": "stdout",
     "output_type": "stream",
     "text": [
      "(1, 2, 4, 5, 'erer', 0, 2, 4, 5)\n",
      "len of args is  9\n",
      "args are :\n",
      "(1, 2, 4, 5, 'erer', 0, 2, 4, 5)\n",
      "{'outFileURL': 2, 'passLoose': 5, 'physRegion': 4, 'whichChannel': 2, 'denominator': 5, 'isSignal': 'erer', 'inFileURLorList': 1, 'splitSignal': 0, 'xsec': 4}\n"
     ]
    },
    {
     "data": {
      "text/plain": [
       "[None]"
      ]
     },
     "execution_count": 7,
     "metadata": {},
     "output_type": "execute_result"
    }
   ],
   "source": [
    "import sys\n",
    "\n",
    "\n",
    "def show(**kwargs):\n",
    "    print kwargs\n",
    "        #print a\n",
    "    \n",
    "def runSimplestAnPacked(args):\n",
    "    try:\n",
    "        print 'len of args is ', len(args)\n",
    "        print 'args are :'\n",
    "        print args\n",
    "        return show(inFileURLorList=args[0],\n",
    "                             outFileURL=args[1],\n",
    "                             xsec=args[2],\n",
    "                             denominator=args[3],\n",
    "                             isSignal = args[4],\n",
    "                             splitSignal = args[5],\n",
    "                             whichChannel = args[6],\n",
    "                             physRegion = args[7],\n",
    "                             passLoose = args[8])\n",
    "    except :\n",
    "        print 50*'<'\n",
    "        print \"  Problem  (%s) with %s continuing without\"%(sys.exc_info()[1],args[0])\n",
    "        print 50*'<'\n",
    "        return False\n",
    "    \n",
    "    \n",
    "    \n",
    "a = 0\n",
    "b = 2\n",
    "c = 4\n",
    "d = 5\n",
    "e = 'erer'\n",
    "\n",
    "typle = (1, b, c, d, e, a, b, c, d )\n",
    "print typle\n",
    "\n",
    "taskList = []\n",
    "taskList.append( typle )\n",
    "    \n",
    "from multiprocessing import Pool, Process\n",
    "        #from pathos.multiprocessing import ProcessingPool as Pool                                                                                                                                        \n",
    "pool = Pool(4)\n",
    "\n",
    "#        try:                                                                                                                                                                                             \n",
    "            #funct= runSimplestAn(inFileURL=inFileURL, outFileURL=outFileURL, xsec=xsec, denominator=denominator)                                                                                         \n",
    "            # apply runSimplestAn fcn to each object in the taskList with the hepl of map()                                                                                                               \n",
    "            #pool.map(funct,taskList)                                                                                                                                                                     \n",
    "pool.map(runSimplestAnPacked,taskList)"
   ]
  },
  {
   "cell_type": "code",
   "execution_count": 16,
   "metadata": {},
   "outputs": [
    {
     "name": "stdout",
     "output_type": "stream",
     "text": [
      "[-36, -34, -32, -30, -28, -26, -24, -22]\n",
      "[-144, -139, -134, -129, -124, -119, -114, -109]\n",
      "[-256, -249, -242, -235, -228, -221, -214, -207]\n",
      "[-100, -96, -92, -88, -84, -80, -76, -72]\n",
      "[-4, -4, -4, -4, -4, -4, -4, -4]\n",
      "[-16, -15, -14, -13, -12, -11, -10, -9]\n",
      "[-324, -316, -308, -300, -292, -284, -276, -268]\n",
      "[-484, -474, -464, -454, -444, -434, -424, -414]\n",
      "[-64, -61, -58, -55, -52, -49, -46, -43]\n",
      "[-196, -190, -184, -178, -172, -166, -160, -154]\n",
      "[-1764, -1744, -1724, -1704, -1684, -1664, -1644, -1624]\n",
      "[-1296, -1279, -1262, -1245, -1228, -1211, -1194, -1177]\n",
      "[-400, -391, -382, -373, -364, -355, -346, -337]\n",
      "[-576, -565, -554, -543, -532, -521, -510, -499]\n",
      "[-1156, -1140, -1124, -1108, -1092, -1076, -1060, -1044]\n",
      "[-900, -886, -872, -858, -844, -830, -816, -802]\n",
      "[-2500, -2476, -2452, -2428, -2404, -2380, -2356, -2332]\n",
      "[-1600, -1581, -1562, -1543, -1524, -1505, -1486, -1467]\n",
      "[-676, -664, -652, -640, -628, -616, -604, -592]\n",
      "[-1936, -1915, -1894, -1873, -1852, -1831, -1810, -1789]\n",
      "[-784, -771, -758, -745, -732, -719, -706, -693]\n",
      "[-2304, -2281, -2258, -2235, -2212, -2189, -2166, -2143]\n",
      "[-2116, -2094, -2072, -2050, -2028, -2006, -1984, -1962]\n",
      "[-1024, -1009, -994, -979, -964, -949, -934, -919]\n",
      "[-1444, -1426, -1408, -1390, -1372, -1354, -1336, -1318]\n",
      "[-2704, -2679, -2654, -2629, -2604, -2579, -2554, -2529]\n",
      "[-5184, -5149, -5114, -5079, -5044, -5009, -4974, -4939]\n",
      "[-4900, -4866, -4832, -4798, -4764, -4730, -4696, -4662]\n",
      "[-4624, -4591, -4558, -4525, -4492, -4459, -4426, -4393]\n",
      "[-6400, -6361, -6322, -6283, -6244, -6205, -6166, -6127]\n",
      "[-6084, -6046, -6008, -5970, -5932, -5894, -5856, -5818]\n",
      "[-7396, -7354, -7312, -7270, -7228, -7186, -7144, -7102]\n",
      "[-8100, -8056, -8012, -7968, -7924, -7880, -7836, -7792]\n",
      "[-8464, -8419, -8374, -8329, -8284, -8239, -8194, -8149]\n",
      "[-6724, -6684, -6644, -6604, -6564, -6524, -6484, -6444]\n",
      "[-7056, -7015, -6974, -6933, -6892, -6851, -6810, -6769]\n",
      "[-10000, -9951, -9902, -9853, -9804, -9755, -9706, -9657]\n",
      "[-9216, -9169, -9122, -9075, -9028, -8981, -8934, -8887]\n",
      "[-5776, -5739, -5702, -5665, -5628, -5591, -5554, -5517]\n",
      "[-5476, -5440, -5404, -5368, -5332, -5296, -5260, -5224]\n",
      "[-9604, -9556, -9508, -9460, -9412, -9364, -9316, -9268]\n",
      "[-8836, -8790, -8744, -8698, -8652, -8606, -8560, -8514]\n",
      "[-10404, -10354, -10304, -10254, -10204, -10154, -10104, -10054]\n",
      "[-7744, -7701, -7658, -7615, -7572, -7529, -7486, -7443]\n",
      "[-11664, -11611, -11558, -11505, -11452, -11399, -11346, -11293]\n",
      "[-10816, -10765, -10714, -10663, -10612, -10561, -10510, -10459]\n",
      "[-11236, -11184, -11132, -11080, -11028, -10976, -10924, -10872]\n",
      "[-12100, -12046, -11992, -11938, -11884, -11830, -11776, -11722]\n",
      "[-12544, -12489, -12434, -12379, -12324, -12269, -12214, -12159]\n",
      "[-12996, -12940, -12884, -12828, -12772, -12716, -12660, -12604]\n",
      "[-14400, -14341, -14282, -14223, -14164, -14105, -14046, -13987]\n",
      "[-4356, -4324, -4292, -4260, -4228, -4196, -4164, -4132]\n",
      "[-13456, -13399, -13342, -13285, -13228, -13171, -13114, -13057]\n",
      "[-13924, -13866, -13808, -13750, -13692, -13634, -13576, -13518]\n",
      "[-16900, -16836, -16772, -16708, -16644, -16580, -16516, -16452]\n",
      "[-3600, -3571, -3542, -3513, -3484, -3455, -3426, -3397]\n",
      "[-14884, -14824, -14764, -14704, -14644, -14584, -14524, -14464]\n",
      "[-15376, -15315, -15254, -15193, -15132, -15071, -15010, -14949]\n",
      "[-15876, -15814, -15752, -15690, -15628, -15566, -15504, -15442]\n",
      "[-3844, -3814, -3784, -3754, -3724, -3694, -3664, -3634]\n",
      "[-16384, -16321, -16258, -16195, -16132, -16069, -16006, -15943]\n",
      "[-17956, -17890, -17824, -17758, -17692, -17626, -17560, -17494]\n",
      "[-3364, -3336, -3308, -3280, -3252, -3224, -3196, -3168]\n",
      "[-19044, -18976, -18908, -18840, -18772, -18704, -18636, -18568]\n",
      "[-17424, -17359, -17294, -17229, -17164, -17099, -17034, -16969]\n",
      "[-20164, -20094, -20024, -19954, -19884, -19814, -19744, -19674]\n",
      "[-18496, -18429, -18362, -18295, -18228, -18161, -18094, -18027]\n",
      "[-19600, -19531, -19462, -19393, -19324, -19255, -19186, -19117]\n",
      "[-2916, -2890, -2864, -2838, -2812, -2786, -2760, -2734]\n",
      "[-21904, -21831, -21758, -21685, -21612, -21539, -21466, -21393]\n",
      "[-20736, -20665, -20594, -20523, -20452, -20381, -20310, -20239]\n",
      "[-21316, -21244, -21172, -21100, -21028, -20956, -20884, -20812]\n",
      "[-22500, -22426, -22352, -22278, -22204, -22130, -22056, -21982]\n",
      "[-3136, -3109, -3082, -3055, -3028, -3001, -2974, -2947]\n",
      "[-4096, -4065, -4034, -4003, -3972, -3941, -3910, -3879]\n",
      "[-23716, -23640, -23564, -23488, -23412, -23336, -23260, -23184]\n",
      "[-23104, -23029, -22954, -22879, -22804, -22729, -22654, -22579]\n",
      "[-24336, -24259, -24182, -24105, -24028, -23951, -23874, -23797]\n",
      "[-24964, -24886, -24808, -24730, -24652, -24574, -24496, -24418]\n",
      "[-25600, -25521, -25442, -25363, -25284, -25205, -25126, -25047]\n",
      "[-26244, -26164, -26084, -26004, -25924, -25844, -25764, -25684]\n",
      "[-26896, -26815, -26734, -26653, -26572, -26491, -26410, -26329]\n",
      "[-27556, -27474, -27392, -27310, -27228, -27146, -27064, -26982]\n",
      "[-28224, -28141, -28058, -27975, -27892, -27809, -27726, -27643]\n",
      "[-28900, -28816, -28732, -28648, -28564, -28480, -28396, -28312]\n",
      "[-30276, -30190, -30104, -30018, -29932, -29846, -29760, -29674]\n",
      "[-29584, -29499, -29414, -29329, -29244, -29159, -29074, -28989]\n",
      "[-30976, -30889, -30802, -30715, -30628, -30541, -30454, -30367]\n",
      "[-31684, -31596, -31508, -31420, -31332, -31244, -31156, -31068]\n",
      "[-32400, -32311, -32222, -32133, -32044, -31955, -31866, -31777]\n",
      "[-33124, -33034, -32944, -32854, -32764, -32674, -32584, -32494]\n",
      "[-33856, -33765, -33674, -33583, -33492, -33401, -33310, -33219]\n",
      "[-34596, -34504, -34412, -34320, -34228, -34136, -34044, -33952]\n",
      "[-36100, -36006, -35912, -35818, -35724, -35630, -35536, -35442]\n",
      "[-36864, -36769, -36674, -36579, -36484, -36389, -36294, -36199]\n",
      "[-35344, -35251, -35158, -35065, -34972, -34879, -34786, -34693]\n",
      "[-37636, -37540, -37444, -37348, -37252, -37156, -37060, -36964]\n",
      "[-38416, -38319, -38222, -38125, -38028, -37931, -37834, -37737]\n",
      "[-40000, -39901, -39802, -39703, -39604, -39505, -39406, -39307]\n",
      "[-39204, -39106, -39008, -38910, -38812, -38714, -38616, -38518]\n"
     ]
    },
    {
     "data": {
      "text/plain": [
       "[1,\n",
       " 1,\n",
       " 1,\n",
       " 1,\n",
       " 1,\n",
       " 1,\n",
       " 1,\n",
       " 1,\n",
       " 1,\n",
       " 1,\n",
       " 1,\n",
       " 1,\n",
       " 1,\n",
       " 1,\n",
       " 1,\n",
       " 1,\n",
       " 1,\n",
       " 1,\n",
       " 1,\n",
       " 1,\n",
       " 1,\n",
       " 1,\n",
       " 1,\n",
       " 1,\n",
       " 1,\n",
       " 1,\n",
       " 1,\n",
       " 1,\n",
       " 1,\n",
       " 1,\n",
       " 1,\n",
       " 1,\n",
       " 1,\n",
       " 1,\n",
       " 1,\n",
       " 1,\n",
       " 1,\n",
       " 1,\n",
       " 1,\n",
       " 1,\n",
       " 1,\n",
       " 1,\n",
       " 1,\n",
       " 1,\n",
       " 1,\n",
       " 1,\n",
       " 1,\n",
       " 1,\n",
       " 1,\n",
       " 1,\n",
       " 1,\n",
       " 1,\n",
       " 1,\n",
       " 1,\n",
       " 1,\n",
       " 1,\n",
       " 1,\n",
       " 1,\n",
       " 1,\n",
       " 1,\n",
       " 1,\n",
       " 1,\n",
       " 1,\n",
       " 1,\n",
       " 1,\n",
       " 1,\n",
       " 1,\n",
       " 1,\n",
       " 1,\n",
       " 1,\n",
       " 1,\n",
       " 1,\n",
       " 1,\n",
       " 1,\n",
       " 1,\n",
       " 1,\n",
       " 1,\n",
       " 1,\n",
       " 1,\n",
       " 1,\n",
       " 1,\n",
       " 1,\n",
       " 1,\n",
       " 1,\n",
       " 1,\n",
       " 1,\n",
       " 1,\n",
       " 1,\n",
       " 1,\n",
       " 1,\n",
       " 1,\n",
       " 1,\n",
       " 1,\n",
       " 1,\n",
       " 1,\n",
       " 1,\n",
       " 1,\n",
       " 1,\n",
       " 1,\n",
       " 1]"
      ]
     },
     "execution_count": 16,
     "metadata": {},
     "output_type": "execute_result"
    }
   ],
   "source": [
    "import multiprocessing\n",
    "from pprint import pprint as pp\n",
    "\n",
    "\n",
    "def runSimulation(params):\n",
    "    \"\"\"This is the main processing function. It will contain whatever\n",
    "    code should be run on multiple processors.\n",
    "    \n",
    "    \"\"\"\n",
    "    param1, param2 = params\n",
    "    # Example computation\n",
    "    processedData = []\n",
    "    for ctr in range(8):\n",
    "        processedData.append(param1 * ctr - param2 ** 2)\n",
    "\n",
    "    #return processedData\n",
    "    print processedData\n",
    "    return 1\n",
    "\n",
    "param1 = range(100)\n",
    "param2 = range(2, 202, 2)\n",
    "\n",
    "    # Zip the parameters because pool.map() takes only one iterable\n",
    "params = zip(param1, param2)\n",
    "    \n",
    "pool = multiprocessing.Pool()\n",
    "pool.map(runSimulation, params)\n"
   ]
  },
  {
   "cell_type": "code",
   "execution_count": 25,
   "metadata": {},
   "outputs": [
    {
     "name": "stdout",
     "output_type": "stream",
     "text": [
      "python  ./  TMVAClassification250_450_BDT.weights.xml,TMVAClassification500_1000_BDT.weights.xml \n",
      "python  ./ eeeeeee TMVAClassification250_450_BDT.weights.xml,TMVAClassification500_1000_BDT.weights.xml \n"
     ]
    }
   ],
   "source": [
    "def parallCall(cmd):\n",
    "    command = cmd\n",
    "    print command\n",
    "    #print if trueRun:\n",
    "     #   subprocess.call(command, shell=True)\n",
    "        \n",
    "        \n",
    "command1 = 'python ' + ' ./  TMVAClassification250_450_BDT.weights.xml,TMVAClassification500_1000_BDT.weights.xml '\n",
    "command2 = 'python ' + ' ./ eeeeeee TMVAClassification250_450_BDT.weights.xml,TMVAClassification500_1000_BDT.weights.xml '\n",
    "for command in [command1, command2]:\n",
    "    pool = multiprocessing.Pool(8)\n",
    "    res = pool.map(parallCall, (command,) )\n",
    "\n",
    "\n"
   ]
  },
  {
   "cell_type": "code",
   "execution_count": 5,
   "metadata": {},
   "outputs": [
    {
     "data": {
      "text/plain": [
       "(['dfhjkefgbewfgf', -36],\n",
       " ['dfhjkefgbewfgf', -34],\n",
       " ['dfhjkefgbewfgf', -32],\n",
       " ['dfhjkefgbewfgf', -30],\n",
       " ['dfhjkefgbewfgf', -28],\n",
       " ['dfhjkefgbewfgf', -26],\n",
       " ['dfhjkefgbewfgf', -24],\n",
       " ['dfhjkefgbewfgf', -22])"
      ]
     },
     "execution_count": 5,
     "metadata": {},
     "output_type": "execute_result"
    }
   ],
   "source": [
    "ml = [-36, -34, -32, -30, -28, -26, -24, -22]\n",
    "com = 'dfhjkefgbewfgf'\n",
    "nl = tuple([com, x] for x in ml)\n",
    "nl"
   ]
  },
  {
   "cell_type": "code",
   "execution_count": 6,
   "metadata": {},
   "outputs": [
    {
     "ename": "TypeError",
     "evalue": "unsupported operand type(s) for *: 'NoneType' and 'NoneType'",
     "output_type": "error",
     "traceback": [
      "\u001b[0;31m\u001b[0m",
      "\u001b[0;31mTypeError\u001b[0mTraceback (most recent call last)",
      "\u001b[0;32m<ipython-input-6-e56072ab069d>\u001b[0m in \u001b[0;36m<module>\u001b[0;34m()\u001b[0m\n\u001b[1;32m      2\u001b[0m \u001b[0mb\u001b[0m \u001b[0;34m=\u001b[0m \u001b[0mNone\u001b[0m\u001b[0;34m\u001b[0m\u001b[0m\n\u001b[1;32m      3\u001b[0m \u001b[0mc\u001b[0m \u001b[0;34m=\u001b[0m \u001b[0;36m3\u001b[0m\u001b[0;34m\u001b[0m\u001b[0m\n\u001b[0;32m----> 4\u001b[0;31m \u001b[0ma\u001b[0m\u001b[0;34m*\u001b[0m\u001b[0mb\u001b[0m\u001b[0;34m\u001b[0m\u001b[0m\n\u001b[0m",
      "\u001b[0;31mTypeError\u001b[0m: unsupported operand type(s) for *: 'NoneType' and 'NoneType'"
     ]
    }
   ],
   "source": [
    "a = None\n",
    "b = None\n",
    "c = 3\n",
    "a*b"
   ]
  },
  {
   "cell_type": "code",
   "execution_count": null,
   "metadata": {
    "collapsed": true
   },
   "outputs": [],
   "source": []
  }
 ],
 "metadata": {
  "kernelspec": {
   "display_name": "Python 2",
   "language": "python",
   "name": "python2"
  },
  "language_info": {
   "codemirror_mode": {
    "name": "ipython",
    "version": 2
   },
   "file_extension": ".py",
   "mimetype": "text/x-python",
   "name": "python",
   "nbconvert_exporter": "python",
   "pygments_lexer": "ipython2",
   "version": "2.7.13"
  }
 },
 "nbformat": 4,
 "nbformat_minor": 2
}
