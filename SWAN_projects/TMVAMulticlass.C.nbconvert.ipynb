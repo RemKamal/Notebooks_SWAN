{
 "cells": [
  {
   "cell_type": "markdown",
   "metadata": {},
   "source": [
    "#  T M V A Multiclass\n",
    "This macro provides a simple example for the training and testing of the TMVA\n",
    "multiclass classification\n",
    "- Project   : TMVA - a Root-integrated toolkit for multivariate data analysis\n",
    "- Package   : TMVA\n",
    "- Root Macro: TMVAMulticlass\n",
    "\n",
    "\n",
    "\n",
    "**Author:** Andreas Hoecker  \n",
    "<i><small>This notebook tutorial was automatically generated with <a href= \"https://github.com/root-project/root/blob/master/documentation/doxygen/converttonotebook.py\">ROOTBOOK-izer (Beta)</a> from the macro found in the ROOT repository  on Monday, May 01, 2017 at 05:07 AM.</small></i>"
   ]
  },
  {
   "cell_type": "code",
   "execution_count": 1,
   "metadata": {
    "collapsed": false
   },
   "outputs": [],
   "source": [
    "%%cpp -d\n",
    "#include <cstdlib>\n",
    "#include <iostream>\n",
    "#include <map>\n",
    "#include <string>\n",
    "\n",
    "#include \"TFile.h\"\n",
    "#include \"TTree.h\"\n",
    "#include \"TString.h\"\n",
    "#include \"TSystem.h\"\n",
    "#include \"TROOT.h\"\n",
    "\n",
    "\n",
    "#include \"TMVA/Tools.h\"\n",
    "#include \"TMVA/Factory.h\"\n",
    "#include \"TMVA/DataLoader.h\"\n",
    "#include \"TMVA/TMVAMultiClassGui.h\"\n",
    "\n",
    "\n",
    "using namespace TMVA;"
   ]
  },
  {
   "cell_type": "markdown",
   "metadata": {},
   "source": [
    " Arguments are defined. "
   ]
  },
  {
   "cell_type": "code",
   "execution_count": 2,
   "metadata": {
    "collapsed": false
   },
   "outputs": [],
   "source": [
    "TString myMethodList = \"\";"
   ]
  },
  {
   "cell_type": "markdown",
   "metadata": {},
   "source": [
    "This loads the library"
   ]
  },
  {
   "cell_type": "code",
   "execution_count": 3,
   "metadata": {
    "collapsed": false
   },
   "outputs": [],
   "source": [
    "TMVA::Tools::Instance();"
   ]
  },
  {
   "cell_type": "markdown",
   "metadata": {},
   "source": [
    "To get access to the gui and all tmva macros\n",
    "\n",
    "     TString tmva_dir(TString(gRootDir) + \"/tmva\");\n",
    "     if(gSystem->Getenv(\"TMVASYS\"))\n",
    "        tmva_dir = TString(gSystem->Getenv(\"TMVASYS\"));\n",
    "     gROOT->SetMacroPath(tmva_dir + \"/test/:\" + gROOT->GetMacroPath() );\n",
    "     gROOT->ProcessLine(\".L TMVAMultiClassGui.C\");"
   ]
  },
  {
   "cell_type": "markdown",
   "metadata": {},
   "source": [
    "---------------------------------------------------------------\n",
    " Default MVA methods to be trained + tested"
   ]
  },
  {
   "cell_type": "code",
   "execution_count": 4,
   "metadata": {
    "collapsed": false
   },
   "outputs": [],
   "source": [
    "std::map<std::string,int> Use;\n",
    "Use[\"MLP\"]             = 1;\n",
    "Use[\"BDTG\"]            = 1;\n",
    "Use[\"DNN\"]             = 0;\n",
    "Use[\"FDA_GA\"]          = 0;\n",
    "Use[\"PDEFoam\"]         = 0;"
   ]
  },
  {
   "cell_type": "markdown",
   "metadata": {},
   "source": [
    "---------------------------------------------------------------"
   ]
  },
  {
   "cell_type": "code",
   "execution_count": 5,
   "metadata": {
    "collapsed": false
   },
   "outputs": [
    {
     "name": "stdout",
     "output_type": "stream",
     "text": [
      "\n",
      "==> Start TMVAMulticlass\n"
     ]
    }
   ],
   "source": [
    "std::cout << std::endl;\n",
    "std::cout << \"==> Start TMVAMulticlass\" << std::endl;\n",
    "\n",
    "if (myMethodList != \"\") {\n",
    "   for (std::map<std::string,int>::iterator it = Use.begin(); it != Use.end(); it++) it->second = 0;\n",
    "\n",
    "   std::vector<TString> mlist = TMVA::gTools().SplitString( myMethodList, ',' );\n",
    "   for (UInt_t i=0; i<mlist.size(); i++) {\n",
    "      std::string regMethod(mlist[i]);\n",
    "\n",
    "      if (Use.find(regMethod) == Use.end()) {\n",
    "         std::cout << \"Method \\\"\" << regMethod << \"\\\" not known in TMVA under this name. Choose among the following:\" << std::endl;\n",
    "         for (std::map<std::string,int>::iterator it = Use.begin(); it != Use.end(); it++) std::cout << it->first << \" \";\n",
    "         std::cout << std::endl;\n",
    "         return;\n",
    "      }\n",
    "      Use[regMethod] = 1;\n",
    "   }\n",
    "}"
   ]
  },
  {
   "cell_type": "markdown",
   "metadata": {},
   "source": [
    "Create a new root output file."
   ]
  },
  {
   "cell_type": "code",
   "execution_count": 6,
   "metadata": {
    "collapsed": false
   },
   "outputs": [
    {
     "name": "stdout",
     "output_type": "stream",
     "text": [
      "Creating testdata....\n",
      "... event: 0 (2000)\n",
      "... event: 1000 (2000)\n",
      "======> EVENT:0\n",
      " var1            = -1.14361\n",
      " var2            = -0.822373\n",
      " var3            = -0.395426\n",
      " var4            = -0.529427\n",
      "created tree: TreeS\n",
      "... event: 0 (2000)\n",
      "... event: 1000 (2000)\n",
      "======> EVENT:0\n",
      " var1            = -1.54361\n",
      " var2            = -1.42237\n",
      " var3            = -1.39543\n",
      " var4            = -2.02943\n",
      "created tree: TreeB0\n",
      "... event: 0 (2000)\n",
      "... event: 1000 (2000)\n",
      "======> EVENT:0\n",
      " var1            = -1.54361\n",
      " var2            = -0.822373\n",
      " var3            = -0.395426\n",
      " var4            = -2.02943\n",
      "created tree: TreeB1\n",
      "======> EVENT:0\n",
      " var1            = 0.463304\n",
      " var2            = 1.37192\n",
      " var3            = -1.16769\n",
      " var4            = -1.77551\n",
      "created tree: TreeB2\n",
      "created data file: tmva_example_multiple_background.root\n",
      " created tmva_example_multiple_background.root for tests of the multiclass features\n",
      "DataSetInfo              : [dataset] : Added class \"Signal\"\n",
      "                         : Add Tree TreeS of type Signal with 2000 events\n",
      "DataSetInfo              : [dataset] : Added class \"bg0\"\n",
      "                         : Add Tree TreeB0 of type bg0 with 2000 events\n",
      "DataSetInfo              : [dataset] : Added class \"bg1\"\n",
      "                         : Add Tree TreeB1 of type bg1 with 2000 events\n",
      "DataSetInfo              : [dataset] : Added class \"bg2\"\n",
      "                         : Add Tree TreeB2 of type bg2 with 2000 events\n",
      "                         : Dataset[dataset] : Class index : 0  name : Signal\n",
      "                         : Dataset[dataset] : Class index : 1  name : bg0\n",
      "                         : Dataset[dataset] : Class index : 2  name : bg1\n",
      "                         : Dataset[dataset] : Class index : 3  name : bg2\n",
      "Factory                  : Booking method: \u001b[1mBDTG\u001b[0m\n",
      "                         : \n",
      "                         : the option *InverseBoostNegWeights* does not exist for BoostType=Grad --> change\n",
      "                         : to new default for GradBoost *Pray*\n",
      "DataSetFactory           : [dataset] : Number of events in input trees\n",
      "                         : \n",
      "                         : \n",
      "                         : \n",
      "                         : \n",
      "                         : Number of training and testing events\n",
      "                         : ---------------------------------------------------------------------------\n",
      "                         : Signal -- training events            : 1000\n",
      "                         : Signal -- testing events             : 1000\n",
      "                         : Signal -- training and testing events: 2000\n",
      "                         : bg0    -- training events            : 1000\n",
      "                         : bg0    -- testing events             : 1000\n",
      "                         : bg0    -- training and testing events: 2000\n",
      "                         : bg1    -- training events            : 1000\n",
      "                         : bg1    -- testing events             : 1000\n",
      "                         : bg1    -- training and testing events: 2000\n",
      "                         : bg2    -- training events            : 1000\n",
      "                         : bg2    -- testing events             : 1000\n",
      "                         : bg2    -- training and testing events: 2000\n",
      "                         : \n",
      "DataSetInfo              : Correlation matrix (Signal):\n",
      "                         : ----------------------------------------\n",
      "                         :             var1    var2    var3    var4\n",
      "                         :    var1:  +1.000  +0.380  +0.597  +0.819\n",
      "                         :    var2:  +0.380  +1.000  +0.706  +0.744\n",
      "                         :    var3:  +0.597  +0.706  +1.000  +0.853\n",
      "                         :    var4:  +0.819  +0.744  +0.853  +1.000\n",
      "                         : ----------------------------------------\n",
      "DataSetInfo              : Correlation matrix (bg0):\n",
      "                         : ----------------------------------------\n",
      "                         :             var1    var2    var3    var4\n",
      "                         :    var1:  +1.000  +0.406  +0.621  +0.837\n",
      "                         :    var2:  +0.406  +1.000  +0.696  +0.727\n",
      "                         :    var3:  +0.621  +0.696  +1.000  +0.853\n",
      "                         :    var4:  +0.837  +0.727  +0.853  +1.000\n",
      "                         : ----------------------------------------\n",
      "DataSetInfo              : Correlation matrix (bg1):\n",
      "                         : ----------------------------------------\n",
      "                         :             var1    var2    var3    var4\n",
      "                         :    var1:  +1.000  +0.371  +0.602  +0.831\n",
      "                         :    var2:  +0.371  +1.000  +0.699  +0.721\n",
      "                         :    var3:  +0.602  +0.699  +1.000  +0.847\n",
      "                         :    var4:  +0.831  +0.721  +0.847  +1.000\n",
      "                         : ----------------------------------------\n",
      "DataSetInfo              : Correlation matrix (bg2):\n",
      "                         : ----------------------------------------\n",
      "                         :             var1    var2    var3    var4\n",
      "                         :    var1:  +1.000  -0.660  +0.034  -0.012\n",
      "                         :    var2:  -0.660  +1.000  +0.007  -0.004\n",
      "                         :    var3:  +0.034  +0.007  +1.000  -0.037\n",
      "                         :    var4:  -0.012  -0.004  -0.037  +1.000\n",
      "                         : ----------------------------------------\n",
      "DataSetFactory           : [dataset] :  \n",
      "                         : \n",
      "Factory                  : Booking method: \u001b[1mMLP\u001b[0m\n",
      "                         : \n",
      "MLP                      : Building Network. \n",
      "                         : Initializing weights\n"
     ]
    }
   ],
   "source": [
    "TString outfileName = \"TMVAMulticlass.root\";\n",
    "TFile* outputFile = TFile::Open( outfileName, \"RECREATE\" );\n",
    "\n",
    "TMVA::Factory *factory = new TMVA::Factory( \"TMVAMulticlass\", outputFile,\n",
    "                                            \"!V:!Silent:Color:!DrawProgressBar:Transformations=I;D;P;G,D:AnalysisType=multiclass\" );\n",
    "TMVA::DataLoader *dataloader=new TMVA::DataLoader(\"dataset\");\n",
    "\n",
    "dataloader->AddVariable( \"var1\", 'F' );\n",
    "dataloader->AddVariable( \"var2\", \"Variable 2\", \"\", 'F' );\n",
    "dataloader->AddVariable( \"var3\", \"Variable 3\", \"units\", 'F' );\n",
    "dataloader->AddVariable( \"var4\", \"Variable 4\", \"units\", 'F' );\n",
    "\n",
    "TFile *input(0);\n",
    "TString fname = \"./tmva_example_multiple_background.root\";\n",
    "if (!gSystem->AccessPathName( fname )) {\n",
    "   // first we try to find the file in the local directory\n",
    "   std::cout << \"--- TMVAMulticlass   : Accessing \" << fname << std::endl;\n",
    "   input = TFile::Open( fname );\n",
    "}\n",
    "else {\n",
    "   std::cout << \"Creating testdata....\" << std::endl;\n",
    "   TString createDataMacro = gROOT->GetTutorialDir() + \"/tmva/createData.C\";\n",
    "   gROOT->ProcessLine(TString::Format(\".L %s\",createDataMacro.Data()));\n",
    "   gROOT->ProcessLine(\"create_MultipleBackground(2000)\");\n",
    "   std::cout << \" created tmva_example_multiple_background.root for tests of the multiclass features\"<<std::endl;\n",
    "   input = TFile::Open( fname );\n",
    "}\n",
    "if (!input) {\n",
    "   std::cout << \"ERROR: could not open data file\" << std::endl;\n",
    "   exit(1);\n",
    "}\n",
    "\n",
    "TTree *signalTree  = (TTree*)input->Get(\"TreeS\");\n",
    "TTree *background0 = (TTree*)input->Get(\"TreeB0\");\n",
    "TTree *background1 = (TTree*)input->Get(\"TreeB1\");\n",
    "TTree *background2 = (TTree*)input->Get(\"TreeB2\");\n",
    "\n",
    "gROOT->cd( outfileName+TString(\":/\") );\n",
    "dataloader->AddTree    (signalTree,\"Signal\");\n",
    "dataloader->AddTree    (background0,\"bg0\");\n",
    "dataloader->AddTree    (background1,\"bg1\");\n",
    "dataloader->AddTree    (background2,\"bg2\");\n",
    "\n",
    "dataloader->PrepareTrainingAndTestTree( \"\", \"SplitMode=Random:NormMode=NumEvents:!V\" );\n",
    "\n",
    "if (Use[\"BDTG\"]) // gradient boosted decision trees\n",
    "   factory->BookMethod( dataloader,  TMVA::Types::kBDT, \"BDTG\", \"!H:!V:NTrees=1000:BoostType=Grad:Shrinkage=0.10:UseBaggedBoost:BaggedSampleFraction=0.50:nCuts=20:MaxDepth=2\");\n",
    "if (Use[\"MLP\"]) // neural network\n",
    "   factory->BookMethod( dataloader,  TMVA::Types::kMLP, \"MLP\", \"!H:!V:NeuronType=tanh:NCycles=1000:HiddenLayers=N+5,5:TestRate=5:EstimatorType=MSE\");\n",
    "if (Use[\"FDA_GA\"]) // functional discriminant with GA minimizer\n",
    "   factory->BookMethod( dataloader,  TMVA::Types::kFDA, \"FDA_GA\", \"H:!V:Formula=(0)+(1)*x0+(2)*x1+(3)*x2+(4)*x3:ParRanges=(-1,1);(-10,10);(-10,10);(-10,10);(-10,10):FitMethod=GA:PopSize=300:Cycles=3:Steps=20:Trim=True:SaveBestGen=1\" );\n",
    "if (Use[\"PDEFoam\"]) // PDE-Foam approach\n",
    "   factory->BookMethod( dataloader,  TMVA::Types::kPDEFoam, \"PDEFoam\", \"!H:!V:TailCut=0.001:VolFrac=0.0666:nActiveCells=500:nSampl=2000:nBin=5:Nmin=100:Kernel=None:Compress=T\" );\n",
    "\n",
    "if (Use[\"DNN\"]) {\n",
    "    TString layoutString (\"Layout=TANH|100,TANH|50,TANH|10,LINEAR\");\n",
    "    TString training0 (\"LearningRate=1e-1, Momentum=0.5, Repetitions=1, ConvergenceSteps=10,\"\n",
    "                       \" BatchSize=256, TestRepetitions=10, Multithreading=True\");\n",
    "    TString training1 (\"LearningRate=1e-2, Momentum=0.0, Repetitions=1, ConvergenceSteps=10,\"\n",
    "                       \" BatchSize=256, TestRepetitions=7, Multithreading=True\");\n",
    "    TString trainingStrategyString (\"TrainingStrategy=\");\n",
    "    trainingStrategyString += training0 + \"|\" + training1;\n",
    "    TString nnOptions (\"!H:V:ErrorStrategy=CROSSENTROPY:VarTransform=N:\"\n",
    "                       \"WeightInitialization=XAVIERUNIFORM:Architecture=STANDARD\");\n",
    "    nnOptions.Append (\":\"); nnOptions.Append (layoutString);\n",
    "    nnOptions.Append (\":\"); nnOptions.Append (trainingStrategyString);\n",
    "    factory->BookMethod(dataloader, TMVA::Types::kDNN, \"DNN\", nnOptions );\n",
    "}"
   ]
  },
  {
   "cell_type": "markdown",
   "metadata": {},
   "source": [
    "Train mvas using the set of training events"
   ]
  },
  {
   "cell_type": "code",
   "execution_count": 7,
   "metadata": {
    "collapsed": false
   },
   "outputs": [
    {
     "name": "stdout",
     "output_type": "stream",
     "text": [
      "Factory                  : \u001b[1mTrain all methods\u001b[0m\n",
      "Factory                  : [dataset] : Create Transformation \"I\" with events from all classes.\n",
      "                         : \n",
      "                         : Transformation, Variable selection : \n",
      "                         : Input : variable 'var1' <---> Output : variable 'var1'\n",
      "                         : Input : variable 'var2' <---> Output : variable 'var2'\n",
      "                         : Input : variable 'var3' <---> Output : variable 'var3'\n",
      "                         : Input : variable 'var4' <---> Output : variable 'var4'\n",
      "Factory                  : [dataset] : Create Transformation \"D\" with events from all classes.\n",
      "                         : \n",
      "                         : Transformation, Variable selection : \n",
      "                         : Input : variable 'var1' <---> Output : variable 'var1'\n",
      "                         : Input : variable 'var2' <---> Output : variable 'var2'\n",
      "                         : Input : variable 'var3' <---> Output : variable 'var3'\n",
      "                         : Input : variable 'var4' <---> Output : variable 'var4'\n",
      "Factory                  : [dataset] : Create Transformation \"P\" with events from all classes.\n",
      "                         : \n",
      "                         : Transformation, Variable selection : \n",
      "                         : Input : variable 'var1' <---> Output : variable 'var1'\n",
      "                         : Input : variable 'var2' <---> Output : variable 'var2'\n",
      "                         : Input : variable 'var3' <---> Output : variable 'var3'\n",
      "                         : Input : variable 'var4' <---> Output : variable 'var4'\n",
      "Factory                  : [dataset] : Create Transformation \"G\" with events from all classes.\n",
      "                         : \n",
      "                         : Transformation, Variable selection : \n",
      "                         : Input : variable 'var1' <---> Output : variable 'var1'\n",
      "                         : Input : variable 'var2' <---> Output : variable 'var2'\n",
      "                         : Input : variable 'var3' <---> Output : variable 'var3'\n",
      "                         : Input : variable 'var4' <---> Output : variable 'var4'\n",
      "Factory                  : [dataset] : Create Transformation \"D\" with events from all classes.\n",
      "                         : \n",
      "                         : Transformation, Variable selection : \n",
      "                         : Input : variable 'var1' <---> Output : variable 'var1'\n",
      "                         : Input : variable 'var2' <---> Output : variable 'var2'\n",
      "                         : Input : variable 'var3' <---> Output : variable 'var3'\n",
      "                         : Input : variable 'var4' <---> Output : variable 'var4'\n",
      "TFHandler_Factory        : Variable        Mean        RMS   [        Min        Max ]\n",
      "                         : -----------------------------------------------------------\n",
      "                         :     var1:   0.060705     1.0014   [    -4.0592     3.5808 ]\n",
      "                         :     var2:    0.31440     1.0501   [    -3.6891     3.7877 ]\n",
      "                         :     var3:    0.12000     1.1225   [    -3.6148     4.5640 ]\n",
      "                         :     var4:  -0.070020     1.2598   [    -4.8486     5.0412 ]\n",
      "                         : -----------------------------------------------------------\n",
      "                         : Preparing the Decorrelation transformation...\n",
      "TFHandler_Factory        : Variable        Mean        RMS   [        Min        Max ]\n",
      "                         : -----------------------------------------------------------\n",
      "                         :     var1:   0.096903     1.0000   [    -3.5985     2.9977 ]\n",
      "                         :     var2:    0.35671     1.0000   [    -3.3391     3.5408 ]\n",
      "                         :     var3:   0.070223     1.0000   [    -2.8950     3.1502 ]\n",
      "                         :     var4:   -0.20167     1.0000   [    -3.2998     2.8753 ]\n",
      "                         : -----------------------------------------------------------\n",
      "                         : Preparing the Principle Component (PCA) transformation...\n",
      "TFHandler_Factory        : Variable        Mean        RMS   [        Min        Max ]\n",
      "                         : -----------------------------------------------------------\n",
      "                         :     var1: 1.8262e-10     1.7916   [    -7.2781     7.8235 ]\n",
      "                         :     var2:-4.0762e-10    0.89644   [    -3.2734     2.6837 ]\n",
      "                         :     var3:-1.3316e-10    0.74817   [    -2.4103     2.7078 ]\n",
      "                         :     var4:-1.5119e-10    0.61596   [    -2.2644     1.5471 ]\n",
      "                         : -----------------------------------------------------------\n",
      "                         : Preparing the Gaussian transformation...\n",
      "                         : Preparing the Decorrelation transformation...\n",
      "TFHandler_Factory        : Variable        Mean        RMS   [        Min        Max ]\n",
      "                         : -----------------------------------------------------------\n",
      "                         :     var1:  0.0081281     1.0000   [    -2.6178     6.0982 ]\n",
      "                         :     var2:   0.010257     1.0000   [    -2.8460     6.2789 ]\n",
      "                         :     var3:  0.0095035     1.0000   [    -3.0077     5.8864 ]\n",
      "                         :     var4:  0.0074780     1.0000   [    -3.0452     5.6560 ]\n",
      "                         : -----------------------------------------------------------\n",
      "                         : Ranking input variables (method unspecific)...\n",
      "Factory                  : Train method: BDTG for Multiclass classification\n",
      "                         : \n",
      "BDTG                     : #events: (reweighted) sig: 2000 bkg: 2000\n",
      "                         : #events: (unweighted) sig: 1000 bkg: 3000\n",
      "                         : Training 1000 Decision Trees ... patience please\n",
      "                         : Elapsed time for training with 4000 events: 5.26 sec         \n",
      "                         : Dataset[dataset] : Create results for training\n",
      "                         : Dataset[dataset] : Multiclass evaluation of BDTG on training sample\n",
      "                         : Dataset[dataset] : Elapsed time for evaluation of 4000 events: 1.19 sec       \n",
      "                         : Creating multiclass response histograms...\n",
      "                         : Creating xml weight file: \u001b[0;36mdataset/weights/TMVAMulticlass_BDTG.weights.xml\u001b[0m\n",
      "                         : Creating standalone class: \u001b[0;36mdataset/weights/TMVAMulticlass_BDTG.class.C\u001b[0m\n",
      "Factory                  : Training finished\n",
      "                         : \n",
      "Factory                  : Train method: MLP for Multiclass classification\n",
      "                         : \n",
      "                         : Training Network\n",
      "                         : \n",
      "                         : Elapsed time for training with 4000 events: 18.2 sec         \n",
      "                         : Dataset[dataset] : Create results for training\n",
      "                         : Dataset[dataset] : Multiclass evaluation of MLP on training sample\n",
      "                         : Dataset[dataset] : Elapsed time for evaluation of 4000 events: 0.00683 sec       \n",
      "                         : Creating multiclass response histograms...\n",
      "                         : Creating xml weight file: \u001b[0;36mdataset/weights/TMVAMulticlass_MLP.weights.xml\u001b[0m\n",
      "                         : Creating standalone class: \u001b[0;36mdataset/weights/TMVAMulticlass_MLP.class.C\u001b[0m\n",
      "                         : Write special histos to file: TMVAMulticlass.root:/dataset/Method_MLP/MLP\n",
      "Factory                  : Training finished\n",
      "                         : \n",
      "                         : Ranking input variables (method specific)...\n",
      "BDTG                     : Ranking result (top variable is best ranked)\n",
      "                         : --------------------------------------\n",
      "                         : Rank : Variable  : Variable Importance\n",
      "                         : --------------------------------------\n",
      "                         :    1 : var4      : 3.063e-01\n",
      "                         :    2 : var1      : 2.578e-01\n",
      "                         :    3 : var2      : 2.400e-01\n",
      "                         :    4 : var3      : 1.959e-01\n",
      "                         : --------------------------------------\n",
      "MLP                      : Ranking result (top variable is best ranked)\n",
      "                         : -----------------------------\n",
      "                         : Rank : Variable  : Importance\n",
      "                         : -----------------------------\n",
      "                         :    1 : var4      : 2.946e+01\n",
      "                         :    2 : var1      : 1.697e+01\n",
      "                         :    3 : var2      : 1.033e+01\n",
      "                         :    4 : var3      : 6.599e+00\n",
      "                         : -----------------------------\n",
      "Factory                  : === Destroy and recreate all methods via weight files for testing ===\n",
      "                         : \n",
      "MLP                      : Building Network. \n",
      "                         : Initializing weights\n"
     ]
    }
   ],
   "source": [
    "factory->TrainAllMethods();"
   ]
  },
  {
   "cell_type": "markdown",
   "metadata": {},
   "source": [
    "Evaluate all mvas using the set of test events"
   ]
  },
  {
   "cell_type": "code",
   "execution_count": 8,
   "metadata": {
    "collapsed": false
   },
   "outputs": [
    {
     "name": "stdout",
     "output_type": "stream",
     "text": [
      "Factory                  : \u001b[1mTest all methods\u001b[0m\n",
      "Factory                  : Test method: BDTG for Multiclass classification performance\n",
      "                         : \n",
      "                         : Dataset[dataset] : Create results for testing\n",
      "                         : Dataset[dataset] : Multiclass evaluation of BDTG on testing sample\n",
      "                         : Dataset[dataset] : Elapsed time for evaluation of 4000 events: 0.69 sec       \n",
      "                         : Creating multiclass response histograms...\n",
      "Factory                  : Test method: MLP for Multiclass classification performance\n",
      "                         : \n",
      "                         : Dataset[dataset] : Create results for testing\n",
      "                         : Dataset[dataset] : Multiclass evaluation of MLP on testing sample\n",
      "                         : Dataset[dataset] : Elapsed time for evaluation of 4000 events: 0.00754 sec       \n",
      "                         : Creating multiclass response histograms...\n"
     ]
    }
   ],
   "source": [
    "factory->TestAllMethods();"
   ]
  },
  {
   "cell_type": "markdown",
   "metadata": {},
   "source": [
    "Evaluate and compare performance of all configured mvas"
   ]
  },
  {
   "cell_type": "code",
   "execution_count": 9,
   "metadata": {
    "collapsed": false
   },
   "outputs": [
    {
     "name": "stdout",
     "output_type": "stream",
     "text": [
      "Factory                  : \u001b[1mEvaluate all methods\u001b[0m\n",
      "                         : Evaluate multiclass classification method: BDTG\n",
      "TFHandler_BDTG           : Variable        Mean        RMS   [        Min        Max ]\n",
      "                         : -----------------------------------------------------------\n",
      "                         :     var1:   0.057094     1.0236   [    -3.6592     3.2749 ]\n",
      "                         :     var2:    0.31579     1.0607   [    -3.6952     3.7877 ]\n",
      "                         :     var3:    0.11645     1.1227   [    -4.5727     4.5640 ]\n",
      "                         :     var4:  -0.079113     1.2819   [    -4.7970     4.2221 ]\n",
      "                         : -----------------------------------------------------------\n",
      "                         : Dataset[dataset] : Determine optimal multiclass cuts for test data...\n",
      "                         : Calculating best set of cuts for class Signal\n",
      "FitterBase               : <GeneticFitter> Optimisation, please be patient ... (inaccurate progress timing for GA)\n",
      "                         : Elapsed time: 0.745 sec                            \n",
      "                         :   cutValue[Signal] = 0.636281;\n",
      "                         :   cutValue[bg0] = -0.547298;\n",
      "                         :   cutValue[bg1] = -0.216383;\n",
      "                         :   cutValue[bg2] = -0.25183;\n",
      "                         : Calculating best set of cuts for class bg0\n",
      "FitterBase               : <GeneticFitter> Optimisation, please be patient ... (inaccurate progress timing for GA)\n",
      "                         : Elapsed time: 1.69 sec                            \n",
      "                         :   cutValue[Signal] = 0.00864322;\n",
      "                         :   cutValue[bg0] = 0.135966;\n",
      "                         :   cutValue[bg1] = -0.565068;\n",
      "                         :   cutValue[bg2] = -0.695156;\n",
      "                         : Calculating best set of cuts for class bg1\n",
      "FitterBase               : <GeneticFitter> Optimisation, please be patient ... (inaccurate progress timing for GA)\n",
      "                         : Elapsed time: 1.33 sec                            \n",
      "                         :   cutValue[Signal] = -0.364226;\n",
      "                         :   cutValue[bg0] = 0.0275176;\n",
      "                         :   cutValue[bg1] = 0.28893;\n",
      "                         :   cutValue[bg2] = -0.61422;\n",
      "                         : Calculating best set of cuts for class bg2\n",
      "FitterBase               : <GeneticFitter> Optimisation, please be patient ... (inaccurate progress timing for GA)\n",
      "                         : Elapsed time: 1.15 sec                            \n",
      "                         :   cutValue[Signal] = -0.855184;\n",
      "                         :   cutValue[bg0] = -0.30323;\n",
      "                         :   cutValue[bg1] = -0.608956;\n",
      "                         :   cutValue[bg2] = 0.308002;\n",
      "                         : Evaluate multiclass classification method: MLP\n",
      "TFHandler_MLP            : Variable        Mean        RMS   [        Min        Max ]\n",
      "                         : -----------------------------------------------------------\n",
      "                         :     var1:   0.057094     1.0236   [    -3.6592     3.2749 ]\n",
      "                         :     var2:    0.31579     1.0607   [    -3.6952     3.7877 ]\n",
      "                         :     var3:    0.11645     1.1227   [    -4.5727     4.5640 ]\n",
      "                         :     var4:  -0.079113     1.2819   [    -4.7970     4.2221 ]\n",
      "                         : -----------------------------------------------------------\n",
      "                         : Dataset[dataset] : Determine optimal multiclass cuts for test data...\n",
      "                         : Calculating best set of cuts for class Signal\n",
      "FitterBase               : <GeneticFitter> Optimisation, please be patient ... (inaccurate progress timing for GA)\n",
      "                         : Elapsed time: 0.733 sec                            \n",
      "                         :   cutValue[Signal] = 0.269435;\n",
      "                         :   cutValue[bg0] = -0.859456;\n",
      "                         :   cutValue[bg1] = -0.617014;\n",
      "                         :   cutValue[bg2] = -0.457339;\n",
      "                         : Calculating best set of cuts for class bg0\n",
      "FitterBase               : <GeneticFitter> Optimisation, please be patient ... (inaccurate progress timing for GA)\n",
      "                         : Elapsed time: 1.17 sec                            \n",
      "                         :   cutValue[Signal] = -0.65688;\n",
      "                         :   cutValue[bg0] = 0.28768;\n",
      "                         :   cutValue[bg1] = -0.708686;\n",
      "                         :   cutValue[bg2] = -0.568545;\n",
      "                         : Calculating best set of cuts for class bg1\n",
      "FitterBase               : <GeneticFitter> Optimisation, please be patient ... (inaccurate progress timing for GA)\n",
      "                         : Elapsed time: 1.57 sec                            \n",
      "                         :   cutValue[Signal] = -0.0302946;\n",
      "                         :   cutValue[bg0] = -0.692607;\n",
      "                         :   cutValue[bg1] = 0.282203;\n",
      "                         :   cutValue[bg2] = -0.647899;\n",
      "                         : Calculating best set of cuts for class bg2\n",
      "FitterBase               : <GeneticFitter> Optimisation, please be patient ... (inaccurate progress timing for GA)\n",
      "                         : Elapsed time: 1.29 sec                            \n",
      "                         :   cutValue[Signal] = -0.844807;\n",
      "                         :   cutValue[bg0] = -0.375543;\n",
      "                         :   cutValue[bg1] = -0.48529;\n",
      "                         :   cutValue[bg2] = 0.287793;\n",
      "                         : \n",
      "                         : Evaluation results ranked by best signal efficiency times signal purity \n",
      "                         : -------------------------------------------------------------------------------------------------------\n",
      "                         : DataSet Name     MVA Method     Signal       bg0          bg1          bg2          \n",
      "                         : -------------------------------------------------------------------------------------------------------\n",
      "                         : [dataset       ] BDTG           0.696        0.529        0.576        0.670        \n",
      "                         : [dataset       ] MLP            0.734        0.589        0.679        0.754        \n",
      "                         : -------------------------------------------------------------------------------------------------------\n",
      "                         : \n",
      "                         : DataSet Name     MVA Method     Signal       bg0          bg1          bg2          \n",
      "                         : -------------------------------------------------------------------------------------------------------\n",
      "                         : [dataset       ] BDTG           0.696        0.529        0.576        0.670        \n",
      "                         : [dataset       ] MLP            0.734        0.589        0.679        0.754        \n",
      "                         : -------------------------------------------------------------------------------------------------------\n",
      "                         : \n",
      "Dataset:dataset          : Created tree 'TestTree' with 4000 events\n",
      "                         : \n",
      "Dataset:dataset          : Created tree 'TrainTree' with 4000 events\n",
      "                         : \n",
      "Factory                  : \u001b[1mThank you for using TMVA!\u001b[0m\n",
      "                         : \u001b[1mFor citation information, please visit: http://tmva.sf.net/citeTMVA.html\u001b[0m\n"
     ]
    }
   ],
   "source": [
    "factory->EvaluateAllMethods();"
   ]
  },
  {
   "cell_type": "markdown",
   "metadata": {},
   "source": [
    "--------------------------------------------------------------"
   ]
  },
  {
   "cell_type": "markdown",
   "metadata": {},
   "source": [
    "Save the output"
   ]
  },
  {
   "cell_type": "code",
   "execution_count": 10,
   "metadata": {
    "collapsed": false
   },
   "outputs": [
    {
     "name": "stdout",
     "output_type": "stream",
     "text": [
      "==> Wrote root file: TMVAMulticlass.root\n",
      "==> TMVAClassification is done!\n"
     ]
    }
   ],
   "source": [
    "outputFile->Close();\n",
    "\n",
    "std::cout << \"==> Wrote root file: \" << outputFile->GetName() << std::endl;\n",
    "std::cout << \"==> TMVAClassification is done!\" << std::endl;\n",
    "\n",
    "delete factory;\n",
    "delete dataloader;"
   ]
  },
  {
   "cell_type": "markdown",
   "metadata": {},
   "source": [
    "Launch the gui for the root macros"
   ]
  },
  {
   "cell_type": "code",
   "execution_count": 11,
   "metadata": {
    "collapsed": false
   },
   "outputs": [],
   "source": [
    "if (!gROOT->IsBatch()) TMVAMultiClassGui( outfileName );"
   ]
  }
 ],
 "metadata": {
  "kernelspec": {
   "display_name": "ROOT C++",
   "language": "c++",
   "name": "root"
  },
  "language_info": {
   "codemirror_mode": "text/x-c++src",
   "file_extension": ".C",
   "mimetype": " text/x-c++src",
   "name": "c++"
  }
 },
 "nbformat": 4,
 "nbformat_minor": 1
}
