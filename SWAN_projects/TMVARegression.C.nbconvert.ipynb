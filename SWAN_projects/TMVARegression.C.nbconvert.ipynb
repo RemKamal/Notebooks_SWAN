{
 "cells": [
  {
   "cell_type": "markdown",
   "metadata": {},
   "source": [
    "#  T M V A Regression\n",
    "This macro provides examples for the training and testing of the\n",
    "TMVA classifiers.\n",
    "\n",
    "As input data is used a toy-MC sample consisting of four Gaussian-distributed\n",
    "and linearly correlated input variables.\n",
    "\n",
    "The methods to be used can be switched on and off by means of booleans, or\n",
    "via the prompt command, for example:\n",
    "\n",
    "    root -l TMVARegression.C\\(\\\"LD,MLP\\\"\\)\n",
    "\n",
    "(note that the backslashes are mandatory)\n",
    "If no method given, a default set is used.\n",
    "\n",
    "The output file \"TMVAReg.root\" can be analysed with the use of dedicated\n",
    "macros (simply say: root -l <macro.C>), which can be conveniently\n",
    "invoked through a GUI that will appear at the end of the run of this macro.\n",
    "- Project   : TMVA - a Root-integrated toolkit for multivariate data analysis\n",
    "- Package   : TMVA\n",
    "- Root Macro: TMVARegression\n",
    "\n",
    "\n",
    "\n",
    "**Author:** Andreas Hoecker  \n",
    "<i><small>This notebook tutorial was automatically generated with <a href= \"https://github.com/root-mirror/root/blob/master/documentation/doxygen/converttonotebook.py\">ROOTBOOK-izer (Beta)</a> from the macro found in the ROOT repository  on Thursday, January 26, 2017 at 01:24 AM.</small></i>"
   ]
  },
  {
   "cell_type": "code",
   "execution_count": 1,
   "metadata": {
    "collapsed": false
   },
   "outputs": [],
   "source": [
    "%%cpp -d\n",
    "#include <cstdlib>\n",
    "#include <iostream>\n",
    "#include <map>\n",
    "#include <string>\n",
    "\n",
    "#include \"TChain.h\"\n",
    "#include \"TFile.h\"\n",
    "#include \"TTree.h\"\n",
    "#include \"TString.h\"\n",
    "#include \"TObjString.h\"\n",
    "#include \"TSystem.h\"\n",
    "#include \"TROOT.h\"\n",
    "\n",
    "#include \"TMVA/Tools.h\"\n",
    "#include \"TMVA/Factory.h\"\n",
    "#include \"TMVA/DataLoader.h\"\n",
    "#include \"TMVA/TMVARegGui.h\"\n",
    "\n",
    "\n",
    "using namespace TMVA;"
   ]
  },
  {
   "cell_type": "markdown",
   "metadata": {},
   "source": [
    " Arguments are defined. "
   ]
  },
  {
   "cell_type": "code",
   "execution_count": 2,
   "metadata": {
    "collapsed": false
   },
   "outputs": [],
   "source": [
    "TString myMethodList = \"\";"
   ]
  },
  {
   "cell_type": "markdown",
   "metadata": {},
   "source": [
    "The explicit loading of the shared libtmva is done in tmvalogon.c, defined in .rootrc\n",
    " if you use your private .rootrc, or run from a different directory, please copy the\n",
    " corresponding lines from .rootrc"
   ]
  },
  {
   "cell_type": "markdown",
   "metadata": {},
   "source": [
    "Methods to be processed can be given as an argument; use format:\n",
    "\n",
    "     mylinux~> root -l TMVARegression.C\\(\\\"myMethod1,myMethod2,myMethod3\\\"\\)"
   ]
  },
  {
   "cell_type": "markdown",
   "metadata": {},
   "source": [
    "---------------------------------------------------------------\n",
    " This loads the library"
   ]
  },
  {
   "cell_type": "code",
   "execution_count": 3,
   "metadata": {
    "collapsed": false
   },
   "outputs": [],
   "source": [
    "TMVA::Tools::Instance();"
   ]
  },
  {
   "cell_type": "markdown",
   "metadata": {},
   "source": [
    "Default mva methods to be trained + tested"
   ]
  },
  {
   "cell_type": "code",
   "execution_count": 4,
   "metadata": {
    "collapsed": false
   },
   "outputs": [],
   "source": [
    "std::map<std::string,int> Use;"
   ]
  },
  {
   "cell_type": "markdown",
   "metadata": {},
   "source": [
    "Mutidimensional likelihood and nearest-neighbour methods"
   ]
  },
  {
   "cell_type": "code",
   "execution_count": 5,
   "metadata": {
    "collapsed": false
   },
   "outputs": [],
   "source": [
    "Use[\"PDERS\"]           = 0;\n",
    "Use[\"PDEFoam\"]         = 1;\n",
    "Use[\"KNN\"]             = 1;"
   ]
  },
  {
   "cell_type": "markdown",
   "metadata": {},
   "source": [
    " Linear Discriminant Analysis"
   ]
  },
  {
   "cell_type": "code",
   "execution_count": 6,
   "metadata": {
    "collapsed": false
   },
   "outputs": [],
   "source": [
    "Use[\"LD\"]\t\t        = 1;"
   ]
  },
  {
   "cell_type": "markdown",
   "metadata": {},
   "source": [
    " Function Discriminant analysis"
   ]
  },
  {
   "cell_type": "code",
   "execution_count": 7,
   "metadata": {
    "collapsed": false
   },
   "outputs": [],
   "source": [
    "Use[\"FDA_GA\"]          = 1;\n",
    "Use[\"FDA_MC\"]          = 0;\n",
    "Use[\"FDA_MT\"]          = 0;\n",
    "Use[\"FDA_GAMT\"]        = 0;"
   ]
  },
  {
   "cell_type": "markdown",
   "metadata": {},
   "source": [
    " Neural Network"
   ]
  },
  {
   "cell_type": "code",
   "execution_count": 8,
   "metadata": {
    "collapsed": false
   },
   "outputs": [],
   "source": [
    "Use[\"MLP\"]             = 1;\n",
    "Use[\"DNN\"]             = 0;"
   ]
  },
  {
   "cell_type": "markdown",
   "metadata": {},
   "source": [
    " Support Vector Machine"
   ]
  },
  {
   "cell_type": "code",
   "execution_count": 9,
   "metadata": {
    "collapsed": false
   },
   "outputs": [],
   "source": [
    "Use[\"SVM\"]             = 0;"
   ]
  },
  {
   "cell_type": "markdown",
   "metadata": {},
   "source": [
    " Boosted Decision Trees"
   ]
  },
  {
   "cell_type": "code",
   "execution_count": 10,
   "metadata": {
    "collapsed": false
   },
   "outputs": [],
   "source": [
    "Use[\"BDT\"]             = 0;\n",
    "Use[\"BDTG\"]            = 1;"
   ]
  },
  {
   "cell_type": "markdown",
   "metadata": {},
   "source": [
    "---------------------------------------------------------------"
   ]
  },
  {
   "cell_type": "code",
   "execution_count": 11,
   "metadata": {
    "collapsed": false
   },
   "outputs": [
    {
     "name": "stdout",
     "output_type": "stream",
     "text": [
      "\n",
      "==> Start TMVARegression\n"
     ]
    }
   ],
   "source": [
    "std::cout << std::endl;\n",
    "std::cout << \"==> Start TMVARegression\" << std::endl;"
   ]
  },
  {
   "cell_type": "markdown",
   "metadata": {},
   "source": [
    "Select methods (don't look at this code - not of interest)"
   ]
  },
  {
   "cell_type": "code",
   "execution_count": 12,
   "metadata": {
    "collapsed": false
   },
   "outputs": [],
   "source": [
    "if (myMethodList != \"\") {\n",
    "   for (std::map<std::string,int>::iterator it = Use.begin(); it != Use.end(); it++) it->second = 0;\n",
    "\n",
    "   std::vector<TString> mlist = gTools().SplitString( myMethodList, ',' );\n",
    "   for (UInt_t i=0; i<mlist.size(); i++) {\n",
    "      std::string regMethod(mlist[i]);\n",
    "\n",
    "      if (Use.find(regMethod) == Use.end()) {\n",
    "         std::cout << \"Method \\\"\" << regMethod << \"\\\" not known in TMVA under this name. Choose among the following:\" << std::endl;\n",
    "         for (std::map<std::string,int>::iterator it = Use.begin(); it != Use.end(); it++) std::cout << it->first << \" \";\n",
    "         std::cout << std::endl;\n",
    "         return;\n",
    "      }\n",
    "      Use[regMethod] = 1;\n",
    "   }\n",
    "}"
   ]
  },
  {
   "cell_type": "markdown",
   "metadata": {},
   "source": [
    "--------------------------------------------------------------------------------------------------"
   ]
  },
  {
   "cell_type": "markdown",
   "metadata": {},
   "source": [
    "Here the preparation phase begins"
   ]
  },
  {
   "cell_type": "markdown",
   "metadata": {},
   "source": [
    "Create a new root output file"
   ]
  },
  {
   "cell_type": "code",
   "execution_count": 13,
   "metadata": {
    "collapsed": false
   },
   "outputs": [],
   "source": [
    "TString outfileName( \"TMVAReg.root\" );\n",
    "TFile* outputFile = TFile::Open( outfileName, \"RECREATE\" );"
   ]
  },
  {
   "cell_type": "markdown",
   "metadata": {},
   "source": [
    "Create the factory object. later you can choose the methods\n",
    " whose performance you'd like to investigate. The factory will\n",
    " then run the performance analysis for you.\n",
    "\n",
    " The first argument is the base of the name of all the\n",
    " weightfiles in the directory weight/\n",
    "\n",
    " The second argument is the output file for the training results\n",
    " All TMVA output can be suppressed by removing the \"!\" (not) in\n",
    " front of the \"Silent\" argument in the option string"
   ]
  },
  {
   "cell_type": "code",
   "execution_count": 14,
   "metadata": {
    "collapsed": false
   },
   "outputs": [],
   "source": [
    "TMVA::Factory *factory = new TMVA::Factory( \"TMVARegression\", outputFile,\n",
    "                                            \"!V:!Silent:Color:!DrawProgressBar:AnalysisType=Regression\" );\n",
    "\n",
    "\n",
    "TMVA::DataLoader *dataloader=new TMVA::DataLoader(\"dataset\");"
   ]
  },
  {
   "cell_type": "markdown",
   "metadata": {},
   "source": [
    "If you wish to modify default settings\n",
    " (please check \"src/Config.h\" to see all available global options)\n",
    "\n",
    "     (TMVA::gConfig().GetVariablePlotting()).fTimesRMS = 8.0;\n",
    "     (TMVA::gConfig().GetIONames()).fWeightFileDir = \"myWeightDirectory\";"
   ]
  },
  {
   "cell_type": "markdown",
   "metadata": {},
   "source": [
    "Define the input variables that shall be used for the mva training\n",
    " note that you may also use variable expressions, such as: \"3*var1/var2*abs(var3)\"\n",
    " [all types of expressions that can also be parsed by TTree::Draw( \"expression\" )]"
   ]
  },
  {
   "cell_type": "code",
   "execution_count": 15,
   "metadata": {
    "collapsed": false
   },
   "outputs": [],
   "source": [
    "dataloader->AddVariable( \"var1\", \"Variable 1\", \"units\", 'F' );\n",
    "dataloader->AddVariable( \"var2\", \"Variable 2\", \"units\", 'F' );"
   ]
  },
  {
   "cell_type": "markdown",
   "metadata": {},
   "source": [
    "You can add so-called \"spectator variables\", which are not used in the mva training,\n",
    " but will appear in the final \"TestTree\" produced by TMVA. This TestTree will contain the\n",
    " input variables, the response values of all trained MVAs, and the spectator variables"
   ]
  },
  {
   "cell_type": "code",
   "execution_count": 16,
   "metadata": {
    "collapsed": false
   },
   "outputs": [],
   "source": [
    "dataloader->AddSpectator( \"spec1:=var1*2\",  \"Spectator 1\", \"units\", 'F' );\n",
    "dataloader->AddSpectator( \"spec2:=var1*3\",  \"Spectator 2\", \"units\", 'F' );"
   ]
  },
  {
   "cell_type": "markdown",
   "metadata": {},
   "source": [
    "Add the variable carrying the regression target"
   ]
  },
  {
   "cell_type": "code",
   "execution_count": 17,
   "metadata": {
    "collapsed": false
   },
   "outputs": [],
   "source": [
    "dataloader->AddTarget( \"fvalue\" );"
   ]
  },
  {
   "cell_type": "markdown",
   "metadata": {},
   "source": [
    "It is also possible to declare additional targets for multi-dimensional regression, ie:\n",
    "     factory->AddTarget( \"fvalue2\" );\n",
    " BUT: this is currently ONLY implemented for MLP"
   ]
  },
  {
   "cell_type": "markdown",
   "metadata": {},
   "source": [
    "Read training and test data (see tmvaclassification for reading ascii files)\n",
    " load the signal and background event samples from ROOT trees"
   ]
  },
  {
   "cell_type": "code",
   "execution_count": 18,
   "metadata": {
    "collapsed": false
   },
   "outputs": [
    {
     "name": "stdout",
     "output_type": "stream",
     "text": [
      "--- TMVARegression           : Using input file: http://root.cern.ch/files/tmva_reg_example.root\n"
     ]
    }
   ],
   "source": [
    "TFile *input(0);\n",
    "TString fname = \"./tmva_reg_example.root\";\n",
    "if (!gSystem->AccessPathName( fname ))\n",
    "   input = TFile::Open( fname ); // check if file in local directory exists\n",
    "else\n",
    "   input = TFile::Open( \"http://root.cern.ch/files/tmva_reg_example.root\" ); // if not: download from ROOT server\n",
    "\n",
    "if (!input) {\n",
    "   std::cout << \"ERROR: could not open data file\" << std::endl;\n",
    "   exit(1);\n",
    "}\n",
    "std::cout << \"--- TMVARegression           : Using input file: \" << input->GetName() << std::endl;"
   ]
  },
  {
   "cell_type": "markdown",
   "metadata": {},
   "source": [
    "Register the regression tree"
   ]
  },
  {
   "cell_type": "code",
   "execution_count": 19,
   "metadata": {
    "collapsed": false
   },
   "outputs": [],
   "source": [
    "TTree *regTree = (TTree*)input->Get(\"TreeR\");"
   ]
  },
  {
   "cell_type": "markdown",
   "metadata": {},
   "source": [
    "Global event weights per tree (see below for setting event-wise weights)"
   ]
  },
  {
   "cell_type": "code",
   "execution_count": 20,
   "metadata": {
    "collapsed": false
   },
   "outputs": [],
   "source": [
    "Double_t regWeight  = 1.0;"
   ]
  },
  {
   "cell_type": "markdown",
   "metadata": {},
   "source": [
    "You can add an arbitrary number of regression trees"
   ]
  },
  {
   "cell_type": "code",
   "execution_count": 21,
   "metadata": {
    "collapsed": false
   },
   "outputs": [
    {
     "name": "stdout",
     "output_type": "stream",
     "text": [
      "DataSetInfo              : [dataset] : Added class \"Regression\"\n",
      "                         : Add Tree TreeR of type Regression with 10000 events\n"
     ]
    }
   ],
   "source": [
    "dataloader->AddRegressionTree( regTree, regWeight );"
   ]
  },
  {
   "cell_type": "markdown",
   "metadata": {},
   "source": [
    "This would set individual event weights (the variables defined in the\n",
    " expression need to exist in the original TTree)"
   ]
  },
  {
   "cell_type": "code",
   "execution_count": 22,
   "metadata": {
    "collapsed": false
   },
   "outputs": [],
   "source": [
    "dataloader->SetWeightExpression( \"var1\", \"Regression\" );"
   ]
  },
  {
   "cell_type": "markdown",
   "metadata": {},
   "source": [
    "Apply additional cuts on the signal and background samples (can be different)"
   ]
  },
  {
   "cell_type": "code",
   "execution_count": 23,
   "metadata": {
    "collapsed": false
   },
   "outputs": [],
   "source": [
    "TCut mycut = \"\"; // for example: TCut mycut = \"abs(var1)<0.5 && abs(var2-0.5)<1\";"
   ]
  },
  {
   "cell_type": "markdown",
   "metadata": {},
   "source": [
    "Tell the dataloader to use all remaining events in the trees after training for testing:"
   ]
  },
  {
   "cell_type": "code",
   "execution_count": 24,
   "metadata": {
    "collapsed": false
   },
   "outputs": [
    {
     "name": "stdout",
     "output_type": "stream",
     "text": [
      "                         : Dataset[dataset] : Class index : 0  name : Regression\n"
     ]
    }
   ],
   "source": [
    "dataloader->PrepareTrainingAndTestTree( mycut,\n",
    "                                      \"nTrain_Regression=1000:nTest_Regression=0:SplitMode=Random:NormMode=NumEvents:!V\" );"
   ]
  },
  {
   "cell_type": "markdown",
   "metadata": {},
   "source": [
    "     dataloader->PrepareTrainingAndTestTree( mycut,\n",
    "            \"nTrain_Regression=0:nTest_Regression=0:SplitMode=Random:NormMode=NumEvents:!V\" );"
   ]
  },
  {
   "cell_type": "markdown",
   "metadata": {},
   "source": [
    "If no numbers of events are given, half of the events in the tree are used\n",
    " for training, and the other half for testing:\n",
    "\n",
    "     dataloader->PrepareTrainingAndTestTree( mycut, \"SplitMode=random:!V\" );"
   ]
  },
  {
   "cell_type": "markdown",
   "metadata": {},
   "source": [
    "Book mva methods\n",
    "\n",
    " Please lookup the various method configuration options in the corresponding cxx files, eg:\n",
    " src/MethoCuts.cxx, etc, or here: http://tmva.sourceforge.net/optionRef.html\n",
    " it is possible to preset ranges in the option string in which the cut optimisation should be done:\n",
    " \"...:CutRangeMin[2]=-1:CutRangeMax[2]=1\"...\", where [2] is the third input variable"
   ]
  },
  {
   "cell_type": "markdown",
   "metadata": {},
   "source": [
    "Pde - rs method"
   ]
  },
  {
   "cell_type": "code",
   "execution_count": 25,
   "metadata": {
    "collapsed": false
   },
   "outputs": [],
   "source": [
    "if (Use[\"PDERS\"])\n",
    "   factory->BookMethod( dataloader,  TMVA::Types::kPDERS, \"PDERS\",\n",
    "                        \"!H:!V:NormTree=T:VolumeRangeMode=Adaptive:KernelEstimator=Gauss:GaussSigma=0.3:NEventsMin=40:NEventsMax=60:VarTransform=None\" );"
   ]
  },
  {
   "cell_type": "markdown",
   "metadata": {},
   "source": [
    "And the options strings for the minmax and rms methods, respectively:\n",
    "\n",
    "      \"!H:!V:VolumeRangeMode=MinMax:DeltaFrac=0.2:KernelEstimator=Gauss:GaussSigma=0.3\" );\n",
    "      \"!H:!V:VolumeRangeMode=RMS:DeltaFrac=3:KernelEstimator=Gauss:GaussSigma=0.3\" );"
   ]
  },
  {
   "cell_type": "code",
   "execution_count": 26,
   "metadata": {
    "collapsed": false
   },
   "outputs": [
    {
     "name": "stdout",
     "output_type": "stream",
     "text": [
      "Factory                  : Booking method: \u001b[1mPDEFoam\u001b[0m\n",
      "                         : \n",
      "DataSetFactory           : [dataset] : Number of events in input trees\n",
      "                         : \n",
      "                         : Number of training and testing events\n",
      "                         : ---------------------------------------------------------------------------\n",
      "                         : Regression -- training events            : 1000\n",
      "                         : Regression -- testing events             : 9000\n",
      "                         : Regression -- training and testing events: 10000\n",
      "                         : \n",
      "DataSetInfo              : Correlation matrix (Regression):\n",
      "                         : ------------------------\n",
      "                         :             var1    var2\n",
      "                         :    var1:  +1.000  -0.017\n",
      "                         :    var2:  -0.017  +1.000\n",
      "                         : ------------------------\n",
      "DataSetFactory           : [dataset] :  \n",
      "                         : \n"
     ]
    }
   ],
   "source": [
    "if (Use[\"PDEFoam\"])\n",
    "    factory->BookMethod( dataloader,  TMVA::Types::kPDEFoam, \"PDEFoam\",\n",
    "\t\t\t    \"!H:!V:MultiTargetRegression=F:TargetSelection=Mpv:TailCut=0.001:VolFrac=0.0666:nActiveCells=500:nSampl=2000:nBin=5:Compress=T:Kernel=None:Nmin=10:VarTransform=None\" );"
   ]
  },
  {
   "cell_type": "markdown",
   "metadata": {},
   "source": [
    "K-nearest neighbour classifier (knn)"
   ]
  },
  {
   "cell_type": "code",
   "execution_count": 27,
   "metadata": {
    "collapsed": false
   },
   "outputs": [
    {
     "name": "stdout",
     "output_type": "stream",
     "text": [
      "Factory                  : Booking method: \u001b[1mKNN\u001b[0m\n",
      "                         : \n"
     ]
    }
   ],
   "source": [
    "if (Use[\"KNN\"])\n",
    "   factory->BookMethod( dataloader,  TMVA::Types::kKNN, \"KNN\",\n",
    "                        \"nkNN=20:ScaleFrac=0.8:SigmaFact=1.0:Kernel=Gaus:UseKernel=F:UseWeight=T:!Trim\" );"
   ]
  },
  {
   "cell_type": "markdown",
   "metadata": {},
   "source": [
    "Linear discriminant"
   ]
  },
  {
   "cell_type": "code",
   "execution_count": 28,
   "metadata": {
    "collapsed": false
   },
   "outputs": [
    {
     "name": "stdout",
     "output_type": "stream",
     "text": [
      "Factory                  : Booking method: \u001b[1mLD\u001b[0m\n",
      "                         : \n",
      "Factory                  : Booking method: \u001b[1mFDA_GA\u001b[0m\n",
      "                         : \n",
      "FDA_GA                   : [dataset] : Create Transformation \"Norm\" with events from all classes.\n",
      "                         : \n",
      "                         : Transformation, Variable selection : \n",
      "                         : Input : variable 'var1' <---> Output : variable 'var1'\n",
      "                         : Input : variable 'var2' <---> Output : variable 'var2'\n",
      "                         : Input : target 'fvalue' <---> Output : target 'fvalue'\n",
      "                         : Create parameter interval for parameter 0 : [-100,100]\n",
      "                         : Create parameter interval for parameter 1 : [-100,100]\n",
      "                         : Create parameter interval for parameter 2 : [-100,100]\n",
      "                         : User-defined formula string       : \"(0)+(1)*x0+(2)*x1\"\n",
      "                         : TFormula-compatible formula string: \"[0]+[1]*[3]+[2]*[4]\"\n"
     ]
    }
   ],
   "source": [
    "if (Use[\"LD\"])\n",
    "   factory->BookMethod( dataloader,  TMVA::Types::kLD, \"LD\",\n",
    "                        \"!H:!V:VarTransform=None\" );\n",
    "\n",
    "\t// Function discrimination analysis (FDA) -- test of various fitters - the recommended one is Minuit (or GA or SA)\n",
    "if (Use[\"FDA_MC\"])\n",
    "   factory->BookMethod( dataloader,  TMVA::Types::kFDA, \"FDA_MC\",\n",
    "                       \"!H:!V:Formula=(0)+(1)*x0+(2)*x1:ParRanges=(-100,100);(-100,100);(-100,100):FitMethod=MC:SampleSize=100000:Sigma=0.1:VarTransform=D\" );\n",
    "\n",
    "if (Use[\"FDA_GA\"]) // can also use Simulated Annealing (SA) algorithm (see Cuts_SA options) .. the formula of this example is good for parabolas\n",
    "   factory->BookMethod( dataloader,  TMVA::Types::kFDA, \"FDA_GA\",\n",
    "                        \"!H:!V:Formula=(0)+(1)*x0+(2)*x1:ParRanges=(-100,100);(-100,100);(-100,100):FitMethod=GA:PopSize=100:Cycles=3:Steps=30:Trim=True:SaveBestGen=1:VarTransform=Norm\" );\n",
    "\n",
    "if (Use[\"FDA_MT\"])\n",
    "   factory->BookMethod( dataloader,  TMVA::Types::kFDA, \"FDA_MT\",\n",
    "                        \"!H:!V:Formula=(0)+(1)*x0+(2)*x1:ParRanges=(-100,100);(-100,100);(-100,100);(-10,10):FitMethod=MINUIT:ErrorLevel=1:PrintLevel=-1:FitStrategy=2:UseImprove:UseMinos:SetBatch\" );\n",
    "\n",
    "if (Use[\"FDA_GAMT\"])\n",
    "   factory->BookMethod( dataloader,  TMVA::Types::kFDA, \"FDA_GAMT\",\n",
    "                        \"!H:!V:Formula=(0)+(1)*x0+(2)*x1:ParRanges=(-100,100);(-100,100);(-100,100):FitMethod=GA:Converger=MINUIT:ErrorLevel=1:PrintLevel=-1:FitStrategy=0:!UseImprove:!UseMinos:SetBatch:Cycles=1:PopSize=5:Steps=5:Trim\" );"
   ]
  },
  {
   "cell_type": "markdown",
   "metadata": {},
   "source": [
    "Neural network (mlp)"
   ]
  },
  {
   "cell_type": "code",
   "execution_count": 29,
   "metadata": {
    "collapsed": false
   },
   "outputs": [
    {
     "name": "stdout",
     "output_type": "stream",
     "text": [
      "Factory                  : Booking method: \u001b[1mMLP\u001b[0m\n",
      "                         : \n",
      "MLP                      : [dataset] : Create Transformation \"Norm\" with events from all classes.\n",
      "                         : \n",
      "                         : Transformation, Variable selection : \n",
      "                         : Input : variable 'var1' <---> Output : variable 'var1'\n",
      "                         : Input : variable 'var2' <---> Output : variable 'var2'\n",
      "                         : Input : target 'fvalue' <---> Output : target 'fvalue'\n",
      "MLP                      : Building Network. \n",
      "                         : Initializing weights\n"
     ]
    }
   ],
   "source": [
    "if (Use[\"MLP\"])\n",
    "   factory->BookMethod( dataloader,  TMVA::Types::kMLP, \"MLP\", \"!H:!V:VarTransform=Norm:NeuronType=tanh:NCycles=20000:HiddenLayers=N+20:TestRate=6:TrainingMethod=BFGS:Sampling=0.3:SamplingEpoch=0.8:ConvergenceImprove=1e-6:ConvergenceTests=15:!UseRegulator\" );\n",
    "\n",
    "if (Use[\"DNN\"])\n",
    "{\n",
    "/*\n",
    "    TString layoutString (\"Layout=TANH|(N+100)*2,LINEAR\");\n",
    "    TString layoutString (\"Layout=SOFTSIGN|100,SOFTSIGN|50,SOFTSIGN|20,LINEAR\");\n",
    "    TString layoutString (\"Layout=RELU|300,RELU|100,RELU|30,RELU|10,LINEAR\");\n",
    "    TString layoutString (\"Layout=SOFTSIGN|50,SOFTSIGN|30,SOFTSIGN|20,SOFTSIGN|10,LINEAR\");\n",
    "    TString layoutString (\"Layout=TANH|50,TANH|30,TANH|20,TANH|10,LINEAR\");\n",
    "    TString layoutString (\"Layout=SOFTSIGN|50,SOFTSIGN|20,LINEAR\");\n",
    "    TString layoutString (\"Layout=TANH|100,TANH|30,LINEAR\");\n",
    " */\n",
    "    TString layoutString (\"Layout=TANH|100,LINEAR\");\n",
    "\n",
    "    TString training0 (\"LearningRate=1e-5,Momentum=0.5,Repetitions=1,ConvergenceSteps=500,BatchSize=50,TestRepetitions=7,WeightDecay=0.01,Regularization=NONE,DropConfig=0.5+0.5+0.5+0.5,DropRepetitions=2\");\n",
    "    TString training1 (\"LearningRate=1e-5,Momentum=0.9,Repetitions=1,ConvergenceSteps=170,BatchSize=30,TestRepetitions=7,WeightDecay=0.01,Regularization=L2,DropConfig=0.1+0.1+0.1,DropRepetitions=1\");\n",
    "    TString training2 (\"LearningRate=1e-5,Momentum=0.3,Repetitions=1,ConvergenceSteps=150,BatchSize=40,TestRepetitions=7,WeightDecay=0.01,Regularization=NONE\");\n",
    "    TString training3 (\"LearningRate=1e-6,Momentum=0.1,Repetitions=1,ConvergenceSteps=500,BatchSize=100,TestRepetitions=7,WeightDecay=0.0001,Regularization=NONE\");\n",
    "\n",
    "    TString trainingStrategyString (\"TrainingStrategy=\");\n",
    "    trainingStrategyString += training0 + \"|\" + training1 + \"|\" + training2 + \"|\" + training3;\n",
    "\n",
    "\n",
    " //       TString trainingStrategyString (\"TrainingStrategy=LearningRate=1e-1,Momentum=0.3,Repetitions=3,ConvergenceSteps=20,BatchSize=30,TestRepetitions=7,WeightDecay=0.0,L1=false,DropFraction=0.0,DropRepetitions=5\");\n",
    "\n",
    "    TString nnOptions (\"!H:V:ErrorStrategy=SUMOFSQUARES:VarTransform=G:WeightInitialization=XAVIERUNIFORM\");\n",
    " //       TString nnOptions (\"!H:V:VarTransform=Normalize:ErrorStrategy=CHECKGRADIENTS\");\n",
    "    nnOptions.Append (\":\"); nnOptions.Append (layoutString);\n",
    "    nnOptions.Append (\":\"); nnOptions.Append (trainingStrategyString);\n",
    "\n",
    "    factory->BookMethod(dataloader, TMVA::Types::kDNN, \"DNN\", nnOptions ); // NN\n",
    "}"
   ]
  },
  {
   "cell_type": "markdown",
   "metadata": {},
   "source": [
    "Support vector machine"
   ]
  },
  {
   "cell_type": "code",
   "execution_count": 30,
   "metadata": {
    "collapsed": false
   },
   "outputs": [],
   "source": [
    "if (Use[\"SVM\"])\n",
    "   factory->BookMethod( dataloader,  TMVA::Types::kSVM, \"SVM\", \"Gamma=0.25:Tol=0.001:VarTransform=Norm\" );"
   ]
  },
  {
   "cell_type": "markdown",
   "metadata": {},
   "source": [
    "Boosted decision trees"
   ]
  },
  {
   "cell_type": "code",
   "execution_count": 31,
   "metadata": {
    "collapsed": false
   },
   "outputs": [
    {
     "name": "stdout",
     "output_type": "stream",
     "text": [
      "Factory                  : Booking method: \u001b[1mBDTG\u001b[0m\n",
      "                         : \n",
      "<WARNING>                : Value for option maxdepth was previously set to 3\n",
      "                         : the option *InverseBoostNegWeights* does not exist for BoostType=Grad --> change\n",
      "                         : to new default for GradBoost *Pray*\n"
     ]
    }
   ],
   "source": [
    "if (Use[\"BDT\"])\n",
    "  factory->BookMethod( dataloader,  TMVA::Types::kBDT, \"BDT\",\n",
    "                        \"!H:!V:NTrees=100:MinNodeSize=1.0%:BoostType=AdaBoostR2:SeparationType=RegressionVariance:nCuts=20:PruneMethod=CostComplexity:PruneStrength=30\" );\n",
    "\n",
    "if (Use[\"BDTG\"])\n",
    "  factory->BookMethod( dataloader,  TMVA::Types::kBDT, \"BDTG\",\n",
    "                        \"!H:!V:NTrees=2000::BoostType=Grad:Shrinkage=0.1:UseBaggedBoost:BaggedSampleFraction=0.5:nCuts=20:MaxDepth=3:MaxDepth=4\" );"
   ]
  },
  {
   "cell_type": "markdown",
   "metadata": {},
   "source": [
    "--------------------------------------------------------------------------------------------------"
   ]
  },
  {
   "cell_type": "markdown",
   "metadata": {},
   "source": [
    "Now you can tell the factory to train, test, and evaluate the mvas"
   ]
  },
  {
   "cell_type": "markdown",
   "metadata": {},
   "source": [
    "Train mvas using the set of training events"
   ]
  },
  {
   "cell_type": "code",
   "execution_count": 32,
   "metadata": {
    "collapsed": false
   },
   "outputs": [
    {
     "name": "stdout",
     "output_type": "stream",
     "text": [
      "Factory                  : \u001b[1mTrain all methods\u001b[0m\n",
      "Factory                  : [dataset] : Create Transformation \"I\" with events from all classes.\n",
      "                         : \n",
      "                         : Transformation, Variable selection : \n",
      "                         : Input : variable 'var1' <---> Output : variable 'var1'\n",
      "                         : Input : variable 'var2' <---> Output : variable 'var2'\n",
      "TFHandler_Factory        : Variable        Mean        RMS   [        Min        Max ]\n",
      "                         : -----------------------------------------------------------\n",
      "                         :     var1:     3.4152     1.1962   [  0.0026062     4.9957 ]\n",
      "                         :     var2:     2.4350     1.4125   [  0.0092062     4.9990 ]\n",
      "                         :   fvalue:     164.97     82.189   [     1.7144     391.23 ]\n",
      "                         : -----------------------------------------------------------\n",
      "                         : Ranking input variables (method unspecific)...\n",
      "IdTransformation         : Ranking result (top variable is best ranked)\n",
      "                         : --------------------------------------------\n",
      "                         : Rank : Variable  : |Correlation with target|\n",
      "                         : --------------------------------------------\n",
      "                         :    1 : var2      : 7.418e-01\n",
      "                         :    2 : var1      : 5.999e-01\n",
      "                         : --------------------------------------------\n",
      "IdTransformation         : Ranking result (top variable is best ranked)\n",
      "                         : -------------------------------------\n",
      "                         : Rank : Variable  : Mutual information\n",
      "                         : -------------------------------------\n",
      "                         :    1 : var2      : 2.029e+00\n",
      "                         :    2 : var1      : 1.950e+00\n",
      "                         : -------------------------------------\n",
      "IdTransformation         : Ranking result (top variable is best ranked)\n",
      "                         : ------------------------------------\n",
      "                         : Rank : Variable  : Correlation Ratio\n",
      "                         : ------------------------------------\n",
      "                         :    1 : var1      : 6.546e+00\n",
      "                         :    2 : var2      : 2.461e+00\n",
      "                         : ------------------------------------\n",
      "IdTransformation         : Ranking result (top variable is best ranked)\n",
      "                         : ----------------------------------------\n",
      "                         : Rank : Variable  : Correlation Ratio (T)\n",
      "                         : ----------------------------------------\n",
      "                         :    1 : var2      : 9.176e-01\n",
      "                         :    2 : var1      : 2.977e-01\n",
      "                         : ----------------------------------------\n",
      "Factory                  : Train method: PDEFoam for Regression\n",
      "                         : \n",
      "                         : Build mono target regression foam\n",
      "                         : Elapsed time: \u001b[1;31m0.652 sec\u001b[0m                                 \n",
      "                         : Elapsed time for training with 1000 events: \u001b[1;31m0.66 sec\u001b[0m         \n",
      "                         : Dataset[dataset] : Create results for training\n",
      "                         : Dataset[dataset] : Evaluation of PDEFoam on training sample\n",
      "                         : Dataset[dataset] : Elapsed time for evaluation of 1000 events: \u001b[1;31m0.00549 sec\u001b[0m       \n",
      "                         : Create variable histograms\n",
      "                         : Create regression target histograms\n",
      "                         : Create regression average deviation\n",
      "                         : Results created\n",
      "                         : Creating xml weight file: \u001b[0;36mdataset/weights/TMVARegression_PDEFoam.weights.xml\u001b[0m\n",
      "                         : writing foam MonoTargetRegressionFoam to file\n",
      "                         : Foams written to file: \u001b[0;36mdataset/weights/TMVARegression_PDEFoam.weights_foams.root\u001b[0m\n",
      "Factory                  : Training finished\n",
      "                         : \n",
      "Factory                  : Train method: KNN for Regression\n",
      "                         : \n",
      "KNN                      : <Train> start...\n",
      "                         : Reading 1000 events\n",
      "                         : Number of signal events 1000\n",
      "                         : Number of background events 0\n",
      "                         : Creating kd-tree with 1000 events\n",
      "                         : Computing scale factor for 1d distributions: (ifrac, bottom, top) = (80%, 10%, 90%)\n",
      "ModulekNN                : Optimizing tree for 2 variables with 1000 values\n",
      "                         : <Fill> Class 1 has     1000 events\n",
      "                         : Elapsed time for training with 1000 events: \u001b[1;31m0.00198 sec\u001b[0m         \n",
      "                         : Dataset[dataset] : Create results for training\n",
      "                         : Dataset[dataset] : Evaluation of KNN on training sample\n",
      "                         : Dataset[dataset] : Elapsed time for evaluation of 1000 events: \u001b[1;31m0.0112 sec\u001b[0m       \n",
      "                         : Create variable histograms\n",
      "                         : Create regression target histograms\n",
      "                         : Create regression average deviation\n",
      "                         : Results created\n",
      "                         : Creating xml weight file: \u001b[0;36mdataset/weights/TMVARegression_KNN.weights.xml\u001b[0m\n",
      "Factory                  : Training finished\n",
      "                         : \n",
      "Factory                  : Train method: LD for Regression\n",
      "                         : \n",
      "LD                       : Results for LD coefficients:\n",
      "                         : -----------------------\n",
      "                         : Variable:  Coefficient:\n",
      "                         : -----------------------\n",
      "                         :     var1:      +42.090\n",
      "                         :     var2:      +44.604\n",
      "                         : (offset):      -87.385\n",
      "                         : -----------------------\n",
      "                         : Elapsed time for training with 1000 events: \u001b[1;31m0.000336 sec\u001b[0m         \n",
      "                         : Dataset[dataset] : Create results for training\n",
      "                         : Dataset[dataset] : Evaluation of LD on training sample\n",
      "                         : Dataset[dataset] : Elapsed time for evaluation of 1000 events: \u001b[1;31m0.000481 sec\u001b[0m       \n",
      "                         : Create variable histograms\n",
      "                         : Create regression target histograms\n",
      "                         : Create regression average deviation\n",
      "                         : Results created\n",
      "                         : Creating xml weight file: \u001b[0;36mdataset/weights/TMVARegression_LD.weights.xml\u001b[0m\n",
      "Factory                  : Training finished\n",
      "                         : \n",
      "Factory                  : Train method: FDA_GA for Regression\n",
      "                         : \n",
      "TFHandler_FDA_GA         : Variable        Mean        RMS   [        Min        Max ]\n",
      "                         : -----------------------------------------------------------\n",
      "                         :     var1:    0.36693    0.47914   [    -1.0000     1.0000 ]\n",
      "                         :     var2:  -0.027695    0.56614   [    -1.0000     1.0000 ]\n",
      "                         :   fvalue:   -0.16174    0.42200   [    -1.0000     1.0000 ]\n",
      "                         : -----------------------------------------------------------\n",
      "FitterBase               : <GeneticFitter> Optimisation, please be patient ... (inaccurate progress timing for GA)\n",
      "                         : Elapsed time: \u001b[1;31m15.5 sec\u001b[0m                            \n",
      "FDA_GA                   : Results for parameter fit using \"GA\" fitter:\n",
      "                         : -----------------------\n",
      "                         : Parameter:  Fit result:\n",
      "                         : -----------------------\n",
      "                         :    Par(0):   -0.345151\n",
      "                         :    Par(1):    0.539931\n",
      "                         :    Par(2):    0.569534\n",
      "                         : -----------------------\n",
      "                         : Discriminator expression: \"(0)+(1)*x0+(2)*x1\"\n",
      "                         : Value of estimator at minimum: 0.0094457\n",
      "                         : Elapsed time for training with 1000 events: \u001b[1;31m15.7 sec\u001b[0m         \n",
      "                         : Dataset[dataset] : Create results for training\n",
      "                         : Dataset[dataset] : Evaluation of FDA_GA on training sample\n",
      "                         : Dataset[dataset] : Elapsed time for evaluation of 1000 events: \u001b[1;31m0.00151 sec\u001b[0m       \n",
      "                         : Create variable histograms\n",
      "                         : Create regression target histograms\n",
      "                         : Create regression average deviation\n",
      "                         : Results created\n",
      "                         : Creating xml weight file: \u001b[0;36mdataset/weights/TMVARegression_FDA_GA.weights.xml\u001b[0m\n",
      "Factory                  : Training finished\n",
      "                         : \n",
      "Factory                  : Train method: MLP for Regression\n",
      "                         : \n",
      "TFHandler_MLP            : Variable        Mean        RMS   [        Min        Max ]\n",
      "                         : -----------------------------------------------------------\n",
      "                         :     var1:    0.36693    0.47914   [    -1.0000     1.0000 ]\n",
      "                         :     var2:  -0.027695    0.56614   [    -1.0000     1.0000 ]\n",
      "                         :   fvalue:   -0.16174    0.42200   [    -1.0000     1.0000 ]\n",
      "                         : -----------------------------------------------------------\n",
      "                         : Training Network\n",
      "                         : \n",
      "                         : Inaccurate progress timing for MLP... \n",
      "<WARNING>                : Line search increased error! Something is wrong.fLastAlpha=2.5046al123=0.986836 2.96051 8.88152 err1=0.00131353 errfinal=0.00131354\n",
      "<WARNING>                : Line search increased error! Something is wrong.fLastAlpha=5.07736al123=2 6 18 err1=0.00131344 errfinal=0.00131344\n",
      "                         : Elapsed time for training with 1000 events: \u001b[1;31m9.54 sec\u001b[0m         \n",
      "                         : Dataset[dataset] : Create results for training\n",
      "                         : Dataset[dataset] : Evaluation of MLP on training sample\n",
      "                         : Dataset[dataset] : Elapsed time for evaluation of 1000 events: \u001b[1;31m0.00246 sec\u001b[0m       \n",
      "                         : Create variable histograms\n",
      "                         : Create regression target histograms\n",
      "                         : Create regression average deviation\n",
      "                         : Results created\n",
      "                         : Creating xml weight file: \u001b[0;36mdataset/weights/TMVARegression_MLP.weights.xml\u001b[0m\n",
      "                         : Write special histos to file: TMVAReg.root:/dataset/Method_MLP/MLP\n",
      "Factory                  : Training finished\n",
      "                         : \n",
      "Factory                  : Train method: BDTG for Regression\n",
      "                         : \n",
      "                         : Regression Loss Function: Huber\n",
      "                         : Training 2000 Decision Trees ... patience please\n",
      "                         : Elapsed time for training with 1000 events: \u001b[1;31m1.4 sec\u001b[0m         \n",
      "                         : Dataset[dataset] : Create results for training\n",
      "                         : Dataset[dataset] : Evaluation of BDTG on training sample\n",
      "                         : Dataset[dataset] : Elapsed time for evaluation of 1000 events: \u001b[1;31m0.508 sec\u001b[0m       \n",
      "                         : Create variable histograms\n",
      "                         : Create regression target histograms\n",
      "                         : Create regression average deviation\n",
      "                         : Results created\n",
      "                         : Creating xml weight file: \u001b[0;36mdataset/weights/TMVARegression_BDTG.weights.xml\u001b[0m\n",
      "Factory                  : Training finished\n",
      "                         : \n",
      "Factory                  : === Destroy and recreate all methods via weight files for testing ===\n",
      "                         : \n",
      "                         : Read foams from file: \u001b[0;36mdataset/weights/TMVARegression_PDEFoam.weights_foams.root\u001b[0m\n",
      "                         : Creating kd-tree with 1000 events\n",
      "                         : Computing scale factor for 1d distributions: (ifrac, bottom, top) = (80%, 10%, 90%)\n",
      "ModulekNN                : Optimizing tree for 2 variables with 1000 values\n",
      "                         : <Fill> Class 1 has     1000 events\n",
      "                         : User-defined formula string       : \"(0)+(1)*x0+(2)*x1\"\n",
      "                         : TFormula-compatible formula string: \"[0]+[1]*[3]+[2]*[4]\"\n",
      "MLP                      : Building Network. \n",
      "                         : Initializing weights\n"
     ]
    }
   ],
   "source": [
    "factory->TrainAllMethods();"
   ]
  },
  {
   "cell_type": "markdown",
   "metadata": {},
   "source": [
    "Evaluate all mvas using the set of test events"
   ]
  },
  {
   "cell_type": "code",
   "execution_count": 33,
   "metadata": {
    "collapsed": false
   },
   "outputs": [
    {
     "name": "stdout",
     "output_type": "stream",
     "text": [
      "Factory                  : \u001b[1mTest all methods\u001b[0m\n",
      "Factory                  : Test method: PDEFoam for Regression performance\n",
      "                         : \n",
      "                         : Dataset[dataset] : Create results for testing\n",
      "                         : Dataset[dataset] : Evaluation of PDEFoam on testing sample\n",
      "                         : Dataset[dataset] : Elapsed time for evaluation of 9000 events: \u001b[1;31m0.0554 sec\u001b[0m       \n",
      "                         : Create variable histograms\n",
      "                         : Create regression target histograms\n",
      "                         : Create regression average deviation\n",
      "                         : Results created\n",
      "Factory                  : Test method: KNN for Regression performance\n",
      "                         : \n",
      "                         : Dataset[dataset] : Create results for testing\n",
      "                         : Dataset[dataset] : Evaluation of KNN on testing sample\n",
      "                         : Dataset[dataset] : Elapsed time for evaluation of 9000 events: \u001b[1;31m0.1 sec\u001b[0m       \n",
      "                         : Create variable histograms\n",
      "                         : Create regression target histograms\n",
      "                         : Create regression average deviation\n",
      "                         : Results created\n",
      "Factory                  : Test method: LD for Regression performance\n",
      "                         : \n",
      "                         : Dataset[dataset] : Create results for testing\n",
      "                         : Dataset[dataset] : Evaluation of LD on testing sample\n",
      "                         : Dataset[dataset] : Elapsed time for evaluation of 9000 events: \u001b[1;31m0.00454 sec\u001b[0m       \n",
      "                         : Create variable histograms\n",
      "                         : Create regression target histograms\n",
      "                         : Create regression average deviation\n",
      "                         : Results created\n",
      "Factory                  : Test method: FDA_GA for Regression performance\n",
      "                         : \n",
      "                         : Dataset[dataset] : Create results for testing\n",
      "                         : Dataset[dataset] : Evaluation of FDA_GA on testing sample\n",
      "                         : Dataset[dataset] : Elapsed time for evaluation of 9000 events: \u001b[1;31m0.0133 sec\u001b[0m       \n",
      "                         : Create variable histograms\n",
      "                         : Create regression target histograms\n",
      "                         : Create regression average deviation\n",
      "                         : Results created\n",
      "Factory                  : Test method: MLP for Regression performance\n",
      "                         : \n",
      "                         : Dataset[dataset] : Create results for testing\n",
      "                         : Dataset[dataset] : Evaluation of MLP on testing sample\n",
      "                         : Dataset[dataset] : Elapsed time for evaluation of 9000 events: \u001b[1;31m0.0225 sec\u001b[0m       \n",
      "                         : Create variable histograms\n",
      "                         : Create regression target histograms\n",
      "                         : Create regression average deviation\n",
      "                         : Results created\n",
      "Factory                  : Test method: BDTG for Regression performance\n",
      "                         : \n",
      "                         : Dataset[dataset] : Create results for testing\n",
      "                         : Dataset[dataset] : Evaluation of BDTG on testing sample\n",
      "                         : Dataset[dataset] : Elapsed time for evaluation of 9000 events: \u001b[1;31m2.79 sec\u001b[0m       \n",
      "                         : Create variable histograms\n",
      "                         : Create regression target histograms\n",
      "                         : Create regression average deviation\n",
      "                         : Results created\n"
     ]
    }
   ],
   "source": [
    "factory->TestAllMethods();"
   ]
  },
  {
   "cell_type": "markdown",
   "metadata": {},
   "source": [
    "Evaluate and compare performance of all configured mvas"
   ]
  },
  {
   "cell_type": "code",
   "execution_count": 34,
   "metadata": {
    "collapsed": false
   },
   "outputs": [
    {
     "name": "stdout",
     "output_type": "stream",
     "text": [
      "Factory                  : \u001b[1mEvaluate all methods\u001b[0m\n",
      "                         : Evaluate regression method: PDEFoam\n",
      "TFHandler_PDEFoam        : Variable        Mean        RMS   [        Min        Max ]\n",
      "                         : -----------------------------------------------------------\n",
      "                         :     var1:     3.3308     1.1858   [ 0.00020069     5.0000 ]\n",
      "                         :     var2:     2.4914     1.4394   [ 0.00071490     5.0000 ]\n",
      "                         :   fvalue:     164.02     83.934   [     1.6186     394.84 ]\n",
      "                         : -----------------------------------------------------------\n",
      "                         : Evaluate regression method: KNN\n",
      "TFHandler_KNN            : Variable        Mean        RMS   [        Min        Max ]\n",
      "                         : -----------------------------------------------------------\n",
      "                         :     var1:     3.3308     1.1858   [ 0.00020069     5.0000 ]\n",
      "                         :     var2:     2.4914     1.4394   [ 0.00071490     5.0000 ]\n",
      "                         :   fvalue:     164.02     83.934   [     1.6186     394.84 ]\n",
      "                         : -----------------------------------------------------------\n",
      "                         : Evaluate regression method: LD\n",
      "TFHandler_LD             : Variable        Mean        RMS   [        Min        Max ]\n",
      "                         : -----------------------------------------------------------\n",
      "                         :     var1:     3.3308     1.1858   [ 0.00020069     5.0000 ]\n",
      "                         :     var2:     2.4914     1.4394   [ 0.00071490     5.0000 ]\n",
      "                         :   fvalue:     164.02     83.934   [     1.6186     394.84 ]\n",
      "                         : -----------------------------------------------------------\n",
      "                         : Evaluate regression method: FDA_GA\n",
      "TFHandler_FDA_GA         : Variable        Mean        RMS   [        Min        Max ]\n",
      "                         : -----------------------------------------------------------\n",
      "                         :     var1:    0.33312    0.47497   [    -1.0010     1.0017 ]\n",
      "                         :     var2: -0.0050675    0.57694   [    -1.0034     1.0004 ]\n",
      "                         :   fvalue:   -0.16662    0.43096   [    -1.0005     1.0185 ]\n",
      "                         : -----------------------------------------------------------\n",
      "TFHandler_FDA_GA         : Variable        Mean        RMS   [        Min        Max ]\n",
      "                         : -----------------------------------------------------------\n",
      "                         :     var1:    0.33312    0.47497   [    -1.0010     1.0017 ]\n",
      "                         :     var2: -0.0050675    0.57694   [    -1.0034     1.0004 ]\n",
      "                         :   fvalue:   -0.16662    0.43096   [    -1.0005     1.0185 ]\n",
      "                         : -----------------------------------------------------------\n",
      "                         : Evaluate regression method: MLP\n",
      "TFHandler_MLP            : Variable        Mean        RMS   [        Min        Max ]\n",
      "                         : -----------------------------------------------------------\n",
      "                         :     var1:    0.33312    0.47497   [    -1.0010     1.0017 ]\n",
      "                         :     var2: -0.0050675    0.57694   [    -1.0034     1.0004 ]\n",
      "                         :   fvalue:   -0.16662    0.43096   [    -1.0005     1.0185 ]\n",
      "                         : -----------------------------------------------------------\n",
      "TFHandler_MLP            : Variable        Mean        RMS   [        Min        Max ]\n",
      "                         : -----------------------------------------------------------\n",
      "                         :     var1:    0.33312    0.47497   [    -1.0010     1.0017 ]\n",
      "                         :     var2: -0.0050675    0.57694   [    -1.0034     1.0004 ]\n",
      "                         :   fvalue:   -0.16662    0.43096   [    -1.0005     1.0185 ]\n",
      "                         : -----------------------------------------------------------\n",
      "                         : Evaluate regression method: BDTG\n",
      "TFHandler_BDTG           : Variable        Mean        RMS   [        Min        Max ]\n",
      "                         : -----------------------------------------------------------\n",
      "                         :     var1:     3.3308     1.1858   [ 0.00020069     5.0000 ]\n",
      "                         :     var2:     2.4914     1.4394   [ 0.00071490     5.0000 ]\n",
      "                         :   fvalue:     164.02     83.934   [     1.6186     394.84 ]\n",
      "                         : -----------------------------------------------------------\n",
      "                         : \n",
      "                         : Evaluation results ranked by smallest RMS on test sample:\n",
      "                         : (\"Bias\" quotes the mean deviation of the regression from true target.\n",
      "                         :  \"MutInf\" is the \"Mutual Information\" between regression and target.\n",
      "                         :  Indicated by \"_T\" are the corresponding \"truncated\" quantities ob-\n",
      "                         :  tained when removing events deviating more than 2sigma from average.)\n",
      "                         : --------------------------------------------------------------------------------------------------\n",
      "                         : --------------------------------------------------------------------------------------------------\n",
      "                         : dataset              MLP            :  -0.0166  -0.0160    0.309    0.298  |  3.435  3.438\n",
      "                         : dataset              BDTG           :    0.213    0.173     2.38     1.87  |  3.119  3.184\n",
      "                         : dataset              KNN            :   -0.511    0.432     5.76     3.78  |  2.871  2.903\n",
      "                         : dataset              PDEFoam        :    -1.23   -0.960     9.63     7.88  |  2.263  2.341\n",
      "                         : dataset              FDA_GA         :   -0.302     1.39     19.8     17.9  |  1.990  1.980\n",
      "                         : dataset              LD             :  -0.0832     1.61     19.7     17.9  |  1.987  1.981\n",
      "                         : --------------------------------------------------------------------------------------------------\n",
      "                         : \n",
      "                         : Evaluation results ranked by smallest RMS on training sample:\n",
      "                         : (overtraining check)\n",
      "                         : --------------------------------------------------------------------------------------------------\n",
      "                         : DataSet Name:         MVA Method:        <Bias>   <Bias_T>    RMS    RMS_T  |  MutInf MutInf_T\n",
      "                         : --------------------------------------------------------------------------------------------------\n",
      "                         : dataset              MLP            :-0.000756  0.00366    0.305    0.294  |  3.435  3.432\n",
      "                         : dataset              BDTG           :   0.0297  0.00807    0.487    0.261  |  3.430  3.462\n",
      "                         : dataset              KNN            :   -0.525    0.296     5.55     3.82  |  2.936  2.951\n",
      "                         : dataset              PDEFoam        : 1.97e-07    0.344     7.90     6.18  |  2.517  2.583\n",
      "                         : dataset              FDA_GA         :   -0.208     1.57     18.9     16.9  |  2.113  2.105\n",
      "                         : dataset              LD             : 2.81e-06     1.76     18.9     16.9  |  2.106  2.104\n",
      "                         : --------------------------------------------------------------------------------------------------\n",
      "                         : \n",
      "Dataset:dataset          : Created tree 'TestTree' with 9000 events\n",
      "                         : \n",
      "Dataset:dataset          : Created tree 'TrainTree' with 1000 events\n",
      "                         : \n",
      "Factory                  : \u001b[1mThank you for using TMVA!\u001b[0m\n",
      "                         : \u001b[1mFor citation information, please visit: http://tmva.sf.net/citeTMVA.html\u001b[0m\n"
     ]
    }
   ],
   "source": [
    "factory->EvaluateAllMethods();"
   ]
  },
  {
   "cell_type": "markdown",
   "metadata": {},
   "source": [
    "--------------------------------------------------------------"
   ]
  },
  {
   "cell_type": "markdown",
   "metadata": {},
   "source": [
    "Save the output"
   ]
  },
  {
   "cell_type": "code",
   "execution_count": 35,
   "metadata": {
    "collapsed": false
   },
   "outputs": [
    {
     "name": "stdout",
     "output_type": "stream",
     "text": [
      "==> Wrote root file: TMVAReg.root\n",
      "==> TMVARegression is done!\n"
     ]
    }
   ],
   "source": [
    "outputFile->Close();\n",
    "\n",
    "std::cout << \"==> Wrote root file: \" << outputFile->GetName() << std::endl;\n",
    "std::cout << \"==> TMVARegression is done!\" << std::endl;\n",
    "\n",
    "delete factory;\n",
    "delete dataloader;"
   ]
  },
  {
   "cell_type": "markdown",
   "metadata": {},
   "source": [
    "Launch the gui for the root macros"
   ]
  },
  {
   "cell_type": "code",
   "execution_count": 36,
   "metadata": {
    "collapsed": false
   },
   "outputs": [],
   "source": [
    "if (!gROOT->IsBatch()) TMVA::TMVARegGui( outfileName );"
   ]
  }
 ],
 "metadata": {
  "kernelspec": {
   "display_name": "ROOT C++",
   "language": "c++",
   "name": "root"
  },
  "language_info": {
   "codemirror_mode": "text/x-c++src",
   "file_extension": ".C",
   "mimetype": " text/x-c++src",
   "name": "c++"
  }
 },
 "nbformat": 4,
 "nbformat_minor": 1
}
