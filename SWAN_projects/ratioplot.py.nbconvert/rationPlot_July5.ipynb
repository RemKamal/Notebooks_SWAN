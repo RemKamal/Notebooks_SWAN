{
 "cells": [
  {
   "cell_type": "code",
   "execution_count": 7,
   "metadata": {},
   "outputs": [
    {
     "data": {
      "text/html": [
       "<table class='tmva_output_table'></table>"
      ],
      "text/plain": [
       "<IPython.core.display.HTML object>"
      ]
     },
     "metadata": {},
     "output_type": "display_data"
    },
    {
     "data": {
      "text/html": [
       "Warning in <TCanvas::Constructor>: Deleting canvas with same name: c1\n",
       "Warning in <TROOT::Append>: Replacing existing TH1: h1 (Potential memory leak).\n",
       "Warning in <TROOT::Append>: Replacing existing TH1: h2 (Potential memory leak).\n"
      ],
      "text/plain": [
       "<IPython.core.display.HTML object>"
      ]
     },
     "metadata": {},
     "output_type": "display_data"
    },
    {
     "data": {
      "image/png": "[encoded data removed]",
      "text/plain": [
       "<IPython.core.display.Image object>"
      ]
     },
     "metadata": {},
     "output_type": "display_data"
    }
   ],
   "source": [
    "## \\file\n",
    "## \\ingroup tutorial_hist\n",
    "## \\notebook\n",
    "## Example creating a simple ratio plot of two histograms using the `pois` division option.\n",
    "## Two histograms are set up and filled with random numbers. The constructor of `TRatioPlot`\n",
    "## takes the to histograms, name and title for the object, drawing options for the histograms (`hist` and `E` in this case)\n",
    "## and a drawing option for the output graph.\n",
    "## Inspired by the tutorial of Paul Gessinger.\n",
    "##\n",
    "## \\macro_image\n",
    "## \\macro_code\n",
    "##\n",
    "## \\author Alberto Ferro\n",
    "\n",
    "import ROOT\n",
    "\n",
    "ROOT.gStyle.SetOptStat(0)\n",
    "\n",
    "c1 = ROOT.TCanvas(\"c1\", \"A ratio example\")\n",
    "h1 = ROOT.TH1D(\"h1\", \"h1\", 50, 0, 10)\n",
    "h2 = ROOT.TH1D(\"h2\", \"h2\", 50, 0, 10)\n",
    "f1 = ROOT.TF1(\"f1\", \"exp(- x/[0] )\")\n",
    "f1.SetParameter(0,3)\n",
    "\n",
    "h1.FillRandom(\"f1\",1900)\n",
    "h2.FillRandom(\"f1\", 2000)\n",
    "h1.Sumw2()\n",
    "h2.Scale(1.9/2.)\n",
    "\n",
    "h1.GetXaxis().SetTitle(\"x\")\n",
    "h1.GetYaxis().SetTitle(\"y\")\n",
    "\n",
    "rp = ROOT.TRatioPlot(h1,h2)\n",
    "\n",
    "c1.SetTicks(0,1)\n",
    "rp.GetLowYaxis().SetNdivisions(505)\n",
    "c1.Update()\n",
    "c1.Draw()\n"
   ]
  },
  {
   "cell_type": "code",
   "execution_count": 5,
   "metadata": {},
   "outputs": [
    {
     "data": {
      "text/html": [
       "\n",
       "    <script type=\"text/javascript\">\n",
       "        require.config({\n",
       "            paths: {\n",
       "                'JsMVA':'https://root.cern.ch/js/jsmva/latest/js/JsMVA.min'\n",
       "            }\n",
       "        });\n",
       "    </script>\n",
       "    <link rel=\"stylesheet\" href=\"https://root.cern.ch/js/jsmva/latest/css/TMVAHTMLOutput.min.css\"></link>\n",
       "    "
      ],
      "text/plain": [
       "<IPython.core.display.HTML object>"
      ]
     },
     "metadata": {},
     "output_type": "display_data"
    },
    {
     "data": {
      "image/png": "[encoded data removed]",
      "text/plain": [
       "<IPython.core.display.Image object>"
      ]
     },
     "metadata": {},
     "output_type": "display_data"
    }
   ],
   "source": [
    "from IPython.core.extensions import ExtensionManager\n",
    "ExtensionManager(get_ipython()).load_extension(\"JsMVA.JsMVAMagic\")\n",
    "%jsmva on\n",
    "\n",
    "from ROOT import gROOT \n",
    "gROOT.GetListOfCanvases().Draw()\n"
   ]
  },
  {
   "cell_type": "code",
   "execution_count": null,
   "metadata": {},
   "outputs": [],
   "source": []
  }
 ],
 "metadata": {
  "kernelspec": {
   "display_name": "Python 2",
   "language": "python",
   "name": "python2"
  },
  "language_info": {
   "codemirror_mode": {
    "name": "ipython",
    "version": 2
   },
   "file_extension": ".py",
   "mimetype": "text/x-python",
   "name": "python",
   "nbconvert_exporter": "python",
   "pygments_lexer": "ipython2",
   "version": "2.7.13"
  }
 },
 "nbformat": 4,
 "nbformat_minor": 2
}
