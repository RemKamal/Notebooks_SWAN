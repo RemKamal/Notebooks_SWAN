{
 "cells": [
  {
   "cell_type": "markdown",
   "metadata": {},
   "source": [
    "# Ratioplot 1\n",
    "Example creating a simple ratio plot of two histograms using the `pois` division option.\n",
    "Two histograms are set up and filled with random numbers. The constructor of `TRatioPlot`\n",
    "takes the to histograms, name and title for the object, drawing options for the histograms (`hist` and `E` in this case)\n",
    "and a drawing option for the output graph.\n",
    "\n",
    "\n",
    "\n",
    "\n",
    "**Author:** Paul Gessinger  \n",
    "<i><small>This notebook tutorial was automatically generated with <a href= \"https://github.com/root-project/root/blob/master/documentation/doxygen/converttonotebook.py\">ROOTBOOK-izer (Beta)</a> from the macro found in the ROOT repository  on Thursday, July 05, 2018 at 04:00 AM.</small></i>"
   ]
  },
  {
   "cell_type": "code",
   "execution_count": 1,
   "metadata": {
    "collapsed": false
   },
   "outputs": [],
   "source": [
    "gStyle->SetOptStat(0);\n",
    "auto c1 = new TCanvas(\"c1\", \"A ratio example\");\n",
    "auto h1 = new TH1D(\"h1\", \"h1\", 50, 0, 10);\n",
    "auto h2 = new TH1D(\"h2\", \"h2\", 50, 0, 10);\n",
    "auto f1 = new TF1(\"f1\", \"exp(- x/[0] )\");\n",
    "f1->SetParameter(0, 3);\n",
    "h1->FillRandom(\"f1\", 1900);\n",
    "h2->FillRandom(\"f1\", 2000);\n",
    "h1->Sumw2();\n",
    "h2->Scale(1.9 / 2.);\n",
    "h1->GetXaxis()->SetTitle(\"x\");\n",
    "h1->GetYaxis()->SetTitle(\"y\");\n",
    "auto rp = new TRatioPlot(h1, h2);\n",
    "c1->SetTicks(0, 1);\n",
    "rp->Draw();\n",
    "rp->GetLowYaxis()->SetNdivisions(505);\n",
    "c1->Update();"
   ]
  },
  {
   "cell_type": "markdown",
   "metadata": {},
   "source": [
    "Draw all canvases "
   ]
  },
  {
   "cell_type": "code",
   "execution_count": 2,
   "metadata": {
    "collapsed": false
   },
   "outputs": [
    {
     "data": {
      "image/png": "[encoded data removed]",
      "text/plain": [
       "<IPython.core.display.Image object>"
      ]
     },
     "metadata": {},
     "output_type": "display_data"
    }
   ],
   "source": [
    "gROOT->GetListOfCanvases()->Draw()"
   ]
  }
 ],
 "metadata": {
  "kernelspec": {
   "display_name": "ROOT C++",
   "language": "c++",
   "name": "root"
  },
  "language_info": {
   "codemirror_mode": "text/x-c++src",
   "file_extension": ".C",
   "mimetype": " text/x-c++src",
   "name": "c++"
  }
 },
 "nbformat": 4,
 "nbformat_minor": 1
}
