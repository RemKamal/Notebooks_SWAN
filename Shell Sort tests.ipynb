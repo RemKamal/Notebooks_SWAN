{
 "cells": [
  {
   "cell_type": "code",
   "execution_count": 5,
   "metadata": {},
   "outputs": [],
   "source": [
    "def shell_sort(arr):\n",
    "    gap = len(arr)/2\n",
    "    \n",
    "    # While we still have sub lists\n",
    "    while gap > 0:\n",
    "        for start in range(gap):\n",
    "            # Use a gap insertion\n",
    "            gap_insertion_sort(arr,start,gap)\n",
    "\n",
    "      \n",
    "\n",
    "        gap = gap / 2\n",
    "\n",
    "def gap_insertion_sort(arr,start,gap):\n",
    "    for i in range(start+gap,len(arr),gap):\n",
    "\n",
    "        currentvalue = arr[i]\n",
    "        position = i\n",
    "\n",
    "        # Using the Gap\n",
    "        while position>=gap and arr[position-gap]>currentvalue:\n",
    "            arr[position]=arr[position-gap]\n",
    "            position = position-gap\n",
    "        \n",
    "        # Set current value\n",
    "        arr[position]=currentvalue"
   ]
  },
  {
   "cell_type": "code",
   "execution_count": 6,
   "metadata": {},
   "outputs": [
    {
     "data": {
      "text/plain": [
       "[22, 44, 66, 77, 2121, 2323, 2424, 4545, 4545, 6767, 9090]"
      ]
     },
     "execution_count": 6,
     "metadata": {},
     "output_type": "execute_result"
    }
   ],
   "source": [
    "arr  = [4545,6767,2323,4545,2121,2424,77,22,66,44,9090]\n",
    "shell_sort(arr)\n",
    "arr"
   ]
  },
  {
   "cell_type": "code",
   "execution_count": 26,
   "metadata": {},
   "outputs": [],
   "source": [
    "\n",
    "def shell_sort(arr):\n",
    "    gap = len(arr)/2\n",
    "    \n",
    "    # While we still have sub lists\n",
    "    while gap > 0:\n",
    "            # Use a gap insertion\n",
    "        for i in range(gap,len(arr), gap):\n",
    "            print i\n",
    "            currentvalue = arr[i]\n",
    "            position = i\n",
    "\n",
    "            # Using the Gap\n",
    "            while position>=gap and arr[position-gap]>currentvalue:\n",
    "                arr[position]=arr[position-gap]\n",
    "                position = position-gap\n",
    "\n",
    "            # Set current value\n",
    "            arr[position]=currentvalue\n",
    "\n",
    "\n",
    "        gap = gap / 2\n",
    "\n"
   ]
  },
  {
   "cell_type": "code",
   "execution_count": 27,
   "metadata": {},
   "outputs": [
    {
     "name": "stdout",
     "output_type": "stream",
     "text": [
      "5\n",
      "10\n",
      "2\n",
      "4\n",
      "6\n",
      "8\n",
      "10\n",
      "1\n",
      "2\n",
      "3\n",
      "4\n",
      "5\n",
      "6\n",
      "7\n",
      "8\n",
      "9\n",
      "10\n"
     ]
    },
    {
     "data": {
      "text/plain": [
       "[22, 44, 66, 77, 2121, 2323, 2424, 4545, 4545, 6767, 9090]"
      ]
     },
     "execution_count": 27,
     "metadata": {},
     "output_type": "execute_result"
    }
   ],
   "source": [
    "arr  = [4545,6767,2323,4545,2121,2424,77,22,66,44,9090]\n",
    "shell_sort(arr)\n",
    "arr"
   ]
  },
  {
   "cell_type": "code",
   "execution_count": null,
   "metadata": {},
   "outputs": [],
   "source": []
  }
 ],
 "metadata": {
  "kernelspec": {
   "display_name": "Python 2",
   "language": "python",
   "name": "python2"
  },
  "language_info": {
   "codemirror_mode": {
    "name": "ipython",
    "version": 2
   },
   "file_extension": ".py",
   "mimetype": "text/x-python",
   "name": "python",
   "nbconvert_exporter": "python",
   "pygments_lexer": "ipython2",
   "version": "2.7.13"
  }
 },
 "nbformat": 4,
 "nbformat_minor": 2
}
