{
 "cells": [
  {
   "cell_type": "code",
   "execution_count": 1,
   "metadata": {},
   "outputs": [],
   "source": [
    "from pyspark import SparkConf, SparkContext\n",
    "sc=SparkContext() \n",
    "rdd = sc.parallelize([1, 2, 3, 4])\n",
    "rdd.collect()"
   ]
  },
  {
   "cell_type": "code",
   "execution_count": 1,
   "metadata": {},
   "outputs": [],
   "source": [
    "from pyspark import SparkConf, SparkContext\n",
    "#https://spark.apache.org/docs/0.9.0/python-programming-guide.html\n",
    "conf = (SparkConf()\n",
    "         .setMaster(\"local\")\n",
    "         .setAppName(\"My app\")\n",
    "         .set(\"spark.executor.memory\", \"1g\"))\n",
    "sc = SparkContext(conf = conf)"
   ]
  },
  {
   "cell_type": "code",
   "execution_count": 2,
   "metadata": {},
   "outputs": [
    {
     "data": {
      "text/plain": [
       "[1, 2, 3, 4]"
      ]
     },
     "execution_count": 2,
     "metadata": {},
     "output_type": "execute_result"
    }
   ],
   "source": [
    "rdd = sc.parallelize([1, 2, 3, 4])\n",
    "rdd.collect()\n"
   ]
  },
  {
   "cell_type": "code",
   "execution_count": 3,
   "metadata": {},
   "outputs": [],
   "source": [
    "doubled = rdd.map(lambda x: x*2)\n"
   ]
  },
  {
   "cell_type": "code",
   "execution_count": 5,
   "metadata": {},
   "outputs": [
    {
     "data": {
      "text/plain": [
       "'(1) PythonRDD[1] at RDD at PythonRDD.scala:49 []\\n |  ParallelCollectionRDD[0] at parallelize at PythonRDD.scala:184 []'"
      ]
     },
     "execution_count": 5,
     "metadata": {},
     "output_type": "execute_result"
    }
   ],
   "source": [
    "doubled.toDebugString()"
   ]
  },
  {
   "cell_type": "code",
   "execution_count": 8,
   "metadata": {},
   "outputs": [
    {
     "data": {
      "text/plain": [
       "ParallelCollectionRDD[0] at parallelize at PythonRDD.scala:184"
      ]
     },
     "execution_count": 8,
     "metadata": {},
     "output_type": "execute_result"
    }
   ],
   "source": [
    "rdd.persist()"
   ]
  },
  {
   "cell_type": "code",
   "execution_count": 5,
   "metadata": {},
   "outputs": [
    {
     "data": {
      "text/plain": [
       "True"
      ]
     },
     "execution_count": 5,
     "metadata": {},
     "output_type": "execute_result"
    }
   ],
   "source": [
    "rdd.is_cached"
   ]
  },
  {
   "cell_type": "code",
   "execution_count": 25,
   "metadata": {},
   "outputs": [],
   "source": [
    "file = open('testfile.txt','w') \n",
    " \n",
    "file.write('Hello World\\n') \n",
    "file.write('This is our new text file\\n') \n",
    "file.write('and this is another line.\\n') \n",
    "file.write('Smoke weed and do physics.\\n') \n",
    "file.write('Fine, better do boxing and physics, do not smoke!\\n') \n",
    "file.write('Why? Because we can.\\n') \n",
    " \n",
    "file.close() "
   ]
  },
  {
   "cell_type": "code",
   "execution_count": null,
   "metadata": {},
   "outputs": [],
   "source": []
  },
  {
   "cell_type": "code",
   "execution_count": 26,
   "metadata": {},
   "outputs": [
    {
     "data": {
      "text/plain": [
       "['Hello World\\n',\n",
       " 'This is our new text file\\n',\n",
       " 'and this is another line.\\n',\n",
       " 'Smoke weed and do physics.\\n',\n",
       " 'Fine, better do boxing and physics, do not smoke!\\n',\n",
       " 'Why? Because we can.\\n']"
      ]
     },
     "execution_count": 26,
     "metadata": {},
     "output_type": "execute_result"
    }
   ],
   "source": [
    "file = open('testfile.txt','r') \n",
    "text = file.readlines()\n",
    "text"
   ]
  },
  {
   "cell_type": "code",
   "execution_count": 28,
   "metadata": {},
   "outputs": [
    {
     "data": {
      "text/plain": [
       "[u'Hello World',\n",
       " u'This is our new text file',\n",
       " u'and this is another line.',\n",
       " u'Smoke weed and do physics.',\n",
       " u'Fine, better do boxing and physics, do not smoke!',\n",
       " u'Why? Because we can.']"
      ]
     },
     "execution_count": 28,
     "metadata": {},
     "output_type": "execute_result"
    }
   ],
   "source": [
    "text = sc.textFile('testfile.txt')\n",
    "text.collect()"
   ]
  },
  {
   "cell_type": "code",
   "execution_count": 30,
   "metadata": {},
   "outputs": [
    {
     "data": {
      "text/plain": [
       "[[u'Hello', u'World'],\n",
       " [u'This', u'is', u'our', u'new', u'text', u'file'],\n",
       " [u'and', u'this', u'is', u'another', u'line.'],\n",
       " [u'Smoke', u'weed', u'and', u'do', u'physics.'],\n",
       " [u'Fine,',\n",
       "  u'better',\n",
       "  u'do',\n",
       "  u'boxing',\n",
       "  u'and',\n",
       "  u'physics,',\n",
       "  u'do',\n",
       "  u'not',\n",
       "  u'smoke!'],\n",
       " [u'Why?', u'Because', u'we', u'can.']]"
      ]
     },
     "execution_count": 30,
     "metadata": {},
     "output_type": "execute_result"
    }
   ],
   "source": [
    "output = text.map(lambda x: x.split(\" \"))\n",
    "output.collect()"
   ]
  },
  {
   "cell_type": "code",
   "execution_count": 31,
   "metadata": {},
   "outputs": [
    {
     "data": {
      "text/plain": [
       "[u'Hello',\n",
       " u'World',\n",
       " u'This',\n",
       " u'is',\n",
       " u'our',\n",
       " u'new',\n",
       " u'text',\n",
       " u'file',\n",
       " u'and',\n",
       " u'this',\n",
       " u'is',\n",
       " u'another',\n",
       " u'line.',\n",
       " u'Smoke',\n",
       " u'weed',\n",
       " u'and',\n",
       " u'do',\n",
       " u'physics.',\n",
       " u'Fine,',\n",
       " u'better',\n",
       " u'do',\n",
       " u'boxing',\n",
       " u'and',\n",
       " u'physics,',\n",
       " u'do',\n",
       " u'not',\n",
       " u'smoke!',\n",
       " u'Why?',\n",
       " u'Because',\n",
       " u'we',\n",
       " u'can.']"
      ]
     },
     "execution_count": 31,
     "metadata": {},
     "output_type": "execute_result"
    }
   ],
   "source": [
    "output = text.flatMap(lambda x: x.split(\" \"))\n",
    "output.collect()"
   ]
  },
  {
   "cell_type": "code",
   "execution_count": null,
   "metadata": {},
   "outputs": [],
   "source": []
  }
 ],
 "metadata": {
  "kernelspec": {
   "display_name": "Python 2",
   "language": "python",
   "name": "python2"
  },
  "language_info": {
   "codemirror_mode": {
    "name": "ipython",
    "version": 2
   },
   "file_extension": ".py",
   "mimetype": "text/x-python",
   "name": "python",
   "nbconvert_exporter": "python",
   "pygments_lexer": "ipython2",
   "version": "2.7.15"
  }
 },
 "nbformat": 4,
 "nbformat_minor": 2
}
