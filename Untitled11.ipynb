{
 "cells": [
  {
   "cell_type": "code",
   "execution_count": 3,
   "metadata": {},
   "outputs": [
    {
     "name": "stderr",
     "output_type": "stream",
     "text": [
      "cling::DynamicLibraryManager::loadLibrary(): libdavix.so.0: cannot open shared object file: No such file or directory\n",
      "Error in <TInterpreter::TCling::AutoLoad>: failure loading library libRDAVIX.so for TDavixFile\n",
      "cling::DynamicLibraryManager::loadLibrary(): libdavix.so.0: cannot open shared object file: No such file or directory\n"
     ]
    }
   ],
   "source": [
    "auto f1 = TFile::Open(\"https://root.cern.ch/files/summer_student_tutorial_tracks.root\");\n"
   ]
  },
  {
   "cell_type": "code",
   "execution_count": null,
   "metadata": {
    "collapsed": true
   },
   "outputs": [],
   "source": []
  }
 ],
 "metadata": {
  "kernelspec": {
   "display_name": "ROOT C++",
   "language": "c++",
   "name": "root"
  },
  "language_info": {
   "codemirror_mode": "text/x-c++src",
   "file_extension": ".C",
   "mimetype": " text/x-c++src",
   "name": "c++"
  }
 },
 "nbformat": 4,
 "nbformat_minor": 2
}
