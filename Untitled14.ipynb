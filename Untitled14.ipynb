{
 "cells": [
  {
   "cell_type": "code",
   "execution_count": null,
   "metadata": {},
   "outputs": [],
   "source": [
    "class Animal\n",
    "{\n",
    "  public:\n",
    "    virtual int GetNumberOfLegs() = 0;\n",
    "};\n",
    "\n",
    "class Duck : public Animal\n",
    "{\n",
    "  public:\n",
    "     int GetNumberOfLegs() override { return 2; }\n",
    "};\n",
    "\n",
    "class Horse : public Animal\n",
    "{\n",
    "  public:\n",
    "     int GetNumberOfLegs() { return 4; }\n",
    "};"
   ]
  },
  {
   "cell_type": "code",
   "execution_count": 4,
   "metadata": {},
   "outputs": [],
   "source": [
    "void SomeFunction(Animal * pAnimal)\n",
    "{\n",
    "  cout << pAnimal->GetNumberOfLegs();\n",
    "}"
   ]
  },
  {
   "cell_type": "code",
   "execution_count": 5,
   "metadata": {},
   "outputs": [
    {
     "name": "stdout",
     "output_type": "stream",
     "text": [
      "2"
     ]
    }
   ],
   "source": [
    "Duck d;\n",
    "SomeFunction(&d);"
   ]
  },
  {
   "cell_type": "code",
   "execution_count": null,
   "metadata": {},
   "outputs": [],
   "source": []
  }
 ],
 "metadata": {
  "kernelspec": {
   "display_name": "ROOT C++",
   "language": "c++",
   "name": "root"
  },
  "language_info": {
   "codemirror_mode": "text/x-c++src",
   "file_extension": ".C",
   "mimetype": " text/x-c++src",
   "name": "c++"
  }
 },
 "nbformat": 4,
 "nbformat_minor": 2
}
