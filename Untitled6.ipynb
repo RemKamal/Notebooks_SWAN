{
 "cells": [
  {
   "cell_type": "code",
   "execution_count": 1,
   "metadata": {},
   "outputs": [
    {
     "name": "stdout",
     "output_type": "stream",
     "text": [
      "BulkGraviton_M1000_Hzz_minitree.root\n",
      "BulkGraviton_M1000_minitree.root\n",
      "BulkGraviton_M260_Hzz_hists_SR.root\n",
      "BulkGraviton_M260_Hzz_minitree.root\n",
      "BulkGraviton_M260_minitree.root\n",
      "BulkGraviton_M270_Hzz_hists_SR.root\n",
      "BulkGraviton_M270_Hzz_minitree.root\n",
      "BulkGraviton_M270_minitree.root\n",
      "BulkGraviton_M300_Hzz_hists_SR.root\n",
      "BulkGraviton_M300_Hzz_minitree.root\n",
      "BulkGraviton_M300_minitree.root\n",
      "BulkGraviton_M350_Hzz_hists_SR.root\n",
      "BulkGraviton_M350_Hzz_minitree.root\n",
      "BulkGraviton_M350_minitree.root\n",
      "BulkGraviton_M400_Hzz_hists_SR.root\n",
      "BulkGraviton_M400_Hzz_minitree.root\n",
      "BulkGraviton_M400_minitree.root\n",
      "BulkGraviton_M450_Hzz_hists_SR.root\n",
      "BulkGraviton_M450_Hzz_minitree.root\n",
      "BulkGraviton_M450_minitree.root\n",
      "BulkGraviton_M600_Hzz_minitree.root\n",
      "BulkGraviton_M600_minitree.root\n",
      "BulkGraviton_M650_Hzz_minitree.root\n",
      "BulkGraviton_M650_minitree.root\n",
      "BulkGraviton_M900_Hzz_minitree.root\n",
      "BulkGraviton_M900_minitree.root\n",
      "CMSSW_8_0_25\n",
      "combine_tutorial\n",
      "DY1JetsToLL_M50_minitree.root\n",
      "DY2JetsToLL_M50_minitree.root\n",
      "DY3JetsToLL_M50_minitree.root\n",
      "DY4JetsToLL_M50_minitree.root\n",
      "iml_keras_workshop\n",
      "matplotlib-venn-0.11.5\n",
      "matplotlib-venn-0.11.5.zip\n",
      "may26_11vars_reader.ipynb\n",
      "may26_fromScript_11vars.ipynb\n",
      "muon2016data_minitree.root\n",
      "mytree.root\n",
      "playground.ipynb\n",
      "Pool_example.ipynb\n",
      "SkimNtuples1\n",
      "smallTests.ipynb\n",
      "ST_s-channel_4f_minitree.root\n",
      "ST_t_antitop_inclusive_powheg_minitree.root\n",
      "ST_t_top_inclusive_powheg_minitree.root\n",
      "ST_tW_antitop_5f_inclusive_minitree.root\n",
      "ST_tW_antitop_5f_NFHDecay_minitree.root\n",
      "ST_tW_top_5f_inclusive_minitree.root\n",
      "ST_tW_top_5f_NFHDecay_minitree.root\n",
      "SWAN_projects\n",
      "test_copy_2.root\n",
      "test_copy_3.root\n",
      "test_copy.root\n",
      "test.root\n",
      "test.txt\n",
      "tmva-tutorial\n",
      "TT_Tune_hists_SR.root\n",
      "TT_Tune_minitree.root\n",
      "Untitled1.ipynb\n",
      "Untitled2.ipynb\n",
      "Untitled3.ipynb\n",
      "Untitled4.ipynb\n",
      "Untitled5.ipynb\n",
      "Untitled6.ipynb\n",
      "Untitled.ipynb\n",
      "ValTrkGSF_1_0_DYJetsToLL_M50\n",
      "WW_Tune_minitree.root\n",
      "WZ_Tune_minitree.root\n",
      "Xsecs_for_BulkGraviton.ipynb\n",
      "ZH_powheg_minitree.root\n",
      "ZZ_Tune_minitree.root\n",
      "/eos/user/r/rkamalie\n",
      "ZZ_Tune_minitree.roototipynbee.roottoottoot\n"
     ]
    }
   ],
   "source": [
    "!ls"
   ]
  },
  {
   "cell_type": "code",
   "execution_count": 3,
   "metadata": {},
   "outputs": [
    {
     "name": "stdout",
     "output_type": "stream",
     "text": [
      "root: can't figure out DISPLAY, set it manually\n",
      "In case you run a remote ssh session, restart your ssh session with:\n",
      "=========>  ssh -Y\n",
      "/eos/user/r/rkamalie\n",
      "=========>  ssh -Yremote ssh session, restart your ssh session with:\n"
     ]
    }
   ],
   "source": [
    "!root ZZ_Tune_minitree.root\n"
   ]
  },
  {
   "cell_type": "code",
   "execution_count": null,
   "metadata": {
    "collapsed": true
   },
   "outputs": [],
   "source": []
  }
 ],
 "metadata": {
  "kernelspec": {
   "display_name": "ROOT C++",
   "language": "c++",
   "name": "root"
  },
  "language_info": {
   "codemirror_mode": "text/x-c++src",
   "file_extension": ".C",
   "mimetype": " text/x-c++src",
   "name": "c++"
  }
 },
 "nbformat": 4,
 "nbformat_minor": 2
}
