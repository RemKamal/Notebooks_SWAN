{
 "cells": [
  {
   "cell_type": "code",
   "execution_count": 18,
   "metadata": {
    "collapsed": false
   },
   "outputs": [
    {
     "data": {
      "text/plain": [
       "OrderedDict([('data_obs', [-10, 4567555558.46, 'data_obs']),\n",
       "             ('signal_zz', [-1, 4.64, 'signal_zz']),\n",
       "             ('signal_ww', [0, 0.69, 'signal_ww']),\n",
       "             ('TT', [1, 4164.53, 'TT']),\n",
       "             ('DY', [2, 7600.88, 'DY']),\n",
       "             ('ST', [3, 382.01, 'ST']),\n",
       "             ('VV', [4, 212.51, 'VV']),\n",
       "             ('ZH', [5, 76.44, 'ZH'])])"
      ]
     },
     "execution_count": 18,
     "metadata": {},
     "output_type": "execute_result"
    }
   ],
   "source": [
    "from collections import OrderedDict\n",
    "dataSubstitution_forSR = 4567555558.45678\n",
    "ordDict = OrderedDict([('data_obs', [-10, 11454.0, \"data_obs\"]), ('signal_zz', [-1, 4.64, \"signal_zz\"]), ('signal_ww', [0, 0.69, \"signal_ww\"]), ('TT', [1, 4164.53, \"TT\"]), ('DY', [2, 7600.88, \"DY\"]), ('ST', [3, 382.01, \"ST\"]), ('VV', [4, 212.51, \"VV\"]), ('ZH', [5, 76.44, \"ZH\"])])\n",
    "value = ordDict.get('data_obs')\n",
    "ordDict.__setitem__('data_obs', [value[0], round(dataSubstitution_forSR, 2), value[2]])\n",
    "ordDict"
   ]
  },
  {
   "cell_type": "code",
   "execution_count": 22,
   "metadata": {
    "collapsed": false
   },
   "outputs": [
    {
     "data": {
      "text/plain": [
       "0.0278"
      ]
     },
     "execution_count": 22,
     "metadata": {},
     "output_type": "execute_result"
    }
   ],
   "source": [
    "0.0012 + 0.0266"
   ]
  },
  {
   "cell_type": "code",
   "execution_count": 19,
   "metadata": {
    "collapsed": false
   },
   "outputs": [
    {
     "name": "stdout",
     "output_type": "stream",
     "text": [
      "OrderedDict([(260, [3.3956, 10000.0, 500, 42.2115563139, 45.2153347136, 47.3259125293]), (270, [2.783, 15000.0, 750, 51.8942578138, 55.5870581817, 58.1817710724]), (300, [1.7849, 20000.0, 1000, 44.3770802596, 47.5349575511, 49.7538115641]), (350, [0.82315, 50000.0, 2500, 51.1639218103, 54.8047513981, 57.3629474886]), (400, [0.48266, 100000.0, 5000, 60.0006766712, 64.2703305833, 67.2703644168]), (450, [0.25302, 150000.0, 7500, 47.1803273879, 50.5376840141, 52.8967003835]), (600, [0.07351, 500000.0, 25000, 45.6910635033, 48.9424439686, 51.2269971438]), (650, [0.04503, 1000000.0, 50000, 55.9779238078, 59.9613182398, 62.7602144302]), (900, [0.0098, 4000000.0, 200000, 48.7305044029, 52.1981717744, 54.6346969946]), (1000, [0.0057, 5000000.0, 250000, 35.4290657011, 37.9502014176, 39.7216547027])])\n"
     ]
    }
   ],
   "source": [
    "from collections import OrderedDict\n",
    "import pprint\n",
    "pp = pprint.PrettyPrinter(indent=4)\n",
    "#2 * Htobb * [ HtoWW * ( Wtoe_nu + Wtom_nu)^2 + HtoZZ * 2* (Ztoee + Ztomm ) * ZtoInv ] \n",
    "# = 2* 0.5824 * {0.2154*(0.1086+0.1086+0.1086)^2 + 0.02643 *2* ( 0.03363+0.03366+0.03366 )*0.2} = 0.02787 = 2.787%\n",
    "#HH thru WW to 2b2l2nu = 2* 0.5824 * {0.2154*(0.1086+0.1086+0.1086)^2} = 0.0266 3 flavours\n",
    "#HH thru ZZ to 2b2l2nu =  2* 0.5824 * { 0.02643 *2* ( 0.03363+0.03366+0.03366 )*0.2} = 0.0012 3 flavours\n",
    "# HHtoZZ, HHtoWW, HHtoVV\n",
    "ordDict = OrderedDict([\n",
    "#mass     xsec      zFactor/ {w,tot}factor    xsec*zzBR         xsec*wwBR        xsec*totBR\n",
    "(260,      [3.3956,      10000.0, 500,      42.2115563139,      45.2153347136,      47.3259125293]),\n",
    "(270,      [2.783,      15000.0, 750,      51.8942578138,      55.5870581817,      58.1817710724]),\n",
    "(300,      [1.7849,      20000.0, 1000,      44.3770802596,      47.5349575511,      49.7538115641]),\n",
    "(350,      [0.82315,      50000.0, 2500,      51.1639218103,      54.8047513981,      57.3629474886]),\n",
    "(400,      [0.48266,      100000.0, 5000,      60.0006766712,      64.2703305833,      67.2703644168]),\n",
    "(450,      [0.25302,      150000.0, 7500,      47.1803273879,      50.5376840141,      52.8967003835]),\n",
    "(600,      [0.07351,      500000.0, 25000,      45.6910635033,      48.9424439686,      51.2269971438]),\n",
    "(650,      [0.04503,      1000000.0, 50000,      55.9779238078,      59.9613182398,      62.7602144302]),\n",
    "(900,      [0.0098,      4000000.0, 200000,      48.7305044029,      52.1981717744,      54.6346969946]),\n",
    "(1000,      [0.0057,      5000000.0, 250000,      35.4290657011,      37.9502014176,      39.7216547027])\n",
    "    ])\n",
    "pp.pprint(ordDict)\n"
   ]
  },
  {
   "cell_type": "code",
   "execution_count": 1,
   "metadata": {
    "collapsed": false
   },
   "outputs": [
    {
     "data": {
      "text/plain": [
       "0.0012"
      ]
     },
     "execution_count": 1,
     "metadata": {},
     "output_type": "execute_result"
    }
   ],
   "source": [
    "branchingRatios = [0.0012 , 0.0266, 0.02787]\n",
    "masses = [260, 270, 300, 350, 400, 450, 600, 650, 900, 1000]\n",
    "xsections = [3.3956, 2.783, 1.7849, 0.82315, 0.48266, 0.25302, 0.07351, 0.04503, 0.0098, 0.0057]\n",
    "zzFactor = [10000., 15000., 20000., 50000., 100000., 150000., 500000., 1000000., 4000000., 5000000.]\n",
    "wwFactor = totFactor = [500., 750., 1000., 2500., 5000., 7500., 25000.,50000., 200000., 250000.] \n",
    "BRzz = branchingRatios[0]\n",
    "BRzz"
   ]
  },
  {
   "cell_type": "code",
   "execution_count": 3,
   "metadata": {
    "collapsed": false
   },
   "outputs": [
    {
     "name": "stdout",
     "output_type": "stream",
     "text": [
      "For low HtoZZ factor is 5000/3.3956=1472.49381553\n",
      "For low HtoWW factor is 25000/3.3956=7362.46907763\n",
      "For HHtoZZ with mass=260 with factor 1000.0, has xsec= 3.3956, xsec*BR=0.00407472, xsec*BR*factor=4.07472, target xsec is xsec*factor=3395.6 \n",
      "For HHtoW with mass=260 with factor 5000.0, has xsec= 3.3956, xsec*BR=0.09032296, xsec*BR*factor=451.6148, target xsec is xsec*factor=16978.0 \n",
      "\n",
      "For low HtoZZ factor is 5000/2.783=1796.62234998\n",
      "For low HtoWW factor is 25000/2.783=8983.11174991\n",
      "For HHtoZZ with mass=270 with factor 1500.0, has xsec= 2.783, xsec*BR=0.0033396, xsec*BR*factor=5.0094, target xsec is xsec*factor=4174.5 \n",
      "For HHtoW with mass=270 with factor 7500.0, has xsec= 2.783, xsec*BR=0.0740278, xsec*BR*factor=555.2085, target xsec is xsec*factor=20872.5 \n",
      "\n",
      "For low HtoZZ factor is 5000/1.7849=2801.27738249\n",
      "For low HtoWW factor is 25000/1.7849=14006.3869124\n",
      "For HHtoZZ with mass=300 with factor 2000.0, has xsec= 1.7849, xsec*BR=0.00214188, xsec*BR*factor=4.28376, target xsec is xsec*factor=3569.8 \n",
      "For HHtoW with mass=300 with factor 10000.0, has xsec= 1.7849, xsec*BR=0.04747834, xsec*BR*factor=474.7834, target xsec is xsec*factor=17849.0 \n",
      "\n",
      "For low HtoZZ factor is 5000/0.82315=6074.22705461\n",
      "For low HtoWW factor is 25000/0.82315=30371.135273\n",
      "For HHtoZZ with mass=350 with factor 5000.0, has xsec= 0.82315, xsec*BR=0.00098778, xsec*BR*factor=4.9389, target xsec is xsec*factor=4115.75 \n",
      "For HHtoW with mass=350 with factor 25000.0, has xsec= 0.82315, xsec*BR=0.02189579, xsec*BR*factor=547.39475, target xsec is xsec*factor=20578.75 \n",
      "\n",
      "For low HtoZZ factor is 5000/0.48266=10359.2591058\n",
      "For low HtoWW factor is 25000/0.48266=51796.2955289\n",
      "For HHtoZZ with mass=400 with factor 10000.0, has xsec= 0.48266, xsec*BR=0.000579192, xsec*BR*factor=5.79192, target xsec is xsec*factor=4826.6 \n",
      "For HHtoW with mass=400 with factor 50000.0, has xsec= 0.48266, xsec*BR=0.012838756, xsec*BR*factor=641.9378, target xsec is xsec*factor=24133.0 \n",
      "\n",
      "For low HtoZZ factor is 5000/0.25302=19761.283693\n",
      "For low HtoWW factor is 25000/0.25302=98806.4184649\n",
      "For HHtoZZ with mass=450 with factor 15000.0, has xsec= 0.25302, xsec*BR=0.000303624, xsec*BR*factor=4.55436, target xsec is xsec*factor=3795.3 \n",
      "For HHtoW with mass=450 with factor 75000.0, has xsec= 0.25302, xsec*BR=0.006730332, xsec*BR*factor=504.7749, target xsec is xsec*factor=18976.5 \n",
      "\n",
      "For high HtoZZ factor is 400/0.07351=5441.43653925\n",
      "For high HtoWW factor is 2000/0.07351=27207.1826962\n",
      "For HHtoZZ with mass=600 with factor 5000.0, has xsec= 0.07351, xsec*BR=8.8212e-05, xsec*BR*factor=0.44106, target xsec is xsec*factor=367.55 \n",
      "For HHtoW with mass=600 with factor 25000.0, has xsec= 0.07351, xsec*BR=0.001955366, xsec*BR*factor=48.88415, target xsec is xsec*factor=1837.75\n",
      "\n",
      "For high HtoZZ factor is 400/0.04503=8882.96691095\n",
      "For high HtoWW factor is 2000/0.04503=44414.8345547\n",
      "For HHtoZZ with mass=650 with factor 10000.0, has xsec= 0.04503, xsec*BR=5.4036e-05, xsec*BR*factor=0.54036, target xsec is xsec*factor=450.3 \n",
      "For HHtoW with mass=650 with factor 50000.0, has xsec= 0.04503, xsec*BR=0.001197798, xsec*BR*factor=59.8899, target xsec is xsec*factor=2251.5\n",
      "\n",
      "For high HtoZZ factor is 400/0.0098=40816.3265306\n",
      "For high HtoWW factor is 2000/0.0098=204081.632653\n",
      "For HHtoZZ with mass=900 with factor 40000.0, has xsec= 0.0098, xsec*BR=1.176e-05, xsec*BR*factor=0.4704, target xsec is xsec*factor=392.0 \n",
      "For HHtoW with mass=900 with factor 200000.0, has xsec= 0.0098, xsec*BR=0.00026068, xsec*BR*factor=52.136, target xsec is xsec*factor=1960.0\n",
      "\n",
      "For high HtoZZ factor is 400/0.0057=70175.4385965\n",
      "For high HtoWW factor is 2000/0.0057=350877.192982\n",
      "For HHtoZZ with mass=1000 with factor 50000.0, has xsec= 0.0057, xsec*BR=6.84e-06, xsec*BR*factor=0.342, target xsec is xsec*factor=285.0 \n",
      "For HHtoW with mass=1000 with factor 250000.0, has xsec= 0.0057, xsec*BR=0.00015162, xsec*BR*factor=37.905, target xsec is xsec*factor=1425.0\n",
      "\n"
     ]
    }
   ],
   "source": [
    "i = 0\n",
    "zz = 0\n",
    "ww = 1\n",
    "for mass in masses:\n",
    "    if mass <=450:\n",
    "        print 'For low HtoZZ factor is 5000/{0}={1}'.format(xsections[i], 5000./xsections[i])\n",
    "        print 'For low HtoWW factor is 25000/{0}={1}'.format(xsections[i], 25000./xsections[i])\n",
    "\n",
    "        print 'For HHtoZZ with mass={0} with factor {1}, has xsec= {2}, xsec*BR={3}, xsec*BR*factor={4}, target xsec is xsec*factor={5} '.format(mass, zzFactor[i]/10, xsections[i], xsections[i]*branchingRatios[zz], xsections[i]*branchingRatios[zz]*zzFactor[i]/10, xsections[i]*zzFactor[i]/10)\n",
    "        print 'For HHtoW with mass={0} with factor {1}, has xsec= {2}, xsec*BR={3}, xsec*BR*factor={4}, target xsec is xsec*factor={5} '.format(mass, wwFactor[i]*10, xsections[i], xsections[i]*branchingRatios[ww], xsections[i]*branchingRatios[ww]*wwFactor[i]*10, xsections[i]*wwFactor[i]*10)\n",
    "        print\n",
    "    else:\n",
    "        print 'For high HtoZZ factor is 400/{0}={1}'.format(xsections[i], 400./xsections[i])\n",
    "        print 'For high HtoWW factor is 2000/{0}={1}'.format(xsections[i], 2000./xsections[i])\n",
    "\n",
    "        print 'For HHtoZZ with mass={0} with factor {1}, has xsec= {2}, xsec*BR={3}, xsec*BR*factor={4}, target xsec is xsec*factor={5} '.format(mass, zzFactor[i]/100, xsections[i], xsections[i]*branchingRatios[zz], xsections[i]*branchingRatios[zz]*zzFactor[i]/100, xsections[i]*zzFactor[i]/100)\n",
    "        print 'For HHtoW with mass={0} with factor {1}, has xsec= {2}, xsec*BR={3}, xsec*BR*factor={4}, target xsec is xsec*factor={5}'.format(mass, wwFactor[i], xsections[i], xsections[i]*branchingRatios[ww], xsections[i]*branchingRatios[ww]*wwFactor[i], xsections[i]*wwFactor[i])\n",
    "        print\n",
    "#print 'For HHtoZZ with mass={0} factor will be 5000pb / xsec(={1}) = {2} '.format(\n",
    "     #   mass,  \n",
    "      #  xsections[i], \n",
    "    # 5000./(BRzz*xsections[i])\n",
    "    #)\n",
    "    #print 5000./(BRzz*xsections[i])/\n",
    "    i += 1"
   ]
  },
  {
   "cell_type": "code",
   "execution_count": 6,
   "metadata": {
    "collapsed": false
   },
   "outputs": [
    {
     "name": "stdout",
     "output_type": "stream",
     "text": [
      "For low HtoZZ factor is 5000/3.3956=1472.49381553\n",
      "For low HtoWW factor is 25000/3.3956=7362.46907763\n",
      "\n",
      "For low HtoZZ factor is 5000/2.783=1796.62234998\n",
      "For low HtoWW factor is 25000/2.783=8983.11174991\n",
      "\n",
      "For low HtoZZ factor is 5000/1.7849=2801.27738249\n",
      "For low HtoWW factor is 25000/1.7849=14006.3869124\n",
      "\n",
      "For low HtoZZ factor is 5000/0.82315=6074.22705461\n",
      "For low HtoWW factor is 25000/0.82315=30371.135273\n",
      "\n",
      "For low HtoZZ factor is 5000/0.48266=10359.2591058\n",
      "For low HtoWW factor is 25000/0.48266=51796.2955289\n",
      "\n",
      "For low HtoZZ factor is 5000/0.25302=19761.283693\n",
      "For low HtoWW factor is 25000/0.25302=98806.4184649\n",
      "\n",
      "For high HtoZZ factor is 400/0.07351=5441.43653925\n",
      "For high HtoWW factor is 2000/0.07351=27207.1826962\n",
      "\n",
      "For high HtoZZ factor is 400/0.04503=8882.96691095\n",
      "For high HtoWW factor is 2000/0.04503=44414.8345547\n",
      "\n",
      "For high HtoZZ factor is 400/0.0098=40816.3265306\n",
      "For high HtoWW factor is 2000/0.0098=204081.632653\n",
      "\n",
      "For high HtoZZ factor is 400/0.0057=70175.4385965\n",
      "For high HtoWW factor is 2000/0.0057=350877.192982\n",
      "\n",
      "[1472.493815525975, 1796.622349982034, 2801.277382486414, 6074.2270546073005, 10359.259105788755, 19761.283692988694, 5441.436539246361, 8882.966910948257, 40816.32653061225, 70175.43859649122]\n",
      "[7362.469077629874, 8983.11174991017, 14006.38691243207, 30371.135273036503, 51796.295528943774, 98806.41846494348, 27207.182696231805, 44414.83455474128, 204081.63265306124, 350877.1929824561]\n"
     ]
    }
   ],
   "source": [
    "i = 0\n",
    "zz = 0\n",
    "ww = 1\n",
    "zzFactors = []\n",
    "wwFactors = []\n",
    "\n",
    "for mass in masses:\n",
    "    if mass <=450:\n",
    "        zzFactors.append(5000./xsections[i])\n",
    "        wwFactors.append(25000./xsections[i])\n",
    "\n",
    "        print 'For low HtoZZ factor is 5000/{0}={1}'.format(xsections[i], 5000./xsections[i])\n",
    "        print 'For low HtoWW factor is 25000/{0}={1}'.format(xsections[i], 25000./xsections[i])\n",
    "\n",
    "        print\n",
    "    else:\n",
    "        print 'For high HtoZZ factor is 400/{0}={1}'.format(xsections[i], 400./xsections[i])\n",
    "        print 'For high HtoWW factor is 2000/{0}={1}'.format(xsections[i], 2000./xsections[i])\n",
    "        zzFactors.append(400./xsections[i])\n",
    "        wwFactors.append(2000./xsections[i])\n",
    "        print\n",
    "#print 'For HHtoZZ with mass={0} factor will be 5000pb / xsec(={1}) = {2} '.format(\n",
    "     #   mass,  \n",
    "      #  xsections[i], \n",
    "    # 5000./(BRzz*xsections[i])\n",
    "    #)\n",
    "    #print 5000./(BRzz*xsections[i])/\n",
    "    i += 1\n",
    "print zzFactors\n",
    "print wwFactors"
   ]
  },
  {
   "cell_type": "code",
   "execution_count": null,
   "metadata": {
    "collapsed": false
   },
   "outputs": [],
   "source": []
  }
 ],
 "metadata": {
  "kernelspec": {
   "display_name": "Python 2",
   "language": "python",
   "name": "python2"
  },
  "language_info": {
   "codemirror_mode": {
    "name": "ipython",
    "version": 2
   },
   "file_extension": ".py",
   "mimetype": "text/x-python",
   "name": "python",
   "nbconvert_exporter": "python",
   "pygments_lexer": "ipython2",
   "version": "2.7.13"
  }
 },
 "nbformat": 4,
 "nbformat_minor": 1
}
