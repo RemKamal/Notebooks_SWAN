{
 "cells": [
  {
   "cell_type": "code",
   "execution_count": 1,
   "metadata": {},
   "outputs": [],
   "source": [
    "class NuisanceCollection(object):\n",
    "    def __init__(self):\n",
    "        self.ee_nuisances =  ['CMS_eff_e_triggerUp', 'CMS_eff_e_IDUp', 'CMS_res_jDown', 'CMS_res_jUp', 'CMS_eff_e_triggerDown', 'CMS_eff_e_trackerUp', 'CMS_\\\n",
    "btag_heavyDown', 'CMS_scale_jUp', 'CMS_scale_jDown', 'CMS_btag_heavyUp', 'CMS_btag_lightUp', 'CMS_eff_e_IDDown', 'CMS_btag_lightDown', 'CMS_eff_e_t\\\n",
    "rackerDown']\n",
    "        self.mm_nuisances =  ['CMS_eff_m_triggerUp', 'CMS_eff_m_IDUp', 'CMS_eff_m_ISOUp', 'CMS_res_jDown', 'CMS_res_jUp', 'CMS_eff_m_triggerDown', 'CMS_eff_\\\n",
    "m_trackerUp', 'CMS_btag_heavyDown', 'CMS_scale_jUp', 'CMS_scale_jDown', 'CMS_btag_heavyUp', 'CMS_btag_lightUp', 'CMS_eff_m_IDDown', 'CMS_eff_m_ISOD\\\n",
    "own', 'CMS_btag_lightDown', 'CMS_eff_m_trackerDown']\n",
    "        "
   ]
  },
  {
   "cell_type": "code",
   "execution_count": 3,
   "metadata": {},
   "outputs": [
    {
     "data": {
      "text/plain": [
       "['CMS_eff_e_triggerUp',\n",
       " 'CMS_eff_e_IDUp',\n",
       " 'CMS_res_jDown',\n",
       " 'CMS_res_jUp',\n",
       " 'CMS_eff_e_triggerDown',\n",
       " 'CMS_eff_e_trackerUp',\n",
       " 'CMS_btag_heavyDown',\n",
       " 'CMS_scale_jUp',\n",
       " 'CMS_scale_jDown',\n",
       " 'CMS_btag_heavyUp',\n",
       " 'CMS_btag_lightUp',\n",
       " 'CMS_eff_e_IDDown',\n",
       " 'CMS_btag_lightDown',\n",
       " 'CMS_eff_e_trackerDown']"
      ]
     },
     "execution_count": 3,
     "metadata": {},
     "output_type": "execute_result"
    }
   ],
   "source": [
    "nuis = NuisanceCollection()\n",
    "nuis.ee_nuisances"
   ]
  },
  {
   "cell_type": "code",
   "execution_count": 8,
   "metadata": {},
   "outputs": [
    {
     "data": {
      "text/plain": [
       "'red chestnut'"
      ]
     },
     "execution_count": 8,
     "metadata": {},
     "output_type": "execute_result"
    }
   ],
   "source": [
    "class Foo:\n",
    "    def __init__(self, **kwargs):\n",
    "        for key, value in kwargs.items():\n",
    "            setattr(self, key, value)\n",
    "    def __getitem__(self, key): \n",
    "        return self.__dict__[key]\n",
    "\n",
    "\n",
    "door = Foo(size='180x70', color='red chestnut', material='oak')\n",
    "#print(door.size) #180x70\n",
    "door['color']"
   ]
  },
  {
   "cell_type": "code",
   "execution_count": 9,
   "metadata": {},
   "outputs": [],
   "source": [
    "obj = Foo()\n",
    "mm_nuisances =  ['CMS_eff_m_triggerUp', 'CMS_eff_m_IDUp', 'CMS_eff_m_ISOUp', 'CMS_res_jDown', 'CMS_res_jUp', 'CMS_eff_m_triggerDown', 'CMS_eff_\\\n",
    "m_trackerUp', 'CMS_btag_heavyDown', 'CMS_scale_jUp', 'CMS_scale_jDown', 'CMS_btag_heavyUp', 'CMS_btag_lightUp', 'CMS_eff_m_IDDown', 'CMS_eff_m_ISOD\\\n",
    "own', 'CMS_btag_lightDown', 'CMS_eff_m_trackerDown']\n",
    "\n",
    "for idx, nuis in enumerate(mm_nuisances):\n",
    "    setattr(obj, nuis, idx)"
   ]
  },
  {
   "cell_type": "code",
   "execution_count": 10,
   "metadata": {},
   "outputs": [
    {
     "name": "stdout",
     "output_type": "stream",
     "text": [
      "{'CMS_eff_m_ISODown': 13, 'CMS_scale_jUp': 8, 'CMS_res_jDown': 3, 'CMS_scale_jDown': 9, 'CMS_eff_m_IDDown': 12, 'CMS_eff_m_triggerUp': 0, 'CMS_eff_m_IDUp': 1, 'CMS_btag_heavyDown': 7, 'CMS_eff_m_triggerDown': 5, 'CMS_eff_m_trackerUp': 6, 'CMS_res_jUp': 4, 'CMS_eff_m_trackerDown': 15, 'CMS_eff_m_ISOUp': 2, 'CMS_btag_lightUp': 11, 'CMS_btag_heavyUp': 10, 'CMS_btag_lightDown': 14}\n"
     ]
    }
   ],
   "source": [
    "print obj.__dict__"
   ]
  },
  {
   "cell_type": "code",
   "execution_count": 55,
   "metadata": {},
   "outputs": [
    {
     "name": "stdout",
     "output_type": "stream",
     "text": [
      "/afs/cern.ch/user/r/rkamalie/workspace/private/CMSSW_8_1_0/src/HiggsAnalysis/CombinedLimit/test/mytest/jan5/jan_work/tests/metWorkingOnBulkGrav_July10/June22_eles_300\n"
     ]
    }
   ],
   "source": [
    "#ee 300 gev\n",
    "print '/afs/cern.ch/user/r/rkamalie/workspace/private/CMSSW_8_1_0/src/HiggsAnalysis/CombinedLimit/test/mytest/jan5/jan_work/tests/metWorkingOnBulkGrav_July10/June22_eles_300'\n",
    "ee_nuis_DY = {'CMS_btag_heavy': 4.3,\n",
    " 'CMS_btag_light': 7.4,\n",
    " 'CMS_eff_e_ID': 5.4,\n",
    " 'CMS_eff_e_tracker': 1.1,\n",
    " 'CMS_eff_e_trigger': 2.1,\n",
    " 'CMS_res_j': 0.2,\n",
    " 'CMS_scale_j': 5.3}\n",
    "\n",
    "ee_nuis_TT = {'CMS_btag_heavy': 0.5,\n",
    " 'CMS_btag_light': 7.4,\n",
    " 'CMS_eff_e_ID': 4.7,\n",
    " 'CMS_eff_e_tracker': 1.1,\n",
    " 'CMS_eff_e_trigger': 1.9,\n",
    " 'CMS_res_j': 0.0,\n",
    " 'CMS_scale_j': 0.5}\n",
    "\n",
    "ee_nuis_signal_hzz = {'CMS_btag_heavy': 0.2,\n",
    " 'CMS_btag_light': 7.6,\n",
    " 'CMS_eff_e_ID': 5.0,\n",
    " 'CMS_eff_e_tracker': 1.1,\n",
    " 'CMS_eff_e_trigger': 2.0,\n",
    " 'CMS_res_j': 0.7,\n",
    " 'CMS_scale_j': 5.8}\n",
    "\n",
    "ee_nuis_signal_hww = {'CMS_btag_heavy': 0.0,\n",
    " 'CMS_btag_light': 7.6,\n",
    " 'CMS_eff_e_ID': 6.7,\n",
    " 'CMS_eff_e_tracker': 1.1,\n",
    " 'CMS_eff_e_trigger': 2.9,\n",
    " 'CMS_res_j': 0.0,\n",
    " 'CMS_scale_j': 1.6}\n",
    "\n",
    "ee_list_of_dicts = [ee_nuis_DY, ee_nuis_TT, ee_nuis_signal_hzz, ee_nuis_signal_hww]\n",
    "names_list_of_dicts = [\"DY\", \"TT\", \"signal_bbzz\", \"signal_bbww\"]"
   ]
  },
  {
   "cell_type": "code",
   "execution_count": 60,
   "metadata": {},
   "outputs": [
    {
     "data": {
      "text/html": [
       "<div>\n",
       "<style scoped>\n",
       "    .dataframe tbody tr th:only-of-type {\n",
       "        vertical-align: middle;\n",
       "    }\n",
       "\n",
       "    .dataframe tbody tr th {\n",
       "        vertical-align: top;\n",
       "    }\n",
       "\n",
       "    .dataframe thead th {\n",
       "        text-align: right;\n",
       "    }\n",
       "</style>\n",
       "<table border=\"1\" class=\"dataframe\">\n",
       "  <thead>\n",
       "    <tr style=\"text-align: right;\">\n",
       "      <th></th>\n",
       "      <th>b-tagging</th>\n",
       "      <th>mistag</th>\n",
       "      <th>electron IDnISO</th>\n",
       "      <th>electron tracker</th>\n",
       "      <th>electron trigger</th>\n",
       "      <th>jet resolution</th>\n",
       "      <th>jet scale</th>\n",
       "    </tr>\n",
       "  </thead>\n",
       "  <tbody>\n",
       "    <tr>\n",
       "      <th>DY</th>\n",
       "      <td>4.3</td>\n",
       "      <td>7.4</td>\n",
       "      <td>5.4</td>\n",
       "      <td>1.1</td>\n",
       "      <td>2.1</td>\n",
       "      <td>0.2</td>\n",
       "      <td>5.3</td>\n",
       "    </tr>\n",
       "    <tr>\n",
       "      <th>TT</th>\n",
       "      <td>0.5</td>\n",
       "      <td>7.4</td>\n",
       "      <td>4.7</td>\n",
       "      <td>1.1</td>\n",
       "      <td>1.9</td>\n",
       "      <td>0.0</td>\n",
       "      <td>0.5</td>\n",
       "    </tr>\n",
       "    <tr>\n",
       "      <th>signal_bbzz</th>\n",
       "      <td>0.2</td>\n",
       "      <td>7.6</td>\n",
       "      <td>5.0</td>\n",
       "      <td>1.1</td>\n",
       "      <td>2.0</td>\n",
       "      <td>0.7</td>\n",
       "      <td>5.8</td>\n",
       "    </tr>\n",
       "    <tr>\n",
       "      <th>signal_bbww</th>\n",
       "      <td>0.0</td>\n",
       "      <td>7.6</td>\n",
       "      <td>6.7</td>\n",
       "      <td>1.1</td>\n",
       "      <td>2.9</td>\n",
       "      <td>0.0</td>\n",
       "      <td>1.6</td>\n",
       "    </tr>\n",
       "  </tbody>\n",
       "</table>\n",
       "</div>"
      ],
      "text/plain": [
       "             b-tagging  mistag  electron IDnISO  electron tracker  \\\n",
       "DY                 4.3     7.4              5.4               1.1   \n",
       "TT                 0.5     7.4              4.7               1.1   \n",
       "signal_bbzz        0.2     7.6              5.0               1.1   \n",
       "signal_bbww        0.0     7.6              6.7               1.1   \n",
       "\n",
       "             electron trigger  jet resolution  jet scale  \n",
       "DY                        2.1             0.2        5.3  \n",
       "TT                        1.9             0.0        0.5  \n",
       "signal_bbzz               2.0             0.7        5.8  \n",
       "signal_bbww               2.9             0.0        1.6  "
      ]
     },
     "execution_count": 60,
     "metadata": {},
     "output_type": "execute_result"
    }
   ],
   "source": [
    "import pandas as pd\n",
    "ee_df = pd.DataFrame(ee_list_of_dicts, index=names_list_of_dicts) #index attribute is VERY important to keep naming!\n",
    "ee_df.rename(columns={'CMS_btag_heavy': 'b-tagging', 'CMS_btag_light':'mistag', \n",
    "                   'CMS_eff_e_ID':'electron IDnISO',\n",
    "                   'CMS_eff_e_tracker':'electron tracker',\n",
    "                   'CMS_eff_e_trigger':'electron trigger',\n",
    "                   'CMS_res_j':'jet resolution', 'CMS_scale_j':'jet scale'}, inplace=True)  \n",
    "\n",
    "ee_df"
   ]
  },
  {
   "cell_type": "code",
   "execution_count": 67,
   "metadata": {},
   "outputs": [
    {
     "data": {
      "text/html": [
       "\\begin{tabular}{rrrrrrr}\n",
       "\\toprule\n",
       " b-tagging &  mistag &  electron IDnISO &  electron tracker &  electron trigger &  jet resolution &  jet scale \\\\\n",
       "\\midrule\n",
       "       4.3 &     7.4 &              5.4 &               1.1 &               2.1 &             0.2 &        5.3 \\\\\n",
       "       0.5 &     7.4 &              4.7 &               1.1 &               1.9 &             0.0 &        0.5 \\\\\n",
       "       0.2 &     7.6 &              5.0 &               1.1 &               2.0 &             0.7 &        5.8 \\\\\n",
       "       0.0 &     7.6 &              6.7 &               1.1 &               2.9 &             0.0 &        1.6 \\\\\n",
       "\\bottomrule\n",
       "\\end{tabular}\n"
      ],
      "text/plain": [
       "<IPython.core.display.HTML object>"
      ]
     },
     "metadata": {},
     "output_type": "display_data"
    }
   ],
   "source": [
    "from IPython.display import display, HTML\n",
    "display(HTML(ee_df.round(2).to_latex(index=False)))"
   ]
  },
  {
   "cell_type": "code",
   "execution_count": null,
   "metadata": {},
   "outputs": [],
   "source": []
  },
  {
   "cell_type": "code",
   "execution_count": null,
   "metadata": {},
   "outputs": [],
   "source": []
  },
  {
   "cell_type": "code",
   "execution_count": 61,
   "metadata": {},
   "outputs": [
    {
     "name": "stdout",
     "output_type": "stream",
     "text": [
      "/afs/cern.ch/user/r/rkamalie/workspace/private/CMSSW_8_1_0/src/HiggsAnalysis/CombinedLimit/test/mytest/jan5/jan_work/tests/metWorkingOnBulkGrav_July10/June22_muons_300\n"
     ]
    }
   ],
   "source": [
    "#mm 300 gev\n",
    "print '/afs/cern.ch/user/r/rkamalie/workspace/private/CMSSW_8_1_0/src/HiggsAnalysis/CombinedLimit/test/mytest/jan5/jan_work/tests/metWorkingOnBulkGrav_July10/June22_muons_300'\n",
    "mm_nuis_DY = {'CMS_btag_heavy': 4.9,\n",
    " 'CMS_btag_light': 7.0,\n",
    " 'CMS_eff_m_ID': 0.2,\n",
    " 'CMS_eff_m_ISO': 0.1,\n",
    " 'CMS_eff_m_tracker': 0.1,\n",
    " 'CMS_eff_m_trigger': 0.4,\n",
    " 'CMS_res_j': 0.2,\n",
    " 'CMS_scale_j': 9.4}\n",
    "\n",
    "mm_nuis_TT = {'CMS_btag_heavy': 0.9,\n",
    " 'CMS_btag_light': 7.2,\n",
    " 'CMS_eff_m_ID': 0.2,\n",
    " 'CMS_eff_m_ISO': 0.1,\n",
    " 'CMS_eff_m_tracker': 0.0,\n",
    " 'CMS_eff_m_trigger': 0.4,\n",
    " 'CMS_res_j': 0.6,\n",
    " 'CMS_scale_j': 0.7}\n",
    "\n",
    "mm_nuis_signal_hzz = {'CMS_btag_heavy': 0.3,\n",
    " 'CMS_btag_light': 7.7,\n",
    " 'CMS_eff_m_ID': 0.2,\n",
    " 'CMS_eff_m_ISO': 0.1,\n",
    " 'CMS_eff_m_tracker': 0.0,\n",
    " 'CMS_eff_m_trigger': 0.4,\n",
    " 'CMS_res_j': 0.5,\n",
    " 'CMS_scale_j': 4.4}\n",
    "\n",
    "mm_nuis_signal_hww = {'CMS_btag_heavy': 0.0,\n",
    " 'CMS_btag_light': 9.2,\n",
    " 'CMS_eff_m_ID': 0.2,\n",
    " 'CMS_eff_m_ISO': 0.1,\n",
    " 'CMS_eff_m_tracker': 0.0,\n",
    " 'CMS_eff_m_trigger': 0.1,\n",
    " 'CMS_res_j': 0.0,\n",
    " 'CMS_scale_j': 8.5}\n",
    "mm_list_of_dicts = [mm_nuis_DY, mm_nuis_TT, mm_nuis_signal_hzz, mm_nuis_signal_hww]\n",
    "names_list_of_dicts = [\"DY\", \"TT\", \"signal_bbzz\", \"signal_bbww\"]\n"
   ]
  },
  {
   "cell_type": "code",
   "execution_count": 62,
   "metadata": {},
   "outputs": [
    {
     "data": {
      "text/html": [
       "<div>\n",
       "<style scoped>\n",
       "    .dataframe tbody tr th:only-of-type {\n",
       "        vertical-align: middle;\n",
       "    }\n",
       "\n",
       "    .dataframe tbody tr th {\n",
       "        vertical-align: top;\n",
       "    }\n",
       "\n",
       "    .dataframe thead th {\n",
       "        text-align: right;\n",
       "    }\n",
       "</style>\n",
       "<table border=\"1\" class=\"dataframe\">\n",
       "  <thead>\n",
       "    <tr style=\"text-align: right;\">\n",
       "      <th></th>\n",
       "      <th>b-tagging</th>\n",
       "      <th>mistag</th>\n",
       "      <th>muon ID</th>\n",
       "      <th>muon ISO</th>\n",
       "      <th>muon tracker</th>\n",
       "      <th>muon trigger</th>\n",
       "      <th>jet resolution</th>\n",
       "      <th>jet scale</th>\n",
       "    </tr>\n",
       "  </thead>\n",
       "  <tbody>\n",
       "    <tr>\n",
       "      <th>DY</th>\n",
       "      <td>4.9</td>\n",
       "      <td>7.0</td>\n",
       "      <td>0.2</td>\n",
       "      <td>0.1</td>\n",
       "      <td>0.1</td>\n",
       "      <td>0.4</td>\n",
       "      <td>0.2</td>\n",
       "      <td>9.4</td>\n",
       "    </tr>\n",
       "    <tr>\n",
       "      <th>TT</th>\n",
       "      <td>0.9</td>\n",
       "      <td>7.2</td>\n",
       "      <td>0.2</td>\n",
       "      <td>0.1</td>\n",
       "      <td>0.0</td>\n",
       "      <td>0.4</td>\n",
       "      <td>0.6</td>\n",
       "      <td>0.7</td>\n",
       "    </tr>\n",
       "    <tr>\n",
       "      <th>signal_bbzz</th>\n",
       "      <td>0.3</td>\n",
       "      <td>7.7</td>\n",
       "      <td>0.2</td>\n",
       "      <td>0.1</td>\n",
       "      <td>0.0</td>\n",
       "      <td>0.4</td>\n",
       "      <td>0.5</td>\n",
       "      <td>4.4</td>\n",
       "    </tr>\n",
       "    <tr>\n",
       "      <th>signal_bbww</th>\n",
       "      <td>0.0</td>\n",
       "      <td>9.2</td>\n",
       "      <td>0.2</td>\n",
       "      <td>0.1</td>\n",
       "      <td>0.0</td>\n",
       "      <td>0.1</td>\n",
       "      <td>0.0</td>\n",
       "      <td>8.5</td>\n",
       "    </tr>\n",
       "  </tbody>\n",
       "</table>\n",
       "</div>"
      ],
      "text/plain": [
       "             b-tagging  mistag  muon ID  muon ISO  muon tracker  muon trigger  \\\n",
       "DY                 4.9     7.0      0.2       0.1           0.1           0.4   \n",
       "TT                 0.9     7.2      0.2       0.1           0.0           0.4   \n",
       "signal_bbzz        0.3     7.7      0.2       0.1           0.0           0.4   \n",
       "signal_bbww        0.0     9.2      0.2       0.1           0.0           0.1   \n",
       "\n",
       "             jet resolution  jet scale  \n",
       "DY                      0.2        9.4  \n",
       "TT                      0.6        0.7  \n",
       "signal_bbzz             0.5        4.4  \n",
       "signal_bbww             0.0        8.5  "
      ]
     },
     "execution_count": 62,
     "metadata": {},
     "output_type": "execute_result"
    }
   ],
   "source": [
    "import pandas as pd\n",
    "mm_df = pd.DataFrame(mm_list_of_dicts, index=names_list_of_dicts) #index attribute is VERY important to keep naming!\n",
    "mm_df.rename(columns={'CMS_btag_heavy': 'b-tagging', 'CMS_btag_light':'mistag', \n",
    "                   'CMS_eff_m_ID':'muon ID', 'CMS_eff_m_ISO':'muon ISO',\n",
    "\n",
    "                   'CMS_eff_m_tracker':'muon tracker',\n",
    "                   'CMS_eff_m_trigger':'muon trigger',\n",
    "                   'CMS_res_j':'jet resolution', 'CMS_scale_j':'jet scale'}, inplace=True)  \n",
    "\n",
    "mm_df"
   ]
  },
  {
   "cell_type": "code",
   "execution_count": 72,
   "metadata": {},
   "outputs": [
    {
     "data": {
      "text/html": [
       "\\begin{tabular}{rrrrrrrr}\n",
       "\\toprule\n",
       " b-tagging &  mistag &  muon ID &  muon ISO &  muon tracker &  muon trigger &  jet resolution &  jet scale \\\\\n",
       "\\midrule\n",
       "       4.9 &     7.0 &      0.2 &       0.1 &           0.1 &           0.4 &             0.2 &        9.4 \\\\\n",
       "       0.9 &     7.2 &      0.2 &       0.1 &           0.0 &           0.4 &             0.6 &        0.7 \\\\\n",
       "       0.3 &     7.7 &      0.2 &       0.1 &           0.0 &           0.4 &             0.5 &        4.4 \\\\\n",
       "       0.0 &     9.2 &      0.2 &       0.1 &           0.0 &           0.1 &             0.0 &        8.5 \\\\\n",
       "\\bottomrule\n",
       "\\end{tabular}\n"
      ],
      "text/plain": [
       "<IPython.core.display.HTML object>"
      ]
     },
     "metadata": {},
     "output_type": "display_data"
    }
   ],
   "source": [
    "from IPython.display import display, HTML\n",
    "display(HTML(mm_df.round(2).to_latex(index=False))) #encoding='utf-8', escape=False"
   ]
  },
  {
   "cell_type": "code",
   "execution_count": null,
   "metadata": {},
   "outputs": [],
   "source": []
  }
 ],
 "metadata": {
  "kernelspec": {
   "display_name": "Python 2",
   "language": "python",
   "name": "python2"
  },
  "language_info": {
   "codemirror_mode": {
    "name": "ipython",
    "version": 2
   },
   "file_extension": ".py",
   "mimetype": "text/x-python",
   "name": "python",
   "nbconvert_exporter": "python",
   "pygments_lexer": "ipython2",
   "version": "2.7.13"
  }
 },
 "nbformat": 4,
 "nbformat_minor": 2
}
