{
 "cells": [
  {
   "cell_type": "raw",
   "metadata": {},
   "source": [
    "ms = ' -k makeDataCards '\n",
    "ms[4:-1]"
   ]
  },
  {
   "cell_type": "code",
   "execution_count": 4,
   "metadata": {},
   "outputs": [
    {
     "name": "stdout",
     "output_type": "stream",
     "text": [
      "two\n",
      "2\n",
      "one\n",
      "1\n"
     ]
    }
   ],
   "source": [
    "histDict = {}\n",
    "histDict['one'] = 1\n",
    "histDict['two'] = 2\n",
    "for k, v in histDict.items():\n",
    "    print k\n",
    "    print v"
   ]
  },
  {
   "cell_type": "code",
   "execution_count": 5,
   "metadata": {},
   "outputs": [
    {
     "name": "stdout",
     "output_type": "stream",
     "text": [
      "in the ISSUE with /afs/cern.ch/work/r/rkamalie/private/feb22HH/CMSSW_8_0_25/src/VHbbAnalysis/Heppy/test/samplesMar21/GluGluToBulkGravitonToHHTo2B2VTo2L2Nu_M-260_narrow_13TeV-madgraph.root\n",
      "None\n",
      "problem with massIdx, exiting\n"
     ]
    },
    {
     "ename": "SystemExit",
     "evalue": "1",
     "output_type": "error",
     "traceback": [
      "An exception has occurred, use %tb to see the full traceback.\n",
      "\u001b[0;31mSystemExit\u001b[0m\u001b[0;31m:\u001b[0m 1\n"
     ]
    },
    {
     "ename": "TypeError",
     "evalue": "'level' is an invalid keyword argument for this function",
     "output_type": "error",
     "traceback": [
      "\u001b[0;31m\u001b[0m",
      "\u001b[0;31mTypeError\u001b[0mTraceback (most recent call last)",
      "\u001b[0;32m/cvmfs/sft.cern.ch/lcg/views/LCG_88/x86_64-slc6-gcc62-opt/lib/python2.7/site-packages/IPython/core/interactiveshell.pyc\u001b[0m in \u001b[0;36mrun_code\u001b[0;34m(self, code_obj, result)\u001b[0m\n\u001b[1;32m   2875\u001b[0m                 \u001b[0mresult\u001b[0m\u001b[0;34m.\u001b[0m\u001b[0merror_in_exec\u001b[0m \u001b[0;34m=\u001b[0m \u001b[0me\u001b[0m\u001b[0;34m\u001b[0m\u001b[0m\n\u001b[1;32m   2876\u001b[0m             \u001b[0mself\u001b[0m\u001b[0;34m.\u001b[0m\u001b[0mshowtraceback\u001b[0m\u001b[0;34m(\u001b[0m\u001b[0mexception_only\u001b[0m\u001b[0;34m=\u001b[0m\u001b[0mTrue\u001b[0m\u001b[0;34m)\u001b[0m\u001b[0;34m\u001b[0m\u001b[0m\n\u001b[0;32m-> 2877\u001b[0;31m             \u001b[0mwarn\u001b[0m\u001b[0;34m(\u001b[0m\u001b[0;34m\"To exit: use 'exit', 'quit', or Ctrl-D.\"\u001b[0m\u001b[0;34m,\u001b[0m \u001b[0mlevel\u001b[0m\u001b[0;34m=\u001b[0m\u001b[0;36m1\u001b[0m\u001b[0;34m)\u001b[0m\u001b[0;34m\u001b[0m\u001b[0m\n\u001b[0m\u001b[1;32m   2878\u001b[0m         \u001b[0;32mexcept\u001b[0m \u001b[0mself\u001b[0m\u001b[0;34m.\u001b[0m\u001b[0mcustom_exceptions\u001b[0m\u001b[0;34m:\u001b[0m\u001b[0;34m\u001b[0m\u001b[0m\n\u001b[1;32m   2879\u001b[0m             \u001b[0metype\u001b[0m\u001b[0;34m,\u001b[0m \u001b[0mvalue\u001b[0m\u001b[0;34m,\u001b[0m \u001b[0mtb\u001b[0m \u001b[0;34m=\u001b[0m \u001b[0msys\u001b[0m\u001b[0;34m.\u001b[0m\u001b[0mexc_info\u001b[0m\u001b[0;34m(\u001b[0m\u001b[0;34m)\u001b[0m\u001b[0;34m\u001b[0m\u001b[0m\n",
      "\u001b[0;31mTypeError\u001b[0m: 'level' is an invalid keyword argument for this function"
     ]
    }
   ],
   "source": [
    "import sys\n",
    "massIdx = None\n",
    "fileName = '/afs/cern.ch/work/r/rkamalie/private/feb22HH/CMSSW_8_0_25/src/VHbbAnalysis/Heppy/test/samplesMar21/GluGluToBulkGravitonToHHTo2B2VTo2L2Nu_M-260_narrow_13TeV-madgraph.root'\n",
    "if '260' in fileName:\n",
    "    print 'in the ISSUE with', fileName\n",
    "    #massIdx = 0\n",
    "else:\n",
    "    print 'cannt happen'\n",
    "    sys.exit(1)\n",
    "    \n",
    "print massIdx \n",
    "if massIdx is None or massIdx < 0 or massIdx > 9:\n",
    "    print 'problem with massIdx, exiting'\n",
    "    sys.exit(1)"
   ]
  },
  {
   "cell_type": "code",
   "execution_count": 14,
   "metadata": {},
   "outputs": [
    {
     "name": "stdout",
     "output_type": "stream",
     "text": [
      "histos['metpt'].Fill(entry.metpt, eqLumi)\n",
      "histos['dR_leps'].Fill(entry.dR_leps, eqLumi)\n",
      "histos['dR_bjets'].Fill(entry.dR_bjets, eqLumi)\n",
      "histos['btag0'].Fill(entry.btag0, eqLumi)\n",
      "histos['btag1'].Fill(entry.btag1, eqLumi)\n",
      "histos['hpt0'].Fill(entry.hpt0, eqLumi)\n",
      "histos['hpt1'].Fill(entry.hpt1, eqLumi)\n",
      "histos['nbjets'].Fill(entry.nbjets, eqLumi)\n",
      "histos['dEta_lb_min'].Fill(entry.dEta_lb_min, eqLumi)\n",
      "histos['hCSVmass'].Fill(entry.hCSVmass, eqLumi)\n",
      "histos['zMass'].Fill(entry.zMass, eqLumi)\n"
     ]
    }
   ],
   "source": [
    "myVars = [  'metpt', \n",
    "        'dR_leps', \n",
    "        'dR_bjets',\n",
    "        'btag0',\n",
    "        'btag1',\n",
    "        'hpt0',\n",
    "        'hpt1',\n",
    "        'nbjets',\n",
    "        'dEta_lb_min',\n",
    "        'hCSVmass',\n",
    "        'zMass'\n",
    "]\n",
    "for v in myVars:\n",
    "    print \"histos['\" + v + \"'].Fill(entry.\" + v + ', eqLumi)'"
   ]
  },
  {
   "cell_type": "code",
   "execution_count": 25,
   "metadata": {},
   "outputs": [
    {
     "name": "stdout",
     "output_type": "stream",
     "text": [
      "10\n",
      "8\n",
      "6\n",
      "4\n",
      "2\n",
      "0\n",
      "98\n",
      "96\n",
      "94\n",
      "92\n"
     ]
    }
   ],
   "source": [
    "for x in range(10, -10, -2):\n",
    "    print x%100\n",
    "    "
   ]
  },
  {
   "cell_type": "code",
   "execution_count": 31,
   "metadata": {},
   "outputs": [
    {
     "name": "stdout",
     "output_type": "stream",
     "text": [
      "-1\n",
      "-1\n",
      "-1\n",
      "-1\n",
      "-1\n",
      "-1\n",
      "-1\n",
      "-1\n",
      "-1\n",
      "-1\n",
      "-1\n",
      "-1\n",
      "-1\n",
      "-1\n",
      "-1\n",
      "-1\n",
      "-1\n",
      "-1\n",
      "-1\n",
      "-1\n",
      "-1\n",
      "-1\n",
      "-1\n",
      "-1\n",
      "-1\n",
      "-1\n",
      "-1\n",
      "-1\n",
      "-1\n",
      "-1\n",
      "-1\n",
      "-1\n",
      "-1\n",
      "-1\n",
      "-1\n",
      "-1\n",
      "-1\n",
      "-1\n",
      "-1\n",
      "-1\n",
      "-1\n",
      "-1\n",
      "-1\n",
      "-1\n",
      "-1\n",
      "0\n",
      "0\n",
      "0\n",
      "0\n",
      "0\n",
      "0\n",
      "0\n",
      "0\n",
      "0\n",
      "0\n",
      "0\n",
      "0\n",
      "0\n",
      "0\n",
      "0\n",
      "0\n",
      "0\n",
      "0\n",
      "0\n",
      "0\n",
      "0\n",
      "0\n",
      "0\n",
      "0\n",
      "0\n",
      "0\n",
      "0\n",
      "0\n",
      "0\n",
      "0\n",
      "0\n",
      "0\n",
      "0\n",
      "0\n",
      "0\n",
      "0\n",
      "0\n",
      "0\n",
      "0\n",
      "0\n",
      "0\n",
      "0\n",
      "0\n",
      "0\n",
      "0\n",
      "0\n"
     ]
    }
   ],
   "source": [
    "for i in reversed(range(90, -91, -2)):\n",
    "    print(i//100)"
   ]
  },
  {
   "cell_type": "code",
   "execution_count": 28,
   "metadata": {},
   "outputs": [
    {
     "data": {
      "text/plain": [
       "array([-0.1 , -0.02,  0.06,  0.14,  0.22,  0.3 ,  0.38,  0.46,  0.54,\n",
       "        0.62,  0.7 ,  0.78])"
      ]
     },
     "execution_count": 28,
     "metadata": {},
     "output_type": "execute_result"
    }
   ],
   "source": [
    "import numpy as np\n",
    "len(np.arange(-0.1, .92, 0.1))\n",
    "np.arange(-0.1, .8, 0.08)"
   ]
  },
  {
   "cell_type": "code",
   "execution_count": 5,
   "metadata": {},
   "outputs": [
    {
     "data": {
      "text/plain": [
       "(3, 2)"
      ]
     },
     "execution_count": 5,
     "metadata": {},
     "output_type": "execute_result"
    }
   ],
   "source": [
    "coin = 32\n",
    "coin.__divmod__(10)\n"
   ]
  },
  {
   "cell_type": "code",
   "execution_count": 14,
   "metadata": {},
   "outputs": [
    {
     "ename": "RuntimeError",
     "evalue": "maximum recursion depth exceeded while calling a Python object",
     "output_type": "error",
     "traceback": [
      "\u001b[0;31m\u001b[0m",
      "\u001b[0;31mRuntimeError\u001b[0mTraceback (most recent call last)",
      "\u001b[0;32m<ipython-input-14-cc8169b8116a>\u001b[0m in \u001b[0;36m<module>\u001b[0;34m()\u001b[0m\n\u001b[1;32m     12\u001b[0m \u001b[0;34m\u001b[0m\u001b[0m\n\u001b[1;32m     13\u001b[0m \u001b[0;34m\u001b[0m\u001b[0m\n\u001b[0;32m---> 14\u001b[0;31m \u001b[0mchange\u001b[0m\u001b[0;34m(\u001b[0m\u001b[0;36m11\u001b[0m\u001b[0;34m)\u001b[0m\u001b[0;34m\u001b[0m\u001b[0m\n\u001b[0m",
      "\u001b[0;32m<ipython-input-14-cc8169b8116a>\u001b[0m in \u001b[0;36mchange\u001b[0;34m(coin)\u001b[0m\n\u001b[1;32m      7\u001b[0m         \u001b[0;32mif\u001b[0m \u001b[0mmoneta\u001b[0m \u001b[0;34m>=\u001b[0m \u001b[0mmod\u001b[0m\u001b[0;34m:\u001b[0m\u001b[0;34m\u001b[0m\u001b[0m\n\u001b[1;32m      8\u001b[0m             \u001b[0mret\u001b[0m\u001b[0;34m[\u001b[0m\u001b[0mmoneta\u001b[0m\u001b[0;34m]\u001b[0m \u001b[0;34m=\u001b[0m \u001b[0mdiv\u001b[0m\u001b[0;34m\u001b[0m\u001b[0m\n\u001b[0;32m----> 9\u001b[0;31m         \u001b[0;32mreturn\u001b[0m \u001b[0mchange\u001b[0m\u001b[0;34m(\u001b[0m\u001b[0mcoin\u001b[0m \u001b[0;34m-\u001b[0m \u001b[0mdiv\u001b[0m\u001b[0;34m*\u001b[0m\u001b[0mmoneta\u001b[0m\u001b[0;34m)\u001b[0m\u001b[0;34m\u001b[0m\u001b[0m\n\u001b[0m\u001b[1;32m     10\u001b[0m \u001b[0;34m\u001b[0m\u001b[0m\n\u001b[1;32m     11\u001b[0m \u001b[0;34m\u001b[0m\u001b[0m\n",
      "... last 1 frames repeated, from the frame below ...\n",
      "\u001b[0;32m<ipython-input-14-cc8169b8116a>\u001b[0m in \u001b[0;36mchange\u001b[0;34m(coin)\u001b[0m\n\u001b[1;32m      7\u001b[0m         \u001b[0;32mif\u001b[0m \u001b[0mmoneta\u001b[0m \u001b[0;34m>=\u001b[0m \u001b[0mmod\u001b[0m\u001b[0;34m:\u001b[0m\u001b[0;34m\u001b[0m\u001b[0m\n\u001b[1;32m      8\u001b[0m             \u001b[0mret\u001b[0m\u001b[0;34m[\u001b[0m\u001b[0mmoneta\u001b[0m\u001b[0;34m]\u001b[0m \u001b[0;34m=\u001b[0m \u001b[0mdiv\u001b[0m\u001b[0;34m\u001b[0m\u001b[0m\n\u001b[0;32m----> 9\u001b[0;31m         \u001b[0;32mreturn\u001b[0m \u001b[0mchange\u001b[0m\u001b[0;34m(\u001b[0m\u001b[0mcoin\u001b[0m \u001b[0;34m-\u001b[0m \u001b[0mdiv\u001b[0m\u001b[0;34m*\u001b[0m\u001b[0mmoneta\u001b[0m\u001b[0;34m)\u001b[0m\u001b[0;34m\u001b[0m\u001b[0m\n\u001b[0m\u001b[1;32m     10\u001b[0m \u001b[0;34m\u001b[0m\u001b[0m\n\u001b[1;32m     11\u001b[0m \u001b[0;34m\u001b[0m\u001b[0m\n",
      "\u001b[0;31mRuntimeError\u001b[0m: maximum recursion depth exceeded while calling a Python object"
     ]
    }
   ],
   "source": [
    "avail = [1, 5, 10]\n",
    "def change(coin):\n",
    "    ret = {}\n",
    "  \n",
    "    for moneta in reversed(avail):\n",
    "        div, mod = coin.__divmod__(moneta)\n",
    "        if moneta >= mod:\n",
    "            ret[moneta] = div\n",
    "        return change(coin - div*moneta)\n",
    "    \n",
    "    \n",
    "    \n",
    "    \n",
    "change(11)"
   ]
  },
  {
   "cell_type": "code",
   "execution_count": 5,
   "metadata": {
    "collapsed": true
   },
   "outputs": [],
   "source": [
    "mstr = ' -- Asymptotic --\\\\\n",
    "Observed Limit: r < 0.1409\\\\\n",
    "Expected  2.5%: r < 0.0755\\\\\n",
    "Expected 16.0%: r < 0.1009\\\\\n",
    "Expected 50.0%: r < 0.1411\\\\\n",
    "Expected 84.0%: r < 0.1990\\\\\n",
    "Expected 97.5%: r < 0.2700\\\\'\n",
    "mstr\n",
    "import re"
   ]
  },
  {
   "cell_type": "code",
   "execution_count": 86,
   "metadata": {},
   "outputs": [
    {
     "data": {
      "text/plain": [
       "['0.1409', '0.0755', '0.1009', '0.1411', '0.1990', '0.2700']"
      ]
     },
     "execution_count": 86,
     "metadata": {},
     "output_type": "execute_result"
    }
   ],
   "source": [
    "re.findall(r\"r < (\\d*\\.\\d+|\\d+)\", mstr)\n",
    "['0.1409', '0.0755', '0.1009', '0.1411', '0.1990', '0.2700']"
   ]
  },
  {
   "cell_type": "code",
   "execution_count": 107,
   "metadata": {},
   "outputs": [
    {
     "data": {
      "text/plain": [
       "'260'"
      ]
     },
     "execution_count": 107,
     "metadata": {},
     "output_type": "execute_result"
    }
   ],
   "source": [
    "st = 'log_comb_M260_0.54.txt'\n",
    "st.split('_')[2][1:]"
   ]
  },
  {
   "cell_type": "code",
   "execution_count": 5,
   "metadata": {},
   "outputs": [
    {
     "name": "stdout",
     "output_type": "stream",
     "text": [
      "low_SR_-0.9/plots/makeDataCards/260/log* 260\n",
      "low_SR_-0.8/plots/makeDataCards/260/log* 400\n",
      "low_SR_-0.7/plots/makeDataCards/260/log* 650\n",
      "low_SR_-0.6/plots/makeDataCards/260/log* 900\n",
      "low_SR_-0.5/plots/makeDataCards/260/log* None\n",
      "low_SR_-0.4/plots/makeDataCards/260/log* None\n",
      "low_SR_-0.3/plots/makeDataCards/260/log* None\n",
      "low_SR_-0.2/plots/makeDataCards/260/log* None\n",
      "low_SR_-0.1/plots/makeDataCards/260/log* None\n",
      "low_SR_-2.22044604925e-16/plots/makeDataCards/260/log* None\n",
      "low_SR_0.1/plots/makeDataCards/260/log* None\n",
      "low_SR_0.2/plots/makeDataCards/260/log* None\n",
      "low_SR_0.3/plots/makeDataCards/260/log* None\n",
      "low_SR_0.4/plots/makeDataCards/260/log* None\n",
      "low_SR_0.5/plots/makeDataCards/260/log* None\n",
      "low_SR_0.6/plots/makeDataCards/260/log* None\n",
      "low_SR_0.7/plots/makeDataCards/260/log* None\n",
      "low_SR_0.8/plots/makeDataCards/260/log* None\n",
      "low_SR_0.9/plots/makeDataCards/260/log* None\n"
     ]
    }
   ],
   "source": [
    "import itertools\n",
    "logList = ['low_SR_-0.9/plots/makeDataCards/260/log*', 'low_SR_-0.8/plots/makeDataCards/260/log*', 'low_SR_-0.7/plots/makeDataCards/260/log*', 'low_SR_-0.6/plots/makeDataCards/260/log*', 'low_SR_-0.5/plots/makeDataCards/260/log*', 'low_SR_-0.4/plots/makeDataCards/260/log*', 'low_SR_-0.3/plots/makeDataCards/260/log*', 'low_SR_-0.2/plots/makeDataCards/260/log*', 'low_SR_-0.1/plots/makeDataCards/260/log*', 'low_SR_-2.22044604925e-16/plots/makeDataCards/260/log*', 'low_SR_0.1/plots/makeDataCards/260/log*', 'low_SR_0.2/plots/makeDataCards/260/log*', 'low_SR_0.3/plots/makeDataCards/260/log*', 'low_SR_0.4/plots/makeDataCards/260/log*', 'low_SR_0.5/plots/makeDataCards/260/log*', 'low_SR_0.6/plots/makeDataCards/260/log*', 'low_SR_0.7/plots/makeDataCards/260/log*', 'low_SR_0.8/plots/makeDataCards/260/log*', 'low_SR_0.9/plots/makeDataCards/260/log*']\n",
    "masses = [260, 400, 650, 900]#, 270, 300, 350, 400, 450, 600, 650, 900, 1000]                                                              \n",
    "\n",
    "\n",
    "for l, m in itertools.izip_longest(logList, masses):\n",
    "    print l, m\n",
    "    \n",
    "    "
   ]
  },
  {
   "cell_type": "code",
   "execution_count": 7,
   "metadata": {},
   "outputs": [
    {
     "data": {
      "text/plain": [
       "'-0.9'"
      ]
     },
     "execution_count": 7,
     "metadata": {},
     "output_type": "execute_result"
    }
   ],
   "source": [
    "ms = 'low_SR_-0.9'\n",
    "ms.split('_')[-1]"
   ]
  },
  {
   "cell_type": "code",
   "execution_count": null,
   "metadata": {
    "collapsed": true
   },
   "outputs": [],
   "source": [
    "import pprint\n",
    "pp = pprint.PrettyPrinter(indent=4)\n",
    "pp = pprint.PrettyPrinter(depth=6)\n",
    "pp.pprint(tup)"
   ]
  },
  {
   "cell_type": "code",
   "execution_count": 24,
   "metadata": {},
   "outputs": [
    {
     "data": {
      "text/plain": [
       "[[u'0.0936', u'0.1251', u'0.1743', u'0.2459', u'0.3336'],\n",
       " [u'0.0884', u'0.1178', u'0.1646', u'0.2308', u'0.3140'],\n",
       " [u'0.0868', u'0.1157', u'0.1616', u'0.2280', u'0.3093'],\n",
       " [u'0.0841', u'0.1126', u'0.1577', u'0.2212', u'0.3009'],\n",
       " [u'0.0813', u'0.1086', u'0.1519', u'0.2142', u'0.2925'],\n",
       " [u'0.0751', u'0.1018', u'0.1440', u'0.2055', u'0.2809'],\n",
       " [u'0.0747', u'0.1007', u'0.1421', u'0.2027', u'0.2789'],\n",
       " [u'0.0734', u'0.0992', u'0.1401', u'0.1999', u'0.2750'],\n",
       " [u'0.0622', u'0.0872', u'0.1274', u'0.1859', u'0.2591'],\n",
       " [u'0.0608', u'0.0852', u'0.1245', u'0.1816', u'0.2516'],\n",
       " [u'0.0603', u'0.0845', u'0.1235', u'0.1802', u'0.2497'],\n",
       " [u'0.0594', u'0.0832', u'0.1216', u'0.1773', u'0.2472'],\n",
       " [u'0.0747', u'0.1000', u'0.1401', u'0.1977', u'0.2682'],\n",
       " [u'0.0794', u'0.1063', u'0.1489', u'0.2113', u'0.2877'],\n",
       " [u'0.2385', u'0.3192', u'0.4473', u'0.6345', u'0.8640'],\n",
       " [u'0.4412', u'0.5938', u'0.8398', u'1.1980', u'1.6482'],\n",
       " [u'0.4697', u'0.6325', u'0.8906', u'1.2740', u'1.7614']]"
      ]
     },
     "execution_count": 24,
     "metadata": {},
     "output_type": "execute_result"
    }
   ],
   "source": [
    "\n",
    "itemlist =[([u'0.0936', u'0.1251', u'0.1743', u'0.2459', u'0.3336'], '260', '-0.9'),\n",
    " ([u'0.0884', u'0.1178', u'0.1646', u'0.2308', u'0.3140'], '260', '-0.8'),\n",
    " ([u'0.0868', u'0.1157', u'0.1616', u'0.2280', u'0.3093'], '260', '-0.7'),\n",
    " ([u'0.0841', u'0.1126', u'0.1577', u'0.2212', u'0.3009'], '260', '-0.6'),\n",
    " ([u'0.0813', u'0.1086', u'0.1519', u'0.2142', u'0.2925'], '260', '-0.5'),\n",
    " ([u'0.0751', u'0.1018', u'0.1440', u'0.2055', u'0.2809'], '260', '-0.4'),\n",
    " ([u'0.0747', u'0.1007', u'0.1421', u'0.2027', u'0.2789'], '260', '-0.3'),\n",
    " ([u'0.0734', u'0.0992', u'0.1401', u'0.1999', u'0.2750'], '260', '-0.2'),\n",
    " ([u'0.0622', u'0.0872', u'0.1274', u'0.1859', u'0.2591'], '260', '-0.1'),\n",
    " ([u'0.0608', u'0.0852', u'0.1245', u'0.1816', u'0.2516'], '260', '0.1'),\n",
    " ([u'0.0603', u'0.0845', u'0.1235', u'0.1802', u'0.2497'], '260', '0.2'),\n",
    " ([u'0.0594', u'0.0832', u'0.1216', u'0.1773', u'0.2472'], '260', '0.3'),\n",
    " ([u'0.0747', u'0.1000', u'0.1401', u'0.1977', u'0.2682'], '260', '0.4'),\n",
    " ([u'0.0794', u'0.1063', u'0.1489', u'0.2113', u'0.2877'], '260', '0.5'),\n",
    " ([u'0.2385', u'0.3192', u'0.4473', u'0.6345', u'0.8640'], '260', '0.6'),\n",
    " ([u'0.4412', u'0.5938', u'0.8398', u'1.1980', u'1.6482'], '260', '0.7'),\n",
    " ([u'0.4697', u'0.6325', u'0.8906', u'1.2740', u'1.7614'], '260', '0.8'),\n",
    " ([u'0.1039', u'0.1396', u'0.1963', u'0.2784', u'0.3817'], '400', '-0.9'),\n",
    " ([u'0.0945', u'0.1265', u'0.1772', u'0.2514', u'0.3447'], '400', '-0.8'),\n",
    " ([u'0.0886', u'0.1191', u'0.1675', u'0.2376', u'0.3257'], '400', '-0.7'),\n",
    " ([u'0.0843', u'0.1131', u'0.1587', u'0.2264', u'0.3094'], '400', '-0.6'),\n",
    " ([u'0.0809', u'0.1087', u'0.1528', u'0.2180', u'0.2980'], '400', '-0.5'),\n",
    " ([u'0.0791', u'0.1061', u'0.1489', u'0.2124', u'0.2904'], '400', '-0.4'),\n",
    " ([u'0.0773', u'0.1035', u'0.1450', u'0.2069', u'0.2846'], '400', '-0.3'),\n",
    " ([u'0.0752', u'0.1008', u'0.1421', u'0.2016', u'0.2763'], '400', '-0.2'),\n",
    " ([u'0.0737', u'0.0985', u'0.1392', u'0.1974', u'0.2706'], '400', '-0.1'),\n",
    " ([u'0.0706', u'0.0946', u'0.1333', u'0.1891', u'0.2592'], '400', '0.1'),\n",
    " ([u'0.0662', u'0.0893', u'0.1265', u'0.1804', u'0.2482'], '400', '0.2'),\n",
    " ([u'0.0651', u'0.0875', u'0.1235', u'0.1762', u'0.2424'], '400', '0.3'),\n",
    " ([u'0.0631', u'0.0847', u'0.1196', u'0.1716', u'0.2354'], '400', '0.4'),\n",
    " ([u'0.0615', u'0.0827', u'0.1167', u'0.1665', u'0.2290'], '400', '0.5'),\n",
    " ([u'0.0621', u'0.0833', u'0.1177', u'0.1679', u'0.2309'], '400', '0.6'),\n",
    " ([u'0.0605', u'0.0813', u'0.1147', u'0.1628', u'0.2231'], '400', '0.7'),\n",
    " ([u'0.0391', u'0.0539', u'0.0776', u'0.1138', u'0.1592'], '400', '0.8'),\n",
    " ([u'0.0159', u'0.0219', u'0.0308', u'0.0440', u'0.0599'], '650', '-0.9'),\n",
    " ([u'0.0163', u'0.0218', u'0.0298', u'0.0426', u'0.0587'], '650', '-0.8'),\n",
    " ([u'0.0154', u'0.0212', u'0.0298', u'0.0417', u'0.0573'], '650', '-0.7'),\n",
    " ([u'0.0158', u'0.0202', u'0.0288', u'0.0412', u'0.0561'], '650', '-0.6'),\n",
    " ([u'0.0152', u'0.0203', u'0.0278', u'0.0398', u'0.0549'], '650', '-0.5'),\n",
    " ([u'0.0144', u'0.0198', u'0.0278', u'0.0389', u'0.0543'], '650', '-0.4'),\n",
    " ([u'0.0147', u'0.0189', u'0.0269', u'0.0384', u'0.0523'], '650', '-0.3'),\n",
    " ([u'0.0133', u'0.0184', u'0.0259', u'0.0370', u'0.0504'], '650', '-0.2'),\n",
    " ([u'0.0136', u'0.0182', u'0.0249', u'0.0356', u'0.0491'], '650', '-0.1'),\n",
    " ([u'0.0123', u'0.0170', u'0.0239', u'0.0342', u'0.0466'], '650', '0.1'),\n",
    " ([u'0.0126', u'0.0168', u'0.0229', u'0.0328', u'0.0452'], '650', '0.2'),\n",
    " ([u'0.0118', u'0.0157', u'0.0229', u'0.0321', u'0.0442'], '650', '0.3'),\n",
    " ([u'0.0113', u'0.0157', u'0.0220', u'0.0311', u'0.0425'], '650', '0.4'),\n",
    " ([u'0.0108', u'0.0150', u'0.0210', u'0.0300', u'0.0409'], '650', '0.5'),\n",
    " ([u'0.0103', u'0.0143', u'0.0200', u'0.0286', u'0.0395'], '650', '0.6'),\n",
    " ([u'0.0098', u'0.0130', u'0.0190', u'0.0266', u'0.0369'], '650', '0.7'),\n",
    " ([u'0.0093', u'0.0123', u'0.0181', u'0.0253', u'0.0350'], '650', '0.8'),\n",
    " ([u'0.0080', u'0.0111', u'0.0151', u'0.0214', u'0.0303'], '650', '0.9'),\n",
    " ([u'0.0065', u'0.0090', u'0.0122', u'0.0173', u'0.0244'], '900', '-0.9'),\n",
    " ([u'0.0065', u'0.0083', u'0.0122', u'0.0173', u'0.0238'], '900', '-0.8'),\n",
    " ([u'0.0065', u'0.0083', u'0.0122', u'0.0173', u'0.0238'], '900', '-0.7'),\n",
    " ([u'0.0065', u'0.0083', u'0.0122', u'0.0173', u'0.0238'], '900', '-0.6'),\n",
    " ([u'0.0060', u'0.0083', u'0.0112', u'0.0166', u'0.0235'], '900', '-0.5'),\n",
    " ([u'0.0060', u'0.0083', u'0.0112', u'0.0166', u'0.0229'], '900', '-0.4'),\n",
    " ([u'0.0060', u'0.0076', u'0.0112', u'0.0159', u'0.0224'], '900', '-0.3'),\n",
    " ([u'0.0060', u'0.0076', u'0.0112', u'0.0152', u'0.0214'], '900', '-0.2'),\n",
    " ([u'0.0054', u'0.0076', u'0.0103', u'0.0152', u'0.0209'], '900', '-0.1'),\n",
    " ([u'0.0054', u'0.0069', u'0.0103', u'0.0145', u'0.0200'], '900', '0.1'),\n",
    " ([u'0.0049', u'0.0068', u'0.0093', u'0.0137', u'0.0196'], '900', '0.2'),\n",
    " ([u'0.0049', u'0.0068', u'0.0093', u'0.0137', u'0.0187'], '900', '0.3'),\n",
    " ([u'0.0049', u'0.0063', u'0.0093', u'0.0125', u'0.0179'], '900', '0.4'),\n",
    " ([u'0.0044', u'0.0059', u'0.0083', u'0.0123', u'0.0167'], '900', '0.5'),\n",
    " ([u'0.0039', u'0.0053', u'0.0083', u'0.0117', u'0.0164'], '900', '0.6'),\n",
    " ([u'0.0041', u'0.0053', u'0.0073', u'0.0106', u'0.0153'], '900', '0.7'),\n",
    " ([u'0.0038', u'0.0050', u'0.0068', u'0.0099', u'0.0143'], '900', '0.8'),\n",
    " ([u'0.0030', u'0.0039', u'0.0054', u'0.0085', u'0.0119'], '900', '0.9')]\n",
    "\n",
    "mass = 0\n",
    "lims260, lims400, lims650, lims900 = [], [], [], []\n",
    "for item in itemlist:\n",
    "    \n",
    "    lims, mass, _ = item\n",
    "    #print mass\n",
    "    mass = int(mass)\n",
    "    if mass == 260:\n",
    "        lims260.append (lims)\n",
    "    elif mass == 400:\n",
    "        lims400.append (item)\n",
    "    elif mass == 650:\n",
    "        lims650.append (item)\n",
    "    elif mass == 900:\n",
    "        lims900.append (item)\n",
    "    else:\n",
    "        print 'cant happen'\n",
    "        \n",
    "lims260"
   ]
  },
  {
   "cell_type": "code",
   "execution_count": 32,
   "metadata": {},
   "outputs": [
    {
     "name": "stdout",
     "output_type": "stream",
     "text": [
      "[workingmass260,onesigmaDown260,medians260,onesigmaUp260,bdtCuts260],\n",
      "[workingmass400,onesigmaDown400,medians400,onesigmaUp400,bdtCuts400],\n",
      "[workingmass650,onesigmaDown650,medians650,onesigmaUp650,bdtCuts650],\n",
      "[workingmass900,onesigmaDown900,medians900,onesigmaUp900,bdtCuts900],\n"
     ]
    }
   ],
   "source": [
    "m = 'workingmass'                                                          ''\n",
    "sido = 'onesigmaDown'                                                         \n",
    "me = 'medians'                                                              \n",
    "siup = 'onesigmaUp'                                                           \n",
    "bdt = 'bdtCuts'\n",
    "\n",
    "prefix = \"for m, sido, me, siup, bdtc in \"\n",
    "masses = ['260', '400', '650', '900']\n",
    "for mass in masses:\n",
    "    print \"[{},{},{},{},{}],\".format(m + mass, sido + mass, me + mass, siup + mass, bdt + mass)\n"
   ]
  },
  {
   "cell_type": "code",
   "execution_count": null,
   "metadata": {
    "collapsed": true
   },
   "outputs": [],
   "source": [
    "for m, sido, me, siup, bdt in [ [workingmass260,onesigmaDown260,medians260,onesigm\\\n",
    "aUp260,bdtCuts260], [workingmass400,onesigmaDown400,medians400,onesigmaUp400,bdtCu\\\n",
    "ts400], [workingmass650,onaesigmaDown650,medians650,onesigmaUp650,bdtCuts650], [wo\\\n",
    "rkingmass900,onesigmaDown900,medians900,onesigmaUp900,bdtCuts900] ]:\n",
    "    print m, sido, me, siup, bdt"
   ]
  },
  {
   "cell_type": "code",
   "execution_count": 10,
   "metadata": {},
   "outputs": [
    {
     "data": {
      "text/plain": [
       "array('d', [2600.0, 4000.0, 6500.0, 9000.0])"
      ]
     },
     "execution_count": 10,
     "metadata": {},
     "output_type": "execute_result"
    }
   ],
   "source": [
    "from array import array\n",
    "mass = array('d',[])\n",
    "masses = [260, 400, 650, 900]\n",
    "mass.extend(masses)\n",
    "\n",
    "mass = array('d',[x * 10 for x in mass])\n",
    "mass"
   ]
  },
  {
   "cell_type": "code",
   "execution_count": 7,
   "metadata": {},
   "outputs": [
    {
     "data": {
      "text/plain": [
       "[10000.0,\n",
       " 10000.0,\n",
       " 10000.0,\n",
       " 10000.0,\n",
       " 10000.0,\n",
       " 10000.0,\n",
       " 1000.0,\n",
       " 1000.0,\n",
       " 1000.0,\n",
       " 1000.0]"
      ]
     },
     "execution_count": 7,
     "metadata": {},
     "output_type": "execute_result"
    }
   ],
   "source": [
    "zzFactor = [10000.]*6 + [1000.]*4 \n",
    "len(zzFactor)\n",
    "zzFactor"
   ]
  },
  {
   "cell_type": "code",
   "execution_count": 13,
   "metadata": {},
   "outputs": [
    {
     "data": {
      "text/plain": [
       "False"
      ]
     },
     "execution_count": 13,
     "metadata": {},
     "output_type": "execute_result"
    }
   ],
   "source": [
    "selfname = 'tt'\n",
    "zz_signalMultFactor = 1\n",
    "ww_signalMultFactor = 2\n",
    "fact = zz_signalMultFactor if 'zz' in selfname else ww_signalMultFactor if\t'ww' in\tselfname else None\n",
    "fact == 1"
   ]
  },
  {
   "cell_type": "code",
   "execution_count": 14,
   "metadata": {},
   "outputs": [
    {
     "data": {
      "text/plain": [
       "'Michelex2'"
      ]
     },
     "execution_count": 14,
     "metadata": {},
     "output_type": "execute_result"
    }
   ],
   "source": [
    "fact = 2\n",
    "selfmcSignalGetTitle = 'Michele'\n",
    "'{0}x{1}'.format(selfmcSignalGetTitle, fact)"
   ]
  },
  {
   "cell_type": "code",
   "execution_count": 15,
   "metadata": {},
   "outputs": [
    {
     "data": {
      "text/plain": [
       "True"
      ]
     },
     "execution_count": 15,
     "metadata": {},
     "output_type": "execute_result"
    }
   ],
   "source": [
    "-0.9  > -1"
   ]
  },
  {
   "cell_type": "code",
   "execution_count": 3,
   "metadata": {
    "collapsed": true
   },
   "outputs": [],
   "source": [
    "lims = [u'21263.5285']\n",
    "if len (lims) > 4 : print lims[-4]"
   ]
  },
  {
   "cell_type": "code",
   "execution_count": 7,
   "metadata": {},
   "outputs": [
    {
     "data": {
      "text/plain": [
       "'260'"
      ]
     },
     "execution_count": 7,
     "metadata": {},
     "output_type": "execute_result"
    }
   ],
   "source": [
    "name = 'BulkGraviton_M260'   \n",
    "tmp = name[14:]\n",
    "tmp"
   ]
  },
  {
   "cell_type": "code",
   "execution_count": 20,
   "metadata": {},
   "outputs": [
    {
     "data": {
      "text/html": [
       "<div>\n",
       "<table border=\"1\" class=\"dataframe\">\n",
       "  <thead>\n",
       "    <tr style=\"text-align: right;\">\n",
       "      <th></th>\n",
       "      <th>Rank</th>\n",
       "    </tr>\n",
       "  </thead>\n",
       "  <tbody>\n",
       "    <tr>\n",
       "      <th>1</th>\n",
       "      <td>hToZZ_pt</td>\n",
       "    </tr>\n",
       "    <tr>\n",
       "      <th>2</th>\n",
       "      <td>hTobb_pt</td>\n",
       "    </tr>\n",
       "    <tr>\n",
       "      <th>3</th>\n",
       "      <td>dR_bjets</td>\n",
       "    </tr>\n",
       "    <tr>\n",
       "      <th>4</th>\n",
       "      <td>btag_lead</td>\n",
       "    </tr>\n",
       "    <tr>\n",
       "      <th>5</th>\n",
       "      <td>btag_sublead</td>\n",
       "    </tr>\n",
       "    <tr>\n",
       "      <th>6</th>\n",
       "      <td>dR_leps</td>\n",
       "    </tr>\n",
       "    <tr>\n",
       "      <th>7</th>\n",
       "      <td>nbjets</td>\n",
       "    </tr>\n",
       "    <tr>\n",
       "      <th>8</th>\n",
       "      <td>met</td>\n",
       "    </tr>\n",
       "    <tr>\n",
       "      <th>9</th>\n",
       "      <td>dEta_lb_min</td>\n",
       "    </tr>\n",
       "  </tbody>\n",
       "</table>\n",
       "</div>"
      ],
      "text/plain": [
       "                        Rank\n",
       "    1       hToZZ_pt        \n",
       "    2       hTobb_pt        \n",
       "    3           dR_bjets    \n",
       "    4       btag_lead       \n",
       "    5    btag_sublead       \n",
       "    6           dR_leps     \n",
       "    7           nbjets      \n",
       "    8             met       \n",
       "   9            dEta_lb_min "
      ]
     },
     "execution_count": 20,
     "metadata": {},
     "output_type": "execute_result"
    }
   ],
   "source": [
    "import pandas as pd\n",
    "import matplotlib.pyplot as plt\n",
    "df = pd.DataFrame(\n",
    "\n",
    "{\" Rank \": [\" Variable    \", \" Variable Importance\"], \"    1 \": [\" hToZZ_pt        \", \" 1.578e-01\"], \"    2 \": [\" hTobb_pt        \", \" 1.533e-01\"], \"    3 \": [\" dR_bjets    \", \" 1.483e-01\"], \"    4 \": [\" btag_lead       \", \" 1.003e-01\"], \"    5 \": [\" btag_sublead       \", \" 9.230e-02\"], \"    6 \": [\" dR_leps     \", \" 7.122e-02\"], \"    7 \": [\" nbjets      \", \" 5.295e-02\"], \"    8 \": [\" met       \", \" 5.097e-02\"],  \"   9 \": [\" dEta_lb_min \", \" 2.294e-02\"]}\n",
    ")\n",
    "md = df.T\n",
    "md.columns = [\"Rank\", \"Importance\"]\n",
    "md = md[[\"Rank\"]]\n",
    "md.iloc[:9]"
   ]
  },
  {
   "cell_type": "code",
   "execution_count": 6,
   "metadata": {},
   "outputs": [
    {
     "name": "stdout",
     "output_type": "stream",
     "text": [
      "tata\n",
      "tata\n",
      "tata\n"
     ]
    }
   ],
   "source": [
    "physRegion = 'SR'\n",
    "#physRegion = 'CRTT'\n",
    "output = 0.4 \n",
    "bdtCut = 0.24\n",
    "for i in range(3):\n",
    "    if physRegion == 'SR':\n",
    "        if not output > bdtCut:\n",
    "            continue\n",
    "        else:\n",
    "            print 'tata'"
   ]
  },
  {
   "cell_type": "code",
   "execution_count": 25,
   "metadata": {
    "collapsed": true
   },
   "outputs": [],
   "source": [
    "import pandas as pd\n",
    "data = [[260, '0.3', 'Zm15p15_Hm30p25', 1.0664], [270, '0.4', 'Zm15p15_Hm35p25', 1.3008], [300, '0.6', 'Zm15p15_Hm30p25', 1.9922], [350, '0.7', 'Zm10p10_Hm25p20', 2.1953], [400, '0.8', 'Zm10p10_Hm25p20', 1.0742], [450, '0.825', 'Zm10p10_Hm25p20', 0.5488], [600, '0.95', 'Zm15p15_Hm25p20', 0.1738], [650, '0.95', 'Zm15p15_Hm25p20', 0.1362], [900, '0.95', 'Zm15p15_Hm20p20', 0.0474], [1000, '0.95', 'Zm15p15_Hm25p20', 0.0356]]"
   ]
  },
  {
   "cell_type": "code",
   "execution_count": 26,
   "metadata": {},
   "outputs": [
    {
     "data": {
      "text/html": [
       "<div>\n",
       "<table border=\"1\" class=\"dataframe\">\n",
       "  <thead>\n",
       "    <tr style=\"text-align: right;\">\n",
       "      <th></th>\n",
       "      <th>Mass</th>\n",
       "      <th>bdtCut</th>\n",
       "      <th>Directory</th>\n",
       "      <th>r-value</th>\n",
       "    </tr>\n",
       "  </thead>\n",
       "  <tbody>\n",
       "    <tr>\n",
       "      <th>0</th>\n",
       "      <td>260</td>\n",
       "      <td>0.3</td>\n",
       "      <td>Zm15p15_Hm30p25</td>\n",
       "      <td>1.0664</td>\n",
       "    </tr>\n",
       "    <tr>\n",
       "      <th>1</th>\n",
       "      <td>270</td>\n",
       "      <td>0.4</td>\n",
       "      <td>Zm15p15_Hm35p25</td>\n",
       "      <td>1.3008</td>\n",
       "    </tr>\n",
       "    <tr>\n",
       "      <th>2</th>\n",
       "      <td>300</td>\n",
       "      <td>0.6</td>\n",
       "      <td>Zm15p15_Hm30p25</td>\n",
       "      <td>1.9922</td>\n",
       "    </tr>\n",
       "    <tr>\n",
       "      <th>3</th>\n",
       "      <td>350</td>\n",
       "      <td>0.7</td>\n",
       "      <td>Zm10p10_Hm25p20</td>\n",
       "      <td>2.1953</td>\n",
       "    </tr>\n",
       "    <tr>\n",
       "      <th>4</th>\n",
       "      <td>400</td>\n",
       "      <td>0.8</td>\n",
       "      <td>Zm10p10_Hm25p20</td>\n",
       "      <td>1.0742</td>\n",
       "    </tr>\n",
       "    <tr>\n",
       "      <th>5</th>\n",
       "      <td>450</td>\n",
       "      <td>0.825</td>\n",
       "      <td>Zm10p10_Hm25p20</td>\n",
       "      <td>0.5488</td>\n",
       "    </tr>\n",
       "    <tr>\n",
       "      <th>6</th>\n",
       "      <td>600</td>\n",
       "      <td>0.95</td>\n",
       "      <td>Zm15p15_Hm25p20</td>\n",
       "      <td>0.1738</td>\n",
       "    </tr>\n",
       "    <tr>\n",
       "      <th>7</th>\n",
       "      <td>650</td>\n",
       "      <td>0.95</td>\n",
       "      <td>Zm15p15_Hm25p20</td>\n",
       "      <td>0.1362</td>\n",
       "    </tr>\n",
       "    <tr>\n",
       "      <th>8</th>\n",
       "      <td>900</td>\n",
       "      <td>0.95</td>\n",
       "      <td>Zm15p15_Hm20p20</td>\n",
       "      <td>0.0474</td>\n",
       "    </tr>\n",
       "    <tr>\n",
       "      <th>9</th>\n",
       "      <td>1000</td>\n",
       "      <td>0.95</td>\n",
       "      <td>Zm15p15_Hm25p20</td>\n",
       "      <td>0.0356</td>\n",
       "    </tr>\n",
       "  </tbody>\n",
       "</table>\n",
       "</div>"
      ],
      "text/plain": [
       "   Mass bdtCut        Directory  r-value\n",
       "0   260    0.3  Zm15p15_Hm30p25   1.0664\n",
       "1   270    0.4  Zm15p15_Hm35p25   1.3008\n",
       "2   300    0.6  Zm15p15_Hm30p25   1.9922\n",
       "3   350    0.7  Zm10p10_Hm25p20   2.1953\n",
       "4   400    0.8  Zm10p10_Hm25p20   1.0742\n",
       "5   450  0.825  Zm10p10_Hm25p20   0.5488\n",
       "6   600   0.95  Zm15p15_Hm25p20   0.1738\n",
       "7   650   0.95  Zm15p15_Hm25p20   0.1362\n",
       "8   900   0.95  Zm15p15_Hm20p20   0.0474\n",
       "9  1000   0.95  Zm15p15_Hm25p20   0.0356"
      ]
     },
     "execution_count": 26,
     "metadata": {},
     "output_type": "execute_result"
    }
   ],
   "source": [
    "mdf = pd.DataFrame(data,columns=['Mass', 'bdtCut', 'Directory', 'r-value'])#.set_index('r-value') \n",
    "mdf"
   ]
  },
  {
   "cell_type": "code",
   "execution_count": 24,
   "metadata": {},
   "outputs": [
    {
     "data": {
      "text/plain": [
       "'Zm15p15_Hm30p2'"
      ]
     },
     "execution_count": 24,
     "metadata": {},
     "output_type": "execute_result"
    }
   ],
   "source": [
    "ms = '1pb_noBDTcut_inCRs_Zm15p15_Hm30p25'\n",
    "ms[19:-1]"
   ]
  },
  {
   "cell_type": "code",
   "execution_count": 4,
   "metadata": {},
   "outputs": [
    {
     "name": "stdout",
     "output_type": "stream",
     "text": [
      "data\n"
     ]
    }
   ],
   "source": [
    "samp = 'DoubleMuon/VHBB_HEPPY_V25b_DoubleMuon__Run2016D-03Feb2017-v1'\n",
    "if (\"EG\" and \"Muon\") in samp:# or \"Muon\" in samp:\n",
    "\tprint('data')\n",
    "else:\n",
    "    print('MC')"
   ]
  },
  {
   "cell_type": "code",
   "execution_count": 25,
   "metadata": {},
   "outputs": [
    {
     "name": "stdout",
     "output_type": "stream",
     "text": [
      "ggZH_HToBB_ZToLL_M125_13TeV_powheg_Py8__RunIISummer16MAv2-PUMoriond17_80r2as_2016_Tranche\n"
     ]
    },
    {
     "data": {
      "text/plain": [
       "'ggZH_HToBB_ZToLL_M125_13TeV_powheg_Py8__RunIISummer16MAv2-PUMoriond17_80r2as_2016_Tranche'"
      ]
     },
     "execution_count": 25,
     "metadata": {},
     "output_type": "execute_result"
    }
   ],
   "source": [
    "import re\n",
    "#lineL2 = '/store/user/arizzi/VHBBHeppyV25b/DoubleEG/VHBB_HEPPY_V25b_DoubleEG__Run2016B-03Feb2017_ver2-v2/170301_131914/:0000,0001,0002'\n",
    "lineL2 = '/store/user/arizzi/VHBBHeppyV25a/ggZH_HToBB_ZToLL_M125_13TeV_powheg_pythia8/VHB\\\n",
    "B_HEPPY_V25a_ggZH_HToBB_ZToLL_M125_13TeV_powheg_Py8__RunIISummer16MAv2-PUMorion\\\n",
    "d17_80r2as_2016_Tranche/170207_160116/:0000'\n",
    "lineL1 = lineL2\n",
    "nameRe = re.compile(r'(_V25[\\s]*[ab]*_([A-Za-z0-9_-]*)(Tranche)*)([A-Za-z0-9_-]*)(/[A-Za-z0-9_-]*)')\n",
    "matchObjL1 = nameRe.search(lineL1)\n",
    "nameRe2 = re.compile(r'(_V25[\\s]*[ab]*_([A-Za-z0-9_-]*)(Tranche)*)([A-Za-z0-9_-]*)(/[A-Za-z0-9_-]*)')\n",
    "matchObjL2 = nameRe2.search(lineL2)\n",
    "#print matchObjL2.groups()\n",
    "sampleName1 = matchObjL1.group(2)# + matchObjL1.group(2)  \n",
    "print sampleName1\n",
    "sampleName1.find('Tranche')\n",
    "sampleName1[:(sampleName1.find('Tranche')) + len('Tranche')]\n"
   ]
  },
  {
   "cell_type": "code",
   "execution_count": 1,
   "metadata": {
    "collapsed": true
   },
   "outputs": [],
   "source": []
  },
  {
   "cell_type": "code",
   "execution_count": 3,
   "metadata": {
    "collapsed": true
   },
   "outputs": [],
   "source": [
    "!echo 'hi' > test.txt"
   ]
  },
  {
   "cell_type": "code",
   "execution_count": 4,
   "metadata": {
    "collapsed": true
   },
   "outputs": [],
   "source": [
    "import io\n",
    "fil = 'BulkGraviton_M1000_Hzz_minitree.root'"
   ]
  },
  {
   "cell_type": "code",
   "execution_count": 12,
   "metadata": {},
   "outputs": [
    {
     "ename": "AttributeError",
     "evalue": "'_io.TextIOWrapper' object has no attribute 'Get'",
     "output_type": "error",
     "traceback": [
      "\u001b[0;31m\u001b[0m",
      "\u001b[0;31mAttributeError\u001b[0mTraceback (most recent call last)",
      "\u001b[0;32m<ipython-input-12-42defa12a434>\u001b[0m in \u001b[0;36m<module>\u001b[0;34m()\u001b[0m\n\u001b[1;32m      1\u001b[0m \u001b[0;32mwith\u001b[0m \u001b[0mio\u001b[0m\u001b[0;34m.\u001b[0m\u001b[0mopen\u001b[0m \u001b[0;34m(\u001b[0m\u001b[0mfil\u001b[0m\u001b[0;34m,\u001b[0m \u001b[0mmode\u001b[0m\u001b[0;34m=\u001b[0m\u001b[0;34m\"r\"\u001b[0m\u001b[0;34m)\u001b[0m \u001b[0;32mas\u001b[0m \u001b[0mf\u001b[0m\u001b[0;34m:\u001b[0m\u001b[0;34m\u001b[0m\u001b[0m\n\u001b[0;32m----> 2\u001b[0;31m     \u001b[0mf\u001b[0m\u001b[0;34m.\u001b[0m\u001b[0mGet\u001b[0m\u001b[0;34m(\u001b[0m\u001b[0;34m'tree'\u001b[0m\u001b[0;34m)\u001b[0m\u001b[0;34m\u001b[0m\u001b[0m\n\u001b[0m",
      "\u001b[0;31mAttributeError\u001b[0m: '_io.TextIOWrapper' object has no attribute 'Get'"
     ]
    }
   ],
   "source": [
    "with io.open (fil, mode=\"r\") as f:\n",
    "    f.Get('tree')"
   ]
  },
  {
   "cell_type": "code",
   "execution_count": 13,
   "metadata": {},
   "outputs": [
    {
     "name": "stdout",
     "output_type": "stream",
     "text": [
      "[0, 1, [3]]\n",
      "[0, 1, [3, 4]]\n",
      "[0, 1, 2]\n"
     ]
    }
   ],
   "source": [
    "x = [0, 1, [2]]\n",
    "x[2][0] = 3\n",
    "print x\n",
    "x[2].append(4)\n",
    "print x\n",
    "x[2] = 2\n",
    "print x"
   ]
  },
  {
   "cell_type": "code",
   "execution_count": 14,
   "metadata": {},
   "outputs": [
    {
     "name": "stdout",
     "output_type": "stream",
     "text": [
      "18.1415\n"
     ]
    }
   ],
   "source": [
    "import ConfigParser\n",
    "\n",
    "config = ConfigParser.RawConfigParser()\n",
    "\n",
    "# When adding sections or items, add them in the reverse order of\n",
    "# how you want them to be displayed in the actual file.\n",
    "# In addition, please note that using RawConfigParser's and the raw\n",
    "# mode of ConfigParser's respective set functions, you can assign\n",
    "# non-string values to keys internally, but will receive an error\n",
    "# when attempting to write to a file or when you get it in non-raw\n",
    "# mode. SafeConfigParser does not allow such assignments to take place.\n",
    "config.add_section('Section1')\n",
    "config.set('Section1', 'an_int', '15')\n",
    "config.set('Section1', 'a_bool', 'true')\n",
    "config.set('Section1', 'a_float', '3.1415')\n",
    "config.set('Section1', 'baz', 'fun')\n",
    "config.set('Section1', 'bar', 'Python')\n",
    "config.set('Section1', 'foo', '%(bar)s is %(baz)s!')\n",
    "\n",
    "a_float = config.getfloat('Section1', 'a_float')\n",
    "an_int = config.getint('Section1', 'an_int')\n",
    "print a_float + an_int"
   ]
  },
  {
   "cell_type": "code",
   "execution_count": 18,
   "metadata": {},
   "outputs": [
    {
     "ename": "TypeError",
     "evalue": "get() takes exactly 3 arguments (5 given)",
     "output_type": "error",
     "traceback": [
      "\u001b[0;31m\u001b[0m",
      "\u001b[0;31mTypeError\u001b[0mTraceback (most recent call last)",
      "\u001b[0;32m<ipython-input-18-01c2483006c0>\u001b[0m in \u001b[0;36m<module>\u001b[0;34m()\u001b[0m\n\u001b[1;32m      1\u001b[0m print config.get('Section1', 'foo', 0, {'bar': 'Documentation',\n\u001b[0;32m----> 2\u001b[0;31m                                         'baz': 'evil'})\n\u001b[0m",
      "\u001b[0;31mTypeError\u001b[0m: get() takes exactly 3 arguments (5 given)"
     ]
    }
   ],
   "source": [
    "print config.get('Section1', 'foo', 0, {'bar': 'Documentation',\n",
    "                                        'baz': 'evil'})"
   ]
  },
  {
   "cell_type": "code",
   "execution_count": 8,
   "metadata": {},
   "outputs": [
    {
     "data": {
      "text/plain": [
       "()"
      ]
     },
     "execution_count": 8,
     "metadata": {},
     "output_type": "execute_result"
    }
   ],
   "source": [
    "import numpy as np\n",
    "a = np.random.rand(1000, 1)\n",
    "b = np.random.rand(1000, 1)\n",
    "c = np.dot(a,b)\n",
    "c.shape"
   ]
  },
  {
   "cell_type": "code",
   "execution_count": 5,
   "metadata": {},
   "outputs": [
    {
     "data": {
      "text/plain": [
       "{1, 2, 3, 4}"
      ]
     },
     "execution_count": 5,
     "metadata": {},
     "output_type": "execute_result"
    }
   ],
   "source": [
    "sym_dif_set = set([1,2,3,4])\n",
    "sym_dif_set"
   ]
  },
  {
   "cell_type": "code",
   "execution_count": 1,
   "metadata": {
    "collapsed": true
   },
   "outputs": [],
   "source": [
    "dire = '/eos/user/r/rkamalie/CMSSW_8_0_25/src/bbZZ_new_samples'"
   ]
  },
  {
   "cell_type": "code",
   "execution_count": 10,
   "metadata": {},
   "outputs": [
    {
     "name": "stdout",
     "output_type": "stream",
     "text": [
      "/GluGluToBulkGravitonToHHTo2B2ZTo2L2Nu_M-700_narrow_13TeV-madgraph/VHBB_V25_GluGluToBulkGravitonToHHTo2B2ZTo2L2Nu_M-400_narrow_13TeV-madgraph__RunIISummer16MAv2-PUMoriond17_80r2as_2016_TrancheIV_v6-v1/170803_104210/0000/tree_\n"
     ]
    }
   ],
   "source": [
    "samp = '../../GluGluToBulkGravitonToHHTo2B2ZTo2L2Nu_M-700_narrow_13TeV-madgraph/VHBB_V25_GluGluToBulkGravitonToHHTo2B2ZTo2L2Nu_M-700_narrow_13TeV-madgraph__RunIISummer16MAv2-PUMoriond17_80r2as_2016_TrancheIV_v6-v1/170803_104210/0000/tree_'\n",
    "print samp[5:]\n"
   ]
  },
  {
   "cell_type": "code",
   "execution_count": 13,
   "metadata": {},
   "outputs": [
    {
     "name": "stdout",
     "output_type": "stream",
     "text": [
      "/eos/user/r/rkamalie/CMSSW_8_0_25/src/bbZZ_new_samples/GluGluToBulkGravitonToHHTo2B2ZTo2L2Nu_M-700_narrow_13TeV-madgraph/VHBB_V25_GluGluToBulkGravitonToHHTo2B2ZTo2L2Nu_M-700_narrow_13TeV-madgraph__RunIISummer16MAv2-PUMoriond17_80r2as_2016_TrancheIV_v6-v1/170803_104708/0000/tree_1.root\n",
      "/eos/user/r/rkamalie/CMSSW_8_0_25/src/bbZZ_new_samples/GluGluToBulkGravitonToHHTo2B2ZTo2L2Nu_M-700_narrow_13TeV-madgraph/VHBB_V25_GluGluToBulkGravitonToHHTo2B2ZTo2L2Nu_M-700_narrow_13TeV-madgraph__RunIISummer16MAv2-PUMoriond17_80r2as_2016_TrancheIV_v6-v1/170803_104708/0000/tree_2.root\n",
      "/eos/user/r/rkamalie/CMSSW_8_0_25/src/bbZZ_new_samples/GluGluToBulkGravitonToHHTo2B2ZTo2L2Nu_M-700_narrow_13TeV-madgraph/VHBB_V25_GluGluToBulkGravitonToHHTo2B2ZTo2L2Nu_M-700_narrow_13TeV-madgraph__RunIISummer16MAv2-PUMoriond17_80r2as_2016_TrancheIV_v6-v1/170803_104708/0000/tree_3.root\n",
      "/eos/user/r/rkamalie/CMSSW_8_0_25/src/bbZZ_new_samples/GluGluToBulkGravitonToHHTo2B2ZTo2L2Nu_M-700_narrow_13TeV-madgraph/VHBB_V25_GluGluToBulkGravitonToHHTo2B2ZTo2L2Nu_M-700_narrow_13TeV-madgraph__RunIISummer16MAv2-PUMoriond17_80r2as_2016_TrancheIV_v6-v1/170803_104708/0000/tree_4.root\n",
      "/eos/user/r/rkamalie/CMSSW_8_0_25/src/bbZZ_new_samples/GluGluToBulkGravitonToHHTo2B2ZTo2L2Nu_M-700_narrow_13TeV-madgraph/VHBB_V25_GluGluToBulkGravitonToHHTo2B2ZTo2L2Nu_M-700_narrow_13TeV-madgraph__RunIISummer16MAv2-PUMoriond17_80r2as_2016_TrancheIV_v6-v1/170803_104708/0000/tree_5.root\n",
      "/eos/user/r/rkamalie/CMSSW_8_0_25/src/bbZZ_new_samples/GluGluToBulkGravitonToHHTo2B2ZTo2L2Nu_M-700_narrow_13TeV-madgraph/VHBB_V25_GluGluToBulkGravitonToHHTo2B2ZTo2L2Nu_M-700_narrow_13TeV-madgraph__RunIISummer16MAv2-PUMoriond17_80r2as_2016_TrancheIV_v6-v1/170803_104708/0000/tree_6.root\n",
      "/eos/user/r/rkamalie/CMSSW_8_0_25/src/bbZZ_new_samples/GluGluToBulkGravitonToHHTo2B2ZTo2L2Nu_M-700_narrow_13TeV-madgraph/VHBB_V25_GluGluToBulkGravitonToHHTo2B2ZTo2L2Nu_M-700_narrow_13TeV-madgraph__RunIISummer16MAv2-PUMoriond17_80r2as_2016_TrancheIV_v6-v1/170803_104708/0000/tree_7.root\n",
      "/eos/user/r/rkamalie/CMSSW_8_0_25/src/bbZZ_new_samples/GluGluToBulkGravitonToHHTo2B2ZTo2L2Nu_M-700_narrow_13TeV-madgraph/VHBB_V25_GluGluToBulkGravitonToHHTo2B2ZTo2L2Nu_M-700_narrow_13TeV-madgraph__RunIISummer16MAv2-PUMoriond17_80r2as_2016_TrancheIV_v6-v1/170803_104708/0000/tree_8.root\n",
      "/eos/user/r/rkamalie/CMSSW_8_0_25/src/bbZZ_new_samples/GluGluToBulkGravitonToHHTo2B2ZTo2L2Nu_M-700_narrow_13TeV-madgraph/VHBB_V25_GluGluToBulkGravitonToHHTo2B2ZTo2L2Nu_M-700_narrow_13TeV-madgraph__RunIISummer16MAv2-PUMoriond17_80r2as_2016_TrancheIV_v6-v1/170803_104708/0000/tree_9.root\n",
      "/eos/user/r/rkamalie/CMSSW_8_0_25/src/bbZZ_new_samples/GluGluToBulkGravitonToHHTo2B2ZTo2L2Nu_M-700_narrow_13TeV-madgraph/VHBB_V25_GluGluToBulkGravitonToHHTo2B2ZTo2L2Nu_M-700_narrow_13TeV-madgraph__RunIISummer16MAv2-PUMoriond17_80r2as_2016_TrancheIV_v6-v1/170803_104708/0000/tree_10.root\n",
      "/eos/user/r/rkamalie/CMSSW_8_0_25/src/bbZZ_new_samples/GluGluToBulkGravitonToHHTo2B2ZTo2L2Nu_M-700_narrow_13TeV-madgraph/VHBB_V25_GluGluToBulkGravitonToHHTo2B2ZTo2L2Nu_M-700_narrow_13TeV-madgraph__RunIISummer16MAv2-PUMoriond17_80r2as_2016_TrancheIV_v6-v1/170803_104708/0000/tree_11.root\n",
      "/eos/user/r/rkamalie/CMSSW_8_0_25/src/bbZZ_new_samples/GluGluToBulkGravitonToHHTo2B2ZTo2L2Nu_M-700_narrow_13TeV-madgraph/VHBB_V25_GluGluToBulkGravitonToHHTo2B2ZTo2L2Nu_M-700_narrow_13TeV-madgraph__RunIISummer16MAv2-PUMoriond17_80r2as_2016_TrancheIV_v6-v1/170803_104708/0000/tree_12.root\n",
      "/eos/user/r/rkamalie/CMSSW_8_0_25/src/bbZZ_new_samples/GluGluToBulkGravitonToHHTo2B2ZTo2L2Nu_M-700_narrow_13TeV-madgraph/VHBB_V25_GluGluToBulkGravitonToHHTo2B2ZTo2L2Nu_M-700_narrow_13TeV-madgraph__RunIISummer16MAv2-PUMoriond17_80r2as_2016_TrancheIV_v6-v1/170803_104708/0000/tree_13.root\n",
      "/eos/user/r/rkamalie/CMSSW_8_0_25/src/bbZZ_new_samples/GluGluToBulkGravitonToHHTo2B2ZTo2L2Nu_M-700_narrow_13TeV-madgraph/VHBB_V25_GluGluToBulkGravitonToHHTo2B2ZTo2L2Nu_M-700_narrow_13TeV-madgraph__RunIISummer16MAv2-PUMoriond17_80r2as_2016_TrancheIV_v6-v1/170803_104708/0000/tree_14.root\n",
      "/eos/user/r/rkamalie/CMSSW_8_0_25/src/bbZZ_new_samples/GluGluToBulkGravitonToHHTo2B2ZTo2L2Nu_M-700_narrow_13TeV-madgraph/VHBB_V25_GluGluToBulkGravitonToHHTo2B2ZTo2L2Nu_M-700_narrow_13TeV-madgraph__RunIISummer16MAv2-PUMoriond17_80r2as_2016_TrancheIV_v6-v1/170803_104708/0000/tree_15.root\n",
      "/eos/user/r/rkamalie/CMSSW_8_0_25/src/bbZZ_new_samples/GluGluToBulkGravitonToHHTo2B2ZTo2L2Nu_M-700_narrow_13TeV-madgraph/VHBB_V25_GluGluToBulkGravitonToHHTo2B2ZTo2L2Nu_M-700_narrow_13TeV-madgraph__RunIISummer16MAv2-PUMoriond17_80r2as_2016_TrancheIV_v6-v1/170803_104708/0000/tree_16.root\n",
      "/eos/user/r/rkamalie/CMSSW_8_0_25/src/bbZZ_new_samples/GluGluToBulkGravitonToHHTo2B2ZTo2L2Nu_M-700_narrow_13TeV-madgraph/VHBB_V25_GluGluToBulkGravitonToHHTo2B2ZTo2L2Nu_M-700_narrow_13TeV-madgraph__RunIISummer16MAv2-PUMoriond17_80r2as_2016_TrancheIV_v6-v1/170803_104708/0000/tree_17.root\n",
      "/eos/user/r/rkamalie/CMSSW_8_0_25/src/bbZZ_new_samples/GluGluToBulkGravitonToHHTo2B2ZTo2L2Nu_M-700_narrow_13TeV-madgraph/VHBB_V25_GluGluToBulkGravitonToHHTo2B2ZTo2L2Nu_M-700_narrow_13TeV-madgraph__RunIISummer16MAv2-PUMoriond17_80r2as_2016_TrancheIV_v6-v1/170803_104708/0000/tree_18.root\n",
      "/eos/user/r/rkamalie/CMSSW_8_0_25/src/bbZZ_new_samples/GluGluToBulkGravitonToHHTo2B2ZTo2L2Nu_M-700_narrow_13TeV-madgraph/VHBB_V25_GluGluToBulkGravitonToHHTo2B2ZTo2L2Nu_M-700_narrow_13TeV-madgraph__RunIISummer16MAv2-PUMoriond17_80r2as_2016_TrancheIV_v6-v1/170803_104708/0000/tree_19.root\n",
      "/eos/user/r/rkamalie/CMSSW_8_0_25/src/bbZZ_new_samples/GluGluToBulkGravitonToHHTo2B2ZTo2L2Nu_M-700_narrow_13TeV-madgraph/VHBB_V25_GluGluToBulkGravitonToHHTo2B2ZTo2L2Nu_M-700_narrow_13TeV-madgraph__RunIISummer16MAv2-PUMoriond17_80r2as_2016_TrancheIV_v6-v1/170803_104708/0000/tree_20.root\n",
      "/eos/user/r/rkamalie/CMSSW_8_0_25/src/bbZZ_new_samples/GluGluToBulkGravitonToHHTo2B2ZTo2L2Nu_M-700_narrow_13TeV-madgraph/VHBB_V25_GluGluToBulkGravitonToHHTo2B2ZTo2L2Nu_M-700_narrow_13TeV-madgraph__RunIISummer16MAv2-PUMoriond17_80r2as_2016_TrancheIV_v6-v1/170803_104708/0000/tree_21.root\n",
      "/eos/user/r/rkamalie/CMSSW_8_0_25/src/bbZZ_new_samples/GluGluToBulkGravitonToHHTo2B2ZTo2L2Nu_M-700_narrow_13TeV-madgraph/VHBB_V25_GluGluToBulkGravitonToHHTo2B2ZTo2L2Nu_M-700_narrow_13TeV-madgraph__RunIISummer16MAv2-PUMoriond17_80r2as_2016_TrancheIV_v6-v1/170803_104708/0000/tree_22.root\n",
      "/eos/user/r/rkamalie/CMSSW_8_0_25/src/bbZZ_new_samples/GluGluToBulkGravitonToHHTo2B2ZTo2L2Nu_M-700_narrow_13TeV-madgraph/VHBB_V25_GluGluToBulkGravitonToHHTo2B2ZTo2L2Nu_M-700_narrow_13TeV-madgraph__RunIISummer16MAv2-PUMoriond17_80r2as_2016_TrancheIV_v6-v1/170803_104708/0000/tree_23.root\n",
      "/eos/user/r/rkamalie/CMSSW_8_0_25/src/bbZZ_new_samples/GluGluToBulkGravitonToHHTo2B2ZTo2L2Nu_M-700_narrow_13TeV-madgraph/VHBB_V25_GluGluToBulkGravitonToHHTo2B2ZTo2L2Nu_M-700_narrow_13TeV-madgraph__RunIISummer16MAv2-PUMoriond17_80r2as_2016_TrancheIV_v6-v1/170803_104708/0000/tree_24.root\n",
      "/eos/user/r/rkamalie/CMSSW_8_0_25/src/bbZZ_new_samples/GluGluToBulkGravitonToHHTo2B2ZTo2L2Nu_M-700_narrow_13TeV-madgraph/VHBB_V25_GluGluToBulkGravitonToHHTo2B2ZTo2L2Nu_M-700_narrow_13TeV-madgraph__RunIISummer16MAv2-PUMoriond17_80r2as_2016_TrancheIV_v6-v1/170803_104708/0000/tree_25.root\n",
      "/eos/user/r/rkamalie/CMSSW_8_0_25/src/bbZZ_new_samples/GluGluToBulkGravitonToHHTo2B2ZTo2L2Nu_M-700_narrow_13TeV-madgraph/VHBB_V25_GluGluToBulkGravitonToHHTo2B2ZTo2L2Nu_M-700_narrow_13TeV-madgraph__RunIISummer16MAv2-PUMoriond17_80r2as_2016_TrancheIV_v6-v1/170803_104708/0000/tree_26.root\n",
      "/eos/user/r/rkamalie/CMSSW_8_0_25/src/bbZZ_new_samples/GluGluToBulkGravitonToHHTo2B2ZTo2L2Nu_M-700_narrow_13TeV-madgraph/VHBB_V25_GluGluToBulkGravitonToHHTo2B2ZTo2L2Nu_M-700_narrow_13TeV-madgraph__RunIISummer16MAv2-PUMoriond17_80r2as_2016_TrancheIV_v6-v1/170803_104708/0000/tree_27.root\n"
     ]
    }
   ],
   "source": [
    "sam = '/GluGluToBulkGravitonToHHTo2B2ZTo2L2Nu_M-700_narrow_13TeV-madgraph/VHBB_V25_GluGluToBulkGravitonToHHTo2B2ZTo2L2Nu_M-700_narrow_13TeV-madgraph__RunIISummer16MAv2-PUMoriond17_80r2as_2016_TrancheIV_v6-v1/170803_104708/0000/tree_'\n",
    "for i in range(1,28):\n",
    "    print dire + sam + str(i) + '.root'"
   ]
  },
  {
   "cell_type": "code",
   "execution_count": 1,
   "metadata": {},
   "outputs": [
    {
     "ename": "SyntaxError",
     "evalue": "invalid syntax (<ipython-input-1-13089f30a93e>, line 1)",
     "output_type": "error",
     "traceback": [
      "\u001b[0;36m  File \u001b[0;32m\"<ipython-input-1-13089f30a93e>\"\u001b[0;36m, line \u001b[0;32m1\u001b[0m\n\u001b[0;31m    ../../comb_listOf_GluGluToBulkGravitonToHHTo2B2ZTo2L2Nu_M-400_narrow_13TeV-madgraph__RunIISummer16MAv2-PUMoriond17_80r2as_2016_TrancheIV_v6-v1_trees.txt\u001b[0m\n\u001b[0m    ^\u001b[0m\n\u001b[0;31mSyntaxError\u001b[0m\u001b[0;31m:\u001b[0m invalid syntax\n"
     ]
    }
   ],
   "source": [
    "../../comb_listOf_GluGluToBulkGravitonToHHTo2B2ZTo2L2Nu_M-400_narrow_13TeV-madgraph__RunIISummer16MAv2-PUMoriond17_80r2as_2016_TrancheIV_v6-v1_trees.txt"
   ]
  },
  {
   "cell_type": "code",
   "execution_count": 18,
   "metadata": {
    "collapsed": true
   },
   "outputs": [],
   "source": [
    "import numpy as np\n",
    "bTagWeights = {}\n",
    "bTagWeights[\"bTagWeightCMVAV2_Moriond\"] = np.zeros(1, dtype=float)\n"
   ]
  },
  {
   "cell_type": "code",
   "execution_count": 19,
   "metadata": {},
   "outputs": [
    {
     "data": {
      "text/plain": [
       "{'bTagWeightCMVAV2_Moriond': array([ 0.])}"
      ]
     },
     "execution_count": 19,
     "metadata": {},
     "output_type": "execute_result"
    }
   ],
   "source": [
    "bTagWeights"
   ]
  },
  {
   "cell_type": "code",
   "execution_count": 21,
   "metadata": {},
   "outputs": [
    {
     "data": {
      "text/plain": [
       "numpy.ndarray"
      ]
     },
     "execution_count": 21,
     "metadata": {},
     "output_type": "execute_result"
    }
   ],
   "source": [
    "central_SF = 0.5\n",
    "bTagWeights[\"bTagWeightCMVAV2_Moriond\"][0] = central_SF\n",
    "type(bTagWeights[\"bTagWeightCMVAV2_Moriond\"])"
   ]
  },
  {
   "cell_type": "code",
   "execution_count": 9,
   "metadata": {},
   "outputs": [
    {
     "data": {
      "text/plain": [
       "{'bTagWeightCMVAV2_Moriond': 0.5}"
      ]
     },
     "execution_count": 9,
     "metadata": {},
     "output_type": "execute_result"
    }
   ],
   "source": [
    "bTagWeights"
   ]
  },
  {
   "cell_type": "code",
   "execution_count": 24,
   "metadata": {},
   "outputs": [
    {
     "data": {
      "text/plain": [
       "list"
      ]
     },
     "execution_count": 24,
     "metadata": {},
     "output_type": "execute_result"
    }
   ],
   "source": [
    "central_SF = [0.5]\n",
    "bTagWeights[\"bTagWeightCMVAV2_Moriond\"] = central_SF\n",
    "type(bTagWeights[\"bTagWeightCMVAV2_Moriond\"])"
   ]
  },
  {
   "cell_type": "code",
   "execution_count": 7,
   "metadata": {},
   "outputs": [
    {
     "data": {
      "text/plain": [
       "3.0"
      ]
     },
     "execution_count": 7,
     "metadata": {},
     "output_type": "execute_result"
    }
   ],
   "source": [
    "weight = []\n",
    "weight.append( [1.0, 2.0])\n",
    "weight.append( [3.0, 4.0])\n",
    "weight[1][0]"
   ]
  },
  {
   "cell_type": "code",
   "execution_count": 6,
   "metadata": {},
   "outputs": [
    {
     "name": "stdout",
     "output_type": "stream",
     "text": [
      "GluGluToBulkGravitonToHHTo2B2ZTo2L2Nu_M-1000_narrow_13TeV-madgraph__RunIISummer16MAv2-PUMoriond17_80r2as_2016_TrancheIV_v6-v2\n",
      "GluGluToBulkGravitonToHHTo2B2ZTo2L2Nu_M-250_narrow_13TeV-madgraph__RunIISummer16MAv2-PUMoriond17_80r2as_2016_TrancheIV_v6-v1\n",
      "GluGluToBulkGravitonToHHTo2B2ZTo2L2Nu_M-260_narrow_13TeV-madgraph__RunIISummer16MAv2-PUMoriond17_80r2as_2016_TrancheIV_v6-v1\n",
      "GluGluToBulkGravitonToHHTo2B2ZTo2L2Nu_M-270_narrow_13TeV-madgraph__RunIISummer16MAv2-PUMoriond17_80r2as_2016_TrancheIV_v6-v1\n",
      "GluGluToBulkGravitonToHHTo2B2ZTo2L2Nu_M-300_narrow_13TeV-madgraph__RunIISummer16MAv2-PUMoriond17_80r2as_2016_TrancheIV_v6-v1\n",
      "GluGluToBulkGravitonToHHTo2B2ZTo2L2Nu_M-350_narrow_13TeV-madgraph__RunIISummer16MAv2-PUMoriond17_80r2as_2016_TrancheIV_v6-v1\n",
      "GluGluToBulkGravitonToHHTo2B2ZTo2L2Nu_M-400_narrow_13TeV-madgraph__RunIISummer16MAv2-PUMoriond17_80r2as_2016_TrancheIV_v6-v1\n",
      "GluGluToBulkGravitonToHHTo2B2ZTo2L2Nu_M-450_narrow_13TeV-madgraph__RunIISummer16MAv2-PUMoriond17_80r2as_2016_TrancheIV_v6-v1\n",
      "GluGluToBulkGravitonToHHTo2B2ZTo2L2Nu_M-500_narrow_13TeV-madgraph__RunIISummer16MAv2-PUMoriond17_80r2as_2016_TrancheIV_v6-v1\n",
      "GluGluToBulkGravitonToHHTo2B2ZTo2L2Nu_M-550_narrow_13TeV-madgraph__RunIISummer16MAv2-PUMoriond17_80r2as_2016_TrancheIV_v6-v1\n",
      "GluGluToBulkGravitonToHHTo2B2ZTo2L2Nu_M-600_narrow_13TeV-madgraph__RunIISummer16MAv2-PUMoriond17_80r2as_2016_TrancheIV_v6-v1\n",
      "GluGluToBulkGravitonToHHTo2B2ZTo2L2Nu_M-650_narrow_13TeV-madgraph__RunIISummer16MAv2-PUMoriond17_80r2as_2016_TrancheIV_v6-v1\n",
      "GluGluToBulkGravitonToHHTo2B2ZTo2L2Nu_M-700_narrow_13TeV-madgraph__RunIISummer16MAv2-PUMoriond17_80r2as_2016_TrancheIV_v6-v1\n",
      "GluGluToBulkGravitonToHHTo2B2ZTo2L2Nu_M-750_narrow_13TeV-madgraph__RunIISummer16MAv2-PUMoriond17_80r2as_2016_TrancheIV_v6-v1\n",
      "GluGluToBulkGravitonToHHTo2B2ZTo2L2Nu_M-800_narrow_13TeV-madgraph__RunIISummer16MAv2-PUMoriond17_80r2as_2016_TrancheIV_v6-v1\n",
      "GluGluToBulkGravitonToHHTo2B2ZTo2L2Nu_M-900_narrow_13TeV-madgraph__RunIISummer16MAv2-PUMoriond17_80r2as_2016_TrancheIV_v6-v1\n"
     ]
    }
   ],
   "source": [
    "ml = ['GluGluToBulkGravitonToHHTo2B2ZTo2L2Nu_M-1000_narrow_13TeV-madgraph__RunIISummer16MAv2-PUMoriond17_80r2as_2016_TrancheIV_v6-v2/',\n",
    " 'GluGluToBulkGravitonToHHTo2B2ZTo2L2Nu_M-250_narrow_13TeV-madgraph__RunIISummer16MAv2-PUMoriond17_80r2as_2016_TrancheIV_v6-v1/',\n",
    " 'GluGluToBulkGravitonToHHTo2B2ZTo2L2Nu_M-260_narrow_13TeV-madgraph__RunIISummer16MAv2-PUMoriond17_80r2as_2016_TrancheIV_v6-v1/',\n",
    " 'GluGluToBulkGravitonToHHTo2B2ZTo2L2Nu_M-270_narrow_13TeV-madgraph__RunIISummer16MAv2-PUMoriond17_80r2as_2016_TrancheIV_v6-v1/',\n",
    " 'GluGluToBulkGravitonToHHTo2B2ZTo2L2Nu_M-300_narrow_13TeV-madgraph__RunIISummer16MAv2-PUMoriond17_80r2as_2016_TrancheIV_v6-v1/',\n",
    " 'GluGluToBulkGravitonToHHTo2B2ZTo2L2Nu_M-350_narrow_13TeV-madgraph__RunIISummer16MAv2-PUMoriond17_80r2as_2016_TrancheIV_v6-v1/',\n",
    " 'GluGluToBulkGravitonToHHTo2B2ZTo2L2Nu_M-400_narrow_13TeV-madgraph__RunIISummer16MAv2-PUMoriond17_80r2as_2016_TrancheIV_v6-v1/',\n",
    " 'GluGluToBulkGravitonToHHTo2B2ZTo2L2Nu_M-450_narrow_13TeV-madgraph__RunIISummer16MAv2-PUMoriond17_80r2as_2016_TrancheIV_v6-v1/',\n",
    " 'GluGluToBulkGravitonToHHTo2B2ZTo2L2Nu_M-500_narrow_13TeV-madgraph__RunIISummer16MAv2-PUMoriond17_80r2as_2016_TrancheIV_v6-v1/',\n",
    " 'GluGluToBulkGravitonToHHTo2B2ZTo2L2Nu_M-550_narrow_13TeV-madgraph__RunIISummer16MAv2-PUMoriond17_80r2as_2016_TrancheIV_v6-v1/',\n",
    " 'GluGluToBulkGravitonToHHTo2B2ZTo2L2Nu_M-600_narrow_13TeV-madgraph__RunIISummer16MAv2-PUMoriond17_80r2as_2016_TrancheIV_v6-v1/',\n",
    " 'GluGluToBulkGravitonToHHTo2B2ZTo2L2Nu_M-650_narrow_13TeV-madgraph__RunIISummer16MAv2-PUMoriond17_80r2as_2016_TrancheIV_v6-v1/',\n",
    " 'GluGluToBulkGravitonToHHTo2B2ZTo2L2Nu_M-700_narrow_13TeV-madgraph__RunIISummer16MAv2-PUMoriond17_80r2as_2016_TrancheIV_v6-v1/',\n",
    " 'GluGluToBulkGravitonToHHTo2B2ZTo2L2Nu_M-750_narrow_13TeV-madgraph__RunIISummer16MAv2-PUMoriond17_80r2as_2016_TrancheIV_v6-v1/',\n",
    " 'GluGluToBulkGravitonToHHTo2B2ZTo2L2Nu_M-800_narrow_13TeV-madgraph__RunIISummer16MAv2-PUMoriond17_80r2as_2016_TrancheIV_v6-v1/',\n",
    " 'GluGluToBulkGravitonToHHTo2B2ZTo2L2Nu_M-900_narrow_13TeV-madgraph__RunIISummer16MAv2-PUMoriond17_80r2as_2016_TrancheIV_v6-v1/']\n",
    "\n",
    "for l in ml:\n",
    "    print l[:-1]\n",
    "                                                                                           \n",
    "                            "
   ]
  },
  {
   "cell_type": "code",
   "execution_count": null,
   "metadata": {
    "collapsed": true
   },
   "outputs": [],
   "source": [
    "\"BulkGraviton_M260\" : [\n",
    "                   1,\n",
    "                   0,\n",
    "                   \"BulkGraviton_M260\",\n",
    "                   \"vvBGravM260\",\n",
    "                   4,\n",
    "                   \"Tot\",\n",
    "                   1,\n",
    "                   \"No\",\n",
    "                   0\n",
    "],\n"
   ]
  },
  {
   "cell_type": "code",
   "execution_count": 2,
   "metadata": {},
   "outputs": [
    {
     "name": "stdout",
     "output_type": "stream",
     "text": [
      "50\n"
     ]
    }
   ],
   "source": [
    "pref = 'GluGluToBulkGravitonToHHTo2B2ZTo2L2Nu_M-'\n",
    "post = '_narrow_13TeV-madgraph__RunIISummer16MAv2-PUMoriond17_80r2as_2016_TrancheIV_v6-v1'\n",
    "\n",
    "dataList = [ 'DoubleEG__Run2016B-03Feb2017_ver1-v1/',\n",
    " 'DoubleEG__Run2016B-03Feb2017_ver2-v2/',\n",
    " 'DoubleEG__Run2016C-03Feb2017-v1/',\n",
    " 'DoubleEG__Run2016D-03Feb2017-v1/',\n",
    " 'DoubleEG__Run2016E-03Feb2017-v1/',\n",
    " 'DoubleEG__Run2016F-03Feb2017-v1/',\n",
    " 'DoubleEG__Run2016G-03Feb2017-v1/',\n",
    " 'DoubleEG__Run2016H-03Feb2017_ver2-v1/',\n",
    " 'DoubleEG__Run2016H-03Feb2017_ver3-v1/',\n",
    " 'DoubleMuon__Run2016B-03Feb2017_ver1-v1/',\n",
    " 'DoubleMuon__Run2016B-03Feb2017_ver2-v2/',\n",
    " 'DoubleMuon__Run2016C-03Feb2017-v1/',\n",
    " 'DoubleMuon__Run2016D-03Feb2017-v1/',\n",
    " 'DoubleMuon__Run2016E-03Feb2017-v1/',\n",
    " 'DoubleMuon__Run2016F-03Feb2017-v1/',\n",
    " 'DoubleMuon__Run2016G-03Feb2017-v1/',\n",
    " 'DoubleMuon__Run2016H-03Feb2017_ver2-v1/',\n",
    " 'DoubleMuon__Run2016H-03Feb2017_ver3-v1/']\n",
    "\n",
    "bgList = ['DY1JetsToLL_M-50_TuneCUETP8M1_13TeV-madgraphMLM-Py8__RunIISummer16MAv2-PUMoriond17_80r2as_2016_TrancheIV_v6-v1/',\n",
    " 'DY2JetsToLL_M-50_TuneCUETP8M1_13TeV-madgraphMLM-Py8__RunIISummer16MAv2-PUMoriond17_80r2as_2016_TrancheIV_v6-v1/',\n",
    " 'DY3JetsToLL_M-50_TuneCUETP8M1_13TeV-madgraphMLM-Py8__RunIISummer16MAv2-PUMoriond17_80r2as_2016_TrancheIV_v6-v1/',\n",
    " 'DY4JetsToLL_M-50_TuneCUETP8M1_13TeV-madgraphMLM-Py8__RunIISummer16MAv2-PUMoriond17_80r2as_2016_TrancheIV_v6-v1/',\n",
    " 'ST_s-channel_4f_leptonDecays_13TeV-amcatnlo-Py8_TuneCUETP8M1__RunIISummer16MAv2-PUMoriond17_80r2as_2016_TrancheIV_v6-v1/',\n",
    " 'ST_t-channel_antitop_4f_inclusiveDecays_13TeV-powhegV2-madspin-Py8_TuneCUETP8M1__RunIISummer16MAv2-PUMoriond17_80r2as_2016_TrancheIV_v6-v1/',\n",
    " 'ST_t-channel_antitop_4f_inclusiveDecays_TuneCUETP8M2T4_13TeV-powhegV2-madspin__RunIISummer16MAv2-PUMoriond17_80r2as_2016_TrancheIV_v6-v1/',\n",
    " 'ST_t-channel_top_4f_inclusiveDecays_13TeV-powhegV2-madspin-Py8_TuneCUETP8M1__RunIISummer16MAv2-PUMoriond17_80r2as_2016_TrancheIV_v6-v1/',\n",
    " 'ST_t-channel_top_4f_inclusiveDecays_TuneCUETP8M2T4_13TeV-powhegV2-madspin__RunIISummer16MAv2-PUMoriond17_80r2as_2016_TrancheIV_v6-v1/',\n",
    " 'ST_tW_antitop_5f_NoFullyHadronicDecays_13TeV-powheg_TuneCUETP8M1__RunIISummer16MAv2-PUMoriond17_80r2as_2016_TrancheIV_v6_ext1-v1/',\n",
    " 'ST_tW_antitop_5f_inclusiveDecays_13TeV-powheg-Py8_TuneCUETP8M1__RunIISummer16MAv2-PUMoriond17_80r2as_2016_TrancheIV_v6_ext1-v1/',\n",
    " 'ST_tW_antitop_5f_inclusiveDecays_13TeV-powheg-Py8_TuneCUETP8M2T4__RunIISummer16MAv2-PUMoriond17_80r2as_2016_TrancheIV_v6-v1/',\n",
    " 'ST_tW_top_5f_NoFullyHadronicDecays_13TeV-powheg_TuneCUETP8M1__RunIISummer16MAv2-PUMoriond17_80r2as_2016_TrancheIV_v6_ext1-v1/',\n",
    " 'ST_tW_top_5f_inclusiveDecays_13TeV-powheg-Py8_TuneCUETP8M1__RunIISummer16MAv2-PUMoriond17_80r2as_2016_TrancheIV_v6_ext1-v1/',\n",
    " 'ST_tW_top_5f_inclusiveDecays_13TeV-powheg-Py8_TuneCUETP8M2T4__RunIISummer16MAv2-PUMoriond17_80r2as_2016_TrancheIV_v6-v1/',\n",
    " 'TTJets_DiLept_TuneCUETP8M1_13TeV-madgraphMLM-Py8__RunIISummer16MAv2-PUMoriond17_80r2as_2016_TrancheIV_v6_ext1-v1/',\n",
    " 'TT_TuneCUETP8M2T4_13TeV-powheg-Py8__RunIISummer16MAv2-PUMoriond17_80r2as_2016_TrancheIV_v6-v1/',\n",
    " 'TT_TuneCUETP8M2T4_13TeV-powheg-Py8__RunIISummer16MAv2-PUMoriond17_backup_80r2as_2016_TrancheIV_v6-v1/',\n",
    " 'TT_TuneCUETP8M2T4down_13TeV-powheg-Py8__RunIISummer16MAv2-PUMoriond17_80r2as_2016_TrancheIV_v6-v1/',\n",
    " 'WW_TuneCUETP8M1_13TeV-Py8__RunIISummer16MAv2-PUMoriond17_80r2as_2016_TrancheIV_v6-v1/',\n",
    " 'WZ_TuneCUETP8M1_13TeV-Py8__RunIISummer16MAv2-PUMoriond17_80r2as_2016_TrancheIV_v6-v1/',\n",
    " 'ZH_HToBB_ZToLL_M125_13TeV_amcatnloFXFX_madspin_Py8__RunIISummer16MAv2-PUMoriond17_80r2as_2016_TrancheIV_v6-v1/',\n",
    " 'ZH_HToBB_ZToLL_M125_13TeV_powheg_Py8__RunIISummer16MAv2-PUMoriond17_80r2as_2016_TrancheIV_v6_ext1-v1/',\n",
    " 'ZZ_TuneCUETP8M1_13TeV-Py8__RunIISummer16MAv2-PUMoriond17_80r2as_2016_TrancheIV_v6-v1/']\n",
    "\n",
    "bgList_modified = [\n",
    " 'DY1JetsToLL_M-50_TuneCUETP8M1_13TeV-madgraphMLM-Py8__RunIISummer16MAv2-PUMoriond17_80r2as_2016_TrancheIV_v6-v1/',\n",
    " 'DY2JetsToLL_M-50_TuneCUETP8M1_13TeV-madgraphMLM-Py8__RunIISummer16MAv2-PUMoriond17_80r2as_2016_TrancheIV_v6-v1/',\n",
    " 'DY3JetsToLL_M-50_TuneCUETP8M1_13TeV-madgraphMLM-Py8__RunIISummer16MAv2-PUMoriond17_80r2as_2016_TrancheIV_v6-v1/',\n",
    " 'DY4JetsToLL_M-50_TuneCUETP8M1_13TeV-madgraphMLM-Py8__RunIISummer16MAv2-PUMoriond17_80r2as_2016_TrancheIV_v6-v1/',\n",
    " 'ST_s-channel_4f_leptonDecays_13TeV-amcatnlo-Py8_TuneCUETP8M1__RunIISummer16MAv2-PUMoriond17_80r2as_2016_TrancheIV_v6-v1/',\n",
    " 'ST_t-channel_antitop_4f_inclusiveDecays_13TeV-powhegV2-madspin-Py8_TuneCUETP8M1__RunIISummer16MAv2-PUMoriond17_80r2as_2016_TrancheIV_v6-v1/',\n",
    " 'ST_t-channel_top_4f_inclusiveDecays_13TeV-powhegV2-madspin-Py8_TuneCUETP8M1__RunIISummer16MAv2-PUMoriond17_80r2as_2016_TrancheIV_v6-v1/',\n",
    " 'ST_tW_antitop_5f_NoFullyHadronicDecays_13TeV-powheg_TuneCUETP8M1__RunIISummer16MAv2-PUMoriond17_80r2as_2016_TrancheIV_v6_ext1-v1/',\n",
    " 'ST_tW_antitop_5f_inclusiveDecays_13TeV-powheg-Py8_TuneCUETP8M1__RunIISummer16MAv2-PUMoriond17_80r2as_2016_TrancheIV_v6_ext1-v1/',\n",
    " 'ST_tW_top_5f_NoFullyHadronicDecays_13TeV-powheg_TuneCUETP8M1__RunIISummer16MAv2-PUMoriond17_80r2as_2016_TrancheIV_v6_ext1-v1/',\n",
    " 'ST_tW_top_5f_inclusiveDecays_13TeV-powheg-Py8_TuneCUETP8M1__RunIISummer16MAv2-PUMoriond17_80r2as_2016_TrancheIV_v6_ext1-v1/',\n",
    " 'TT_TuneCUETP8M2T4_13TeV-powheg-Py8__RunIISummer16MAv2-PUMoriond17_backup_80r2as_2016_TrancheIV_v6-v1/',\n",
    " 'WW_TuneCUETP8M1_13TeV-Py8__RunIISummer16MAv2-PUMoriond17_80r2as_2016_TrancheIV_v6-v1/',\n",
    " 'WZ_TuneCUETP8M1_13TeV-Py8__RunIISummer16MAv2-PUMoriond17_80r2as_2016_TrancheIV_v6-v1/',\n",
    " 'ZZ_TuneCUETP8M1_13TeV-Py8__RunIISummer16MAv2-PUMoriond17_80r2as_2016_TrancheIV_v6-v1/',\n",
    " 'ZH_HToBB_ZToLL_M125_13TeV_amcatnloFXFX_madspin_Py8__RunIISummer16MAv2-PUMoriond17_80r2as_2016_TrancheIV_v6-v1/']\n",
    "\n",
    "signalList = ['GluGluToBulkGravitonToHHTo2B2ZTo2L2Nu_M-1000_narrow_13TeV-madgraph__RunIISummer16MAv2-PUMoriond17_80r2as_2016_TrancheIV_v6-v2/',\n",
    " 'GluGluToBulkGravitonToHHTo2B2ZTo2L2Nu_M-250_narrow_13TeV-madgraph__RunIISummer16MAv2-PUMoriond17_80r2as_2016_TrancheIV_v6-v1/',\n",
    " 'GluGluToBulkGravitonToHHTo2B2ZTo2L2Nu_M-260_narrow_13TeV-madgraph__RunIISummer16MAv2-PUMoriond17_80r2as_2016_TrancheIV_v6-v1/',\n",
    " 'GluGluToBulkGravitonToHHTo2B2ZTo2L2Nu_M-270_narrow_13TeV-madgraph__RunIISummer16MAv2-PUMoriond17_80r2as_2016_TrancheIV_v6-v1/',\n",
    " 'GluGluToBulkGravitonToHHTo2B2ZTo2L2Nu_M-300_narrow_13TeV-madgraph__RunIISummer16MAv2-PUMoriond17_80r2as_2016_TrancheIV_v6-v1/',\n",
    " 'GluGluToBulkGravitonToHHTo2B2ZTo2L2Nu_M-350_narrow_13TeV-madgraph__RunIISummer16MAv2-PUMoriond17_80r2as_2016_TrancheIV_v6-v1/',\n",
    " 'GluGluToBulkGravitonToHHTo2B2ZTo2L2Nu_M-400_narrow_13TeV-madgraph__RunIISummer16MAv2-PUMoriond17_80r2as_2016_TrancheIV_v6-v1/',\n",
    " 'GluGluToBulkGravitonToHHTo2B2ZTo2L2Nu_M-450_narrow_13TeV-madgraph__RunIISummer16MAv2-PUMoriond17_80r2as_2016_TrancheIV_v6-v1/',\n",
    " 'GluGluToBulkGravitonToHHTo2B2ZTo2L2Nu_M-500_narrow_13TeV-madgraph__RunIISummer16MAv2-PUMoriond17_80r2as_2016_TrancheIV_v6-v1/',\n",
    " 'GluGluToBulkGravitonToHHTo2B2ZTo2L2Nu_M-550_narrow_13TeV-madgraph__RunIISummer16MAv2-PUMoriond17_80r2as_2016_TrancheIV_v6-v1/',\n",
    " 'GluGluToBulkGravitonToHHTo2B2ZTo2L2Nu_M-600_narrow_13TeV-madgraph__RunIISummer16MAv2-PUMoriond17_80r2as_2016_TrancheIV_v6-v1/',\n",
    " 'GluGluToBulkGravitonToHHTo2B2ZTo2L2Nu_M-650_narrow_13TeV-madgraph__RunIISummer16MAv2-PUMoriond17_80r2as_2016_TrancheIV_v6-v1/',\n",
    " 'GluGluToBulkGravitonToHHTo2B2ZTo2L2Nu_M-700_narrow_13TeV-madgraph__RunIISummer16MAv2-PUMoriond17_80r2as_2016_TrancheIV_v6-v1/',\n",
    " 'GluGluToBulkGravitonToHHTo2B2ZTo2L2Nu_M-750_narrow_13TeV-madgraph__RunIISummer16MAv2-PUMoriond17_80r2as_2016_TrancheIV_v6-v1/',\n",
    " 'GluGluToBulkGravitonToHHTo2B2ZTo2L2Nu_M-800_narrow_13TeV-madgraph__RunIISummer16MAv2-PUMoriond17_80r2as_2016_TrancheIV_v6-v1/',\n",
    " 'GluGluToBulkGravitonToHHTo2B2ZTo2L2Nu_M-900_narrow_13TeV-madgraph__RunIISummer16MAv2-PUMoriond17_80r2as_2016_TrancheIV_v6-v1/']\n",
    "\n",
    "xsecs = {\n",
    "    'DY1JetsToLL_M-50_TuneCUETP8M1_13TeV-madgraphMLM-Py8__RunIISummer16MAv2-PUMoriond17_80r2as_2016_TrancheIV_v6-v1/' : 1242.3,\n",
    "    'DY2JetsToLL_M-50_TuneCUETP8M1_13TeV-madgraphMLM-Py8__RunIISummer16MAv2-PUMoriond17_80r2as_2016_TrancheIV_v6-v1/' : 412.05,\n",
    "    'DY3JetsToLL_M-50_TuneCUETP8M1_13TeV-madgraphMLM-Py8__RunIISummer16MAv2-PUMoriond17_80r2as_2016_TrancheIV_v6-v1/' : 125.46,\n",
    "    'DY4JetsToLL_M-50_TuneCUETP8M1_13TeV-madgraphMLM-Py8__RunIISummer16MAv2-PUMoriond17_80r2as_2016_TrancheIV_v6-v1/' : 67.035,\n",
    "    'ST_s-channel_4f_leptonDecays_13TeV-amcatnlo-Py8_TuneCUETP8M1__RunIISummer16MAv2-PUMoriond17_80r2as_2016_TrancheIV_v6-v1/' : 7.2,\n",
    "    'ST_t-channel_antitop_4f_inclusiveDecays_13TeV-powhegV2-madspin-Py8_TuneCUETP8M1__RunIISummer16MAv2-PUMoriond17_80r2as_2016_TrancheIV_v6-v1/' : 80.95,\n",
    "    'ST_t-channel_top_4f_inclusiveDecays_13TeV-powhegV2-madspin-Py8_TuneCUETP8M1__RunIISummer16MAv2-PUMoriond17_80r2as_2016_TrancheIV_v6-v1/' : 136.02,\n",
    "    'ST_tW_antitop_5f_NoFullyHadronicDecays_13TeV-powheg_TuneCUETP8M1__RunIISummer16MAv2-PUMoriond17_80r2as_2016_TrancheIV_v6_ext1-v1/' : 38.1,\n",
    "    'ST_tW_antitop_5f_inclusiveDecays_13TeV-powheg-Py8_TuneCUETP8M1__RunIISummer16MAv2-PUMoriond17_80r2as_2016_TrancheIV_v6_ext1-v1/' : 35.85,\n",
    "    'ST_tW_top_5f_NoFullyHadronicDecays_13TeV-powheg_TuneCUETP8M1__RunIISummer16MAv2-PUMoriond17_80r2as_2016_TrancheIV_v6_ext1-v1/' : 38.1,\n",
    "    'ST_tW_top_5f_inclusiveDecays_13TeV-powheg-Py8_TuneCUETP8M1__RunIISummer16MAv2-PUMoriond17_80r2as_2016_TrancheIV_v6_ext1-v1/' : 35.85,\n",
    "    'TT_TuneCUETP8M2T4_13TeV-powheg-Py8__RunIISummer16MAv2-PUMoriond17_backup_80r2as_2016_TrancheIV_v6-v1/' : 831.76,\n",
    "    'WW_TuneCUETP8M1_13TeV-Py8__RunIISummer16MAv2-PUMoriond17_80r2as_2016_TrancheIV_v6-v1/' : 113.826,\n",
    "    'WZ_TuneCUETP8M1_13TeV-Py8__RunIISummer16MAv2-PUMoriond17_80r2as_2016_TrancheIV_v6-v1/' : 45.01,\n",
    "    'ZZ_TuneCUETP8M1_13TeV-Py8__RunIISummer16MAv2-PUMoriond17_80r2as_2016_TrancheIV_v6-v1/' : 16.91,\n",
    "    'ZH_HToBB_ZToLL_M125_13TeV_amcatnloFXFX_madspin_Py8__RunIISummer16MAv2-PUMoriond17_80r2as_2016_TrancheIV_v6-v1/' : 0.0519\n",
    "\n",
    "}\n",
    "\n",
    "print len(bgList_modified) + len(dataList) + len(signalList)\n"
   ]
  },
  {
   "cell_type": "code",
   "execution_count": 3,
   "metadata": {},
   "outputs": [
    {
     "name": "stdout",
     "output_type": "stream",
     "text": [
      "{\n",
      "\"GluGluToBulkGravitonToHHTo2B2ZTo2L2Nu_M-250_narrow_13TeV-madgraph__RunIISummer16MAv2-PUMoriond17_80r2as_2016_TrancheIV_v6-v1\" : [\n",
      "            1,\n",
      "            0,\n",
      "            \"GluGluToBulkGravitonToHHTo2B2ZTo2L2Nu\",\n",
      "            \"BGravToH(ZZ)H(bb)_M250\",\n",
      "            4,\n",
      "            \"Tot\",\n",
      "            1,\n",
      "            \"No\",\n",
      "            1\n",
      "            ],\n",
      "\n",
      "\"GluGluToBulkGravitonToHHTo2B2ZTo2L2Nu_M-260_narrow_13TeV-madgraph__RunIISummer16MAv2-PUMoriond17_80r2as_2016_TrancheIV_v6-v1\" : [\n",
      "            1,\n",
      "            0,\n",
      "            \"GluGluToBulkGravitonToHHTo2B2ZTo2L2Nu\",\n",
      "            \"BGravToH(ZZ)H(bb)_M260\",\n",
      "            4,\n",
      "            \"Tot\",\n",
      "            1,\n",
      "            \"No\",\n",
      "            1\n",
      "            ],\n",
      "\n",
      "\"GluGluToBulkGravitonToHHTo2B2ZTo2L2Nu_M-270_narrow_13TeV-madgraph__RunIISummer16MAv2-PUMoriond17_80r2as_2016_TrancheIV_v6-v1\" : [\n",
      "            1,\n",
      "            0,\n",
      "            \"GluGluToBulkGravitonToHHTo2B2ZTo2L2Nu\",\n",
      "            \"BGravToH(ZZ)H(bb)_M270\",\n",
      "            4,\n",
      "            \"Tot\",\n",
      "            1,\n",
      "            \"No\",\n",
      "            1\n",
      "            ],\n",
      "\n",
      "\"GluGluToBulkGravitonToHHTo2B2ZTo2L2Nu_M-300_narrow_13TeV-madgraph__RunIISummer16MAv2-PUMoriond17_80r2as_2016_TrancheIV_v6-v1\" : [\n",
      "            1,\n",
      "            0,\n",
      "            \"GluGluToBulkGravitonToHHTo2B2ZTo2L2Nu\",\n",
      "            \"BGravToH(ZZ)H(bb)_M300\",\n",
      "            4,\n",
      "            \"Tot\",\n",
      "            1,\n",
      "            \"No\",\n",
      "            1\n",
      "            ],\n",
      "\n",
      "\"GluGluToBulkGravitonToHHTo2B2ZTo2L2Nu_M-350_narrow_13TeV-madgraph__RunIISummer16MAv2-PUMoriond17_80r2as_2016_TrancheIV_v6-v1\" : [\n",
      "            1,\n",
      "            0,\n",
      "            \"GluGluToBulkGravitonToHHTo2B2ZTo2L2Nu\",\n",
      "            \"BGravToH(ZZ)H(bb)_M350\",\n",
      "            4,\n",
      "            \"Tot\",\n",
      "            1,\n",
      "            \"No\",\n",
      "            1\n",
      "            ],\n",
      "\n",
      "\"GluGluToBulkGravitonToHHTo2B2ZTo2L2Nu_M-400_narrow_13TeV-madgraph__RunIISummer16MAv2-PUMoriond17_80r2as_2016_TrancheIV_v6-v1\" : [\n",
      "            1,\n",
      "            0,\n",
      "            \"GluGluToBulkGravitonToHHTo2B2ZTo2L2Nu\",\n",
      "            \"BGravToH(ZZ)H(bb)_M400\",\n",
      "            4,\n",
      "            \"Tot\",\n",
      "            1,\n",
      "            \"No\",\n",
      "            1\n",
      "            ],\n",
      "\n",
      "\"GluGluToBulkGravitonToHHTo2B2ZTo2L2Nu_M-450_narrow_13TeV-madgraph__RunIISummer16MAv2-PUMoriond17_80r2as_2016_TrancheIV_v6-v1\" : [\n",
      "            1,\n",
      "            0,\n",
      "            \"GluGluToBulkGravitonToHHTo2B2ZTo2L2Nu\",\n",
      "            \"BGravToH(ZZ)H(bb)_M450\",\n",
      "            4,\n",
      "            \"Tot\",\n",
      "            1,\n",
      "            \"No\",\n",
      "            1\n",
      "            ],\n",
      "\n",
      "\"GluGluToBulkGravitonToHHTo2B2ZTo2L2Nu_M-500_narrow_13TeV-madgraph__RunIISummer16MAv2-PUMoriond17_80r2as_2016_TrancheIV_v6-v1\" : [\n",
      "            1,\n",
      "            0,\n",
      "            \"GluGluToBulkGravitonToHHTo2B2ZTo2L2Nu\",\n",
      "            \"BGravToH(ZZ)H(bb)_M500\",\n",
      "            4,\n",
      "            \"Tot\",\n",
      "            1,\n",
      "            \"No\",\n",
      "            1\n",
      "            ],\n",
      "\n",
      "\"GluGluToBulkGravitonToHHTo2B2ZTo2L2Nu_M-550_narrow_13TeV-madgraph__RunIISummer16MAv2-PUMoriond17_80r2as_2016_TrancheIV_v6-v1\" : [\n",
      "            1,\n",
      "            0,\n",
      "            \"GluGluToBulkGravitonToHHTo2B2ZTo2L2Nu\",\n",
      "            \"BGravToH(ZZ)H(bb)_M550\",\n",
      "            4,\n",
      "            \"Tot\",\n",
      "            1,\n",
      "            \"No\",\n",
      "            1\n",
      "            ],\n",
      "\n",
      "\"GluGluToBulkGravitonToHHTo2B2ZTo2L2Nu_M-600_narrow_13TeV-madgraph__RunIISummer16MAv2-PUMoriond17_80r2as_2016_TrancheIV_v6-v1\" : [\n",
      "            1,\n",
      "            0,\n",
      "            \"GluGluToBulkGravitonToHHTo2B2ZTo2L2Nu\",\n",
      "            \"BGravToH(ZZ)H(bb)_M600\",\n",
      "            4,\n",
      "            \"Tot\",\n",
      "            1,\n",
      "            \"No\",\n",
      "            1\n",
      "            ],\n",
      "\n",
      "\"GluGluToBulkGravitonToHHTo2B2ZTo2L2Nu_M-650_narrow_13TeV-madgraph__RunIISummer16MAv2-PUMoriond17_80r2as_2016_TrancheIV_v6-v1\" : [\n",
      "            1,\n",
      "            0,\n",
      "            \"GluGluToBulkGravitonToHHTo2B2ZTo2L2Nu\",\n",
      "            \"BGravToH(ZZ)H(bb)_M650\",\n",
      "            4,\n",
      "            \"Tot\",\n",
      "            1,\n",
      "            \"No\",\n",
      "            1\n",
      "            ],\n",
      "\n",
      "\"GluGluToBulkGravitonToHHTo2B2ZTo2L2Nu_M-700_narrow_13TeV-madgraph__RunIISummer16MAv2-PUMoriond17_80r2as_2016_TrancheIV_v6-v1\" : [\n",
      "            1,\n",
      "            0,\n",
      "            \"GluGluToBulkGravitonToHHTo2B2ZTo2L2Nu\",\n",
      "            \"BGravToH(ZZ)H(bb)_M700\",\n",
      "            4,\n",
      "            \"Tot\",\n",
      "            1,\n",
      "            \"No\",\n",
      "            1\n",
      "            ],\n",
      "\n",
      "\"GluGluToBulkGravitonToHHTo2B2ZTo2L2Nu_M-750_narrow_13TeV-madgraph__RunIISummer16MAv2-PUMoriond17_80r2as_2016_TrancheIV_v6-v1\" : [\n",
      "            1,\n",
      "            0,\n",
      "            \"GluGluToBulkGravitonToHHTo2B2ZTo2L2Nu\",\n",
      "            \"BGravToH(ZZ)H(bb)_M750\",\n",
      "            4,\n",
      "            \"Tot\",\n",
      "            1,\n",
      "            \"No\",\n",
      "            1\n",
      "            ],\n",
      "\n",
      "\"GluGluToBulkGravitonToHHTo2B2ZTo2L2Nu_M-800_narrow_13TeV-madgraph__RunIISummer16MAv2-PUMoriond17_80r2as_2016_TrancheIV_v6-v1\" : [\n",
      "            1,\n",
      "            0,\n",
      "            \"GluGluToBulkGravitonToHHTo2B2ZTo2L2Nu\",\n",
      "            \"BGravToH(ZZ)H(bb)_M800\",\n",
      "            4,\n",
      "            \"Tot\",\n",
      "            1,\n",
      "            \"No\",\n",
      "            1\n",
      "            ],\n",
      "\n",
      "\"GluGluToBulkGravitonToHHTo2B2ZTo2L2Nu_M-900_narrow_13TeV-madgraph__RunIISummer16MAv2-PUMoriond17_80r2as_2016_TrancheIV_v6-v1\" : [\n",
      "            1,\n",
      "            0,\n",
      "            \"GluGluToBulkGravitonToHHTo2B2ZTo2L2Nu\",\n",
      "            \"BGravToH(ZZ)H(bb)_M900\",\n",
      "            4,\n",
      "            \"Tot\",\n",
      "            1,\n",
      "            \"No\",\n",
      "            1\n",
      "            ],\n",
      "\n",
      "\"GluGluToBulkGravitonToHHTo2B2ZTo2L2Nu_M-1000_narrow_13TeV-madgraph__RunIISummer16MAv2-PUMoriond17_80r2as_2016_TrancheIV_v6-v1\" : [\n",
      "            1,\n",
      "            0,\n",
      "            \"GluGluToBulkGravitonToHHTo2B2ZTo2L2Nu\",\n",
      "            \"BGravToH(ZZ)H(bb)_M1000\",\n",
      "            4,\n",
      "            \"Tot\",\n",
      "            1,\n",
      "            \"No\",\n",
      "            1\n",
      "            ],\n",
      "\n"
     ]
    }
   ],
   "source": [
    "muonORele = 1\n",
    "\n",
    "masses = [250, 260, 270, 300, 350, 400, 450, 500, 550, 600, 650, 700, 750, 800, 900, 1000]\n",
    "threetabs = ' '*12\n",
    "\n",
    "\n",
    "print '{'\n",
    "#signal\n",
    "for m in masses:\n",
    "    print '\"' + pref + str(m) + post + '\" : ['\n",
    "    print threetabs + '1,'\n",
    "    print threetabs + '0,'\n",
    "    print threetabs + '\"' + pref[:-3] + '\",'\n",
    "    print threetabs + '\"BGravToH(ZZ)H(bb)_M' + str(m) + '\",'\n",
    "    print threetabs + '4,'\n",
    "    print threetabs + '\"Tot\",'\n",
    "    print threetabs + '1,'\n",
    "    print threetabs + '\"No\",'\n",
    "    print threetabs + str(muonORele) \n",
    "    print threetabs + '],'\n",
    "    print\n",
    "    "
   ]
  },
  {
   "cell_type": "raw",
   "metadata": {},
   "source": [
    "#data: run twice, once for electrons, 2nd time for muons\n",
    "for d in dataList:\n",
    "    if muonORele == 0 and 'EG' in d: continue\n",
    "    if muonORele == 1 and 'EG' not in d: continue\n",
    "    title = \"Data(muons)\" if 'Muon' in d else \"Data(electrons)\"\n",
    "    print '\"' + d[:-1] + '\" : ['\n",
    "    print threetabs + '1,'\n",
    "    print threetabs + '1,'\n",
    "    print threetabs + '\"' + d[:-1] + '\",'\n",
    "    print threetabs + '\"' + title + '\",'\n",
    "    print threetabs + '1,'\n",
    "    print threetabs + '\"Tot\",'\n",
    "    print threetabs + '0,'\n",
    "    print threetabs + '\"No\",'\n",
    "    print threetabs + str(muonORele) \n",
    "    print threetabs + '],'\n",
    "    print"
   ]
  },
  {
   "cell_type": "code",
   "execution_count": 5,
   "metadata": {},
   "outputs": [
    {
     "name": "stdout",
     "output_type": "stream",
     "text": [
      "\"DY1JetsToLL_M-50_TuneCUETP8M1_13TeV-madgraphMLM-Py8__RunIISummer16MAv2-PUMoriond17_80r2as_2016_TrancheIV_v6-v1\" : [\n",
      "            1242.3,\n",
      "            0,\n",
      "            \"DY1JetsToLL_M-50_TuneCUETP8M1_13TeV-madgraphMLM-Py8__RunIISummer16MAv2-PUMoriond17_80r2as_2016_TrancheIV_v6-v1\",\n",
      "            \"DY\",\n",
      "            868,\n",
      "            \"Tot\",\n",
      "            0,\n",
      "            \"No\",\n",
      "            0\n",
      "            ],\n",
      "\n",
      "\"DY2JetsToLL_M-50_TuneCUETP8M1_13TeV-madgraphMLM-Py8__RunIISummer16MAv2-PUMoriond17_80r2as_2016_TrancheIV_v6-v1\" : [\n",
      "            412.05,\n",
      "            0,\n",
      "            \"DY2JetsToLL_M-50_TuneCUETP8M1_13TeV-madgraphMLM-Py8__RunIISummer16MAv2-PUMoriond17_80r2as_2016_TrancheIV_v6-v1\",\n",
      "            \"DY\",\n",
      "            868,\n",
      "            \"Tot\",\n",
      "            0,\n",
      "            \"No\",\n",
      "            0\n",
      "            ],\n",
      "\n",
      "\"DY3JetsToLL_M-50_TuneCUETP8M1_13TeV-madgraphMLM-Py8__RunIISummer16MAv2-PUMoriond17_80r2as_2016_TrancheIV_v6-v1\" : [\n",
      "            125.46,\n",
      "            0,\n",
      "            \"DY3JetsToLL_M-50_TuneCUETP8M1_13TeV-madgraphMLM-Py8__RunIISummer16MAv2-PUMoriond17_80r2as_2016_TrancheIV_v6-v1\",\n",
      "            \"DY\",\n",
      "            868,\n",
      "            \"Tot\",\n",
      "            0,\n",
      "            \"No\",\n",
      "            0\n",
      "            ],\n",
      "\n",
      "\"DY4JetsToLL_M-50_TuneCUETP8M1_13TeV-madgraphMLM-Py8__RunIISummer16MAv2-PUMoriond17_80r2as_2016_TrancheIV_v6-v1\" : [\n",
      "            67.035,\n",
      "            0,\n",
      "            \"DY4JetsToLL_M-50_TuneCUETP8M1_13TeV-madgraphMLM-Py8__RunIISummer16MAv2-PUMoriond17_80r2as_2016_TrancheIV_v6-v1\",\n",
      "            \"DY\",\n",
      "            868,\n",
      "            \"Tot\",\n",
      "            0,\n",
      "            \"No\",\n",
      "            0\n",
      "            ],\n",
      "\n",
      "\"ST_s-channel_4f_leptonDecays_13TeV-amcatnlo-Py8_TuneCUETP8M1__RunIISummer16MAv2-PUMoriond17_80r2as_2016_TrancheIV_v6-v1\" : [\n",
      "            7.2,\n",
      "            0,\n",
      "            \"ST_s-channel_4f_leptonDecays_13TeV-amcatnlo-Py8_TuneCUETP8M1__RunIISummer16MAv2-PUMoriond17_80r2as_2016_TrancheIV_v6-v1\",\n",
      "            \"Single top\",\n",
      "            398,\n",
      "            \"Tot\",\n",
      "            0,\n",
      "            \"No\",\n",
      "            0\n",
      "            ],\n",
      "\n",
      "\"ST_t-channel_antitop_4f_inclusiveDecays_13TeV-powhegV2-madspin-Py8_TuneCUETP8M1__RunIISummer16MAv2-PUMoriond17_80r2as_2016_TrancheIV_v6-v1\" : [\n",
      "            80.95,\n",
      "            0,\n",
      "            \"ST_t-channel_antitop_4f_inclusiveDecays_13TeV-powhegV2-madspin-Py8_TuneCUETP8M1__RunIISummer16MAv2-PUMoriond17_80r2as_2016_TrancheIV_v6-v1\",\n",
      "            \"Single top\",\n",
      "            398,\n",
      "            \"Tot\",\n",
      "            0,\n",
      "            \"No\",\n",
      "            0\n",
      "            ],\n",
      "\n",
      "\"ST_t-channel_top_4f_inclusiveDecays_13TeV-powhegV2-madspin-Py8_TuneCUETP8M1__RunIISummer16MAv2-PUMoriond17_80r2as_2016_TrancheIV_v6-v1\" : [\n",
      "            136.02,\n",
      "            0,\n",
      "            \"ST_t-channel_top_4f_inclusiveDecays_13TeV-powhegV2-madspin-Py8_TuneCUETP8M1__RunIISummer16MAv2-PUMoriond17_80r2as_2016_TrancheIV_v6-v1\",\n",
      "            \"Single top\",\n",
      "            398,\n",
      "            \"Tot\",\n",
      "            0,\n",
      "            \"No\",\n",
      "            0\n",
      "            ],\n",
      "\n",
      "\"ST_tW_antitop_5f_NoFullyHadronicDecays_13TeV-powheg_TuneCUETP8M1__RunIISummer16MAv2-PUMoriond17_80r2as_2016_TrancheIV_v6_ext1-v1\" : [\n",
      "            38.1,\n",
      "            0,\n",
      "            \"ST_tW_antitop_5f_NoFullyHadronicDecays_13TeV-powheg_TuneCUETP8M1__RunIISummer16MAv2-PUMoriond17_80r2as_2016_TrancheIV_v6_ext1-v1\",\n",
      "            \"Single top\",\n",
      "            398,\n",
      "            \"Tot\",\n",
      "            0,\n",
      "            \"No\",\n",
      "            0\n",
      "            ],\n",
      "\n",
      "\"ST_tW_antitop_5f_inclusiveDecays_13TeV-powheg-Py8_TuneCUETP8M1__RunIISummer16MAv2-PUMoriond17_80r2as_2016_TrancheIV_v6_ext1-v1\" : [\n",
      "            35.85,\n",
      "            0,\n",
      "            \"ST_tW_antitop_5f_inclusiveDecays_13TeV-powheg-Py8_TuneCUETP8M1__RunIISummer16MAv2-PUMoriond17_80r2as_2016_TrancheIV_v6_ext1-v1\",\n",
      "            \"Single top\",\n",
      "            398,\n",
      "            \"Tot\",\n",
      "            0,\n",
      "            \"No\",\n",
      "            0\n",
      "            ],\n",
      "\n",
      "\"ST_tW_top_5f_NoFullyHadronicDecays_13TeV-powheg_TuneCUETP8M1__RunIISummer16MAv2-PUMoriond17_80r2as_2016_TrancheIV_v6_ext1-v1\" : [\n",
      "            38.1,\n",
      "            0,\n",
      "            \"ST_tW_top_5f_NoFullyHadronicDecays_13TeV-powheg_TuneCUETP8M1__RunIISummer16MAv2-PUMoriond17_80r2as_2016_TrancheIV_v6_ext1-v1\",\n",
      "            \"Single top\",\n",
      "            398,\n",
      "            \"Tot\",\n",
      "            0,\n",
      "            \"No\",\n",
      "            0\n",
      "            ],\n",
      "\n",
      "\"ST_tW_top_5f_inclusiveDecays_13TeV-powheg-Py8_TuneCUETP8M1__RunIISummer16MAv2-PUMoriond17_80r2as_2016_TrancheIV_v6_ext1-v1\" : [\n",
      "            35.85,\n",
      "            0,\n",
      "            \"ST_tW_top_5f_inclusiveDecays_13TeV-powheg-Py8_TuneCUETP8M1__RunIISummer16MAv2-PUMoriond17_80r2as_2016_TrancheIV_v6_ext1-v1\",\n",
      "            \"Single top\",\n",
      "            398,\n",
      "            \"Tot\",\n",
      "            0,\n",
      "            \"No\",\n",
      "            0\n",
      "            ],\n",
      "\n",
      "\"TT_TuneCUETP8M2T4_13TeV-powheg-Py8__RunIISummer16MAv2-PUMoriond17_backup_80r2as_2016_TrancheIV_v6-v1\" : [\n",
      "            831.76,\n",
      "            0,\n",
      "            \"TT_TuneCUETP8M2T4_13TeV-powheg-Py8__RunIISummer16MAv2-PUMoriond17_backup_80r2as_2016_TrancheIV_v6-v1\",\n",
      "            \"t#bar{t}\",\n",
      "            633,\n",
      "            \"Tot\",\n",
      "            0,\n",
      "            \"No\",\n",
      "            0\n",
      "            ],\n",
      "\n",
      "\"WW_TuneCUETP8M1_13TeV-Py8__RunIISummer16MAv2-PUMoriond17_80r2as_2016_TrancheIV_v6-v1\" : [\n",
      "            113.826,\n",
      "            0,\n",
      "            \"WW_TuneCUETP8M1_13TeV-Py8__RunIISummer16MAv2-PUMoriond17_80r2as_2016_TrancheIV_v6-v1\",\n",
      "            \"Dibosons\",\n",
      "            806,\n",
      "            \"Tot\",\n",
      "            0,\n",
      "            \"No\",\n",
      "            0\n",
      "            ],\n",
      "\n",
      "\"WZ_TuneCUETP8M1_13TeV-Py8__RunIISummer16MAv2-PUMoriond17_80r2as_2016_TrancheIV_v6-v1\" : [\n",
      "            45.01,\n",
      "            0,\n",
      "            \"WZ_TuneCUETP8M1_13TeV-Py8__RunIISummer16MAv2-PUMoriond17_80r2as_2016_TrancheIV_v6-v1\",\n",
      "            \"Dibosons\",\n",
      "            806,\n",
      "            \"Tot\",\n",
      "            0,\n",
      "            \"No\",\n",
      "            0\n",
      "            ],\n",
      "\n",
      "\"ZZ_TuneCUETP8M1_13TeV-Py8__RunIISummer16MAv2-PUMoriond17_80r2as_2016_TrancheIV_v6-v1\" : [\n",
      "            16.91,\n",
      "            0,\n",
      "            \"ZZ_TuneCUETP8M1_13TeV-Py8__RunIISummer16MAv2-PUMoriond17_80r2as_2016_TrancheIV_v6-v1\",\n",
      "            \"Dibosons\",\n",
      "            806,\n",
      "            \"Tot\",\n",
      "            0,\n",
      "            \"No\",\n",
      "            0\n",
      "            ],\n",
      "\n",
      "\"ZH_HToBB_ZToLL_M125_13TeV_amcatnloFXFX_madspin_Py8__RunIISummer16MAv2-PUMoriond17_80r2as_2016_TrancheIV_v6-v1\" : [\n",
      "            0.0519,\n",
      "            0,\n",
      "            \"ZH_HToBB_ZToLL_M125_13TeV_amcatnloFXFX_madspin_Py8__RunIISummer16MAv2-PUMoriond17_80r2as_2016_TrancheIV_v6-v1\",\n",
      "            \"ZH\",\n",
      "            617,\n",
      "            \"Tot\",\n",
      "            0,\n",
      "            \"No\",\n",
      "            0\n",
      "            ],\n",
      "\n",
      "}\n"
     ]
    }
   ],
   "source": [
    " \n",
    "#BGs\n",
    "color = None\n",
    "for d in bgList_modified:\n",
    "    xsec = xsecs[d]\n",
    "    if \"DY\" in d:\n",
    "        title = \"DY\"\n",
    "        color = 868\n",
    "    elif \"TT\" in d:\n",
    "        title = \"t#bar{t}\"\n",
    "        color = 633\n",
    "    elif \"ST\" in d:\n",
    "        title = \"Single top\"\n",
    "        color = 398\n",
    "    elif \"WZ\" in d or \"ZZ\" in d or \"WW\"in d:\n",
    "        title = \"Dibosons\"\n",
    "        color = 806\n",
    "    elif \"ZH\" in d:\n",
    "        title = \"ZH\"\n",
    "        color = 617\n",
    "    else:\n",
    "        print 'not possible'\n",
    "        sys.exit(1)\n",
    "        \n",
    "    print '\"' + d[:-1] + '\" : ['\n",
    "    print threetabs + str(xsec) + ','\n",
    "    print threetabs + '0,'\n",
    "    print threetabs + '\"' + d[:-1] + '\",'\n",
    "    print threetabs + '\"' + title + '\",'\n",
    "    print threetabs + str(color) + ','\n",
    "    print threetabs + '\"Tot\",'\n",
    "    print threetabs + '0,'\n",
    "    print threetabs + '\"No\",'\n",
    "    print threetabs + str(muonORele) \n",
    "    print threetabs + '],'\n",
    "    print\n",
    "    \n",
    "    \n",
    "print 'REMOVE the VERY last COMMA!'\n",
    "print '}'"
   ]
  },
  {
   "cell_type": "code",
   "execution_count": null,
   "metadata": {
    "collapsed": true
   },
   "outputs": [],
   "source": [
    "sigInputFile_260 = ROOT.TFile(\"BulkGraviton_M260_Hzz_minitree.root\")\n",
    "sigInputFile_270 = ROOT.TFile(\"BulkGraviton_M270_Hzz_minitree.root\")\n",
    "sigInputFile_300 = ROOT.TFile(\"BulkGraviton_M300_Hzz_minitree.root\")\n",
    "sigInputFile_350 = ROOT.TFile(\"BulkGraviton_M350_Hzz_minitree.root\")\n",
    "sigInputFile_400 = ROOT.TFile(\"BulkGraviton_M400_Hzz_minitree.root\")\n",
    "sigInputFile_450 = ROOT.TFile(\"BulkGraviton_M450_Hzz_minitree.root\")\n",
    "sigInputFile_600 = ROOT.TFile(\"BulkGraviton_M600_Hzz_minitree.root\")\n",
    "sigInputFile_650 = ROOT.TFile(\"BulkGraviton_M650_Hzz_minitree.root\")\n",
    "sigInputFile_900 = ROOT.TFile(\"BulkGraviton_M900_Hzz_minitree.root\")\n",
    "sigInputFile_1000 = ROOT.TFile(\"BulkGraviton_M1000_Hzz_minitree.root\")\n",
    "\n",
    "\n",
    "bgInputFile_TT = ROOT.TFile(\"TT_Tune_minitree.root\")\n",
    "bgInputFile_DY_1j = ROOT.TFile(\"DY1JetsToLL_M50_minitree.root\")\n",
    "bgInputFile_DY_2j = ROOT.TFile(\"DY2JetsToLL_M50_minitree.root\")\n",
    "bgInputFile_DY_3j = ROOT.TFile(\"DY3JetsToLL_M50_minitree.root\")\n",
    "bgInputFile_DY_4j = ROOT.TFile(\"DY4JetsToLL_M50_minitree.root\")\n",
    "\n",
    "dictOfFiles = {\n",
    "    sigInputFile_260:'Signal_260',\n",
    "    sigInputFile_270:'Signal_270',\n",
    "    sigInputFile_300:'Signal_300',\n",
    "    sigInputFile_350:'Signal_350',\n",
    "    sigInputFile_400:'Signal_400',\n",
    "    sigInputFile_450:'Signal_450',\n",
    "    sigInputFile_600:'Signal_600',\n",
    "    sigInputFile_650:'Signal_650',\n",
    "    sigInputFile_900:'Signal_900',\n",
    "    sigInputFile_1000:'Signal_1000',\n",
    "    bgInputFile_TT: 'TT',\n",
    "    bgInputFile_DY_1j: 'DY_1j',\n",
    "    bgInputFile_DY_2j: 'DY_2j',\n",
    "    bgInputFile_DY_3j: 'DY_3j',\n",
    "    bgInputFile_DY_4j: 'DY_4j'\n",
    "}\n"
   ]
  },
  {
   "cell_type": "code",
   "execution_count": 34,
   "metadata": {},
   "outputs": [
    {
     "name": "stdout",
     "output_type": "stream",
     "text": [
      "    dataInputFile_Bv1 = ROOT.TFile(\"DoubleMuon__Run2016B-03Feb2017_ver1-v1_minitree.root\")\n",
      "    dataInputFile_Bv2 = ROOT.TFile(\"DoubleMuon__Run2016B-03Feb2017_ver2-v2_minitree.root\")\n",
      "    dataInputFile_C = ROOT.TFile(\"DoubleMuon__Run2016C-03Feb2017-v1_minitree.root\")\n",
      "    dataInputFile_D = ROOT.TFile(\"DoubleMuon__Run2016D-03Feb2017-v1_minitree.root\")\n",
      "    dataInputFile_E = ROOT.TFile(\"DoubleMuon__Run2016E-03Feb2017-v1_minitree.root\")\n",
      "    dataInputFile_F = ROOT.TFile(\"DoubleMuon__Run2016F-03Feb2017-v1_minitree.root\")\n",
      "    dataInputFile_G = ROOT.TFile(\"DoubleMuon__Run2016G-03Feb2017-v1_minitree.root\")\n",
      "    dataInputFile_Hv2 = ROOT.TFile(\"DoubleMuon__Run2016H-03Feb2017_ver2-v1_minitree.root\")\n",
      "    dataInputFile_Hv3 = ROOT.TFile(\"DoubleMuon__Run2016H-03Feb2017_ver3-v1_minitree.root\")\n"
     ]
    }
   ],
   "source": [
    "eg_list = [\"DoubleEG__Run2016B-03Feb2017_ver1-v1_minitree.root\",\n",
    "\"DoubleEG__Run2016B-03Feb2017_ver2-v2_minitree.root\",\n",
    "\"DoubleEG__Run2016C-03Feb2017-v1_minitree.root\",\n",
    "\"DoubleEG__Run2016D-03Feb2017-v1_minitree.root\",\n",
    "\"DoubleEG__Run2016E-03Feb2017-v1_minitree.root\",\n",
    "\"DoubleEG__Run2016F-03Feb2017-v1_minitree.root\",\n",
    "\"DoubleEG__Run2016G-03Feb2017-v1_minitree.root\",\n",
    "\"DoubleEG__Run2016H-03Feb2017_ver2-v1_minitree.root\",\n",
    "\"DoubleEG__Run2016H-03Feb2017_ver3-v1_minitree.root\"]\n",
    "\n",
    "mm_list = [\"DoubleMuon__Run2016B-03Feb2017_ver1-v1_minitree.root\",\n",
    "\"DoubleMuon__Run2016B-03Feb2017_ver2-v2_minitree.root\",\n",
    "\"DoubleMuon__Run2016C-03Feb2017-v1_minitree.root\",\n",
    "\"DoubleMuon__Run2016D-03Feb2017-v1_minitree.root\",\n",
    "\"DoubleMuon__Run2016E-03Feb2017-v1_minitree.root\",\n",
    "\"DoubleMuon__Run2016F-03Feb2017-v1_minitree.root\",\n",
    "\"DoubleMuon__Run2016G-03Feb2017-v1_minitree.root\",\n",
    "\"DoubleMuon__Run2016H-03Feb2017_ver2-v1_minitree.root\",\n",
    "\"DoubleMuon__Run2016H-03Feb2017_ver3-v1_minitree.root\"\n",
    "]\n",
    "names = ['Bv1', 'Bv2', 'C', 'D', 'E', 'F', 'G', 'Hv2', 'Hv3']\n",
    "#'Data_{0}_0'.format('eles' if eleRun else 'muons')\n",
    "pref = '    dataInputFile_%s = ROOT.TFile(\"%s\")'\n",
    "#pref = \"    dataInputFile_%s : 'Data_{0}_%s'.format('eles' if eleRun else 'muons'),\"\n",
    "for idx, samp in enumerate(mm_list):\n",
    "    #pref = 'Data_%s = None'        \n",
    "    #print pref % (idx)\n",
    "    \n",
    "    print pref % (names[idx], samp)\n",
    "\n"
   ]
  },
  {
   "cell_type": "code",
   "execution_count": null,
   "metadata": {
    "collapsed": true
   },
   "outputs": [],
   "source": [
    "sigInputFile_%s = ROOT.TFile(\"GluGluToBulkGravitonToHHTo2B2ZTo2L2Nu_M-350_narrow_13TeV-madgraph__RunIISummer16MAv2-PUMoriond17_80r2as_2016_TrancheIV_v6-v1_minitree.root\")"
   ]
  },
  {
   "cell_type": "code",
   "execution_count": null,
   "metadata": {
    "collapsed": true
   },
   "outputs": [],
   "source": [
    "pref = 'sigInputFile_'\n",
    "suf = ' = ROOT.TFile(\"GluGluToBulkGravitonToHHTo2B2ZTo2L2Nu_M-'\n",
    "postf = '_narrow_13TeV-madgraph__RunIISummer16MAv2-PUMoriond17_80r2as_2016_TrancheIV_v6-v1_minitree.root\")'\n",
    "masses = [250, 260, 270, 300, 350, 400, 450, 500, 550, 600, 650, 700, 750, 800, 900, 1000]\n",
    "\n",
    "for m in masses:\n",
    "    print pref + str(m) + suf + str(m) + postf\n",
    "    "
   ]
  },
  {
   "cell_type": "code",
   "execution_count": 7,
   "metadata": {},
   "outputs": [
    {
     "name": "stdout",
     "output_type": "stream",
     "text": [
      "sigInputFile_250 = ROOT.TFile(\"GluGluToBulkGravitonToHHTo2B2ZTo2L2Nu_M-250_narrow_13TeV-madgraph__RunIISummer16MAv2-PUMoriond17_80r2as_2016_TrancheIV_v6-v1_minitree.root\")\n",
      "sigInputFile_260 = ROOT.TFile(\"GluGluToBulkGravitonToHHTo2B2ZTo2L2Nu_M-260_narrow_13TeV-madgraph__RunIISummer16MAv2-PUMoriond17_80r2as_2016_TrancheIV_v6-v1_minitree.root\")\n",
      "sigInputFile_270 = ROOT.TFile(\"GluGluToBulkGravitonToHHTo2B2ZTo2L2Nu_M-270_narrow_13TeV-madgraph__RunIISummer16MAv2-PUMoriond17_80r2as_2016_TrancheIV_v6-v1_minitree.root\")\n",
      "sigInputFile_300 = ROOT.TFile(\"GluGluToBulkGravitonToHHTo2B2ZTo2L2Nu_M-300_narrow_13TeV-madgraph__RunIISummer16MAv2-PUMoriond17_80r2as_2016_TrancheIV_v6-v1_minitree.root\")\n",
      "sigInputFile_350 = ROOT.TFile(\"GluGluToBulkGravitonToHHTo2B2ZTo2L2Nu_M-350_narrow_13TeV-madgraph__RunIISummer16MAv2-PUMoriond17_80r2as_2016_TrancheIV_v6-v1_minitree.root\")\n",
      "sigInputFile_400 = ROOT.TFile(\"GluGluToBulkGravitonToHHTo2B2ZTo2L2Nu_M-400_narrow_13TeV-madgraph__RunIISummer16MAv2-PUMoriond17_80r2as_2016_TrancheIV_v6-v1_minitree.root\")\n",
      "sigInputFile_450 = ROOT.TFile(\"GluGluToBulkGravitonToHHTo2B2ZTo2L2Nu_M-450_narrow_13TeV-madgraph__RunIISummer16MAv2-PUMoriond17_80r2as_2016_TrancheIV_v6-v1_minitree.root\")\n",
      "sigInputFile_500 = ROOT.TFile(\"GluGluToBulkGravitonToHHTo2B2ZTo2L2Nu_M-500_narrow_13TeV-madgraph__RunIISummer16MAv2-PUMoriond17_80r2as_2016_TrancheIV_v6-v1_minitree.root\")\n",
      "sigInputFile_550 = ROOT.TFile(\"GluGluToBulkGravitonToHHTo2B2ZTo2L2Nu_M-550_narrow_13TeV-madgraph__RunIISummer16MAv2-PUMoriond17_80r2as_2016_TrancheIV_v6-v1_minitree.root\")\n",
      "sigInputFile_600 = ROOT.TFile(\"GluGluToBulkGravitonToHHTo2B2ZTo2L2Nu_M-600_narrow_13TeV-madgraph__RunIISummer16MAv2-PUMoriond17_80r2as_2016_TrancheIV_v6-v1_minitree.root\")\n",
      "sigInputFile_650 = ROOT.TFile(\"GluGluToBulkGravitonToHHTo2B2ZTo2L2Nu_M-650_narrow_13TeV-madgraph__RunIISummer16MAv2-PUMoriond17_80r2as_2016_TrancheIV_v6-v1_minitree.root\")\n",
      "sigInputFile_700 = ROOT.TFile(\"GluGluToBulkGravitonToHHTo2B2ZTo2L2Nu_M-700_narrow_13TeV-madgraph__RunIISummer16MAv2-PUMoriond17_80r2as_2016_TrancheIV_v6-v1_minitree.root\")\n",
      "sigInputFile_750 = ROOT.TFile(\"GluGluToBulkGravitonToHHTo2B2ZTo2L2Nu_M-750_narrow_13TeV-madgraph__RunIISummer16MAv2-PUMoriond17_80r2as_2016_TrancheIV_v6-v1_minitree.root\")\n",
      "sigInputFile_800 = ROOT.TFile(\"GluGluToBulkGravitonToHHTo2B2ZTo2L2Nu_M-800_narrow_13TeV-madgraph__RunIISummer16MAv2-PUMoriond17_80r2as_2016_TrancheIV_v6-v1_minitree.root\")\n",
      "sigInputFile_900 = ROOT.TFile(\"GluGluToBulkGravitonToHHTo2B2ZTo2L2Nu_M-900_narrow_13TeV-madgraph__RunIISummer16MAv2-PUMoriond17_80r2as_2016_TrancheIV_v6-v1_minitree.root\")\n",
      "sigInputFile_1000 = ROOT.TFile(\"GluGluToBulkGravitonToHHTo2B2ZTo2L2Nu_M-1000_narrow_13TeV-madgraph__RunIISummer16MAv2-PUMoriond17_80r2as_2016_TrancheIV_v6-v1_minitree.root\")\n"
     ]
    }
   ],
   "source": [
    "bgInputFile_TT = ROOT.TFile(\"TT_TuneCUETP8M2T4_13TeV-powheg-Py8__RunIISummer16MAv2-PUMoriond17_backup_80r2as_2016_TrancheIV_v6-v1_minitree.root\")\n",
    "bgInputFile_DY_1j = ROOT.TFile(\"DY1JetsToLL_M-50_TuneCUETP8M1_13TeV-madgraphMLM-Py8__RunIISummer16MAv2-PUMoriond17_80r2as_2016_TrancheIV_v6-v1_minitree.root\")\n",
    "bgInputFile_DY_2j = ROOT.TFile(\"DY2JetsToLL_M-50_TuneCUETP8M1_13TeV-madgraphMLM-Py8__RunIISummer16MAv2-PUMoriond17_80r2as_2016_TrancheIV_v6-v1_minitree.root\")\n",
    "bgInputFile_DY_3j = ROOT.TFile(\"DY3JetsToLL_M-50_TuneCUETP8M1_13TeV-madgraphMLM-Py8__RunIISummer16MAv2-PUMoriond17_80r2as_2016_TrancheIV_v6-v1_minitree.root\")\n",
    "bgInputFile_DY_4j = ROOT.TFile(\"DY4JetsToLL_M-50_TuneCUETP8M1_13TeV-madgraphMLM-Py8__RunIISummer16MAv2-PUMoriond17_80r2as_2016_TrancheIV_v6-v1_minitree.root\")\n"
   ]
  },
  {
   "cell_type": "code",
   "execution_count": null,
   "metadata": {
    "collapsed": true
   },
   "outputs": [],
   "source": [
    "dictOfFiles = {\n",
    "    sigInputFile_260:'Signal_260',\n",
    "    sigInputFile_270:'Signal_270',\n",
    "    sigInputFile_300:'Signal_300',\n",
    "    sigInputFile_350:'Signal_350',\n",
    "    sigInputFile_400:'Signal_400',\n",
    "    sigInputFile_450:'Signal_450',\n",
    "    sigInputFile_600:'Signal_600',\n",
    "    sigInputFile_650:'Signal_650',\n",
    "    sigInputFile_900:'Signal_900',\n",
    "    sigInputFile_1000:'Signal_1000',\n",
    "    bgInputFile_TT: 'TT',\n",
    "    bgInputFile_DY_1j: 'DY_1j',"
   ]
  },
  {
   "cell_type": "code",
   "execution_count": 5,
   "metadata": {},
   "outputs": [
    {
     "name": "stdout",
     "output_type": "stream",
     "text": [
      "dictOfFiles = {\n",
      "sigInputFile_250 = ROOT.TFile(dirWithMCSamples + \"GluGluToBulkGravitonToHHTo2B2ZTo2L2Nu_M-250_narrow_13TeV-madgraph__RunIISummer16MAv2-PUMoriond17_80r2as_2016_TrancheIV_v6-v1_minitree.root\")\n",
      "sigInputFile_260 = ROOT.TFile(dirWithMCSamples + \"GluGluToBulkGravitonToHHTo2B2ZTo2L2Nu_M-260_narrow_13TeV-madgraph__RunIISummer16MAv2-PUMoriond17_80r2as_2016_TrancheIV_v6-v1_minitree.root\")\n",
      "sigInputFile_270 = ROOT.TFile(dirWithMCSamples + \"GluGluToBulkGravitonToHHTo2B2ZTo2L2Nu_M-270_narrow_13TeV-madgraph__RunIISummer16MAv2-PUMoriond17_80r2as_2016_TrancheIV_v6-v1_minitree.root\")\n",
      "sigInputFile_300 = ROOT.TFile(dirWithMCSamples + \"GluGluToBulkGravitonToHHTo2B2ZTo2L2Nu_M-300_narrow_13TeV-madgraph__RunIISummer16MAv2-PUMoriond17_80r2as_2016_TrancheIV_v6-v1_minitree.root\")\n",
      "sigInputFile_350 = ROOT.TFile(dirWithMCSamples + \"GluGluToBulkGravitonToHHTo2B2ZTo2L2Nu_M-350_narrow_13TeV-madgraph__RunIISummer16MAv2-PUMoriond17_80r2as_2016_TrancheIV_v6-v1_minitree.root\")\n",
      "sigInputFile_400 = ROOT.TFile(dirWithMCSamples + \"GluGluToBulkGravitonToHHTo2B2ZTo2L2Nu_M-400_narrow_13TeV-madgraph__RunIISummer16MAv2-PUMoriond17_80r2as_2016_TrancheIV_v6-v1_minitree.root\")\n",
      "sigInputFile_450 = ROOT.TFile(dirWithMCSamples + \"GluGluToBulkGravitonToHHTo2B2ZTo2L2Nu_M-450_narrow_13TeV-madgraph__RunIISummer16MAv2-PUMoriond17_80r2as_2016_TrancheIV_v6-v1_minitree.root\")\n",
      "sigInputFile_500 = ROOT.TFile(dirWithMCSamples + \"GluGluToBulkGravitonToHHTo2B2ZTo2L2Nu_M-500_narrow_13TeV-madgraph__RunIISummer16MAv2-PUMoriond17_80r2as_2016_TrancheIV_v6-v1_minitree.root\")\n",
      "sigInputFile_550 = ROOT.TFile(dirWithMCSamples + \"GluGluToBulkGravitonToHHTo2B2ZTo2L2Nu_M-550_narrow_13TeV-madgraph__RunIISummer16MAv2-PUMoriond17_80r2as_2016_TrancheIV_v6-v1_minitree.root\")\n",
      "sigInputFile_600 = ROOT.TFile(dirWithMCSamples + \"GluGluToBulkGravitonToHHTo2B2ZTo2L2Nu_M-600_narrow_13TeV-madgraph__RunIISummer16MAv2-PUMoriond17_80r2as_2016_TrancheIV_v6-v1_minitree.root\")\n",
      "sigInputFile_650 = ROOT.TFile(dirWithMCSamples + \"GluGluToBulkGravitonToHHTo2B2ZTo2L2Nu_M-650_narrow_13TeV-madgraph__RunIISummer16MAv2-PUMoriond17_80r2as_2016_TrancheIV_v6-v1_minitree.root\")\n",
      "sigInputFile_700 = ROOT.TFile(dirWithMCSamples + \"GluGluToBulkGravitonToHHTo2B2ZTo2L2Nu_M-700_narrow_13TeV-madgraph__RunIISummer16MAv2-PUMoriond17_80r2as_2016_TrancheIV_v6-v1_minitree.root\")\n",
      "sigInputFile_750 = ROOT.TFile(dirWithMCSamples + \"GluGluToBulkGravitonToHHTo2B2ZTo2L2Nu_M-750_narrow_13TeV-madgraph__RunIISummer16MAv2-PUMoriond17_80r2as_2016_TrancheIV_v6-v1_minitree.root\")\n",
      "sigInputFile_800 = ROOT.TFile(dirWithMCSamples + \"GluGluToBulkGravitonToHHTo2B2ZTo2L2Nu_M-800_narrow_13TeV-madgraph__RunIISummer16MAv2-PUMoriond17_80r2as_2016_TrancheIV_v6-v1_minitree.root\")\n",
      "sigInputFile_900 = ROOT.TFile(dirWithMCSamples + \"GluGluToBulkGravitonToHHTo2B2ZTo2L2Nu_M-900_narrow_13TeV-madgraph__RunIISummer16MAv2-PUMoriond17_80r2as_2016_TrancheIV_v6-v1_minitree.root\")\n",
      "sigInputFile_1000 = ROOT.TFile(dirWithMCSamples + \"GluGluToBulkGravitonToHHTo2B2ZTo2L2Nu_M-1000_narrow_13TeV-madgraph__RunIISummer16MAv2-PUMoriond17_80r2as_2016_TrancheIV_v6-v2_minitree.root\")\n",
      "}\n"
     ]
    }
   ],
   "source": [
    "firstLine = 'dictOfFiles = {'\n",
    "onetab = '    '\n",
    "lastLine = '}'\n",
    "pref = 'sigInputFile_%s = ROOT.TFile(dirWithMCSamples + \"GluGluToBulkGravitonToHHTo2B2ZTo2L2Nu_M-%s_narrow_13TeV-madgraph__RunIISummer16MAv2-PUMoriond17_80r2as_2016_TrancheIV_v6-v1_minitree.root\")'\n",
    "pref1000 = 'sigInputFile_%s = ROOT.TFile(dirWithMCSamples + \"GluGluToBulkGravitonToHHTo2B2ZTo2L2Nu_M-%s_narrow_13TeV-madgraph__RunIISummer16MAv2-PUMoriond17_80r2as_2016_TrancheIV_v6-v2_minitree.root\")'\n",
    "\n",
    "masses = [250, 260, 270, 300, 350, 400, 450, 500, 550, 600, 650, 700, 750, 800, 900, 1000]\n",
    "\n",
    "print firstLine\n",
    "for m in masses:\n",
    "    if m == 1000:\n",
    "        print pref1000 % (m, m)\n",
    "    else:\n",
    "        print pref % (m, m)\n",
    "print lastLine"
   ]
  },
  {
   "cell_type": "code",
   "execution_count": null,
   "metadata": {
    "collapsed": true
   },
   "outputs": [],
   "source": [
    "\n",
    "bgInputFile_TT = ROOT.TFile(dirWithMCSamples + \"TT_Tune_minitree.root\")\n",
    "bgInputFile_DY_1j = ROOT.TFile(dirWithMCSamples + \"DY1JetsToLL_M50_minitree.root\")\n",
    "bgInputFile_DY_2j = ROOT.TFile(dirWithMCSamples + \"DY2JetsToLL_M50_minitree.root\")\n",
    "bgInputFile_DY_3j = ROOT.TFile(dirWithMCSamples + \"DY3JetsToLL_M50_minitree.root\")\n",
    "bgInputFile_DY_4j = ROOT.TFile(dirWithMCSamples + \"DY4JetsToLL_M50_minitree.root\")\n",
    "\n"
   ]
  },
  {
   "cell_type": "code",
   "execution_count": 2,
   "metadata": {},
   "outputs": [
    {
     "name": "stdout",
     "output_type": "stream",
     "text": [
      "71\n"
     ]
    }
   ],
   "source": [
    "zzList = [\"GluGluToBulkGravitonToHHTo2B2ZTo2L2Nu_M-1000_narrow_13TeV-madgraph__RunIISummer16MAv2-PUMoriond17_80r2as_2016_TrancheIV_v6-v2_minitree.root\",\n",
    "\"GluGluToBulkGravitonToHHTo2B2ZTo2L2Nu_M-250_narrow_13TeV-madgraph__RunIISummer16MAv2-PUMoriond17_80r2as_2016_TrancheIV_v6-v1_minitree.root\",\n",
    "\"GluGluToBulkGravitonToHHTo2B2ZTo2L2Nu_M-260_narrow_13TeV-madgraph__RunIISummer16MAv2-PUMoriond17_80r2as_2016_TrancheIV_v6-v1_minitree.root\",\n",
    "\"GluGluToBulkGravitonToHHTo2B2ZTo2L2Nu_M-270_narrow_13TeV-madgraph__RunIISummer16MAv2-PUMoriond17_80r2as_2016_TrancheIV_v6-v1_minitree.root\",\n",
    "\"GluGluToBulkGravitonToHHTo2B2ZTo2L2Nu_M-300_narrow_13TeV-madgraph__RunIISummer16MAv2-PUMoriond17_80r2as_2016_TrancheIV_v6-v1_minitree.root\",\n",
    "\"GluGluToBulkGravitonToHHTo2B2ZTo2L2Nu_M-350_narrow_13TeV-madgraph__RunIISummer16MAv2-PUMoriond17_80r2as_2016_TrancheIV_v6-v1_minitree.root\",\n",
    "\"GluGluToBulkGravitonToHHTo2B2ZTo2L2Nu_M-400_narrow_13TeV-madgraph__RunIISummer16MAv2-PUMoriond17_80r2as_2016_TrancheIV_v6-v1_minitree.root\",\n",
    "\"GluGluToBulkGravitonToHHTo2B2ZTo2L2Nu_M-450_narrow_13TeV-madgraph__RunIISummer16MAv2-PUMoriond17_80r2as_2016_TrancheIV_v6-v1_minitree.root\",\n",
    "\"GluGluToBulkGravitonToHHTo2B2ZTo2L2Nu_M-500_narrow_13TeV-madgraph__RunIISummer16MAv2-PUMoriond17_80r2as_2016_TrancheIV_v6-v1_minitree.root\",\n",
    "\"GluGluToBulkGravitonToHHTo2B2ZTo2L2Nu_M-550_narrow_13TeV-madgraph__RunIISummer16MAv2-PUMoriond17_80r2as_2016_TrancheIV_v6-v1_minitree.root\",\n",
    "\"GluGluToBulkGravitonToHHTo2B2ZTo2L2Nu_M-600_narrow_13TeV-madgraph__RunIISummer16MAv2-PUMoriond17_80r2as_2016_TrancheIV_v6-v1_minitree.root\",\n",
    "\"GluGluToBulkGravitonToHHTo2B2ZTo2L2Nu_M-650_narrow_13TeV-madgraph__RunIISummer16MAv2-PUMoriond17_80r2as_2016_TrancheIV_v6-v1_minitree.root\",\n",
    "\"GluGluToBulkGravitonToHHTo2B2ZTo2L2Nu_M-700_narrow_13TeV-madgraph__RunIISummer16MAv2-PUMoriond17_80r2as_2016_TrancheIV_v6-v1_minitree.root\",\n",
    "\"GluGluToBulkGravitonToHHTo2B2ZTo2L2Nu_M-750_narrow_13TeV-madgraph__RunIISummer16MAv2-PUMoriond17_80r2as_2016_TrancheIV_v6-v1_minitree.root\",\n",
    "\"GluGluToBulkGravitonToHHTo2B2ZTo2L2Nu_M-800_narrow_13TeV-madgraph__RunIISummer16MAv2-PUMoriond17_80r2as_2016_TrancheIV_v6-v1_minitree.root\",\n",
    "\"GluGluToBulkGravitonToHHTo2B2ZTo2L2Nu_M-900_narrow_13TeV-madgraph__RunIISummer16MAv2-PUMoriond17_80r2as_2016_TrancheIV_v6-v1_minitree.root\"\n",
    "]\n",
    "\n",
    "\n",
    "wwList = [\"GluGluToBulkGravitonToHHTo2B2VTo2L2Nu_M-1000_narrow_13TeV-madgraph_HWW_minitree.root\",\n",
    "\"GluGluToBulkGravitonToHHTo2B2VTo2L2Nu_M-260_narrow_13TeV-madgraph_HWW_minitree.root\",\n",
    "\"GluGluToBulkGravitonToHHTo2B2VTo2L2Nu_M-270_narrow_13TeV-madgraph_HWW_minitree.root\",\n",
    "\"GluGluToBulkGravitonToHHTo2B2VTo2L2Nu_M-300_narrow_13TeV-madgraph_HWW_minitree.root\",\n",
    "\"GluGluToBulkGravitonToHHTo2B2VTo2L2Nu_M-350_narrow_13TeV-madgraph_HWW_minitree.root\",\n",
    "\"GluGluToBulkGravitonToHHTo2B2VTo2L2Nu_M-400_narrow_13TeV-madgraph_HWW_minitree.root\",\n",
    "\"GluGluToBulkGravitonToHHTo2B2VTo2L2Nu_M-450_narrow_13TeV-madgraph_HWW_minitree.root\",\n",
    "\"GluGluToBulkGravitonToHHTo2B2VTo2L2Nu_M-600_narrow_13TeV-madgraph_HWW_minitree.root\",\n",
    "\"GluGluToBulkGravitonToHHTo2B2VTo2L2Nu_M-650_narrow_13TeV-madgraph_HWW_minitree.root\",\n",
    "\"GluGluToBulkGravitonToHHTo2B2VTo2L2Nu_M-900_narrow_13TeV-madgraph_HWW_minitree.root\",\n",
    "\n",
    "]\n",
    "\n",
    "bgList = [\"DY1JetsToLL_M-50_TuneCUETP8M1_13TeV-madgraphMLM-Py8__RunIISummer16MAv2-PUMoriond17_80r2as_2016_TrancheIV_v6-v1_minitree.root\",\n",
    "\"DY2JetsToLL_M-50_TuneCUETP8M1_13TeV-madgraphMLM-Py8__RunIISummer16MAv2-PUMoriond17_80r2as_2016_TrancheIV_v6-v1_minitree.root\",\n",
    "\"DY3JetsToLL_M-50_TuneCUETP8M1_13TeV-madgraphMLM-Py8__RunIISummer16MAv2-PUMoriond17_80r2as_2016_TrancheIV_v6-v1_minitree.root\",\n",
    "\"DY4JetsToLL_M-50_TuneCUETP8M1_13TeV-madgraphMLM-Py8__RunIISummer16MAv2-PUMoriond17_80r2as_2016_TrancheIV_v6-v1_minitree.root\",\n",
    "\"ST_s-channel_4f_leptonDecays_13TeV-amcatnlo-Py8_TuneCUETP8M1__RunIISummer16MAv2-PUMoriond17_80r2as_2016_TrancheIV_v6-v1_minitree.root\",\n",
    "\"ST_t-channel_antitop_4f_inclusiveDecays_13TeV-powhegV2-madspin-Py8_TuneCUETP8M1__RunIISummer16MAv2-PUMoriond17_80r2as_2016_TrancheIV_v6-v1_minitree.root\",\n",
    "\"ST_t-channel_top_4f_inclusiveDecays_13TeV-powhegV2-madspin-Py8_TuneCUETP8M1__RunIISummer16MAv2-PUMoriond17_80r2as_2016_TrancheIV_v6-v1_minitree.root\",\n",
    "\"ST_tW_antitop_5f_NoFullyHadronicDecays_13TeV-powheg_TuneCUETP8M1__RunIISummer16MAv2-PUMoriond17_80r2as_2016_TrancheIV_v6_ext1-v1_minitree.root\",\n",
    "\"ST_tW_antitop_5f_inclusiveDecays_13TeV-powheg-Py8_TuneCUETP8M1__RunIISummer16MAv2-PUMoriond17_80r2as_2016_TrancheIV_v6_ext1-v1_minitree.root\",\n",
    "\"ST_tW_top_5f_NoFullyHadronicDecays_13TeV-powheg_TuneCUETP8M1__RunIISummer16MAv2-PUMoriond17_80r2as_2016_TrancheIV_v6_ext1-v1_minitree.root\",\n",
    "\"ST_tW_top_5f_inclusiveDecays_13TeV-powheg-Py8_TuneCUETP8M1__RunIISummer16MAv2-PUMoriond17_80r2as_2016_TrancheIV_v6_ext1-v1_minitree.root\",\n",
    "\"TT_TuneCUETP8M2T4_13TeV-powheg-Py8__RunIISummer16MAv2-PUMoriond17_backup_80r2as_2016_TrancheIV_v6-v1_minitree.root\",\n",
    "\"WW_TuneCUETP8M1_13TeV-Py8__RunIISummer16MAv2-PUMoriond17_80r2as_2016_TrancheIV_v6-v1_minitree.root\",\n",
    "\"WZ_TuneCUETP8M1_13TeV-Py8__RunIISummer16MAv2-PUMoriond17_80r2as_2016_TrancheIV_v6-v1_minitree.root\",\n",
    "\"ZH_HToBB_ZToLL_M125_13TeV_amcatnloFXFX_madspin_Py8__RunIISummer16MAv2-PUMoriond17_80r2as_2016_TrancheIV_v6-v1_minitree.root\",\n",
    "\"ZZ_TuneCUETP8M1_13TeV-Py8__RunIISummer16MAv2-PUMoriond17_80r2as_2016_TrancheIV_v6-v1_minitree.root\"\n",
    "\n",
    "]\n",
    "\n",
    "datalist = [\n",
    "\"DoubleEG__Run2016B-03Feb2017_ver1-v1_minitree.root\",\n",
    "\"DoubleEG__Run2016B-03Feb2017_ver2-v2_minitree.root\",\n",
    "\"DoubleEG__Run2016C-03Feb2017-v1_minitree.root\",\n",
    "\"DoubleEG__Run2016D-03Feb2017-v1_minitree.root\",\n",
    "\"DoubleEG__Run2016E-03Feb2017-v1_minitree.root\",\n",
    "\"DoubleEG__Run2016F-03Feb2017-v1_minitree.root\",\n",
    "\"DoubleEG__Run2016G-03Feb2017-v1_minitree.root\",\n",
    "\"DoubleEG__Run2016H-03Feb2017_ver2-v1_minitree.root\",\n",
    "\"DoubleEG__Run2016H-03Feb2017_ver3-v1_minitree.root\"\n",
    "\n",
    "]\n",
    "\n",
    "smallZZandVVList = [\n",
    "\"GluGluToBulkGravitonToHHTo2B2VTo2L2Nu_M-1000_narrow_13TeV-madgraph_Hzz_minitree.root\",\n",
    "\"GluGluToBulkGravitonToHHTo2B2VTo2L2Nu_M-260_narrow_13TeV-madgraph_Hzz_minitree.root\",\n",
    "\"GluGluToBulkGravitonToHHTo2B2VTo2L2Nu_M-270_narrow_13TeV-madgraph_Hzz_minitree.root\",\n",
    "\"GluGluToBulkGravitonToHHTo2B2VTo2L2Nu_M-300_narrow_13TeV-madgraph_Hzz_minitree.root\",\n",
    "\"GluGluToBulkGravitonToHHTo2B2VTo2L2Nu_M-350_narrow_13TeV-madgraph_Hzz_minitree.root\",\n",
    "\"GluGluToBulkGravitonToHHTo2B2VTo2L2Nu_M-400_narrow_13TeV-madgraph_Hzz_minitree.root\",\n",
    "\"GluGluToBulkGravitonToHHTo2B2VTo2L2Nu_M-450_narrow_13TeV-madgraph_Hzz_minitree.root\",\n",
    "\"GluGluToBulkGravitonToHHTo2B2VTo2L2Nu_M-600_narrow_13TeV-madgraph_Hzz_minitree.root\",\n",
    "\"GluGluToBulkGravitonToHHTo2B2VTo2L2Nu_M-650_narrow_13TeV-madgraph_Hzz_minitree.root\",\n",
    "\"GluGluToBulkGravitonToHHTo2B2VTo2L2Nu_M-900_narrow_13TeV-madgraph_Hzz_minitree.root\",\n",
    "\n",
    "\"GluGluToBulkGravitonToHHTo2B2VTo2L2Nu_M-1000_narrow_13TeV-madgraph_minitree.root\",\n",
    "\"GluGluToBulkGravitonToHHTo2B2VTo2L2Nu_M-260_narrow_13TeV-madgraph_minitree.root\",\n",
    "\"GluGluToBulkGravitonToHHTo2B2VTo2L2Nu_M-270_narrow_13TeV-madgraph_minitree.root\",\n",
    "\"GluGluToBulkGravitonToHHTo2B2VTo2L2Nu_M-300_narrow_13TeV-madgraph_minitree.root\",\n",
    "\"GluGluToBulkGravitonToHHTo2B2VTo2L2Nu_M-350_narrow_13TeV-madgraph_minitree.root\",\n",
    "\"GluGluToBulkGravitonToHHTo2B2VTo2L2Nu_M-400_narrow_13TeV-madgraph_minitree.root\",\n",
    "\"GluGluToBulkGravitonToHHTo2B2VTo2L2Nu_M-450_narrow_13TeV-madgraph_minitree.root\",\n",
    "\"GluGluToBulkGravitonToHHTo2B2VTo2L2Nu_M-600_narrow_13TeV-madgraph_minitree.root\",\n",
    "\"GluGluToBulkGravitonToHHTo2B2VTo2L2Nu_M-650_narrow_13TeV-madgraph_minitree.root\",\n",
    "\"GluGluToBulkGravitonToHHTo2B2VTo2L2Nu_M-900_narrow_13TeV-madgraph_minitree.root\"\n",
    "\n",
    "\n",
    "\n",
    "    \n",
    "]\n",
    "samples = zzList + wwList + bgList + datalist + smallZZandVVList\n",
    "print len(samples)\n",
    "\n"
   ]
  },
  {
   "cell_type": "code",
   "execution_count": 3,
   "metadata": {},
   "outputs": [
    {
     "name": "stdout",
     "output_type": "stream",
     "text": [
      "zz_sigInputFile_GluGluToBulkGravitonToHHTo2B2ZTo2L2Nu_M_1000_narrow_13TeV_madgraph__RunIISummer16MAv2_PUMoriond17_80r2as_2016_TrancheIV_v6_v2 = ROOT.TFile(dirWithMCSamples + \"GluGluToBulkGravitonToHHTo2B2ZTo2L2Nu_M-1000_narrow_13TeV-madgraph__RunIISummer16MAv2-PUMoriond17_80r2as_2016_TrancheIV_v6-v2_minitree.root\")\n",
      "\n",
      "zz_sigInputFile_GluGluToBulkGravitonToHHTo2B2ZTo2L2Nu_M_250_narrow_13TeV_madgraph__RunIISummer16MAv2_PUMoriond17_80r2as_2016_TrancheIV_v6_v1 = ROOT.TFile(dirWithMCSamples + \"GluGluToBulkGravitonToHHTo2B2ZTo2L2Nu_M-250_narrow_13TeV-madgraph__RunIISummer16MAv2-PUMoriond17_80r2as_2016_TrancheIV_v6-v1_minitree.root\")\n",
      "\n",
      "zz_sigInputFile_GluGluToBulkGravitonToHHTo2B2ZTo2L2Nu_M_260_narrow_13TeV_madgraph__RunIISummer16MAv2_PUMoriond17_80r2as_2016_TrancheIV_v6_v1 = ROOT.TFile(dirWithMCSamples + \"GluGluToBulkGravitonToHHTo2B2ZTo2L2Nu_M-260_narrow_13TeV-madgraph__RunIISummer16MAv2-PUMoriond17_80r2as_2016_TrancheIV_v6-v1_minitree.root\")\n",
      "\n",
      "zz_sigInputFile_GluGluToBulkGravitonToHHTo2B2ZTo2L2Nu_M_270_narrow_13TeV_madgraph__RunIISummer16MAv2_PUMoriond17_80r2as_2016_TrancheIV_v6_v1 = ROOT.TFile(dirWithMCSamples + \"GluGluToBulkGravitonToHHTo2B2ZTo2L2Nu_M-270_narrow_13TeV-madgraph__RunIISummer16MAv2-PUMoriond17_80r2as_2016_TrancheIV_v6-v1_minitree.root\")\n",
      "\n",
      "zz_sigInputFile_GluGluToBulkGravitonToHHTo2B2ZTo2L2Nu_M_300_narrow_13TeV_madgraph__RunIISummer16MAv2_PUMoriond17_80r2as_2016_TrancheIV_v6_v1 = ROOT.TFile(dirWithMCSamples + \"GluGluToBulkGravitonToHHTo2B2ZTo2L2Nu_M-300_narrow_13TeV-madgraph__RunIISummer16MAv2-PUMoriond17_80r2as_2016_TrancheIV_v6-v1_minitree.root\")\n",
      "\n",
      "zz_sigInputFile_GluGluToBulkGravitonToHHTo2B2ZTo2L2Nu_M_350_narrow_13TeV_madgraph__RunIISummer16MAv2_PUMoriond17_80r2as_2016_TrancheIV_v6_v1 = ROOT.TFile(dirWithMCSamples + \"GluGluToBulkGravitonToHHTo2B2ZTo2L2Nu_M-350_narrow_13TeV-madgraph__RunIISummer16MAv2-PUMoriond17_80r2as_2016_TrancheIV_v6-v1_minitree.root\")\n",
      "\n",
      "zz_sigInputFile_GluGluToBulkGravitonToHHTo2B2ZTo2L2Nu_M_400_narrow_13TeV_madgraph__RunIISummer16MAv2_PUMoriond17_80r2as_2016_TrancheIV_v6_v1 = ROOT.TFile(dirWithMCSamples + \"GluGluToBulkGravitonToHHTo2B2ZTo2L2Nu_M-400_narrow_13TeV-madgraph__RunIISummer16MAv2-PUMoriond17_80r2as_2016_TrancheIV_v6-v1_minitree.root\")\n",
      "\n",
      "zz_sigInputFile_GluGluToBulkGravitonToHHTo2B2ZTo2L2Nu_M_450_narrow_13TeV_madgraph__RunIISummer16MAv2_PUMoriond17_80r2as_2016_TrancheIV_v6_v1 = ROOT.TFile(dirWithMCSamples + \"GluGluToBulkGravitonToHHTo2B2ZTo2L2Nu_M-450_narrow_13TeV-madgraph__RunIISummer16MAv2-PUMoriond17_80r2as_2016_TrancheIV_v6-v1_minitree.root\")\n",
      "\n",
      "zz_sigInputFile_GluGluToBulkGravitonToHHTo2B2ZTo2L2Nu_M_500_narrow_13TeV_madgraph__RunIISummer16MAv2_PUMoriond17_80r2as_2016_TrancheIV_v6_v1 = ROOT.TFile(dirWithMCSamples + \"GluGluToBulkGravitonToHHTo2B2ZTo2L2Nu_M-500_narrow_13TeV-madgraph__RunIISummer16MAv2-PUMoriond17_80r2as_2016_TrancheIV_v6-v1_minitree.root\")\n",
      "\n",
      "zz_sigInputFile_GluGluToBulkGravitonToHHTo2B2ZTo2L2Nu_M_550_narrow_13TeV_madgraph__RunIISummer16MAv2_PUMoriond17_80r2as_2016_TrancheIV_v6_v1 = ROOT.TFile(dirWithMCSamples + \"GluGluToBulkGravitonToHHTo2B2ZTo2L2Nu_M-550_narrow_13TeV-madgraph__RunIISummer16MAv2-PUMoriond17_80r2as_2016_TrancheIV_v6-v1_minitree.root\")\n",
      "\n",
      "zz_sigInputFile_GluGluToBulkGravitonToHHTo2B2ZTo2L2Nu_M_600_narrow_13TeV_madgraph__RunIISummer16MAv2_PUMoriond17_80r2as_2016_TrancheIV_v6_v1 = ROOT.TFile(dirWithMCSamples + \"GluGluToBulkGravitonToHHTo2B2ZTo2L2Nu_M-600_narrow_13TeV-madgraph__RunIISummer16MAv2-PUMoriond17_80r2as_2016_TrancheIV_v6-v1_minitree.root\")\n",
      "\n",
      "zz_sigInputFile_GluGluToBulkGravitonToHHTo2B2ZTo2L2Nu_M_650_narrow_13TeV_madgraph__RunIISummer16MAv2_PUMoriond17_80r2as_2016_TrancheIV_v6_v1 = ROOT.TFile(dirWithMCSamples + \"GluGluToBulkGravitonToHHTo2B2ZTo2L2Nu_M-650_narrow_13TeV-madgraph__RunIISummer16MAv2-PUMoriond17_80r2as_2016_TrancheIV_v6-v1_minitree.root\")\n",
      "\n",
      "zz_sigInputFile_GluGluToBulkGravitonToHHTo2B2ZTo2L2Nu_M_700_narrow_13TeV_madgraph__RunIISummer16MAv2_PUMoriond17_80r2as_2016_TrancheIV_v6_v1 = ROOT.TFile(dirWithMCSamples + \"GluGluToBulkGravitonToHHTo2B2ZTo2L2Nu_M-700_narrow_13TeV-madgraph__RunIISummer16MAv2-PUMoriond17_80r2as_2016_TrancheIV_v6-v1_minitree.root\")\n",
      "\n",
      "zz_sigInputFile_GluGluToBulkGravitonToHHTo2B2ZTo2L2Nu_M_750_narrow_13TeV_madgraph__RunIISummer16MAv2_PUMoriond17_80r2as_2016_TrancheIV_v6_v1 = ROOT.TFile(dirWithMCSamples + \"GluGluToBulkGravitonToHHTo2B2ZTo2L2Nu_M-750_narrow_13TeV-madgraph__RunIISummer16MAv2-PUMoriond17_80r2as_2016_TrancheIV_v6-v1_minitree.root\")\n",
      "\n",
      "zz_sigInputFile_GluGluToBulkGravitonToHHTo2B2ZTo2L2Nu_M_800_narrow_13TeV_madgraph__RunIISummer16MAv2_PUMoriond17_80r2as_2016_TrancheIV_v6_v1 = ROOT.TFile(dirWithMCSamples + \"GluGluToBulkGravitonToHHTo2B2ZTo2L2Nu_M-800_narrow_13TeV-madgraph__RunIISummer16MAv2-PUMoriond17_80r2as_2016_TrancheIV_v6-v1_minitree.root\")\n",
      "\n",
      "zz_sigInputFile_GluGluToBulkGravitonToHHTo2B2ZTo2L2Nu_M_900_narrow_13TeV_madgraph__RunIISummer16MAv2_PUMoriond17_80r2as_2016_TrancheIV_v6_v1 = ROOT.TFile(dirWithMCSamples + \"GluGluToBulkGravitonToHHTo2B2ZTo2L2Nu_M-900_narrow_13TeV-madgraph__RunIISummer16MAv2-PUMoriond17_80r2as_2016_TrancheIV_v6-v1_minitree.root\")\n",
      "\n",
      "ww_sigInputFile_GluGluToBulkGravitonToHHTo2B2VTo2L2Nu_M_1000_narrow_13TeV_madgraph_HWW = ROOT.TFile(dirWithMCSamples + \"GluGluToBulkGravitonToHHTo2B2VTo2L2Nu_M-1000_narrow_13TeV-madgraph_HWW_minitree.root\")\n",
      "\n",
      "ww_sigInputFile_GluGluToBulkGravitonToHHTo2B2VTo2L2Nu_M_260_narrow_13TeV_madgraph_HWW = ROOT.TFile(dirWithMCSamples + \"GluGluToBulkGravitonToHHTo2B2VTo2L2Nu_M-260_narrow_13TeV-madgraph_HWW_minitree.root\")\n",
      "\n",
      "ww_sigInputFile_GluGluToBulkGravitonToHHTo2B2VTo2L2Nu_M_270_narrow_13TeV_madgraph_HWW = ROOT.TFile(dirWithMCSamples + \"GluGluToBulkGravitonToHHTo2B2VTo2L2Nu_M-270_narrow_13TeV-madgraph_HWW_minitree.root\")\n",
      "\n",
      "ww_sigInputFile_GluGluToBulkGravitonToHHTo2B2VTo2L2Nu_M_300_narrow_13TeV_madgraph_HWW = ROOT.TFile(dirWithMCSamples + \"GluGluToBulkGravitonToHHTo2B2VTo2L2Nu_M-300_narrow_13TeV-madgraph_HWW_minitree.root\")\n",
      "\n",
      "ww_sigInputFile_GluGluToBulkGravitonToHHTo2B2VTo2L2Nu_M_350_narrow_13TeV_madgraph_HWW = ROOT.TFile(dirWithMCSamples + \"GluGluToBulkGravitonToHHTo2B2VTo2L2Nu_M-350_narrow_13TeV-madgraph_HWW_minitree.root\")\n",
      "\n",
      "ww_sigInputFile_GluGluToBulkGravitonToHHTo2B2VTo2L2Nu_M_400_narrow_13TeV_madgraph_HWW = ROOT.TFile(dirWithMCSamples + \"GluGluToBulkGravitonToHHTo2B2VTo2L2Nu_M-400_narrow_13TeV-madgraph_HWW_minitree.root\")\n",
      "\n",
      "ww_sigInputFile_GluGluToBulkGravitonToHHTo2B2VTo2L2Nu_M_450_narrow_13TeV_madgraph_HWW = ROOT.TFile(dirWithMCSamples + \"GluGluToBulkGravitonToHHTo2B2VTo2L2Nu_M-450_narrow_13TeV-madgraph_HWW_minitree.root\")\n",
      "\n",
      "ww_sigInputFile_GluGluToBulkGravitonToHHTo2B2VTo2L2Nu_M_600_narrow_13TeV_madgraph_HWW = ROOT.TFile(dirWithMCSamples + \"GluGluToBulkGravitonToHHTo2B2VTo2L2Nu_M-600_narrow_13TeV-madgraph_HWW_minitree.root\")\n",
      "\n",
      "ww_sigInputFile_GluGluToBulkGravitonToHHTo2B2VTo2L2Nu_M_650_narrow_13TeV_madgraph_HWW = ROOT.TFile(dirWithMCSamples + \"GluGluToBulkGravitonToHHTo2B2VTo2L2Nu_M-650_narrow_13TeV-madgraph_HWW_minitree.root\")\n",
      "\n",
      "ww_sigInputFile_GluGluToBulkGravitonToHHTo2B2VTo2L2Nu_M_900_narrow_13TeV_madgraph_HWW = ROOT.TFile(dirWithMCSamples + \"GluGluToBulkGravitonToHHTo2B2VTo2L2Nu_M-900_narrow_13TeV-madgraph_HWW_minitree.root\")\n",
      "\n",
      "bgInputFile_DY1JetsToLL_M_50_TuneCUETP8M1_13TeV_madgraphMLM_Py8__RunIISummer16MAv2_PUMoriond17_80r2as_2016_TrancheIV_v6_v1 = ROOT.TFile(dirWithMCSamples + \"DY1JetsToLL_M-50_TuneCUETP8M1_13TeV-madgraphMLM-Py8__RunIISummer16MAv2-PUMoriond17_80r2as_2016_TrancheIV_v6-v1_minitree.root\")\n",
      "\n",
      "bgInputFile_DY2JetsToLL_M_50_TuneCUETP8M1_13TeV_madgraphMLM_Py8__RunIISummer16MAv2_PUMoriond17_80r2as_2016_TrancheIV_v6_v1 = ROOT.TFile(dirWithMCSamples + \"DY2JetsToLL_M-50_TuneCUETP8M1_13TeV-madgraphMLM-Py8__RunIISummer16MAv2-PUMoriond17_80r2as_2016_TrancheIV_v6-v1_minitree.root\")\n",
      "\n",
      "bgInputFile_DY3JetsToLL_M_50_TuneCUETP8M1_13TeV_madgraphMLM_Py8__RunIISummer16MAv2_PUMoriond17_80r2as_2016_TrancheIV_v6_v1 = ROOT.TFile(dirWithMCSamples + \"DY3JetsToLL_M-50_TuneCUETP8M1_13TeV-madgraphMLM-Py8__RunIISummer16MAv2-PUMoriond17_80r2as_2016_TrancheIV_v6-v1_minitree.root\")\n",
      "\n",
      "bgInputFile_DY4JetsToLL_M_50_TuneCUETP8M1_13TeV_madgraphMLM_Py8__RunIISummer16MAv2_PUMoriond17_80r2as_2016_TrancheIV_v6_v1 = ROOT.TFile(dirWithMCSamples + \"DY4JetsToLL_M-50_TuneCUETP8M1_13TeV-madgraphMLM-Py8__RunIISummer16MAv2-PUMoriond17_80r2as_2016_TrancheIV_v6-v1_minitree.root\")\n",
      "\n",
      "bgInputFile_ST_s_channel_4f_leptonDecays_13TeV_amcatnlo_Py8_TuneCUETP8M1__RunIISummer16MAv2_PUMoriond17_80r2as_2016_TrancheIV_v6_v1 = ROOT.TFile(dirWithMCSamples + \"ST_s-channel_4f_leptonDecays_13TeV-amcatnlo-Py8_TuneCUETP8M1__RunIISummer16MAv2-PUMoriond17_80r2as_2016_TrancheIV_v6-v1_minitree.root\")\n",
      "\n",
      "bgInputFile_ST_t_channel_antitop_4f_inclusiveDecays_13TeV_powhegV2_madspin_Py8_TuneCUETP8M1__RunIISummer16MAv2_PUMoriond17_80r2as_2016_TrancheIV_v6_v1 = ROOT.TFile(dirWithMCSamples + \"ST_t-channel_antitop_4f_inclusiveDecays_13TeV-powhegV2-madspin-Py8_TuneCUETP8M1__RunIISummer16MAv2-PUMoriond17_80r2as_2016_TrancheIV_v6-v1_minitree.root\")\n",
      "\n",
      "bgInputFile_ST_t_channel_top_4f_inclusiveDecays_13TeV_powhegV2_madspin_Py8_TuneCUETP8M1__RunIISummer16MAv2_PUMoriond17_80r2as_2016_TrancheIV_v6_v1 = ROOT.TFile(dirWithMCSamples + \"ST_t-channel_top_4f_inclusiveDecays_13TeV-powhegV2-madspin-Py8_TuneCUETP8M1__RunIISummer16MAv2-PUMoriond17_80r2as_2016_TrancheIV_v6-v1_minitree.root\")\n",
      "\n",
      "bgInputFile_ST_tW_antitop_5f_NoFullyHadronicDecays_13TeV_powheg_TuneCUETP8M1__RunIISummer16MAv2_PUMoriond17_80r2as_2016_TrancheIV_v6_ext1_v1 = ROOT.TFile(dirWithMCSamples + \"ST_tW_antitop_5f_NoFullyHadronicDecays_13TeV-powheg_TuneCUETP8M1__RunIISummer16MAv2-PUMoriond17_80r2as_2016_TrancheIV_v6_ext1-v1_minitree.root\")\n",
      "\n",
      "bgInputFile_ST_tW_antitop_5f_inclusiveDecays_13TeV_powheg_Py8_TuneCUETP8M1__RunIISummer16MAv2_PUMoriond17_80r2as_2016_TrancheIV_v6_ext1_v1 = ROOT.TFile(dirWithMCSamples + \"ST_tW_antitop_5f_inclusiveDecays_13TeV-powheg-Py8_TuneCUETP8M1__RunIISummer16MAv2-PUMoriond17_80r2as_2016_TrancheIV_v6_ext1-v1_minitree.root\")\n",
      "\n",
      "bgInputFile_ST_tW_top_5f_NoFullyHadronicDecays_13TeV_powheg_TuneCUETP8M1__RunIISummer16MAv2_PUMoriond17_80r2as_2016_TrancheIV_v6_ext1_v1 = ROOT.TFile(dirWithMCSamples + \"ST_tW_top_5f_NoFullyHadronicDecays_13TeV-powheg_TuneCUETP8M1__RunIISummer16MAv2-PUMoriond17_80r2as_2016_TrancheIV_v6_ext1-v1_minitree.root\")\n",
      "\n",
      "bgInputFile_ST_tW_top_5f_inclusiveDecays_13TeV_powheg_Py8_TuneCUETP8M1__RunIISummer16MAv2_PUMoriond17_80r2as_2016_TrancheIV_v6_ext1_v1 = ROOT.TFile(dirWithMCSamples + \"ST_tW_top_5f_inclusiveDecays_13TeV-powheg-Py8_TuneCUETP8M1__RunIISummer16MAv2-PUMoriond17_80r2as_2016_TrancheIV_v6_ext1-v1_minitree.root\")\n",
      "\n",
      "bgInputFile_TT_TuneCUETP8M2T4_13TeV_powheg_Py8__RunIISummer16MAv2_PUMoriond17_backup_80r2as_2016_TrancheIV_v6_v1 = ROOT.TFile(dirWithMCSamples + \"TT_TuneCUETP8M2T4_13TeV-powheg-Py8__RunIISummer16MAv2-PUMoriond17_backup_80r2as_2016_TrancheIV_v6-v1_minitree.root\")\n",
      "\n",
      "bgInputFile_WW_TuneCUETP8M1_13TeV_Py8__RunIISummer16MAv2_PUMoriond17_80r2as_2016_TrancheIV_v6_v1 = ROOT.TFile(dirWithMCSamples + \"WW_TuneCUETP8M1_13TeV-Py8__RunIISummer16MAv2-PUMoriond17_80r2as_2016_TrancheIV_v6-v1_minitree.root\")\n",
      "\n",
      "bgInputFile_WZ_TuneCUETP8M1_13TeV_Py8__RunIISummer16MAv2_PUMoriond17_80r2as_2016_TrancheIV_v6_v1 = ROOT.TFile(dirWithMCSamples + \"WZ_TuneCUETP8M1_13TeV-Py8__RunIISummer16MAv2-PUMoriond17_80r2as_2016_TrancheIV_v6-v1_minitree.root\")\n",
      "\n",
      "bgInputFile_ZH_HToBB_ZToLL_M125_13TeV_amcatnloFXFX_madspin_Py8__RunIISummer16MAv2_PUMoriond17_80r2as_2016_TrancheIV_v6_v1 = ROOT.TFile(dirWithMCSamples + \"ZH_HToBB_ZToLL_M125_13TeV_amcatnloFXFX_madspin_Py8__RunIISummer16MAv2-PUMoriond17_80r2as_2016_TrancheIV_v6-v1_minitree.root\")\n",
      "\n",
      "bgInputFile_ZZ_TuneCUETP8M1_13TeV_Py8__RunIISummer16MAv2_PUMoriond17_80r2as_2016_TrancheIV_v6_v1 = ROOT.TFile(dirWithMCSamples + \"ZZ_TuneCUETP8M1_13TeV-Py8__RunIISummer16MAv2-PUMoriond17_80r2as_2016_TrancheIV_v6-v1_minitree.root\")\n",
      "\n",
      "dataInputFile_DoubleEG__Run2016B_03Feb2017_ver1_v1 = ROOT.TFile(dirWithMCSamples + \"DoubleEG__Run2016B-03Feb2017_ver1-v1_minitree.root\")\n",
      "\n",
      "dataInputFile_DoubleEG__Run2016B_03Feb2017_ver2_v2 = ROOT.TFile(dirWithMCSamples + \"DoubleEG__Run2016B-03Feb2017_ver2-v2_minitree.root\")\n",
      "\n",
      "dataInputFile_DoubleEG__Run2016C_03Feb2017_v1 = ROOT.TFile(dirWithMCSamples + \"DoubleEG__Run2016C-03Feb2017-v1_minitree.root\")\n",
      "\n",
      "dataInputFile_DoubleEG__Run2016D_03Feb2017_v1 = ROOT.TFile(dirWithMCSamples + \"DoubleEG__Run2016D-03Feb2017-v1_minitree.root\")\n",
      "\n",
      "dataInputFile_DoubleEG__Run2016E_03Feb2017_v1 = ROOT.TFile(dirWithMCSamples + \"DoubleEG__Run2016E-03Feb2017-v1_minitree.root\")\n",
      "\n",
      "dataInputFile_DoubleEG__Run2016F_03Feb2017_v1 = ROOT.TFile(dirWithMCSamples + \"DoubleEG__Run2016F-03Feb2017-v1_minitree.root\")\n",
      "\n",
      "dataInputFile_DoubleEG__Run2016G_03Feb2017_v1 = ROOT.TFile(dirWithMCSamples + \"DoubleEG__Run2016G-03Feb2017-v1_minitree.root\")\n",
      "\n",
      "dataInputFile_DoubleEG__Run2016H_03Feb2017_ver2_v1 = ROOT.TFile(dirWithMCSamples + \"DoubleEG__Run2016H-03Feb2017_ver2-v1_minitree.root\")\n",
      "\n",
      "dataInputFile_DoubleEG__Run2016H_03Feb2017_ver3_v1 = ROOT.TFile(dirWithMCSamples + \"DoubleEG__Run2016H-03Feb2017_ver3-v1_minitree.root\")\n",
      "\n",
      "minizz_sigInputFile_GluGluToBulkGravitonToHHTo2B2VTo2L2Nu_M_1000_narrow_13TeV_madgraph_Hzz = ROOT.TFile(dirWithMCSamples + \"GluGluToBulkGravitonToHHTo2B2VTo2L2Nu_M-1000_narrow_13TeV-madgraph_Hzz_minitree.root\")\n",
      "\n",
      "minizz_sigInputFile_GluGluToBulkGravitonToHHTo2B2VTo2L2Nu_M_260_narrow_13TeV_madgraph_Hzz = ROOT.TFile(dirWithMCSamples + \"GluGluToBulkGravitonToHHTo2B2VTo2L2Nu_M-260_narrow_13TeV-madgraph_Hzz_minitree.root\")\n",
      "\n",
      "minizz_sigInputFile_GluGluToBulkGravitonToHHTo2B2VTo2L2Nu_M_270_narrow_13TeV_madgraph_Hzz = ROOT.TFile(dirWithMCSamples + \"GluGluToBulkGravitonToHHTo2B2VTo2L2Nu_M-270_narrow_13TeV-madgraph_Hzz_minitree.root\")\n",
      "\n",
      "minizz_sigInputFile_GluGluToBulkGravitonToHHTo2B2VTo2L2Nu_M_300_narrow_13TeV_madgraph_Hzz = ROOT.TFile(dirWithMCSamples + \"GluGluToBulkGravitonToHHTo2B2VTo2L2Nu_M-300_narrow_13TeV-madgraph_Hzz_minitree.root\")\n",
      "\n",
      "minizz_sigInputFile_GluGluToBulkGravitonToHHTo2B2VTo2L2Nu_M_350_narrow_13TeV_madgraph_Hzz = ROOT.TFile(dirWithMCSamples + \"GluGluToBulkGravitonToHHTo2B2VTo2L2Nu_M-350_narrow_13TeV-madgraph_Hzz_minitree.root\")\n",
      "\n",
      "minizz_sigInputFile_GluGluToBulkGravitonToHHTo2B2VTo2L2Nu_M_400_narrow_13TeV_madgraph_Hzz = ROOT.TFile(dirWithMCSamples + \"GluGluToBulkGravitonToHHTo2B2VTo2L2Nu_M-400_narrow_13TeV-madgraph_Hzz_minitree.root\")\n",
      "\n",
      "minizz_sigInputFile_GluGluToBulkGravitonToHHTo2B2VTo2L2Nu_M_450_narrow_13TeV_madgraph_Hzz = ROOT.TFile(dirWithMCSamples + \"GluGluToBulkGravitonToHHTo2B2VTo2L2Nu_M-450_narrow_13TeV-madgraph_Hzz_minitree.root\")\n",
      "\n",
      "minizz_sigInputFile_GluGluToBulkGravitonToHHTo2B2VTo2L2Nu_M_600_narrow_13TeV_madgraph_Hzz = ROOT.TFile(dirWithMCSamples + \"GluGluToBulkGravitonToHHTo2B2VTo2L2Nu_M-600_narrow_13TeV-madgraph_Hzz_minitree.root\")\n",
      "\n",
      "minizz_sigInputFile_GluGluToBulkGravitonToHHTo2B2VTo2L2Nu_M_650_narrow_13TeV_madgraph_Hzz = ROOT.TFile(dirWithMCSamples + \"GluGluToBulkGravitonToHHTo2B2VTo2L2Nu_M-650_narrow_13TeV-madgraph_Hzz_minitree.root\")\n",
      "\n",
      "minizz_sigInputFile_GluGluToBulkGravitonToHHTo2B2VTo2L2Nu_M_900_narrow_13TeV_madgraph_Hzz = ROOT.TFile(dirWithMCSamples + \"GluGluToBulkGravitonToHHTo2B2VTo2L2Nu_M-900_narrow_13TeV-madgraph_Hzz_minitree.root\")\n",
      "\n",
      "vv_sigInputFile_GluGluToBulkGravitonToHHTo2B2VTo2L2Nu_M_1000_narrow_13TeV_madgraph = ROOT.TFile(dirWithMCSamples + \"GluGluToBulkGravitonToHHTo2B2VTo2L2Nu_M-1000_narrow_13TeV-madgraph_minitree.root\")\n",
      "\n",
      "vv_sigInputFile_GluGluToBulkGravitonToHHTo2B2VTo2L2Nu_M_260_narrow_13TeV_madgraph = ROOT.TFile(dirWithMCSamples + \"GluGluToBulkGravitonToHHTo2B2VTo2L2Nu_M-260_narrow_13TeV-madgraph_minitree.root\")\n",
      "\n",
      "vv_sigInputFile_GluGluToBulkGravitonToHHTo2B2VTo2L2Nu_M_270_narrow_13TeV_madgraph = ROOT.TFile(dirWithMCSamples + \"GluGluToBulkGravitonToHHTo2B2VTo2L2Nu_M-270_narrow_13TeV-madgraph_minitree.root\")\n",
      "\n",
      "vv_sigInputFile_GluGluToBulkGravitonToHHTo2B2VTo2L2Nu_M_300_narrow_13TeV_madgraph = ROOT.TFile(dirWithMCSamples + \"GluGluToBulkGravitonToHHTo2B2VTo2L2Nu_M-300_narrow_13TeV-madgraph_minitree.root\")\n",
      "\n",
      "vv_sigInputFile_GluGluToBulkGravitonToHHTo2B2VTo2L2Nu_M_350_narrow_13TeV_madgraph = ROOT.TFile(dirWithMCSamples + \"GluGluToBulkGravitonToHHTo2B2VTo2L2Nu_M-350_narrow_13TeV-madgraph_minitree.root\")\n",
      "\n",
      "vv_sigInputFile_GluGluToBulkGravitonToHHTo2B2VTo2L2Nu_M_400_narrow_13TeV_madgraph = ROOT.TFile(dirWithMCSamples + \"GluGluToBulkGravitonToHHTo2B2VTo2L2Nu_M-400_narrow_13TeV-madgraph_minitree.root\")\n",
      "\n",
      "vv_sigInputFile_GluGluToBulkGravitonToHHTo2B2VTo2L2Nu_M_450_narrow_13TeV_madgraph = ROOT.TFile(dirWithMCSamples + \"GluGluToBulkGravitonToHHTo2B2VTo2L2Nu_M-450_narrow_13TeV-madgraph_minitree.root\")\n",
      "\n",
      "vv_sigInputFile_GluGluToBulkGravitonToHHTo2B2VTo2L2Nu_M_600_narrow_13TeV_madgraph = ROOT.TFile(dirWithMCSamples + \"GluGluToBulkGravitonToHHTo2B2VTo2L2Nu_M-600_narrow_13TeV-madgraph_minitree.root\")\n",
      "\n",
      "vv_sigInputFile_GluGluToBulkGravitonToHHTo2B2VTo2L2Nu_M_650_narrow_13TeV_madgraph = ROOT.TFile(dirWithMCSamples + \"GluGluToBulkGravitonToHHTo2B2VTo2L2Nu_M-650_narrow_13TeV-madgraph_minitree.root\")\n",
      "\n",
      "vv_sigInputFile_GluGluToBulkGravitonToHHTo2B2VTo2L2Nu_M_900_narrow_13TeV_madgraph = ROOT.TFile(dirWithMCSamples + \"GluGluToBulkGravitonToHHTo2B2VTo2L2Nu_M-900_narrow_13TeV-madgraph_minitree.root\")\n",
      "\n"
     ]
    }
   ],
   "source": [
    "#wwSigInputFile_1000 = ROOT.TFile(dirWithMCSamples + \"BulkGraviton_M1000_Hww_minitree.root\")\n",
    "\n",
    "\n",
    "zz_pref = 'zz_sigInputFile_'\n",
    "ww_pref = 'ww_sigInputFile_'\n",
    "bg_pref = 'bgInputFile_'\n",
    "data_pref = 'dataInputFile_'\n",
    "\n",
    "minizz_pref = 'minizz_sigInputFile_'\n",
    "vv_pref = 'vv_sigInputFile_'\n",
    "\n",
    "\n",
    "suf = ' = ROOT.TFile(dirWithMCSamples + \"'\n",
    "postf = '\")'\n",
    "\n",
    "\n",
    "for s in samples:\n",
    "    pref = ''\n",
    "    if 'Glu' in s: \n",
    "        if 'HWW' in s:\n",
    "            pref = ww_pref\n",
    "        elif '2Z' in s:\n",
    "            pref = zz_pref\n",
    "        elif 'zz' in s:\n",
    "            pref = minizz_pref\n",
    "        elif 'h_m' in s:\n",
    "            pref = vv_pref\n",
    "    elif \"Double\" in s:\n",
    "         pref = data_pref\n",
    "    else:\n",
    "        pref = bg_pref\n",
    "    #print 'pref is ', pref\n",
    "    \n",
    "    print pref + s.replace('-','_')[:-14] + suf + s + postf\n",
    "    print"
   ]
  },
  {
   "cell_type": "code",
   "execution_count": 4,
   "metadata": {},
   "outputs": [
    {
     "name": "stdout",
     "output_type": "stream",
     "text": [
      "dictOfFiles = {\n",
      "    zz_sigInputFile_GluGluToBulkGravitonToHHTo2B2ZTo2L2Nu_M_1000_narrow_13TeV_madgraph__RunIISummer16MAv2_PUMoriond17_80r2as_2016_TrancheIV_v6_v2 : \"GluGluToBulkGravitonToHHTo2B2ZTo2L2Nu_M-1000_narrow_13TeV-madgraph__RunIISummer16MAv2-PUMoriond17_80r2as_2016_TrancheIV_v6-v2\",\n",
      "\n",
      "    zz_sigInputFile_GluGluToBulkGravitonToHHTo2B2ZTo2L2Nu_M_250_narrow_13TeV_madgraph__RunIISummer16MAv2_PUMoriond17_80r2as_2016_TrancheIV_v6_v1 : \"GluGluToBulkGravitonToHHTo2B2ZTo2L2Nu_M-250_narrow_13TeV-madgraph__RunIISummer16MAv2-PUMoriond17_80r2as_2016_TrancheIV_v6-v1\",\n",
      "\n",
      "    zz_sigInputFile_GluGluToBulkGravitonToHHTo2B2ZTo2L2Nu_M_260_narrow_13TeV_madgraph__RunIISummer16MAv2_PUMoriond17_80r2as_2016_TrancheIV_v6_v1 : \"GluGluToBulkGravitonToHHTo2B2ZTo2L2Nu_M-260_narrow_13TeV-madgraph__RunIISummer16MAv2-PUMoriond17_80r2as_2016_TrancheIV_v6-v1\",\n",
      "\n",
      "    zz_sigInputFile_GluGluToBulkGravitonToHHTo2B2ZTo2L2Nu_M_270_narrow_13TeV_madgraph__RunIISummer16MAv2_PUMoriond17_80r2as_2016_TrancheIV_v6_v1 : \"GluGluToBulkGravitonToHHTo2B2ZTo2L2Nu_M-270_narrow_13TeV-madgraph__RunIISummer16MAv2-PUMoriond17_80r2as_2016_TrancheIV_v6-v1\",\n",
      "\n",
      "    zz_sigInputFile_GluGluToBulkGravitonToHHTo2B2ZTo2L2Nu_M_300_narrow_13TeV_madgraph__RunIISummer16MAv2_PUMoriond17_80r2as_2016_TrancheIV_v6_v1 : \"GluGluToBulkGravitonToHHTo2B2ZTo2L2Nu_M-300_narrow_13TeV-madgraph__RunIISummer16MAv2-PUMoriond17_80r2as_2016_TrancheIV_v6-v1\",\n",
      "\n",
      "    zz_sigInputFile_GluGluToBulkGravitonToHHTo2B2ZTo2L2Nu_M_350_narrow_13TeV_madgraph__RunIISummer16MAv2_PUMoriond17_80r2as_2016_TrancheIV_v6_v1 : \"GluGluToBulkGravitonToHHTo2B2ZTo2L2Nu_M-350_narrow_13TeV-madgraph__RunIISummer16MAv2-PUMoriond17_80r2as_2016_TrancheIV_v6-v1\",\n",
      "\n",
      "    zz_sigInputFile_GluGluToBulkGravitonToHHTo2B2ZTo2L2Nu_M_400_narrow_13TeV_madgraph__RunIISummer16MAv2_PUMoriond17_80r2as_2016_TrancheIV_v6_v1 : \"GluGluToBulkGravitonToHHTo2B2ZTo2L2Nu_M-400_narrow_13TeV-madgraph__RunIISummer16MAv2-PUMoriond17_80r2as_2016_TrancheIV_v6-v1\",\n",
      "\n",
      "    zz_sigInputFile_GluGluToBulkGravitonToHHTo2B2ZTo2L2Nu_M_450_narrow_13TeV_madgraph__RunIISummer16MAv2_PUMoriond17_80r2as_2016_TrancheIV_v6_v1 : \"GluGluToBulkGravitonToHHTo2B2ZTo2L2Nu_M-450_narrow_13TeV-madgraph__RunIISummer16MAv2-PUMoriond17_80r2as_2016_TrancheIV_v6-v1\",\n",
      "\n",
      "    zz_sigInputFile_GluGluToBulkGravitonToHHTo2B2ZTo2L2Nu_M_500_narrow_13TeV_madgraph__RunIISummer16MAv2_PUMoriond17_80r2as_2016_TrancheIV_v6_v1 : \"GluGluToBulkGravitonToHHTo2B2ZTo2L2Nu_M-500_narrow_13TeV-madgraph__RunIISummer16MAv2-PUMoriond17_80r2as_2016_TrancheIV_v6-v1\",\n",
      "\n",
      "    zz_sigInputFile_GluGluToBulkGravitonToHHTo2B2ZTo2L2Nu_M_550_narrow_13TeV_madgraph__RunIISummer16MAv2_PUMoriond17_80r2as_2016_TrancheIV_v6_v1 : \"GluGluToBulkGravitonToHHTo2B2ZTo2L2Nu_M-550_narrow_13TeV-madgraph__RunIISummer16MAv2-PUMoriond17_80r2as_2016_TrancheIV_v6-v1\",\n",
      "\n",
      "    zz_sigInputFile_GluGluToBulkGravitonToHHTo2B2ZTo2L2Nu_M_600_narrow_13TeV_madgraph__RunIISummer16MAv2_PUMoriond17_80r2as_2016_TrancheIV_v6_v1 : \"GluGluToBulkGravitonToHHTo2B2ZTo2L2Nu_M-600_narrow_13TeV-madgraph__RunIISummer16MAv2-PUMoriond17_80r2as_2016_TrancheIV_v6-v1\",\n",
      "\n",
      "    zz_sigInputFile_GluGluToBulkGravitonToHHTo2B2ZTo2L2Nu_M_650_narrow_13TeV_madgraph__RunIISummer16MAv2_PUMoriond17_80r2as_2016_TrancheIV_v6_v1 : \"GluGluToBulkGravitonToHHTo2B2ZTo2L2Nu_M-650_narrow_13TeV-madgraph__RunIISummer16MAv2-PUMoriond17_80r2as_2016_TrancheIV_v6-v1\",\n",
      "\n",
      "    zz_sigInputFile_GluGluToBulkGravitonToHHTo2B2ZTo2L2Nu_M_700_narrow_13TeV_madgraph__RunIISummer16MAv2_PUMoriond17_80r2as_2016_TrancheIV_v6_v1 : \"GluGluToBulkGravitonToHHTo2B2ZTo2L2Nu_M-700_narrow_13TeV-madgraph__RunIISummer16MAv2-PUMoriond17_80r2as_2016_TrancheIV_v6-v1\",\n",
      "\n",
      "    zz_sigInputFile_GluGluToBulkGravitonToHHTo2B2ZTo2L2Nu_M_750_narrow_13TeV_madgraph__RunIISummer16MAv2_PUMoriond17_80r2as_2016_TrancheIV_v6_v1 : \"GluGluToBulkGravitonToHHTo2B2ZTo2L2Nu_M-750_narrow_13TeV-madgraph__RunIISummer16MAv2-PUMoriond17_80r2as_2016_TrancheIV_v6-v1\",\n",
      "\n",
      "    zz_sigInputFile_GluGluToBulkGravitonToHHTo2B2ZTo2L2Nu_M_800_narrow_13TeV_madgraph__RunIISummer16MAv2_PUMoriond17_80r2as_2016_TrancheIV_v6_v1 : \"GluGluToBulkGravitonToHHTo2B2ZTo2L2Nu_M-800_narrow_13TeV-madgraph__RunIISummer16MAv2-PUMoriond17_80r2as_2016_TrancheIV_v6-v1\",\n",
      "\n",
      "    zz_sigInputFile_GluGluToBulkGravitonToHHTo2B2ZTo2L2Nu_M_900_narrow_13TeV_madgraph__RunIISummer16MAv2_PUMoriond17_80r2as_2016_TrancheIV_v6_v1 : \"GluGluToBulkGravitonToHHTo2B2ZTo2L2Nu_M-900_narrow_13TeV-madgraph__RunIISummer16MAv2-PUMoriond17_80r2as_2016_TrancheIV_v6-v1\",\n",
      "\n",
      "    ww_sigInputFile_GluGluToBulkGravitonToHHTo2B2VTo2L2Nu_M_1000_narrow_13TeV_madgraph_HWW : \"GluGluToBulkGravitonToHHTo2B2VTo2L2Nu_M-1000_narrow_13TeV-madgraph_HWW\",\n",
      "\n",
      "    ww_sigInputFile_GluGluToBulkGravitonToHHTo2B2VTo2L2Nu_M_260_narrow_13TeV_madgraph_HWW : \"GluGluToBulkGravitonToHHTo2B2VTo2L2Nu_M-260_narrow_13TeV-madgraph_HWW\",\n",
      "\n",
      "    ww_sigInputFile_GluGluToBulkGravitonToHHTo2B2VTo2L2Nu_M_270_narrow_13TeV_madgraph_HWW : \"GluGluToBulkGravitonToHHTo2B2VTo2L2Nu_M-270_narrow_13TeV-madgraph_HWW\",\n",
      "\n",
      "    ww_sigInputFile_GluGluToBulkGravitonToHHTo2B2VTo2L2Nu_M_300_narrow_13TeV_madgraph_HWW : \"GluGluToBulkGravitonToHHTo2B2VTo2L2Nu_M-300_narrow_13TeV-madgraph_HWW\",\n",
      "\n",
      "    ww_sigInputFile_GluGluToBulkGravitonToHHTo2B2VTo2L2Nu_M_350_narrow_13TeV_madgraph_HWW : \"GluGluToBulkGravitonToHHTo2B2VTo2L2Nu_M-350_narrow_13TeV-madgraph_HWW\",\n",
      "\n",
      "    ww_sigInputFile_GluGluToBulkGravitonToHHTo2B2VTo2L2Nu_M_400_narrow_13TeV_madgraph_HWW : \"GluGluToBulkGravitonToHHTo2B2VTo2L2Nu_M-400_narrow_13TeV-madgraph_HWW\",\n",
      "\n",
      "    ww_sigInputFile_GluGluToBulkGravitonToHHTo2B2VTo2L2Nu_M_450_narrow_13TeV_madgraph_HWW : \"GluGluToBulkGravitonToHHTo2B2VTo2L2Nu_M-450_narrow_13TeV-madgraph_HWW\",\n",
      "\n",
      "    ww_sigInputFile_GluGluToBulkGravitonToHHTo2B2VTo2L2Nu_M_600_narrow_13TeV_madgraph_HWW : \"GluGluToBulkGravitonToHHTo2B2VTo2L2Nu_M-600_narrow_13TeV-madgraph_HWW\",\n",
      "\n",
      "    ww_sigInputFile_GluGluToBulkGravitonToHHTo2B2VTo2L2Nu_M_650_narrow_13TeV_madgraph_HWW : \"GluGluToBulkGravitonToHHTo2B2VTo2L2Nu_M-650_narrow_13TeV-madgraph_HWW\",\n",
      "\n",
      "    ww_sigInputFile_GluGluToBulkGravitonToHHTo2B2VTo2L2Nu_M_900_narrow_13TeV_madgraph_HWW : \"GluGluToBulkGravitonToHHTo2B2VTo2L2Nu_M-900_narrow_13TeV-madgraph_HWW\",\n",
      "\n",
      "    bgInputFile_DY1JetsToLL_M_50_TuneCUETP8M1_13TeV_madgraphMLM_Py8__RunIISummer16MAv2_PUMoriond17_80r2as_2016_TrancheIV_v6_v1 : \"DY1JetsToLL_M-50_TuneCUETP8M1_13TeV-madgraphMLM-Py8__RunIISummer16MAv2-PUMoriond17_80r2as_2016_TrancheIV_v6-v1\",\n",
      "\n",
      "    bgInputFile_DY2JetsToLL_M_50_TuneCUETP8M1_13TeV_madgraphMLM_Py8__RunIISummer16MAv2_PUMoriond17_80r2as_2016_TrancheIV_v6_v1 : \"DY2JetsToLL_M-50_TuneCUETP8M1_13TeV-madgraphMLM-Py8__RunIISummer16MAv2-PUMoriond17_80r2as_2016_TrancheIV_v6-v1\",\n",
      "\n",
      "    bgInputFile_DY3JetsToLL_M_50_TuneCUETP8M1_13TeV_madgraphMLM_Py8__RunIISummer16MAv2_PUMoriond17_80r2as_2016_TrancheIV_v6_v1 : \"DY3JetsToLL_M-50_TuneCUETP8M1_13TeV-madgraphMLM-Py8__RunIISummer16MAv2-PUMoriond17_80r2as_2016_TrancheIV_v6-v1\",\n",
      "\n",
      "    bgInputFile_DY4JetsToLL_M_50_TuneCUETP8M1_13TeV_madgraphMLM_Py8__RunIISummer16MAv2_PUMoriond17_80r2as_2016_TrancheIV_v6_v1 : \"DY4JetsToLL_M-50_TuneCUETP8M1_13TeV-madgraphMLM-Py8__RunIISummer16MAv2-PUMoriond17_80r2as_2016_TrancheIV_v6-v1\",\n",
      "\n",
      "    bgInputFile_ST_s_channel_4f_leptonDecays_13TeV_amcatnlo_Py8_TuneCUETP8M1__RunIISummer16MAv2_PUMoriond17_80r2as_2016_TrancheIV_v6_v1 : \"ST_s-channel_4f_leptonDecays_13TeV-amcatnlo-Py8_TuneCUETP8M1__RunIISummer16MAv2-PUMoriond17_80r2as_2016_TrancheIV_v6-v1\",\n",
      "\n",
      "    bgInputFile_ST_t_channel_antitop_4f_inclusiveDecays_13TeV_powhegV2_madspin_Py8_TuneCUETP8M1__RunIISummer16MAv2_PUMoriond17_80r2as_2016_TrancheIV_v6_v1 : \"ST_t-channel_antitop_4f_inclusiveDecays_13TeV-powhegV2-madspin-Py8_TuneCUETP8M1__RunIISummer16MAv2-PUMoriond17_80r2as_2016_TrancheIV_v6-v1\",\n",
      "\n",
      "    bgInputFile_ST_t_channel_top_4f_inclusiveDecays_13TeV_powhegV2_madspin_Py8_TuneCUETP8M1__RunIISummer16MAv2_PUMoriond17_80r2as_2016_TrancheIV_v6_v1 : \"ST_t-channel_top_4f_inclusiveDecays_13TeV-powhegV2-madspin-Py8_TuneCUETP8M1__RunIISummer16MAv2-PUMoriond17_80r2as_2016_TrancheIV_v6-v1\",\n",
      "\n",
      "    bgInputFile_ST_tW_antitop_5f_NoFullyHadronicDecays_13TeV_powheg_TuneCUETP8M1__RunIISummer16MAv2_PUMoriond17_80r2as_2016_TrancheIV_v6_ext1_v1 : \"ST_tW_antitop_5f_NoFullyHadronicDecays_13TeV-powheg_TuneCUETP8M1__RunIISummer16MAv2-PUMoriond17_80r2as_2016_TrancheIV_v6_ext1-v1\",\n",
      "\n",
      "    bgInputFile_ST_tW_antitop_5f_inclusiveDecays_13TeV_powheg_Py8_TuneCUETP8M1__RunIISummer16MAv2_PUMoriond17_80r2as_2016_TrancheIV_v6_ext1_v1 : \"ST_tW_antitop_5f_inclusiveDecays_13TeV-powheg-Py8_TuneCUETP8M1__RunIISummer16MAv2-PUMoriond17_80r2as_2016_TrancheIV_v6_ext1-v1\",\n",
      "\n",
      "    bgInputFile_ST_tW_top_5f_NoFullyHadronicDecays_13TeV_powheg_TuneCUETP8M1__RunIISummer16MAv2_PUMoriond17_80r2as_2016_TrancheIV_v6_ext1_v1 : \"ST_tW_top_5f_NoFullyHadronicDecays_13TeV-powheg_TuneCUETP8M1__RunIISummer16MAv2-PUMoriond17_80r2as_2016_TrancheIV_v6_ext1-v1\",\n",
      "\n",
      "    bgInputFile_ST_tW_top_5f_inclusiveDecays_13TeV_powheg_Py8_TuneCUETP8M1__RunIISummer16MAv2_PUMoriond17_80r2as_2016_TrancheIV_v6_ext1_v1 : \"ST_tW_top_5f_inclusiveDecays_13TeV-powheg-Py8_TuneCUETP8M1__RunIISummer16MAv2-PUMoriond17_80r2as_2016_TrancheIV_v6_ext1-v1\",\n",
      "\n",
      "    bgInputFile_TT_TuneCUETP8M2T4_13TeV_powheg_Py8__RunIISummer16MAv2_PUMoriond17_backup_80r2as_2016_TrancheIV_v6_v1 : \"TT_TuneCUETP8M2T4_13TeV-powheg-Py8__RunIISummer16MAv2-PUMoriond17_backup_80r2as_2016_TrancheIV_v6-v1\",\n",
      "\n",
      "    bgInputFile_WW_TuneCUETP8M1_13TeV_Py8__RunIISummer16MAv2_PUMoriond17_80r2as_2016_TrancheIV_v6_v1 : \"WW_TuneCUETP8M1_13TeV-Py8__RunIISummer16MAv2-PUMoriond17_80r2as_2016_TrancheIV_v6-v1\",\n",
      "\n",
      "    bgInputFile_WZ_TuneCUETP8M1_13TeV_Py8__RunIISummer16MAv2_PUMoriond17_80r2as_2016_TrancheIV_v6_v1 : \"WZ_TuneCUETP8M1_13TeV-Py8__RunIISummer16MAv2-PUMoriond17_80r2as_2016_TrancheIV_v6-v1\",\n",
      "\n",
      "    bgInputFile_ZH_HToBB_ZToLL_M125_13TeV_amcatnloFXFX_madspin_Py8__RunIISummer16MAv2_PUMoriond17_80r2as_2016_TrancheIV_v6_v1 : \"ZH_HToBB_ZToLL_M125_13TeV_amcatnloFXFX_madspin_Py8__RunIISummer16MAv2-PUMoriond17_80r2as_2016_TrancheIV_v6-v1\",\n",
      "\n",
      "    bgInputFile_ZZ_TuneCUETP8M1_13TeV_Py8__RunIISummer16MAv2_PUMoriond17_80r2as_2016_TrancheIV_v6_v1 : \"ZZ_TuneCUETP8M1_13TeV-Py8__RunIISummer16MAv2-PUMoriond17_80r2as_2016_TrancheIV_v6-v1\",\n",
      "\n",
      "    dataInputFile_DoubleEG__Run2016B_03Feb2017_ver1_v1 : \"DoubleEG__Run2016B-03Feb2017_ver1-v1\",\n",
      "\n",
      "    dataInputFile_DoubleEG__Run2016B_03Feb2017_ver2_v2 : \"DoubleEG__Run2016B-03Feb2017_ver2-v2\",\n",
      "\n",
      "    dataInputFile_DoubleEG__Run2016C_03Feb2017_v1 : \"DoubleEG__Run2016C-03Feb2017-v1\",\n",
      "\n",
      "    dataInputFile_DoubleEG__Run2016D_03Feb2017_v1 : \"DoubleEG__Run2016D-03Feb2017-v1\",\n",
      "\n",
      "    dataInputFile_DoubleEG__Run2016E_03Feb2017_v1 : \"DoubleEG__Run2016E-03Feb2017-v1\",\n",
      "\n",
      "    dataInputFile_DoubleEG__Run2016F_03Feb2017_v1 : \"DoubleEG__Run2016F-03Feb2017-v1\",\n",
      "\n",
      "    dataInputFile_DoubleEG__Run2016G_03Feb2017_v1 : \"DoubleEG__Run2016G-03Feb2017-v1\",\n",
      "\n",
      "    dataInputFile_DoubleEG__Run2016H_03Feb2017_ver2_v1 : \"DoubleEG__Run2016H-03Feb2017_ver2-v1\",\n",
      "\n",
      "    dataInputFile_DoubleEG__Run2016H_03Feb2017_ver3_v1 : \"DoubleEG__Run2016H-03Feb2017_ver3-v1\",\n",
      "\n",
      "    minizz_sigInputFile_GluGluToBulkGravitonToHHTo2B2VTo2L2Nu_M_1000_narrow_13TeV_madgraph_Hzz : \"GluGluToBulkGravitonToHHTo2B2VTo2L2Nu_M-1000_narrow_13TeV-madgraph_Hzz\",\n",
      "\n",
      "    minizz_sigInputFile_GluGluToBulkGravitonToHHTo2B2VTo2L2Nu_M_260_narrow_13TeV_madgraph_Hzz : \"GluGluToBulkGravitonToHHTo2B2VTo2L2Nu_M-260_narrow_13TeV-madgraph_Hzz\",\n",
      "\n",
      "    minizz_sigInputFile_GluGluToBulkGravitonToHHTo2B2VTo2L2Nu_M_270_narrow_13TeV_madgraph_Hzz : \"GluGluToBulkGravitonToHHTo2B2VTo2L2Nu_M-270_narrow_13TeV-madgraph_Hzz\",\n",
      "\n",
      "    minizz_sigInputFile_GluGluToBulkGravitonToHHTo2B2VTo2L2Nu_M_300_narrow_13TeV_madgraph_Hzz : \"GluGluToBulkGravitonToHHTo2B2VTo2L2Nu_M-300_narrow_13TeV-madgraph_Hzz\",\n",
      "\n",
      "    minizz_sigInputFile_GluGluToBulkGravitonToHHTo2B2VTo2L2Nu_M_350_narrow_13TeV_madgraph_Hzz : \"GluGluToBulkGravitonToHHTo2B2VTo2L2Nu_M-350_narrow_13TeV-madgraph_Hzz\",\n",
      "\n",
      "    minizz_sigInputFile_GluGluToBulkGravitonToHHTo2B2VTo2L2Nu_M_400_narrow_13TeV_madgraph_Hzz : \"GluGluToBulkGravitonToHHTo2B2VTo2L2Nu_M-400_narrow_13TeV-madgraph_Hzz\",\n",
      "\n",
      "    minizz_sigInputFile_GluGluToBulkGravitonToHHTo2B2VTo2L2Nu_M_450_narrow_13TeV_madgraph_Hzz : \"GluGluToBulkGravitonToHHTo2B2VTo2L2Nu_M-450_narrow_13TeV-madgraph_Hzz\",\n",
      "\n",
      "    minizz_sigInputFile_GluGluToBulkGravitonToHHTo2B2VTo2L2Nu_M_600_narrow_13TeV_madgraph_Hzz : \"GluGluToBulkGravitonToHHTo2B2VTo2L2Nu_M-600_narrow_13TeV-madgraph_Hzz\",\n",
      "\n",
      "    minizz_sigInputFile_GluGluToBulkGravitonToHHTo2B2VTo2L2Nu_M_650_narrow_13TeV_madgraph_Hzz : \"GluGluToBulkGravitonToHHTo2B2VTo2L2Nu_M-650_narrow_13TeV-madgraph_Hzz\",\n",
      "\n",
      "    minizz_sigInputFile_GluGluToBulkGravitonToHHTo2B2VTo2L2Nu_M_900_narrow_13TeV_madgraph_Hzz : \"GluGluToBulkGravitonToHHTo2B2VTo2L2Nu_M-900_narrow_13TeV-madgraph_Hzz\",\n",
      "\n",
      "    vv_sigInputFile_GluGluToBulkGravitonToHHTo2B2VTo2L2Nu_M_1000_narrow_13TeV_madgraph : \"GluGluToBulkGravitonToHHTo2B2VTo2L2Nu_M-1000_narrow_13TeV-madgraph\",\n",
      "\n",
      "    vv_sigInputFile_GluGluToBulkGravitonToHHTo2B2VTo2L2Nu_M_260_narrow_13TeV_madgraph : \"GluGluToBulkGravitonToHHTo2B2VTo2L2Nu_M-260_narrow_13TeV-madgraph\",\n",
      "\n",
      "    vv_sigInputFile_GluGluToBulkGravitonToHHTo2B2VTo2L2Nu_M_270_narrow_13TeV_madgraph : \"GluGluToBulkGravitonToHHTo2B2VTo2L2Nu_M-270_narrow_13TeV-madgraph\",\n",
      "\n",
      "    vv_sigInputFile_GluGluToBulkGravitonToHHTo2B2VTo2L2Nu_M_300_narrow_13TeV_madgraph : \"GluGluToBulkGravitonToHHTo2B2VTo2L2Nu_M-300_narrow_13TeV-madgraph\",\n",
      "\n",
      "    vv_sigInputFile_GluGluToBulkGravitonToHHTo2B2VTo2L2Nu_M_350_narrow_13TeV_madgraph : \"GluGluToBulkGravitonToHHTo2B2VTo2L2Nu_M-350_narrow_13TeV-madgraph\",\n",
      "\n",
      "    vv_sigInputFile_GluGluToBulkGravitonToHHTo2B2VTo2L2Nu_M_400_narrow_13TeV_madgraph : \"GluGluToBulkGravitonToHHTo2B2VTo2L2Nu_M-400_narrow_13TeV-madgraph\",\n",
      "\n",
      "    vv_sigInputFile_GluGluToBulkGravitonToHHTo2B2VTo2L2Nu_M_450_narrow_13TeV_madgraph : \"GluGluToBulkGravitonToHHTo2B2VTo2L2Nu_M-450_narrow_13TeV-madgraph\",\n",
      "\n",
      "    vv_sigInputFile_GluGluToBulkGravitonToHHTo2B2VTo2L2Nu_M_600_narrow_13TeV_madgraph : \"GluGluToBulkGravitonToHHTo2B2VTo2L2Nu_M-600_narrow_13TeV-madgraph\",\n",
      "\n",
      "    vv_sigInputFile_GluGluToBulkGravitonToHHTo2B2VTo2L2Nu_M_650_narrow_13TeV_madgraph : \"GluGluToBulkGravitonToHHTo2B2VTo2L2Nu_M-650_narrow_13TeV-madgraph\",\n",
      "\n",
      "    vv_sigInputFile_GluGluToBulkGravitonToHHTo2B2VTo2L2Nu_M_900_narrow_13TeV_madgraph : \"GluGluToBulkGravitonToHHTo2B2VTo2L2Nu_M-900_narrow_13TeV-madgraph\",\n",
      "\n",
      "}\n"
     ]
    }
   ],
   "source": [
    "#wwSigInputFile_1000 = ROOT.TFile(dirWithMCSamples + \"BulkGraviton_M1000_Hww_minitree.root\")\n",
    "\n",
    "\n",
    "zz_pref = 'zz_sigInputFile_'\n",
    "ww_pref = 'ww_sigInputFile_'\n",
    "bg_pref = 'bgInputFile_'\n",
    "data_pref = 'dataInputFile_'\n",
    "\n",
    "minizz_pref = 'minizz_sigInputFile_'\n",
    "vv_pref = 'vv_sigInputFile_'\n",
    "\n",
    "\n",
    "\n",
    "suf = ' : \"'\n",
    "postf = '\",'\n",
    "\n",
    "firstLine = 'dictOfFiles = {'\n",
    "tabLine = '    '\n",
    "lastLine = '}'\n",
    "print firstLine\n",
    "for s in samples:\n",
    "    pref = ''\n",
    "    if 'Glu' in s: \n",
    "        if 'HWW' in s:\n",
    "            pref = ww_pref\n",
    "        elif '2Z' in s:\n",
    "            pref = zz_pref\n",
    "        elif 'zz' in s:\n",
    "            pref = minizz_pref\n",
    "        elif 'h_m' in s:\n",
    "            pref = vv_pref\n",
    "    elif \"Double\" in s:\n",
    "         pref = data_pref\n",
    "    else:\n",
    "        pref = bg_pref\n",
    "    print tabLine + pref + s.replace(\"-\", \"_\")[:-14] + suf + s[:-14] + postf\n",
    "    print\n",
    "print lastLine"
   ]
  },
  {
   "cell_type": "code",
   "execution_count": 14,
   "metadata": {},
   "outputs": [
    {
     "name": "stdout",
     "output_type": "stream",
     "text": [
      "DoubleMuon\n"
     ]
    }
   ],
   "source": [
    "print samples[5][:samples[5].find('_')]"
   ]
  },
  {
   "cell_type": "code",
   "execution_count": 34,
   "metadata": {},
   "outputs": [
    {
     "name": "stdout",
     "output_type": "stream",
     "text": [
      "200\n"
     ]
    }
   ],
   "source": [
    "if '0' in a:\n",
    "    print a[40:-81]\n"
   ]
  },
  {
   "cell_type": "code",
   "execution_count": 8,
   "metadata": {},
   "outputs": [
    {
     "name": "stdout",
     "output_type": "stream",
     "text": [
      "18\n",
      "this is string eee\n"
     ]
    }
   ],
   "source": [
    "str1 = \"this is string eee_xample....wow!!!\";\n",
    "str2 = \"_\";\n",
    "\n",
    "print str1.find(str2)\n",
    "print str1[:str1.find('_')]"
   ]
  },
  {
   "cell_type": "code",
   "execution_count": 4,
   "metadata": {},
   "outputs": [
    {
     "name": "stdout",
     "output_type": "stream",
     "text": [
      "/eos/user/r/rkamalie/CMSSW_8_0_25/src/try/testik/DY2JetsToLL/tree_1.root\n",
      "/eos/user/r/rkamalie/CMSSW_8_0_25/src/try/testik/DY2JetsToLL/tree_2.root\n",
      "/eos/user/r/rkamalie/CMSSW_8_0_25/src/try/testik/DY2JetsToLL/tree_3.root\n",
      "/eos/user/r/rkamalie/CMSSW_8_0_25/src/try/testik/DY2JetsToLL/tree_4.root\n",
      "/eos/user/r/rkamalie/CMSSW_8_0_25/src/try/testik/DY2JetsToLL/tree_5.root\n",
      "/eos/user/r/rkamalie/CMSSW_8_0_25/src/try/testik/DY2JetsToLL/tree_6.root\n",
      "/eos/user/r/rkamalie/CMSSW_8_0_25/src/try/testik/DY2JetsToLL/tree_7.root\n",
      "/eos/user/r/rkamalie/CMSSW_8_0_25/src/try/testik/DY2JetsToLL/tree_8.root\n",
      "/eos/user/r/rkamalie/CMSSW_8_0_25/src/try/testik/DY2JetsToLL/tree_9.root\n",
      "/eos/user/r/rkamalie/CMSSW_8_0_25/src/try/testik/DY2JetsToLL/tree_10.root\n",
      "/eos/user/r/rkamalie/CMSSW_8_0_25/src/try/testik/DY2JetsToLL/tree_11.root\n",
      "/eos/user/r/rkamalie/CMSSW_8_0_25/src/try/testik/DY2JetsToLL/tree_12.root\n",
      "/eos/user/r/rkamalie/CMSSW_8_0_25/src/try/testik/DY2JetsToLL/tree_13.root\n",
      "/eos/user/r/rkamalie/CMSSW_8_0_25/src/try/testik/DY2JetsToLL/tree_14.root\n",
      "/eos/user/r/rkamalie/CMSSW_8_0_25/src/try/testik/DY2JetsToLL/tree_15.root\n",
      "/eos/user/r/rkamalie/CMSSW_8_0_25/src/try/testik/DY2JetsToLL/tree_16.root\n",
      "/eos/user/r/rkamalie/CMSSW_8_0_25/src/try/testik/DY2JetsToLL/tree_17.root\n",
      "/eos/user/r/rkamalie/CMSSW_8_0_25/src/try/testik/DY2JetsToLL/tree_18.root\n",
      "/eos/user/r/rkamalie/CMSSW_8_0_25/src/try/testik/DY2JetsToLL/tree_19.root\n",
      "/eos/user/r/rkamalie/CMSSW_8_0_25/src/try/testik/DY2JetsToLL/tree_20.root\n",
      "/eos/user/r/rkamalie/CMSSW_8_0_25/src/try/testik/DY2JetsToLL/tree_21.root\n",
      "/eos/user/r/rkamalie/CMSSW_8_0_25/src/try/testik/DY2JetsToLL/tree_22.root\n",
      "/eos/user/r/rkamalie/CMSSW_8_0_25/src/try/testik/DY2JetsToLL/tree_23.root\n",
      "/eos/user/r/rkamalie/CMSSW_8_0_25/src/try/testik/DY2JetsToLL/tree_24.root\n",
      "/eos/user/r/rkamalie/CMSSW_8_0_25/src/try/testik/DY2JetsToLL/tree_25.root\n",
      "/eos/user/r/rkamalie/CMSSW_8_0_25/src/try/testik/DY2JetsToLL/tree_26.root\n",
      "/eos/user/r/rkamalie/CMSSW_8_0_25/src/try/testik/DY2JetsToLL/tree_27.root\n",
      "/eos/user/r/rkamalie/CMSSW_8_0_25/src/try/testik/DY2JetsToLL/tree_28.root\n",
      "/eos/user/r/rkamalie/CMSSW_8_0_25/src/try/testik/DY2JetsToLL/tree_29.root\n",
      "/eos/user/r/rkamalie/CMSSW_8_0_25/src/try/testik/DY2JetsToLL/tree_30.root\n"
     ]
    }
   ],
   "source": [
    "pref = '/eos/user/r/rkamalie/CMSSW_8_0_25/src/try/testik/DY2JetsToLL/tree_'\n",
    "for n in range(1,31):\n",
    "    print pref + '{0}.root'.format(n)"
   ]
  },
  {
   "cell_type": "code",
   "execution_count": 5,
   "metadata": {},
   "outputs": [
    {
     "name": "stdout",
     "output_type": "stream",
     "text": [
      "/eos/user/r/rkamalie/CMSSW_8_0_25/src/try/testik/GluGluToBulkGravitonToHHTo2B2ZTo2L2Nu_M-400_narrow_13TeV-madgraph/VHBB_V25_GluGluToBulkGravitonToHHTo2B2ZTo2L2Nu_M-400_narrow_13TeV-madgraph__RunIISummer16MAv2-PUMoriond17_80r2as_2016_TrancheIV_v6-v1/170803_104210/0000/tree_1.root\n",
      "/eos/user/r/rkamalie/CMSSW_8_0_25/src/try/testik/GluGluToBulkGravitonToHHTo2B2ZTo2L2Nu_M-400_narrow_13TeV-madgraph/VHBB_V25_GluGluToBulkGravitonToHHTo2B2ZTo2L2Nu_M-400_narrow_13TeV-madgraph__RunIISummer16MAv2-PUMoriond17_80r2as_2016_TrancheIV_v6-v1/170803_104210/0000/tree_2.root\n",
      "/eos/user/r/rkamalie/CMSSW_8_0_25/src/try/testik/GluGluToBulkGravitonToHHTo2B2ZTo2L2Nu_M-400_narrow_13TeV-madgraph/VHBB_V25_GluGluToBulkGravitonToHHTo2B2ZTo2L2Nu_M-400_narrow_13TeV-madgraph__RunIISummer16MAv2-PUMoriond17_80r2as_2016_TrancheIV_v6-v1/170803_104210/0000/tree_3.root\n",
      "/eos/user/r/rkamalie/CMSSW_8_0_25/src/try/testik/GluGluToBulkGravitonToHHTo2B2ZTo2L2Nu_M-400_narrow_13TeV-madgraph/VHBB_V25_GluGluToBulkGravitonToHHTo2B2ZTo2L2Nu_M-400_narrow_13TeV-madgraph__RunIISummer16MAv2-PUMoriond17_80r2as_2016_TrancheIV_v6-v1/170803_104210/0000/tree_4.root\n",
      "/eos/user/r/rkamalie/CMSSW_8_0_25/src/try/testik/GluGluToBulkGravitonToHHTo2B2ZTo2L2Nu_M-400_narrow_13TeV-madgraph/VHBB_V25_GluGluToBulkGravitonToHHTo2B2ZTo2L2Nu_M-400_narrow_13TeV-madgraph__RunIISummer16MAv2-PUMoriond17_80r2as_2016_TrancheIV_v6-v1/170803_104210/0000/tree_5.root\n",
      "/eos/user/r/rkamalie/CMSSW_8_0_25/src/try/testik/GluGluToBulkGravitonToHHTo2B2ZTo2L2Nu_M-400_narrow_13TeV-madgraph/VHBB_V25_GluGluToBulkGravitonToHHTo2B2ZTo2L2Nu_M-400_narrow_13TeV-madgraph__RunIISummer16MAv2-PUMoriond17_80r2as_2016_TrancheIV_v6-v1/170803_104210/0000/tree_6.root\n",
      "/eos/user/r/rkamalie/CMSSW_8_0_25/src/try/testik/GluGluToBulkGravitonToHHTo2B2ZTo2L2Nu_M-400_narrow_13TeV-madgraph/VHBB_V25_GluGluToBulkGravitonToHHTo2B2ZTo2L2Nu_M-400_narrow_13TeV-madgraph__RunIISummer16MAv2-PUMoriond17_80r2as_2016_TrancheIV_v6-v1/170803_104210/0000/tree_7.root\n",
      "/eos/user/r/rkamalie/CMSSW_8_0_25/src/try/testik/GluGluToBulkGravitonToHHTo2B2ZTo2L2Nu_M-400_narrow_13TeV-madgraph/VHBB_V25_GluGluToBulkGravitonToHHTo2B2ZTo2L2Nu_M-400_narrow_13TeV-madgraph__RunIISummer16MAv2-PUMoriond17_80r2as_2016_TrancheIV_v6-v1/170803_104210/0000/tree_8.root\n",
      "/eos/user/r/rkamalie/CMSSW_8_0_25/src/try/testik/GluGluToBulkGravitonToHHTo2B2ZTo2L2Nu_M-400_narrow_13TeV-madgraph/VHBB_V25_GluGluToBulkGravitonToHHTo2B2ZTo2L2Nu_M-400_narrow_13TeV-madgraph__RunIISummer16MAv2-PUMoriond17_80r2as_2016_TrancheIV_v6-v1/170803_104210/0000/tree_9.root\n",
      "/eos/user/r/rkamalie/CMSSW_8_0_25/src/try/testik/GluGluToBulkGravitonToHHTo2B2ZTo2L2Nu_M-400_narrow_13TeV-madgraph/VHBB_V25_GluGluToBulkGravitonToHHTo2B2ZTo2L2Nu_M-400_narrow_13TeV-madgraph__RunIISummer16MAv2-PUMoriond17_80r2as_2016_TrancheIV_v6-v1/170803_104210/0000/tree_10.root\n",
      "/eos/user/r/rkamalie/CMSSW_8_0_25/src/try/testik/GluGluToBulkGravitonToHHTo2B2ZTo2L2Nu_M-400_narrow_13TeV-madgraph/VHBB_V25_GluGluToBulkGravitonToHHTo2B2ZTo2L2Nu_M-400_narrow_13TeV-madgraph__RunIISummer16MAv2-PUMoriond17_80r2as_2016_TrancheIV_v6-v1/170803_104210/0000/tree_11.root\n",
      "/eos/user/r/rkamalie/CMSSW_8_0_25/src/try/testik/GluGluToBulkGravitonToHHTo2B2ZTo2L2Nu_M-400_narrow_13TeV-madgraph/VHBB_V25_GluGluToBulkGravitonToHHTo2B2ZTo2L2Nu_M-400_narrow_13TeV-madgraph__RunIISummer16MAv2-PUMoriond17_80r2as_2016_TrancheIV_v6-v1/170803_104210/0000/tree_12.root\n",
      "/eos/user/r/rkamalie/CMSSW_8_0_25/src/try/testik/GluGluToBulkGravitonToHHTo2B2ZTo2L2Nu_M-400_narrow_13TeV-madgraph/VHBB_V25_GluGluToBulkGravitonToHHTo2B2ZTo2L2Nu_M-400_narrow_13TeV-madgraph__RunIISummer16MAv2-PUMoriond17_80r2as_2016_TrancheIV_v6-v1/170803_104210/0000/tree_13.root\n",
      "/eos/user/r/rkamalie/CMSSW_8_0_25/src/try/testik/GluGluToBulkGravitonToHHTo2B2ZTo2L2Nu_M-400_narrow_13TeV-madgraph/VHBB_V25_GluGluToBulkGravitonToHHTo2B2ZTo2L2Nu_M-400_narrow_13TeV-madgraph__RunIISummer16MAv2-PUMoriond17_80r2as_2016_TrancheIV_v6-v1/170803_104210/0000/tree_14.root\n",
      "/eos/user/r/rkamalie/CMSSW_8_0_25/src/try/testik/GluGluToBulkGravitonToHHTo2B2ZTo2L2Nu_M-400_narrow_13TeV-madgraph/VHBB_V25_GluGluToBulkGravitonToHHTo2B2ZTo2L2Nu_M-400_narrow_13TeV-madgraph__RunIISummer16MAv2-PUMoriond17_80r2as_2016_TrancheIV_v6-v1/170803_104210/0000/tree_15.root\n",
      "/eos/user/r/rkamalie/CMSSW_8_0_25/src/try/testik/GluGluToBulkGravitonToHHTo2B2ZTo2L2Nu_M-400_narrow_13TeV-madgraph/VHBB_V25_GluGluToBulkGravitonToHHTo2B2ZTo2L2Nu_M-400_narrow_13TeV-madgraph__RunIISummer16MAv2-PUMoriond17_80r2as_2016_TrancheIV_v6-v1/170803_104210/0000/tree_16.root\n",
      "/eos/user/r/rkamalie/CMSSW_8_0_25/src/try/testik/GluGluToBulkGravitonToHHTo2B2ZTo2L2Nu_M-400_narrow_13TeV-madgraph/VHBB_V25_GluGluToBulkGravitonToHHTo2B2ZTo2L2Nu_M-400_narrow_13TeV-madgraph__RunIISummer16MAv2-PUMoriond17_80r2as_2016_TrancheIV_v6-v1/170803_104210/0000/tree_17.root\n",
      "/eos/user/r/rkamalie/CMSSW_8_0_25/src/try/testik/GluGluToBulkGravitonToHHTo2B2ZTo2L2Nu_M-400_narrow_13TeV-madgraph/VHBB_V25_GluGluToBulkGravitonToHHTo2B2ZTo2L2Nu_M-400_narrow_13TeV-madgraph__RunIISummer16MAv2-PUMoriond17_80r2as_2016_TrancheIV_v6-v1/170803_104210/0000/tree_18.root\n",
      "/eos/user/r/rkamalie/CMSSW_8_0_25/src/try/testik/GluGluToBulkGravitonToHHTo2B2ZTo2L2Nu_M-400_narrow_13TeV-madgraph/VHBB_V25_GluGluToBulkGravitonToHHTo2B2ZTo2L2Nu_M-400_narrow_13TeV-madgraph__RunIISummer16MAv2-PUMoriond17_80r2as_2016_TrancheIV_v6-v1/170803_104210/0000/tree_19.root\n",
      "/eos/user/r/rkamalie/CMSSW_8_0_25/src/try/testik/GluGluToBulkGravitonToHHTo2B2ZTo2L2Nu_M-400_narrow_13TeV-madgraph/VHBB_V25_GluGluToBulkGravitonToHHTo2B2ZTo2L2Nu_M-400_narrow_13TeV-madgraph__RunIISummer16MAv2-PUMoriond17_80r2as_2016_TrancheIV_v6-v1/170803_104210/0000/tree_20.root\n",
      "/eos/user/r/rkamalie/CMSSW_8_0_25/src/try/testik/GluGluToBulkGravitonToHHTo2B2ZTo2L2Nu_M-400_narrow_13TeV-madgraph/VHBB_V25_GluGluToBulkGravitonToHHTo2B2ZTo2L2Nu_M-400_narrow_13TeV-madgraph__RunIISummer16MAv2-PUMoriond17_80r2as_2016_TrancheIV_v6-v1/170803_104210/0000/tree_21.root\n",
      "/eos/user/r/rkamalie/CMSSW_8_0_25/src/try/testik/GluGluToBulkGravitonToHHTo2B2ZTo2L2Nu_M-400_narrow_13TeV-madgraph/VHBB_V25_GluGluToBulkGravitonToHHTo2B2ZTo2L2Nu_M-400_narrow_13TeV-madgraph__RunIISummer16MAv2-PUMoriond17_80r2as_2016_TrancheIV_v6-v1/170803_104210/0000/tree_22.root\n",
      "/eos/user/r/rkamalie/CMSSW_8_0_25/src/try/testik/GluGluToBulkGravitonToHHTo2B2ZTo2L2Nu_M-400_narrow_13TeV-madgraph/VHBB_V25_GluGluToBulkGravitonToHHTo2B2ZTo2L2Nu_M-400_narrow_13TeV-madgraph__RunIISummer16MAv2-PUMoriond17_80r2as_2016_TrancheIV_v6-v1/170803_104210/0000/tree_23.root\n",
      "/eos/user/r/rkamalie/CMSSW_8_0_25/src/try/testik/GluGluToBulkGravitonToHHTo2B2ZTo2L2Nu_M-400_narrow_13TeV-madgraph/VHBB_V25_GluGluToBulkGravitonToHHTo2B2ZTo2L2Nu_M-400_narrow_13TeV-madgraph__RunIISummer16MAv2-PUMoriond17_80r2as_2016_TrancheIV_v6-v1/170803_104210/0000/tree_24.root\n",
      "/eos/user/r/rkamalie/CMSSW_8_0_25/src/try/testik/GluGluToBulkGravitonToHHTo2B2ZTo2L2Nu_M-400_narrow_13TeV-madgraph/VHBB_V25_GluGluToBulkGravitonToHHTo2B2ZTo2L2Nu_M-400_narrow_13TeV-madgraph__RunIISummer16MAv2-PUMoriond17_80r2as_2016_TrancheIV_v6-v1/170803_104210/0000/tree_25.root\n",
      "/eos/user/r/rkamalie/CMSSW_8_0_25/src/try/testik/GluGluToBulkGravitonToHHTo2B2ZTo2L2Nu_M-400_narrow_13TeV-madgraph/VHBB_V25_GluGluToBulkGravitonToHHTo2B2ZTo2L2Nu_M-400_narrow_13TeV-madgraph__RunIISummer16MAv2-PUMoriond17_80r2as_2016_TrancheIV_v6-v1/170803_104210/0000/tree_26.root\n",
      "/eos/user/r/rkamalie/CMSSW_8_0_25/src/try/testik/GluGluToBulkGravitonToHHTo2B2ZTo2L2Nu_M-400_narrow_13TeV-madgraph/VHBB_V25_GluGluToBulkGravitonToHHTo2B2ZTo2L2Nu_M-400_narrow_13TeV-madgraph__RunIISummer16MAv2-PUMoriond17_80r2as_2016_TrancheIV_v6-v1/170803_104210/0000/tree_27.root\n"
     ]
    }
   ],
   "source": [
    "pref = '/eos/user/r/rkamalie/CMSSW_8_0_25/src/try/testik/GluGluToBulkGravitonToHHTo2B2ZTo2L2Nu_M-400_narrow_13TeV-madgraph/VHBB_V25_GluGluToBulkGravitonToHHTo2B2ZTo2L2Nu_M-400_narrow_13TeV-madgraph__RunIISummer16MAv2-PUMoriond17_80r2as_2016_TrancheIV_v6-v1/170803_104210/0000/tree_'\n",
    "for n in range(1, 28):\n",
    "    print pref + '{0}.root'.format(n)"
   ]
  },
  {
   "cell_type": "code",
   "execution_count": 9,
   "metadata": {},
   "outputs": [
    {
     "name": "stdout",
     "output_type": "stream",
     "text": [
      "/eos/cms/store/user/rkamalie/GluGluToBulkGravitonToHHTo2B2ZTo2L2Nu_M-700_narrow_13TeV-madgraph/VHBB_V25_GluGluToBulkGravitonToHHTo2B2ZTo2L2Nu_M-700_narrow_13TeV-madgraph__RunIISummer16MAv2-PUMoriond17_80r2as_2016_TrancheIV_v6-v1/170803_104708/0000/tree_1.root\n",
      "/eos/cms/store/user/rkamalie/GluGluToBulkGravitonToHHTo2B2ZTo2L2Nu_M-700_narrow_13TeV-madgraph/VHBB_V25_GluGluToBulkGravitonToHHTo2B2ZTo2L2Nu_M-700_narrow_13TeV-madgraph__RunIISummer16MAv2-PUMoriond17_80r2as_2016_TrancheIV_v6-v1/170803_104708/0000/tree_2.root\n",
      "/eos/cms/store/user/rkamalie/GluGluToBulkGravitonToHHTo2B2ZTo2L2Nu_M-700_narrow_13TeV-madgraph/VHBB_V25_GluGluToBulkGravitonToHHTo2B2ZTo2L2Nu_M-700_narrow_13TeV-madgraph__RunIISummer16MAv2-PUMoriond17_80r2as_2016_TrancheIV_v6-v1/170803_104708/0000/tree_3.root\n",
      "/eos/cms/store/user/rkamalie/GluGluToBulkGravitonToHHTo2B2ZTo2L2Nu_M-700_narrow_13TeV-madgraph/VHBB_V25_GluGluToBulkGravitonToHHTo2B2ZTo2L2Nu_M-700_narrow_13TeV-madgraph__RunIISummer16MAv2-PUMoriond17_80r2as_2016_TrancheIV_v6-v1/170803_104708/0000/tree_4.root\n",
      "/eos/cms/store/user/rkamalie/GluGluToBulkGravitonToHHTo2B2ZTo2L2Nu_M-700_narrow_13TeV-madgraph/VHBB_V25_GluGluToBulkGravitonToHHTo2B2ZTo2L2Nu_M-700_narrow_13TeV-madgraph__RunIISummer16MAv2-PUMoriond17_80r2as_2016_TrancheIV_v6-v1/170803_104708/0000/tree_5.root\n",
      "/eos/cms/store/user/rkamalie/GluGluToBulkGravitonToHHTo2B2ZTo2L2Nu_M-700_narrow_13TeV-madgraph/VHBB_V25_GluGluToBulkGravitonToHHTo2B2ZTo2L2Nu_M-700_narrow_13TeV-madgraph__RunIISummer16MAv2-PUMoriond17_80r2as_2016_TrancheIV_v6-v1/170803_104708/0000/tree_6.root\n",
      "/eos/cms/store/user/rkamalie/GluGluToBulkGravitonToHHTo2B2ZTo2L2Nu_M-700_narrow_13TeV-madgraph/VHBB_V25_GluGluToBulkGravitonToHHTo2B2ZTo2L2Nu_M-700_narrow_13TeV-madgraph__RunIISummer16MAv2-PUMoriond17_80r2as_2016_TrancheIV_v6-v1/170803_104708/0000/tree_7.root\n",
      "/eos/cms/store/user/rkamalie/GluGluToBulkGravitonToHHTo2B2ZTo2L2Nu_M-700_narrow_13TeV-madgraph/VHBB_V25_GluGluToBulkGravitonToHHTo2B2ZTo2L2Nu_M-700_narrow_13TeV-madgraph__RunIISummer16MAv2-PUMoriond17_80r2as_2016_TrancheIV_v6-v1/170803_104708/0000/tree_8.root\n",
      "/eos/cms/store/user/rkamalie/GluGluToBulkGravitonToHHTo2B2ZTo2L2Nu_M-700_narrow_13TeV-madgraph/VHBB_V25_GluGluToBulkGravitonToHHTo2B2ZTo2L2Nu_M-700_narrow_13TeV-madgraph__RunIISummer16MAv2-PUMoriond17_80r2as_2016_TrancheIV_v6-v1/170803_104708/0000/tree_9.root\n",
      "/eos/cms/store/user/rkamalie/GluGluToBulkGravitonToHHTo2B2ZTo2L2Nu_M-700_narrow_13TeV-madgraph/VHBB_V25_GluGluToBulkGravitonToHHTo2B2ZTo2L2Nu_M-700_narrow_13TeV-madgraph__RunIISummer16MAv2-PUMoriond17_80r2as_2016_TrancheIV_v6-v1/170803_104708/0000/tree_10.root\n",
      "/eos/cms/store/user/rkamalie/GluGluToBulkGravitonToHHTo2B2ZTo2L2Nu_M-700_narrow_13TeV-madgraph/VHBB_V25_GluGluToBulkGravitonToHHTo2B2ZTo2L2Nu_M-700_narrow_13TeV-madgraph__RunIISummer16MAv2-PUMoriond17_80r2as_2016_TrancheIV_v6-v1/170803_104708/0000/tree_11.root\n",
      "/eos/cms/store/user/rkamalie/GluGluToBulkGravitonToHHTo2B2ZTo2L2Nu_M-700_narrow_13TeV-madgraph/VHBB_V25_GluGluToBulkGravitonToHHTo2B2ZTo2L2Nu_M-700_narrow_13TeV-madgraph__RunIISummer16MAv2-PUMoriond17_80r2as_2016_TrancheIV_v6-v1/170803_104708/0000/tree_12.root\n",
      "/eos/cms/store/user/rkamalie/GluGluToBulkGravitonToHHTo2B2ZTo2L2Nu_M-700_narrow_13TeV-madgraph/VHBB_V25_GluGluToBulkGravitonToHHTo2B2ZTo2L2Nu_M-700_narrow_13TeV-madgraph__RunIISummer16MAv2-PUMoriond17_80r2as_2016_TrancheIV_v6-v1/170803_104708/0000/tree_13.root\n",
      "/eos/cms/store/user/rkamalie/GluGluToBulkGravitonToHHTo2B2ZTo2L2Nu_M-700_narrow_13TeV-madgraph/VHBB_V25_GluGluToBulkGravitonToHHTo2B2ZTo2L2Nu_M-700_narrow_13TeV-madgraph__RunIISummer16MAv2-PUMoriond17_80r2as_2016_TrancheIV_v6-v1/170803_104708/0000/tree_14.root\n",
      "/eos/cms/store/user/rkamalie/GluGluToBulkGravitonToHHTo2B2ZTo2L2Nu_M-700_narrow_13TeV-madgraph/VHBB_V25_GluGluToBulkGravitonToHHTo2B2ZTo2L2Nu_M-700_narrow_13TeV-madgraph__RunIISummer16MAv2-PUMoriond17_80r2as_2016_TrancheIV_v6-v1/170803_104708/0000/tree_15.root\n",
      "/eos/cms/store/user/rkamalie/GluGluToBulkGravitonToHHTo2B2ZTo2L2Nu_M-700_narrow_13TeV-madgraph/VHBB_V25_GluGluToBulkGravitonToHHTo2B2ZTo2L2Nu_M-700_narrow_13TeV-madgraph__RunIISummer16MAv2-PUMoriond17_80r2as_2016_TrancheIV_v6-v1/170803_104708/0000/tree_16.root\n",
      "/eos/cms/store/user/rkamalie/GluGluToBulkGravitonToHHTo2B2ZTo2L2Nu_M-700_narrow_13TeV-madgraph/VHBB_V25_GluGluToBulkGravitonToHHTo2B2ZTo2L2Nu_M-700_narrow_13TeV-madgraph__RunIISummer16MAv2-PUMoriond17_80r2as_2016_TrancheIV_v6-v1/170803_104708/0000/tree_17.root\n",
      "/eos/cms/store/user/rkamalie/GluGluToBulkGravitonToHHTo2B2ZTo2L2Nu_M-700_narrow_13TeV-madgraph/VHBB_V25_GluGluToBulkGravitonToHHTo2B2ZTo2L2Nu_M-700_narrow_13TeV-madgraph__RunIISummer16MAv2-PUMoriond17_80r2as_2016_TrancheIV_v6-v1/170803_104708/0000/tree_18.root\n",
      "/eos/cms/store/user/rkamalie/GluGluToBulkGravitonToHHTo2B2ZTo2L2Nu_M-700_narrow_13TeV-madgraph/VHBB_V25_GluGluToBulkGravitonToHHTo2B2ZTo2L2Nu_M-700_narrow_13TeV-madgraph__RunIISummer16MAv2-PUMoriond17_80r2as_2016_TrancheIV_v6-v1/170803_104708/0000/tree_19.root\n",
      "/eos/cms/store/user/rkamalie/GluGluToBulkGravitonToHHTo2B2ZTo2L2Nu_M-700_narrow_13TeV-madgraph/VHBB_V25_GluGluToBulkGravitonToHHTo2B2ZTo2L2Nu_M-700_narrow_13TeV-madgraph__RunIISummer16MAv2-PUMoriond17_80r2as_2016_TrancheIV_v6-v1/170803_104708/0000/tree_20.root\n",
      "/eos/cms/store/user/rkamalie/GluGluToBulkGravitonToHHTo2B2ZTo2L2Nu_M-700_narrow_13TeV-madgraph/VHBB_V25_GluGluToBulkGravitonToHHTo2B2ZTo2L2Nu_M-700_narrow_13TeV-madgraph__RunIISummer16MAv2-PUMoriond17_80r2as_2016_TrancheIV_v6-v1/170803_104708/0000/tree_21.root\n",
      "/eos/cms/store/user/rkamalie/GluGluToBulkGravitonToHHTo2B2ZTo2L2Nu_M-700_narrow_13TeV-madgraph/VHBB_V25_GluGluToBulkGravitonToHHTo2B2ZTo2L2Nu_M-700_narrow_13TeV-madgraph__RunIISummer16MAv2-PUMoriond17_80r2as_2016_TrancheIV_v6-v1/170803_104708/0000/tree_22.root\n",
      "/eos/cms/store/user/rkamalie/GluGluToBulkGravitonToHHTo2B2ZTo2L2Nu_M-700_narrow_13TeV-madgraph/VHBB_V25_GluGluToBulkGravitonToHHTo2B2ZTo2L2Nu_M-700_narrow_13TeV-madgraph__RunIISummer16MAv2-PUMoriond17_80r2as_2016_TrancheIV_v6-v1/170803_104708/0000/tree_23.root\n",
      "/eos/cms/store/user/rkamalie/GluGluToBulkGravitonToHHTo2B2ZTo2L2Nu_M-700_narrow_13TeV-madgraph/VHBB_V25_GluGluToBulkGravitonToHHTo2B2ZTo2L2Nu_M-700_narrow_13TeV-madgraph__RunIISummer16MAv2-PUMoriond17_80r2as_2016_TrancheIV_v6-v1/170803_104708/0000/tree_24.root\n",
      "/eos/cms/store/user/rkamalie/GluGluToBulkGravitonToHHTo2B2ZTo2L2Nu_M-700_narrow_13TeV-madgraph/VHBB_V25_GluGluToBulkGravitonToHHTo2B2ZTo2L2Nu_M-700_narrow_13TeV-madgraph__RunIISummer16MAv2-PUMoriond17_80r2as_2016_TrancheIV_v6-v1/170803_104708/0000/tree_25.root\n",
      "/eos/cms/store/user/rkamalie/GluGluToBulkGravitonToHHTo2B2ZTo2L2Nu_M-700_narrow_13TeV-madgraph/VHBB_V25_GluGluToBulkGravitonToHHTo2B2ZTo2L2Nu_M-700_narrow_13TeV-madgraph__RunIISummer16MAv2-PUMoriond17_80r2as_2016_TrancheIV_v6-v1/170803_104708/0000/tree_26.root\n",
      "/eos/cms/store/user/rkamalie/GluGluToBulkGravitonToHHTo2B2ZTo2L2Nu_M-700_narrow_13TeV-madgraph/VHBB_V25_GluGluToBulkGravitonToHHTo2B2ZTo2L2Nu_M-700_narrow_13TeV-madgraph__RunIISummer16MAv2-PUMoriond17_80r2as_2016_TrancheIV_v6-v1/170803_104708/0000/tree_27.root\n",
      "/eos/cms/store/user/rkamalie/GluGluToBulkGravitonToHHTo2B2ZTo2L2Nu_M-700_narrow_13TeV-madgraph/VHBB_V25_GluGluToBulkGravitonToHHTo2B2ZTo2L2Nu_M-700_narrow_13TeV-madgraph__RunIISummer16MAv2-PUMoriond17_80r2as_2016_TrancheIV_v6-v1/170803_104708/0000/tree_28.root\n",
      "/eos/cms/store/user/rkamalie/GluGluToBulkGravitonToHHTo2B2ZTo2L2Nu_M-700_narrow_13TeV-madgraph/VHBB_V25_GluGluToBulkGravitonToHHTo2B2ZTo2L2Nu_M-700_narrow_13TeV-madgraph__RunIISummer16MAv2-PUMoriond17_80r2as_2016_TrancheIV_v6-v1/170803_104708/0000/tree_29.root\n",
      "/eos/cms/store/user/rkamalie/GluGluToBulkGravitonToHHTo2B2ZTo2L2Nu_M-700_narrow_13TeV-madgraph/VHBB_V25_GluGluToBulkGravitonToHHTo2B2ZTo2L2Nu_M-700_narrow_13TeV-madgraph__RunIISummer16MAv2-PUMoriond17_80r2as_2016_TrancheIV_v6-v1/170803_104708/0000/tree_30.root\n",
      "/eos/cms/store/user/rkamalie/GluGluToBulkGravitonToHHTo2B2ZTo2L2Nu_M-700_narrow_13TeV-madgraph/VHBB_V25_GluGluToBulkGravitonToHHTo2B2ZTo2L2Nu_M-700_narrow_13TeV-madgraph__RunIISummer16MAv2-PUMoriond17_80r2as_2016_TrancheIV_v6-v1/170803_104708/0000/tree_31.root\n"
     ]
    }
   ],
   "source": [
    "pref = '/eos/cms/store/user/rkamalie/GluGluToBulkGravitonToHHTo2B2ZTo2L2Nu_M-700_narrow_13TeV-madgraph/VHBB_V25_GluGluToBulkGravitonToHHTo2B2ZTo2L2Nu_M-700_narrow_13TeV-madgraph__RunIISummer16MAv2-PUMoriond17_80r2as_2016_TrancheIV_v6-v1/170803_104708/0000/tree_'\n",
    "for n in range(1,32):\n",
    "    print pref+'{0}.root'.format(n)"
   ]
  },
  {
   "cell_type": "code",
   "execution_count": null,
   "metadata": {
    "collapsed": true
   },
   "outputs": [],
   "source": [
    "pref3J = '/eos/cms/store/group/phys_higgs/hbb/ntuples/V25/DY3JetsToLL_M-50_TuneCUETP8M1_13TeV-madgraphMLM-pythia8/VHBB_HEPPY_V25_DY3JetsToLL_M-50_TuneCUETP8M1_13TeV-madgraphMLM-Py8__RunIISummer16MAv2-PUMoriond17_80r2as_2016_TrancheIV_v6-v1/170128_160715/0000/'\n",
    "pref4J = '/eos/cms/store/group/phys_higgs/hbb/ntuples/V25/DY4JetsToLL_M-50_TuneCUETP8M1_13TeV-madgraphMLM-pythia8/VHBB_HEPPY_V25_DY4JetsToLL_M-50_TuneCUETP8M1_13TeV-madgraphMLM-Py8__RunIISummer16MAv2-PUMoriond17_80r2as_2016_TrancheIV_v6-v1/170128_160813/0000/'\n",
    "\n"
   ]
  },
  {
   "cell_type": "code",
   "execution_count": null,
   "metadata": {
    "collapsed": true
   },
   "outputs": [],
   "source": [
    "name = 'ZH_amc.txt'\n",
    "with open (name) as fIn:\n",
    "    ml = fIn.read().split('\\n')\n",
    "\n",
    "ml\n",
    "nml = [x for x in ml if 'tree' in x]\n",
    "nml\n",
    "pref = '/eos/cms/store/group/phys_higgs/hbb/ntuples/V25/ZH_HToBB_ZToLL_M125_13TeV_amcatnloFXFX_madspin_pythia8/VHBB_HEPPY_V25_ZH_HToBB_ZToLL_M125_13TeV_amcatnloFXFX_madspin_Py8__RunIISummer16MAv2-PUMoriond17_80r2as_2016_TrancheIV_v6-v1/170128_125014/0000/'\n",
    "\n",
    "anl = [pref+x for x in nml]\n",
    "\n",
    "nice_out_name = 'comb_listOf_ZH_HToBB_ZToLL_M125_13TeV_amcatnloFXFX_madspin_Py8__RunIISummer16MAv2-PUMoriond17_80r2as_2016_TrancheIV_v6-v1_trees.txt'\n",
    "with open (nice_out_name, mode = 'wt') as fO:\n",
    "    for l in anl:\n",
    "        if l:\n",
    "            fO.write('{0}\\n'.format(l))"
   ]
  },
  {
   "cell_type": "code",
   "execution_count": 5,
   "metadata": {},
   "outputs": [
    {
     "data": {
      "text/plain": [
       "['DY1', 'DY3J', 'ST']"
      ]
     },
     "execution_count": 5,
     "metadata": {},
     "output_type": "execute_result"
    }
   ],
   "source": [
    "keepList = []#'DY3J', 'DY4J', 'ZH_H']\n",
    "dirs = ['DY1', 'DY3J', 'ST']\n",
    "dirs = list(filter(lambda x: x in keepList, dirs)) if keepList else\tdirs\n",
    "dirs"
   ]
  },
  {
   "cell_type": "code",
   "execution_count": 1,
   "metadata": {},
   "outputs": [
    {
     "name": "stdout",
     "output_type": "stream",
     "text": [
      "\"GluGluToBulkGravitonToHHTo2B2VTo2L2Nu_M-260_narrow_13TeV-madgraph_HWW\" : [\n",
      "            1,\n",
      "            0,\n",
      "            \"GluGluToBulkGravitonToHHTo2B2VTo2L2Nu_WW_part_of_VV\",\n",
      "            \"BGravToH(WW)H(bb)_M260\",\n",
      "            3,\n",
      "            \"Tot\",\n",
      "            1,\n",
      "            \"Hww\",\n",
      "            0\n",
      "            ],\n",
      "\n",
      "\"GluGluToBulkGravitonToHHTo2B2VTo2L2Nu_M-270_narrow_13TeV-madgraph_HWW\" : [\n",
      "            1,\n",
      "            0,\n",
      "            \"GluGluToBulkGravitonToHHTo2B2VTo2L2Nu_WW_part_of_VV\",\n",
      "            \"BGravToH(WW)H(bb)_M270\",\n",
      "            3,\n",
      "            \"Tot\",\n",
      "            1,\n",
      "            \"Hww\",\n",
      "            0\n",
      "            ],\n",
      "\n",
      "\"GluGluToBulkGravitonToHHTo2B2VTo2L2Nu_M-300_narrow_13TeV-madgraph_HWW\" : [\n",
      "            1,\n",
      "            0,\n",
      "            \"GluGluToBulkGravitonToHHTo2B2VTo2L2Nu_WW_part_of_VV\",\n",
      "            \"BGravToH(WW)H(bb)_M300\",\n",
      "            3,\n",
      "            \"Tot\",\n",
      "            1,\n",
      "            \"Hww\",\n",
      "            0\n",
      "            ],\n",
      "\n",
      "\"GluGluToBulkGravitonToHHTo2B2VTo2L2Nu_M-350_narrow_13TeV-madgraph_HWW\" : [\n",
      "            1,\n",
      "            0,\n",
      "            \"GluGluToBulkGravitonToHHTo2B2VTo2L2Nu_WW_part_of_VV\",\n",
      "            \"BGravToH(WW)H(bb)_M350\",\n",
      "            3,\n",
      "            \"Tot\",\n",
      "            1,\n",
      "            \"Hww\",\n",
      "            0\n",
      "            ],\n",
      "\n",
      "\"GluGluToBulkGravitonToHHTo2B2VTo2L2Nu_M-400_narrow_13TeV-madgraph_HWW\" : [\n",
      "            1,\n",
      "            0,\n",
      "            \"GluGluToBulkGravitonToHHTo2B2VTo2L2Nu_WW_part_of_VV\",\n",
      "            \"BGravToH(WW)H(bb)_M400\",\n",
      "            3,\n",
      "            \"Tot\",\n",
      "            1,\n",
      "            \"Hww\",\n",
      "            0\n",
      "            ],\n",
      "\n",
      "\"GluGluToBulkGravitonToHHTo2B2VTo2L2Nu_M-450_narrow_13TeV-madgraph_HWW\" : [\n",
      "            1,\n",
      "            0,\n",
      "            \"GluGluToBulkGravitonToHHTo2B2VTo2L2Nu_WW_part_of_VV\",\n",
      "            \"BGravToH(WW)H(bb)_M450\",\n",
      "            3,\n",
      "            \"Tot\",\n",
      "            1,\n",
      "            \"Hww\",\n",
      "            0\n",
      "            ],\n",
      "\n",
      "\"GluGluToBulkGravitonToHHTo2B2VTo2L2Nu_M-600_narrow_13TeV-madgraph_HWW\" : [\n",
      "            1,\n",
      "            0,\n",
      "            \"GluGluToBulkGravitonToHHTo2B2VTo2L2Nu_WW_part_of_VV\",\n",
      "            \"BGravToH(WW)H(bb)_M600\",\n",
      "            3,\n",
      "            \"Tot\",\n",
      "            1,\n",
      "            \"Hww\",\n",
      "            0\n",
      "            ],\n",
      "\n",
      "\"GluGluToBulkGravitonToHHTo2B2VTo2L2Nu_M-650_narrow_13TeV-madgraph_HWW\" : [\n",
      "            1,\n",
      "            0,\n",
      "            \"GluGluToBulkGravitonToHHTo2B2VTo2L2Nu_WW_part_of_VV\",\n",
      "            \"BGravToH(WW)H(bb)_M650\",\n",
      "            3,\n",
      "            \"Tot\",\n",
      "            1,\n",
      "            \"Hww\",\n",
      "            0\n",
      "            ],\n",
      "\n",
      "\"GluGluToBulkGravitonToHHTo2B2VTo2L2Nu_M-900_narrow_13TeV-madgraph_HWW\" : [\n",
      "            1,\n",
      "            0,\n",
      "            \"GluGluToBulkGravitonToHHTo2B2VTo2L2Nu_WW_part_of_VV\",\n",
      "            \"BGravToH(WW)H(bb)_M900\",\n",
      "            3,\n",
      "            \"Tot\",\n",
      "            1,\n",
      "            \"Hww\",\n",
      "            0\n",
      "            ],\n",
      "\n",
      "\"GluGluToBulkGravitonToHHTo2B2VTo2L2Nu_M-1000_narrow_13TeV-madgraph_HWW\" : [\n",
      "            1,\n",
      "            0,\n",
      "            \"GluGluToBulkGravitonToHHTo2B2VTo2L2Nu_WW_part_of_VV\",\n",
      "            \"BGravToH(WW)H(bb)_M1000\",\n",
      "            3,\n",
      "            \"Tot\",\n",
      "            1,\n",
      "            \"Hww\",\n",
      "            0\n",
      "            ],\n",
      "\n",
      "\"GluGluToBulkGravitonToHHTo2B2VTo2L2Nu_M-260_narrow_13TeV-madgraph_Hzz\" : [\n",
      "            1,\n",
      "            0,\n",
      "            \"GluGluToBulkGravitonToHHTo2B2VTo2L2Nu_ZZ_part_of_VV\",\n",
      "            \"BGravToH(zz)H(bb)_M260\",\n",
      "            9,\n",
      "            \"Tot\",\n",
      "            1,\n",
      "            \"Hzz\",\n",
      "            0\n",
      "            ],\n",
      "\n",
      "\"GluGluToBulkGravitonToHHTo2B2VTo2L2Nu_M-270_narrow_13TeV-madgraph_Hzz\" : [\n",
      "            1,\n",
      "            0,\n",
      "            \"GluGluToBulkGravitonToHHTo2B2VTo2L2Nu_ZZ_part_of_VV\",\n",
      "            \"BGravToH(zz)H(bb)_M270\",\n",
      "            9,\n",
      "            \"Tot\",\n",
      "            1,\n",
      "            \"Hzz\",\n",
      "            0\n",
      "            ],\n",
      "\n",
      "\"GluGluToBulkGravitonToHHTo2B2VTo2L2Nu_M-300_narrow_13TeV-madgraph_Hzz\" : [\n",
      "            1,\n",
      "            0,\n",
      "            \"GluGluToBulkGravitonToHHTo2B2VTo2L2Nu_ZZ_part_of_VV\",\n",
      "            \"BGravToH(zz)H(bb)_M300\",\n",
      "            9,\n",
      "            \"Tot\",\n",
      "            1,\n",
      "            \"Hzz\",\n",
      "            0\n",
      "            ],\n",
      "\n",
      "\"GluGluToBulkGravitonToHHTo2B2VTo2L2Nu_M-350_narrow_13TeV-madgraph_Hzz\" : [\n",
      "            1,\n",
      "            0,\n",
      "            \"GluGluToBulkGravitonToHHTo2B2VTo2L2Nu_ZZ_part_of_VV\",\n",
      "            \"BGravToH(zz)H(bb)_M350\",\n",
      "            9,\n",
      "            \"Tot\",\n",
      "            1,\n",
      "            \"Hzz\",\n",
      "            0\n",
      "            ],\n",
      "\n",
      "\"GluGluToBulkGravitonToHHTo2B2VTo2L2Nu_M-400_narrow_13TeV-madgraph_Hzz\" : [\n",
      "            1,\n",
      "            0,\n",
      "            \"GluGluToBulkGravitonToHHTo2B2VTo2L2Nu_ZZ_part_of_VV\",\n",
      "            \"BGravToH(zz)H(bb)_M400\",\n",
      "            9,\n",
      "            \"Tot\",\n",
      "            1,\n",
      "            \"Hzz\",\n",
      "            0\n",
      "            ],\n",
      "\n",
      "\"GluGluToBulkGravitonToHHTo2B2VTo2L2Nu_M-450_narrow_13TeV-madgraph_Hzz\" : [\n",
      "            1,\n",
      "            0,\n",
      "            \"GluGluToBulkGravitonToHHTo2B2VTo2L2Nu_ZZ_part_of_VV\",\n",
      "            \"BGravToH(zz)H(bb)_M450\",\n",
      "            9,\n",
      "            \"Tot\",\n",
      "            1,\n",
      "            \"Hzz\",\n",
      "            0\n",
      "            ],\n",
      "\n",
      "\"GluGluToBulkGravitonToHHTo2B2VTo2L2Nu_M-600_narrow_13TeV-madgraph_Hzz\" : [\n",
      "            1,\n",
      "            0,\n",
      "            \"GluGluToBulkGravitonToHHTo2B2VTo2L2Nu_ZZ_part_of_VV\",\n",
      "            \"BGravToH(zz)H(bb)_M600\",\n",
      "            9,\n",
      "            \"Tot\",\n",
      "            1,\n",
      "            \"Hzz\",\n",
      "            0\n",
      "            ],\n",
      "\n",
      "\"GluGluToBulkGravitonToHHTo2B2VTo2L2Nu_M-650_narrow_13TeV-madgraph_Hzz\" : [\n",
      "            1,\n",
      "            0,\n",
      "            \"GluGluToBulkGravitonToHHTo2B2VTo2L2Nu_ZZ_part_of_VV\",\n",
      "            \"BGravToH(zz)H(bb)_M650\",\n",
      "            9,\n",
      "            \"Tot\",\n",
      "            1,\n",
      "            \"Hzz\",\n",
      "            0\n",
      "            ],\n",
      "\n",
      "\"GluGluToBulkGravitonToHHTo2B2VTo2L2Nu_M-900_narrow_13TeV-madgraph_Hzz\" : [\n",
      "            1,\n",
      "            0,\n",
      "            \"GluGluToBulkGravitonToHHTo2B2VTo2L2Nu_ZZ_part_of_VV\",\n",
      "            \"BGravToH(zz)H(bb)_M900\",\n",
      "            9,\n",
      "            \"Tot\",\n",
      "            1,\n",
      "            \"Hzz\",\n",
      "            0\n",
      "            ],\n",
      "\n",
      "\"GluGluToBulkGravitonToHHTo2B2VTo2L2Nu_M-1000_narrow_13TeV-madgraph_Hzz\" : [\n",
      "            1,\n",
      "            0,\n",
      "            \"GluGluToBulkGravitonToHHTo2B2VTo2L2Nu_ZZ_part_of_VV\",\n",
      "            \"BGravToH(zz)H(bb)_M1000\",\n",
      "            9,\n",
      "            \"Tot\",\n",
      "            1,\n",
      "            \"Hzz\",\n",
      "            0\n",
      "            ],\n",
      "\n",
      "\"GluGluToBulkGravitonToHHTo2B2VTo2L2Nu_M-260_narrow_13TeV-madgraph\" : [\n",
      "            1,\n",
      "            0,\n",
      "            \"GluGluToBulkGravitonToHHTo2B2VTo2L2Nu_no_WW/ZZ_splitting_of_VV\",\n",
      "            \"BGravToH(VV)H(bb)_M260\",\n",
      "            28,\n",
      "            \"Tot\",\n",
      "            1,\n",
      "            \"No\",\n",
      "            0\n",
      "            ],\n",
      "\n",
      "\"GluGluToBulkGravitonToHHTo2B2VTo2L2Nu_M-270_narrow_13TeV-madgraph\" : [\n",
      "            1,\n",
      "            0,\n",
      "            \"GluGluToBulkGravitonToHHTo2B2VTo2L2Nu_no_WW/ZZ_splitting_of_VV\",\n",
      "            \"BGravToH(VV)H(bb)_M270\",\n",
      "            28,\n",
      "            \"Tot\",\n",
      "            1,\n",
      "            \"No\",\n",
      "            0\n",
      "            ],\n",
      "\n",
      "\"GluGluToBulkGravitonToHHTo2B2VTo2L2Nu_M-300_narrow_13TeV-madgraph\" : [\n",
      "            1,\n",
      "            0,\n",
      "            \"GluGluToBulkGravitonToHHTo2B2VTo2L2Nu_no_WW/ZZ_splitting_of_VV\",\n",
      "            \"BGravToH(VV)H(bb)_M300\",\n",
      "            28,\n",
      "            \"Tot\",\n",
      "            1,\n",
      "            \"No\",\n",
      "            0\n",
      "            ],\n",
      "\n",
      "\"GluGluToBulkGravitonToHHTo2B2VTo2L2Nu_M-350_narrow_13TeV-madgraph\" : [\n",
      "            1,\n",
      "            0,\n",
      "            \"GluGluToBulkGravitonToHHTo2B2VTo2L2Nu_no_WW/ZZ_splitting_of_VV\",\n",
      "            \"BGravToH(VV)H(bb)_M350\",\n",
      "            28,\n",
      "            \"Tot\",\n",
      "            1,\n",
      "            \"No\",\n",
      "            0\n",
      "            ],\n",
      "\n",
      "\"GluGluToBulkGravitonToHHTo2B2VTo2L2Nu_M-400_narrow_13TeV-madgraph\" : [\n",
      "            1,\n",
      "            0,\n",
      "            \"GluGluToBulkGravitonToHHTo2B2VTo2L2Nu_no_WW/ZZ_splitting_of_VV\",\n",
      "            \"BGravToH(VV)H(bb)_M400\",\n",
      "            28,\n",
      "            \"Tot\",\n",
      "            1,\n",
      "            \"No\",\n",
      "            0\n",
      "            ],\n",
      "\n",
      "\"GluGluToBulkGravitonToHHTo2B2VTo2L2Nu_M-450_narrow_13TeV-madgraph\" : [\n",
      "            1,\n",
      "            0,\n",
      "            \"GluGluToBulkGravitonToHHTo2B2VTo2L2Nu_no_WW/ZZ_splitting_of_VV\",\n",
      "            \"BGravToH(VV)H(bb)_M450\",\n",
      "            28,\n",
      "            \"Tot\",\n",
      "            1,\n",
      "            \"No\",\n",
      "            0\n",
      "            ],\n",
      "\n",
      "\"GluGluToBulkGravitonToHHTo2B2VTo2L2Nu_M-600_narrow_13TeV-madgraph\" : [\n",
      "            1,\n",
      "            0,\n",
      "            \"GluGluToBulkGravitonToHHTo2B2VTo2L2Nu_no_WW/ZZ_splitting_of_VV\",\n",
      "            \"BGravToH(VV)H(bb)_M600\",\n",
      "            28,\n",
      "            \"Tot\",\n",
      "            1,\n",
      "            \"No\",\n",
      "            0\n",
      "            ],\n",
      "\n",
      "\"GluGluToBulkGravitonToHHTo2B2VTo2L2Nu_M-650_narrow_13TeV-madgraph\" : [\n",
      "            1,\n",
      "            0,\n",
      "            \"GluGluToBulkGravitonToHHTo2B2VTo2L2Nu_no_WW/ZZ_splitting_of_VV\",\n",
      "            \"BGravToH(VV)H(bb)_M650\",\n",
      "            28,\n",
      "            \"Tot\",\n",
      "            1,\n",
      "            \"No\",\n",
      "            0\n",
      "            ],\n",
      "\n",
      "\"GluGluToBulkGravitonToHHTo2B2VTo2L2Nu_M-900_narrow_13TeV-madgraph\" : [\n",
      "            1,\n",
      "            0,\n",
      "            \"GluGluToBulkGravitonToHHTo2B2VTo2L2Nu_no_WW/ZZ_splitting_of_VV\",\n",
      "            \"BGravToH(VV)H(bb)_M900\",\n",
      "            28,\n",
      "            \"Tot\",\n",
      "            1,\n",
      "            \"No\",\n",
      "            0\n",
      "            ],\n",
      "\n",
      "\"GluGluToBulkGravitonToHHTo2B2VTo2L2Nu_M-1000_narrow_13TeV-madgraph\" : [\n",
      "            1,\n",
      "            0,\n",
      "            \"GluGluToBulkGravitonToHHTo2B2VTo2L2Nu_no_WW/ZZ_splitting_of_VV\",\n",
      "            \"BGravToH(VV)H(bb)_M1000\",\n",
      "            28,\n",
      "            \"Tot\",\n",
      "            1,\n",
      "            \"No\",\n",
      "            0\n",
      "            ],\n",
      "\n"
     ]
    }
   ],
   "source": [
    "pref = 'GluGluToBulkGravitonToHHTo2B2VTo2L2Nu_M-'\n",
    "post = '_narrow_13TeV-madgraph'\n",
    "\n",
    "\n",
    "muonORele = 0\n",
    "\n",
    "masses = [260, 270, 300, 350, 400, 450, 600, 650, 900, 1000]\n",
    "#print len(masses)\n",
    "threetabs = ' '*12\n",
    "\n",
    "for m in masses:\n",
    "    print '\"' + pref + str(m) + post + '_HWW\" : ['\n",
    "    print threetabs + '1,'\n",
    "    print threetabs + '0,'\n",
    "    print threetabs + '\"' + pref[:-3] + '_WW_part_of_VV\",'\n",
    "    print threetabs + '\"BGravToH(WW)H(bb)_M' + str(m) + '\",'\n",
    "    print threetabs + '3,'\n",
    "    print threetabs + '\"Tot\",'\n",
    "    print threetabs + '1,'\n",
    "    print threetabs + '\"Hww\",'\n",
    "    print threetabs + str(muonORele)\n",
    "    print threetabs + '],'\n",
    "    print\n",
    "    \n",
    "for m in masses:\n",
    "    print '\"' + pref + str(m) + post + '_Hzz\" : ['\n",
    "    print threetabs + '1,'\n",
    "    print threetabs + '0,'\n",
    "    print threetabs + '\"' + pref[:-3] + '_ZZ_part_of_VV\",'\n",
    "    print threetabs + '\"BGravToH(zz)H(bb)_M' + str(m) + '\",'\n",
    "    print threetabs + '9,'\n",
    "    print threetabs + '\"Tot\",'\n",
    "    print threetabs + '1,'\n",
    "    print threetabs + '\"Hzz\",'\n",
    "    print threetabs + str(muonORele)\n",
    "    print threetabs + '],'\n",
    "    print\n",
    "    \n",
    "for m in masses:\n",
    "    print '\"' + pref + str(m) + post + '\" : ['\n",
    "    print threetabs + '1,'\n",
    "    print threetabs + '0,'\n",
    "    print threetabs + '\"' + pref[:-3] + '_no_WW/ZZ_splitting_of_VV\",'\n",
    "    print threetabs + '\"BGravToH(VV)H(bb)_M' + str(m) + '\",'\n",
    "    print threetabs + '28,'\n",
    "    print threetabs + '\"Tot\",'\n",
    "    print threetabs + '1,'\n",
    "    print threetabs + '\"No\",'\n",
    "    print threetabs + str(muonORele)\n",
    "    print threetabs + '],'\n",
    "    print\n",
    "    \n",
    "    \n",
    "\n",
    "\n",
    "#sigInputFile_GluGluToBulkGravitonToHHTo2B2ZTo2L2Nu_M_350_narrow_13TeV_madgraph__RunIISummer16MAv2_PUMoriond17_80r2as_2016_TrancheIV_v6_\\\n",
    "v1 = ROOT.TFile(dirWithMCSamples + \"GluGluToBulkGravitonToHHTo2B2ZTo2L2Nu_M-350_narrow_13TeV-madgraph__RunIISummer16MAv2-PUMoriond17_80\\\n",
    "r2as_2016_TrancheIV_v6-v1_minitree.root\")\n"
   ]
  },
  {
   "cell_type": "code",
   "execution_count": 32,
   "metadata": {},
   "outputs": [
    {
     "name": "stdout",
     "output_type": "stream",
     "text": [
      "sigInputFile_HWW_GluGluToBulkGravitonToHHTo2B2VTo2L2Nu_M_260_narrow_13TeV_madgraph = ROOT.TFile(dirWithMCSamples + \"GluGluToBulkGravitonToHHTo2B2VTo2L2Nu_M-260_narrow_13TeV-madgraph_HWW_minitree.root\")\n",
      "sigInputFile_Hzz_GluGluToBulkGravitonToHHTo2B2VTo2L2Nu_M_260_narrow_13TeV_madgraph = ROOT.TFile(dirWithMCSamples + \"GluGluToBulkGravitonToHHTo2B2VTo2L2Nu_M-260_narrow_13TeV-madgraph_Hzz_minitree.root\")\n",
      "sigInputFile_HVV_GluGluToBulkGravitonToHHTo2B2VTo2L2Nu_M_260_narrow_13TeV_madgraph = ROOT.TFile(dirWithMCSamples + \"GluGluToBulkGravitonToHHTo2B2VTo2L2Nu_M-260_narrow_13TeV-madgraph_minitree.root\")\n",
      "sigInputFile_HWW_GluGluToBulkGravitonToHHTo2B2VTo2L2Nu_M_270_narrow_13TeV_madgraph = ROOT.TFile(dirWithMCSamples + \"GluGluToBulkGravitonToHHTo2B2VTo2L2Nu_M-270_narrow_13TeV-madgraph_HWW_minitree.root\")\n",
      "sigInputFile_Hzz_GluGluToBulkGravitonToHHTo2B2VTo2L2Nu_M_270_narrow_13TeV_madgraph = ROOT.TFile(dirWithMCSamples + \"GluGluToBulkGravitonToHHTo2B2VTo2L2Nu_M-270_narrow_13TeV-madgraph_Hzz_minitree.root\")\n",
      "sigInputFile_HVV_GluGluToBulkGravitonToHHTo2B2VTo2L2Nu_M_270_narrow_13TeV_madgraph = ROOT.TFile(dirWithMCSamples + \"GluGluToBulkGravitonToHHTo2B2VTo2L2Nu_M-270_narrow_13TeV-madgraph_minitree.root\")\n",
      "sigInputFile_HWW_GluGluToBulkGravitonToHHTo2B2VTo2L2Nu_M_300_narrow_13TeV_madgraph = ROOT.TFile(dirWithMCSamples + \"GluGluToBulkGravitonToHHTo2B2VTo2L2Nu_M-300_narrow_13TeV-madgraph_HWW_minitree.root\")\n",
      "sigInputFile_Hzz_GluGluToBulkGravitonToHHTo2B2VTo2L2Nu_M_300_narrow_13TeV_madgraph = ROOT.TFile(dirWithMCSamples + \"GluGluToBulkGravitonToHHTo2B2VTo2L2Nu_M-300_narrow_13TeV-madgraph_Hzz_minitree.root\")\n",
      "sigInputFile_HVV_GluGluToBulkGravitonToHHTo2B2VTo2L2Nu_M_300_narrow_13TeV_madgraph = ROOT.TFile(dirWithMCSamples + \"GluGluToBulkGravitonToHHTo2B2VTo2L2Nu_M-300_narrow_13TeV-madgraph_minitree.root\")\n",
      "sigInputFile_HWW_GluGluToBulkGravitonToHHTo2B2VTo2L2Nu_M_350_narrow_13TeV_madgraph = ROOT.TFile(dirWithMCSamples + \"GluGluToBulkGravitonToHHTo2B2VTo2L2Nu_M-350_narrow_13TeV-madgraph_HWW_minitree.root\")\n",
      "sigInputFile_Hzz_GluGluToBulkGravitonToHHTo2B2VTo2L2Nu_M_350_narrow_13TeV_madgraph = ROOT.TFile(dirWithMCSamples + \"GluGluToBulkGravitonToHHTo2B2VTo2L2Nu_M-350_narrow_13TeV-madgraph_Hzz_minitree.root\")\n",
      "sigInputFile_HVV_GluGluToBulkGravitonToHHTo2B2VTo2L2Nu_M_350_narrow_13TeV_madgraph = ROOT.TFile(dirWithMCSamples + \"GluGluToBulkGravitonToHHTo2B2VTo2L2Nu_M-350_narrow_13TeV-madgraph_minitree.root\")\n",
      "sigInputFile_HWW_GluGluToBulkGravitonToHHTo2B2VTo2L2Nu_M_400_narrow_13TeV_madgraph = ROOT.TFile(dirWithMCSamples + \"GluGluToBulkGravitonToHHTo2B2VTo2L2Nu_M-400_narrow_13TeV-madgraph_HWW_minitree.root\")\n",
      "sigInputFile_Hzz_GluGluToBulkGravitonToHHTo2B2VTo2L2Nu_M_400_narrow_13TeV_madgraph = ROOT.TFile(dirWithMCSamples + \"GluGluToBulkGravitonToHHTo2B2VTo2L2Nu_M-400_narrow_13TeV-madgraph_Hzz_minitree.root\")\n",
      "sigInputFile_HVV_GluGluToBulkGravitonToHHTo2B2VTo2L2Nu_M_400_narrow_13TeV_madgraph = ROOT.TFile(dirWithMCSamples + \"GluGluToBulkGravitonToHHTo2B2VTo2L2Nu_M-400_narrow_13TeV-madgraph_minitree.root\")\n",
      "sigInputFile_HWW_GluGluToBulkGravitonToHHTo2B2VTo2L2Nu_M_450_narrow_13TeV_madgraph = ROOT.TFile(dirWithMCSamples + \"GluGluToBulkGravitonToHHTo2B2VTo2L2Nu_M-450_narrow_13TeV-madgraph_HWW_minitree.root\")\n",
      "sigInputFile_Hzz_GluGluToBulkGravitonToHHTo2B2VTo2L2Nu_M_450_narrow_13TeV_madgraph = ROOT.TFile(dirWithMCSamples + \"GluGluToBulkGravitonToHHTo2B2VTo2L2Nu_M-450_narrow_13TeV-madgraph_Hzz_minitree.root\")\n",
      "sigInputFile_HVV_GluGluToBulkGravitonToHHTo2B2VTo2L2Nu_M_450_narrow_13TeV_madgraph = ROOT.TFile(dirWithMCSamples + \"GluGluToBulkGravitonToHHTo2B2VTo2L2Nu_M-450_narrow_13TeV-madgraph_minitree.root\")\n",
      "sigInputFile_HWW_GluGluToBulkGravitonToHHTo2B2VTo2L2Nu_M_600_narrow_13TeV_madgraph = ROOT.TFile(dirWithMCSamples + \"GluGluToBulkGravitonToHHTo2B2VTo2L2Nu_M-600_narrow_13TeV-madgraph_HWW_minitree.root\")\n",
      "sigInputFile_Hzz_GluGluToBulkGravitonToHHTo2B2VTo2L2Nu_M_600_narrow_13TeV_madgraph = ROOT.TFile(dirWithMCSamples + \"GluGluToBulkGravitonToHHTo2B2VTo2L2Nu_M-600_narrow_13TeV-madgraph_Hzz_minitree.root\")\n",
      "sigInputFile_HVV_GluGluToBulkGravitonToHHTo2B2VTo2L2Nu_M_600_narrow_13TeV_madgraph = ROOT.TFile(dirWithMCSamples + \"GluGluToBulkGravitonToHHTo2B2VTo2L2Nu_M-600_narrow_13TeV-madgraph_minitree.root\")\n",
      "sigInputFile_HWW_GluGluToBulkGravitonToHHTo2B2VTo2L2Nu_M_650_narrow_13TeV_madgraph = ROOT.TFile(dirWithMCSamples + \"GluGluToBulkGravitonToHHTo2B2VTo2L2Nu_M-650_narrow_13TeV-madgraph_HWW_minitree.root\")\n",
      "sigInputFile_Hzz_GluGluToBulkGravitonToHHTo2B2VTo2L2Nu_M_650_narrow_13TeV_madgraph = ROOT.TFile(dirWithMCSamples + \"GluGluToBulkGravitonToHHTo2B2VTo2L2Nu_M-650_narrow_13TeV-madgraph_Hzz_minitree.root\")\n",
      "sigInputFile_HVV_GluGluToBulkGravitonToHHTo2B2VTo2L2Nu_M_650_narrow_13TeV_madgraph = ROOT.TFile(dirWithMCSamples + \"GluGluToBulkGravitonToHHTo2B2VTo2L2Nu_M-650_narrow_13TeV-madgraph_minitree.root\")\n",
      "sigInputFile_HWW_GluGluToBulkGravitonToHHTo2B2VTo2L2Nu_M_900_narrow_13TeV_madgraph = ROOT.TFile(dirWithMCSamples + \"GluGluToBulkGravitonToHHTo2B2VTo2L2Nu_M-900_narrow_13TeV-madgraph_HWW_minitree.root\")\n",
      "sigInputFile_Hzz_GluGluToBulkGravitonToHHTo2B2VTo2L2Nu_M_900_narrow_13TeV_madgraph = ROOT.TFile(dirWithMCSamples + \"GluGluToBulkGravitonToHHTo2B2VTo2L2Nu_M-900_narrow_13TeV-madgraph_Hzz_minitree.root\")\n",
      "sigInputFile_HVV_GluGluToBulkGravitonToHHTo2B2VTo2L2Nu_M_900_narrow_13TeV_madgraph = ROOT.TFile(dirWithMCSamples + \"GluGluToBulkGravitonToHHTo2B2VTo2L2Nu_M-900_narrow_13TeV-madgraph_minitree.root\")\n",
      "sigInputFile_HWW_GluGluToBulkGravitonToHHTo2B2VTo2L2Nu_M_1000_narrow_13TeV_madgraph = ROOT.TFile(dirWithMCSamples + \"GluGluToBulkGravitonToHHTo2B2VTo2L2Nu_M-1000_narrow_13TeV-madgraph_HWW_minitree.root\")\n",
      "sigInputFile_Hzz_GluGluToBulkGravitonToHHTo2B2VTo2L2Nu_M_1000_narrow_13TeV_madgraph = ROOT.TFile(dirWithMCSamples + \"GluGluToBulkGravitonToHHTo2B2VTo2L2Nu_M-1000_narrow_13TeV-madgraph_Hzz_minitree.root\")\n",
      "sigInputFile_HVV_GluGluToBulkGravitonToHHTo2B2VTo2L2Nu_M_1000_narrow_13TeV_madgraph = ROOT.TFile(dirWithMCSamples + \"GluGluToBulkGravitonToHHTo2B2VTo2L2Nu_M-1000_narrow_13TeV-madgraph_minitree.root\")\n",
      "\n",
      "******************************\n",
      "\n",
      "sigInputFile_HWW_GluGluToBulkGravitonToHHTo2B2VTo2L2Nu_M_260_narrow_13TeV_madgraph : \"GluGluToBulkGravitonToHHTo2B2VTo2L2Nu_M-260_narrow_13TeV-madgraph_HWW\",\n",
      "sigInputFile_Hzz_GluGluToBulkGravitonToHHTo2B2VTo2L2Nu_M_260_narrow_13TeV_madgraph : \"GluGluToBulkGravitonToHHTo2B2VTo2L2Nu_M-260_narrow_13TeV-madgraph_Hzz\",\n",
      "sigInputFile_HVV_GluGluToBulkGravitonToHHTo2B2VTo2L2Nu_M_260_narrow_13TeV_madgraph : \"GluGluToBulkGravitonToHHTo2B2VTo2L2Nu_M-260_narrow_13TeV-madgraph\",\n",
      "sigInputFile_HWW_GluGluToBulkGravitonToHHTo2B2VTo2L2Nu_M_270_narrow_13TeV_madgraph : \"GluGluToBulkGravitonToHHTo2B2VTo2L2Nu_M-270_narrow_13TeV-madgraph_HWW\",\n",
      "sigInputFile_Hzz_GluGluToBulkGravitonToHHTo2B2VTo2L2Nu_M_270_narrow_13TeV_madgraph : \"GluGluToBulkGravitonToHHTo2B2VTo2L2Nu_M-270_narrow_13TeV-madgraph_Hzz\",\n",
      "sigInputFile_HVV_GluGluToBulkGravitonToHHTo2B2VTo2L2Nu_M_270_narrow_13TeV_madgraph : \"GluGluToBulkGravitonToHHTo2B2VTo2L2Nu_M-270_narrow_13TeV-madgraph\",\n",
      "sigInputFile_HWW_GluGluToBulkGravitonToHHTo2B2VTo2L2Nu_M_300_narrow_13TeV_madgraph : \"GluGluToBulkGravitonToHHTo2B2VTo2L2Nu_M-300_narrow_13TeV-madgraph_HWW\",\n",
      "sigInputFile_Hzz_GluGluToBulkGravitonToHHTo2B2VTo2L2Nu_M_300_narrow_13TeV_madgraph : \"GluGluToBulkGravitonToHHTo2B2VTo2L2Nu_M-300_narrow_13TeV-madgraph_Hzz\",\n",
      "sigInputFile_HVV_GluGluToBulkGravitonToHHTo2B2VTo2L2Nu_M_300_narrow_13TeV_madgraph : \"GluGluToBulkGravitonToHHTo2B2VTo2L2Nu_M-300_narrow_13TeV-madgraph\",\n",
      "sigInputFile_HWW_GluGluToBulkGravitonToHHTo2B2VTo2L2Nu_M_350_narrow_13TeV_madgraph : \"GluGluToBulkGravitonToHHTo2B2VTo2L2Nu_M-350_narrow_13TeV-madgraph_HWW\",\n",
      "sigInputFile_Hzz_GluGluToBulkGravitonToHHTo2B2VTo2L2Nu_M_350_narrow_13TeV_madgraph : \"GluGluToBulkGravitonToHHTo2B2VTo2L2Nu_M-350_narrow_13TeV-madgraph_Hzz\",\n",
      "sigInputFile_HVV_GluGluToBulkGravitonToHHTo2B2VTo2L2Nu_M_350_narrow_13TeV_madgraph : \"GluGluToBulkGravitonToHHTo2B2VTo2L2Nu_M-350_narrow_13TeV-madgraph\",\n",
      "sigInputFile_HWW_GluGluToBulkGravitonToHHTo2B2VTo2L2Nu_M_400_narrow_13TeV_madgraph : \"GluGluToBulkGravitonToHHTo2B2VTo2L2Nu_M-400_narrow_13TeV-madgraph_HWW\",\n",
      "sigInputFile_Hzz_GluGluToBulkGravitonToHHTo2B2VTo2L2Nu_M_400_narrow_13TeV_madgraph : \"GluGluToBulkGravitonToHHTo2B2VTo2L2Nu_M-400_narrow_13TeV-madgraph_Hzz\",\n",
      "sigInputFile_HVV_GluGluToBulkGravitonToHHTo2B2VTo2L2Nu_M_400_narrow_13TeV_madgraph : \"GluGluToBulkGravitonToHHTo2B2VTo2L2Nu_M-400_narrow_13TeV-madgraph\",\n",
      "sigInputFile_HWW_GluGluToBulkGravitonToHHTo2B2VTo2L2Nu_M_450_narrow_13TeV_madgraph : \"GluGluToBulkGravitonToHHTo2B2VTo2L2Nu_M-450_narrow_13TeV-madgraph_HWW\",\n",
      "sigInputFile_Hzz_GluGluToBulkGravitonToHHTo2B2VTo2L2Nu_M_450_narrow_13TeV_madgraph : \"GluGluToBulkGravitonToHHTo2B2VTo2L2Nu_M-450_narrow_13TeV-madgraph_Hzz\",\n",
      "sigInputFile_HVV_GluGluToBulkGravitonToHHTo2B2VTo2L2Nu_M_450_narrow_13TeV_madgraph : \"GluGluToBulkGravitonToHHTo2B2VTo2L2Nu_M-450_narrow_13TeV-madgraph\",\n",
      "sigInputFile_HWW_GluGluToBulkGravitonToHHTo2B2VTo2L2Nu_M_600_narrow_13TeV_madgraph : \"GluGluToBulkGravitonToHHTo2B2VTo2L2Nu_M-600_narrow_13TeV-madgraph_HWW\",\n",
      "sigInputFile_Hzz_GluGluToBulkGravitonToHHTo2B2VTo2L2Nu_M_600_narrow_13TeV_madgraph : \"GluGluToBulkGravitonToHHTo2B2VTo2L2Nu_M-600_narrow_13TeV-madgraph_Hzz\",\n",
      "sigInputFile_HVV_GluGluToBulkGravitonToHHTo2B2VTo2L2Nu_M_600_narrow_13TeV_madgraph : \"GluGluToBulkGravitonToHHTo2B2VTo2L2Nu_M-600_narrow_13TeV-madgraph\",\n",
      "sigInputFile_HWW_GluGluToBulkGravitonToHHTo2B2VTo2L2Nu_M_650_narrow_13TeV_madgraph : \"GluGluToBulkGravitonToHHTo2B2VTo2L2Nu_M-650_narrow_13TeV-madgraph_HWW\",\n",
      "sigInputFile_Hzz_GluGluToBulkGravitonToHHTo2B2VTo2L2Nu_M_650_narrow_13TeV_madgraph : \"GluGluToBulkGravitonToHHTo2B2VTo2L2Nu_M-650_narrow_13TeV-madgraph_Hzz\",\n",
      "sigInputFile_HVV_GluGluToBulkGravitonToHHTo2B2VTo2L2Nu_M_650_narrow_13TeV_madgraph : \"GluGluToBulkGravitonToHHTo2B2VTo2L2Nu_M-650_narrow_13TeV-madgraph\",\n",
      "sigInputFile_HWW_GluGluToBulkGravitonToHHTo2B2VTo2L2Nu_M_900_narrow_13TeV_madgraph : \"GluGluToBulkGravitonToHHTo2B2VTo2L2Nu_M-900_narrow_13TeV-madgraph_HWW\",\n",
      "sigInputFile_Hzz_GluGluToBulkGravitonToHHTo2B2VTo2L2Nu_M_900_narrow_13TeV_madgraph : \"GluGluToBulkGravitonToHHTo2B2VTo2L2Nu_M-900_narrow_13TeV-madgraph_Hzz\",\n",
      "sigInputFile_HVV_GluGluToBulkGravitonToHHTo2B2VTo2L2Nu_M_900_narrow_13TeV_madgraph : \"GluGluToBulkGravitonToHHTo2B2VTo2L2Nu_M-900_narrow_13TeV-madgraph\",\n",
      "sigInputFile_HWW_GluGluToBulkGravitonToHHTo2B2VTo2L2Nu_M_1000_narrow_13TeV_madgraph : \"GluGluToBulkGravitonToHHTo2B2VTo2L2Nu_M-1000_narrow_13TeV-madgraph_HWW\",\n",
      "sigInputFile_Hzz_GluGluToBulkGravitonToHHTo2B2VTo2L2Nu_M_1000_narrow_13TeV_madgraph : \"GluGluToBulkGravitonToHHTo2B2VTo2L2Nu_M-1000_narrow_13TeV-madgraph_Hzz\",\n",
      "sigInputFile_HVV_GluGluToBulkGravitonToHHTo2B2VTo2L2Nu_M_1000_narrow_13TeV_madgraph : \"GluGluToBulkGravitonToHHTo2B2VTo2L2Nu_M-1000_narrow_13TeV-madgraph\",\n"
     ]
    }
   ],
   "source": [
    "#sigInputFile_GluGluToBulkGravitonToHHTo2B2ZTo2L2Nu_M_350_narrow_13TeV_madgraph__RunIISummer16MAv2_PUMoriond17_80r2as_2016_TrancheIV_v6_\\\n",
    "#v1 = ROOT.TFile(dirWithMCSamples + \"GluGluToBulkGravitonToHHTo2B2ZTo2L2Nu_M-350_narrow_13TeV-madgraph__RunIISummer16MAv2-PUMoriond17_80\\\n",
    "#r2as_2016_TrancheIV_v6-v1_minitree.root\")\n",
    "\n",
    "pref = 'sigInputFile_'\n",
    "types = ['HWW_', 'Hzz_', 'HVV_']\n",
    "masses = [260, 270, 300, 350, 400, 450, 600, 650, 900, 1000]\n",
    "suff = 'GluGluToBulkGravitonToHHTo2B2VTo2L2Nu_M-'\n",
    "post = '_narrow_13TeV-madgraph'\n",
    "end = 'minitree.root'\n",
    "\n",
    "for m in masses:\n",
    "    for t in types:\n",
    "        extra = '_' + t if 'zz' in t or 'WW' in t else ''\n",
    "        print pref + t + suff.replace('-','_') + str(m) + post.replace('-','_') + ' = ROOT.TFile(dirWithMCSamples + \"' + suff + str(m) + post + extra[:-1] + '_' + end + '\")'\n",
    "        \n",
    "        \n",
    "print\n",
    "print '*'*30\n",
    "print\n",
    "\n",
    "for m in masses:\n",
    "    for t in types:\n",
    "        extra = '_' + t if 'zz' in t or 'WW' in t else ''\n",
    "        print pref + t + suff.replace('-','_') + str(m) + post.replace('-','_') + ' : \"' + suff + str(m) + post + extra[:-1] + '\",'\n",
    "        "
   ]
  },
  {
   "cell_type": "code",
   "execution_count": 49,
   "metadata": {},
   "outputs": [
    {
     "data": {
      "text/plain": [
       "'270'"
      ]
     },
     "execution_count": 49,
     "metadata": {},
     "output_type": "execute_result"
    }
   ],
   "source": [
    "a = \"GluGluToBulkGravitonToHHTo2B2VTo2L2Nu_M-2\"\n",
    "a[38]\n",
    "\n",
    "import re\n",
    "\n",
    "name = 'GluGluToBulkGravitonToHHTo2B2VTo2L2Nu_M-270_narrow_13TeV-madgraph_Hzz'\n",
    "tmp = re.findall(r'\\d+', name[name.find('_M'):] )[0]\n",
    "tmp\n"
   ]
  },
  {
   "cell_type": "code",
   "execution_count": 80,
   "metadata": {},
   "outputs": [
    {
     "name": "stdout",
     "output_type": "stream",
     "text": [
      "265431\n"
     ]
    }
   ],
   "source": [
    "num = 265431.3456\n",
    "rnum = int(round(num, 0))\n",
    "print rnum"
   ]
  },
  {
   "cell_type": "code",
   "execution_count": 81,
   "metadata": {
    "collapsed": true
   },
   "outputs": [],
   "source": [
    "def determMultiples (number):\n",
    "    mil, rest = divmod (number, 1000000)\n",
    "    thous, leftov = divmod (rest, 1000)\n",
    "    hund, rest = divmod (leftov, 100)\n",
    "    #print '{0}M {1}k {2}h {3}'.format(mil, thous, hund, rest)\n",
    "    if mil ==0:\n",
    "        if thous ==0:\n",
    "            if hund == 0:\n",
    "                return '{0}'.format(rest)\n",
    "            else:\n",
    "                return '{0}{1}'.format(hund, str(rest))\n",
    "        else:\n",
    "            return '{0}.{1}k'.format(thous, str(hund)[0])\n",
    "    else:\n",
    "        return '{0}.{1}M'.format(mil, str(thous)[0])"
   ]
  },
  {
   "cell_type": "code",
   "execution_count": 82,
   "metadata": {},
   "outputs": [
    {
     "data": {
      "text/plain": [
       "'265.4k'"
      ]
     },
     "execution_count": 82,
     "metadata": {},
     "output_type": "execute_result"
    }
   ],
   "source": [
    "determMultiples(rnum)"
   ]
  },
  {
   "cell_type": "code",
   "execution_count": null,
   "metadata": {
    "collapsed": true
   },
   "outputs": [],
   "source": [
    "loader.AddVariable(\"zmass\")\n",
    "loader.AddVariable(\"met_pt\")\n",
    "loader.AddVariable(\"hmass0\")\n",
    "\n",
    "loader.AddVariable(\"hmass1\")\n",
    "loader.AddVariable(\"zpt0\")\n",
    "loader.AddVariable(\"dR_leps\")\n",
    "\n",
    "loader.AddVariable(\"dR_bjets\")\n",
    "loader.AddVariable(\"hpt0\")\n",
    "loader.AddVariable(\"hpt1\")\n",
    "\n"
   ]
  },
  {
   "cell_type": "code",
   "execution_count": 17,
   "metadata": {},
   "outputs": [
    {
     "name": "stdout",
     "output_type": "stream",
     "text": [
      "reader_highMass.AddVariable(\"zmass\", zmass)\n",
      "reader_highMass.AddVariable(\"met_pt\", met_pt)\n",
      "reader_highMass.AddVariable(\"hmass0\", hmass0)\n",
      "reader_highMass.AddVariable(\"hmass1\", hmass1)\n",
      "reader_highMass.AddVariable(\"zpt0\", zpt0)\n",
      "reader_highMass.AddVariable(\"dR_leps\", dR_leps)\n",
      "reader_highMass.AddVariable(\"dR_bjets\", dR_bjets)\n",
      "reader_highMass.AddVariable(\"hpt0\", hpt0)\n",
      "reader_highMass.AddVariable(\"hpt1\", hpt1)\n"
     ]
    }
   ],
   "source": [
    "myVars = [  \n",
    "        'zmass', \n",
    "        'met_pt', \n",
    "        'hmass0',\n",
    "    \n",
    "        'hmass1',\n",
    "        'zpt0',\n",
    "        'dR_leps',\n",
    "    \n",
    "        'dR_bjets',\n",
    "        'hpt0',\n",
    "        'hpt1'\n",
    "]\n",
    "\n",
    "post = \" = array('f',[0])\"\n",
    "pref = 'reader_highMass.AddVariable(\"'\n",
    "post = '\", '\n",
    "\n",
    "for v in myVars:\n",
    "    print pref + v + post + v + ')'\n",
    "    "
   ]
  },
  {
   "cell_type": "code",
   "execution_count": 19,
   "metadata": {},
   "outputs": [
    {
     "name": "stdout",
     "output_type": "stream",
     "text": [
      "zmass[0] = entry.zmass\n",
      "met_pt[0] = entry.met_pt\n",
      "hmass0[0] = entry.hmass0\n",
      "hmass1[0] = entry.hmass1\n",
      "dR_leps[0] = entry.dR_leps\n",
      "dR_bjets[0] = entry.dR_bjets\n",
      "zpt0[0] = entry.zpt0\n",
      "hpt0[0] = entry.hpt0\n",
      "hpt1[0] = entry.hpt1\n"
     ]
    }
   ],
   "source": [
    "myVars = [  \n",
    "        'zmass', \n",
    "        'met_pt', \n",
    "        'hmass0',\n",
    "    \n",
    "        'hmass1',\n",
    "        'dR_leps',\n",
    "        'dR_bjets',\n",
    "        \n",
    "        'zpt0',\n",
    "        'hpt0',\n",
    "        'hpt1'\n",
    "]\n",
    "\n",
    "\n",
    "for v in myVars:\n",
    "    print  v + '[0] = entry.' + v\n",
    "    "
   ]
  },
  {
   "cell_type": "code",
   "execution_count": 22,
   "metadata": {},
   "outputs": [
    {
     "name": "stdout",
     "output_type": "stream",
     "text": [
      "histos['zmass'].Fill(entry.zmass, eqLumi)\n",
      "histos['met_pt'].Fill(entry.met_pt, eqLumi)\n",
      "histos['hmass0'].Fill(entry.hmass0, eqLumi)\n",
      "histos['hmass1'].Fill(entry.hmass1, eqLumi)\n",
      "histos['dR_leps'].Fill(entry.dR_leps, eqLumi)\n",
      "histos['dR_bjets'].Fill(entry.dR_bjets, eqLumi)\n",
      "histos['zpt0'].Fill(entry.zpt0, eqLumi)\n",
      "histos['hpt0'].Fill(entry.hpt0, eqLumi)\n",
      "histos['hpt1'].Fill(entry.hpt1, eqLumi)\n"
     ]
    }
   ],
   "source": [
    "#\thistos['metpt'].Fill(entry.met_pt, eqLumi)\n",
    "\n",
    "myVars = [  \n",
    "        'zmass', \n",
    "        'met_pt', \n",
    "        'hmass0',\n",
    "    \n",
    "        'hmass1',\n",
    "        'dR_leps',\n",
    "        'dR_bjets',\n",
    "        \n",
    "        'zpt0',\n",
    "        'hpt0',\n",
    "        'hpt1'\n",
    "]\n",
    "\n",
    "pref = \"histos['\"\n",
    "suff = \"'].Fill(entry.\"\n",
    "post = \", eqLumi)\"\n",
    "\n",
    "for v in myVars:\n",
    "    print  pref + v + suff + v + post\n",
    "    "
   ]
  },
  {
   "cell_type": "code",
   "execution_count": 40,
   "metadata": {},
   "outputs": [
    {
     "name": "stdout",
     "output_type": "stream",
     "text": [
      "6\n"
     ]
    },
    {
     "data": {
      "text/plain": [
       "'l'"
      ]
     },
     "execution_count": 40,
     "metadata": {},
     "output_type": "execute_result"
    }
   ],
   "source": [
    "a = 'hhmt_l'\n",
    "print len(a)\n",
    "\n",
    "a[5:]"
   ]
  },
  {
   "cell_type": "code",
   "execution_count": 11,
   "metadata": {},
   "outputs": [
    {
     "name": "stdout",
     "output_type": "stream",
     "text": [
      "0 ok\n",
      "1 ok\n",
      "2 ok\n",
      "3 ok\n",
      "4 ok\n",
      "5 ok\n",
      "6 ok\n",
      "7 ok\n",
      "8 ok\n",
      "9 ok\n",
      "2 1 2 1 2 1 2 1\n"
     ]
    }
   ],
   "source": [
    "jer_up_0, jer_down_0, jer_up_1, jer_down_1, jec_up_0, jec_down_0, jec_up_1, jec_down_1 = list([2,1]*4)\n",
    "\n",
    "for y in range(10):\n",
    "    if any(x is None for x in [jer_up_0, jer_down_0, jer_up_1, jer_down_1, jec_up_0, jec_down_0, jec_up_1, jec_down_1]):\n",
    "        continue\n",
    "    else:\n",
    "        print y, 'ok'\n",
    "print jer_up_0, jer_down_0, jer_up_1, jer_down_1, jec_up_0, jec_down_0, jec_up_1, jec_down_1"
   ]
  },
  {
   "cell_type": "code",
   "execution_count": 2,
   "metadata": {},
   "outputs": [
    {
     "data": {
      "text/html": [
       "<div>\n",
       "<style scoped>\n",
       "    .dataframe tbody tr th:only-of-type {\n",
       "        vertical-align: middle;\n",
       "    }\n",
       "\n",
       "    .dataframe tbody tr th {\n",
       "        vertical-align: top;\n",
       "    }\n",
       "\n",
       "    .dataframe thead th {\n",
       "        text-align: right;\n",
       "    }\n",
       "</style>\n",
       "<table border=\"1\" class=\"dataframe\">\n",
       "  <thead>\n",
       "    <tr style=\"text-align: right;\">\n",
       "      <th></th>\n",
       "      <th>Rank</th>\n",
       "      <th>Importance, %</th>\n",
       "    </tr>\n",
       "  </thead>\n",
       "  <tbody>\n",
       "    <tr>\n",
       "      <th>1</th>\n",
       "      <td>dR_bjets</td>\n",
       "      <td>13.9</td>\n",
       "    </tr>\n",
       "    <tr>\n",
       "      <th>2</th>\n",
       "      <td>met</td>\n",
       "      <td>12.1</td>\n",
       "    </tr>\n",
       "    <tr>\n",
       "      <th>3</th>\n",
       "      <td>Hbb mass</td>\n",
       "      <td>11.9</td>\n",
       "    </tr>\n",
       "    <tr>\n",
       "      <th>4</th>\n",
       "      <td>pT(ZZ)</td>\n",
       "      <td>11</td>\n",
       "    </tr>\n",
       "    <tr>\n",
       "      <th>5</th>\n",
       "      <td>dR_leps</td>\n",
       "      <td>10.9</td>\n",
       "    </tr>\n",
       "    <tr>\n",
       "      <th>6</th>\n",
       "      <td>Hbb pT</td>\n",
       "      <td>10.7</td>\n",
       "    </tr>\n",
       "    <tr>\n",
       "      <th>7</th>\n",
       "      <td>Z pT</td>\n",
       "      <td>10.2</td>\n",
       "    </tr>\n",
       "    <tr>\n",
       "      <th>8</th>\n",
       "      <td>M(ZZ)</td>\n",
       "      <td>10.1</td>\n",
       "    </tr>\n",
       "    <tr>\n",
       "      <th>9</th>\n",
       "      <td>Z mass</td>\n",
       "      <td>9.26</td>\n",
       "    </tr>\n",
       "  </tbody>\n",
       "</table>\n",
       "</div>"
      ],
      "text/plain": [
       "                 Rank Importance, %\n",
       "    1      dR_bjets            13.9\n",
       "    2         met              12.1\n",
       "    3    Hbb mass              11.9\n",
       "    4    pT(ZZ)                  11\n",
       "    5      dR_leps             10.9\n",
       "    6    Hbb pT                10.7\n",
       "    7      Z pT                10.2\n",
       "    8       M(ZZ)              10.1\n",
       "    9     Z mass               9.26"
      ]
     },
     "execution_count": 2,
     "metadata": {},
     "output_type": "execute_result"
    }
   ],
   "source": [
    "#ele\n",
    "#for file: rank_low.txt\n",
    "import pandas as pd\n",
    "df = pd.DataFrame(\n",
    "\n",
    "{\" Rank \": [\" Variable  \", \" Variable Importance\"], \"    1 \": [\" dR_bjets  \", \" 13.9\"], \"    2 \": [\" met    \", \" 12.1\"], \"    3 \": [\" Hbb mass    \", \" 11.9\"], \"    4 \": [\" pT(ZZ)      \", \" 11\"], \"    5 \": [\" dR_leps   \", \" 10.9\"], \"    6 \": [\" Hbb pT      \", \" 10.7\"], \"    7 \": [\" Z pT      \", \" 10.2\"], \"    8 \": [\" M(ZZ)    \", \" 10.1\"], \"    9 \": [\" Z mass     \", \" 9.26\"]}\n",
    ")\n",
    "\n",
    "md = df.T\n",
    "md.columns = [\"Rank\", \"Importance, %\"]\n",
    "fin_df = md.iloc[:9]\n",
    "fin_df#.to_html()"
   ]
  },
  {
   "cell_type": "code",
   "execution_count": 3,
   "metadata": {},
   "outputs": [
    {
     "data": {
      "text/html": [
       "<div>\n",
       "<style scoped>\n",
       "    .dataframe tbody tr th:only-of-type {\n",
       "        vertical-align: middle;\n",
       "    }\n",
       "\n",
       "    .dataframe tbody tr th {\n",
       "        vertical-align: top;\n",
       "    }\n",
       "\n",
       "    .dataframe thead th {\n",
       "        text-align: right;\n",
       "    }\n",
       "</style>\n",
       "<table border=\"1\" class=\"dataframe\">\n",
       "  <thead>\n",
       "    <tr style=\"text-align: right;\">\n",
       "      <th></th>\n",
       "      <th>Rank</th>\n",
       "      <th>Importance, %</th>\n",
       "    </tr>\n",
       "  </thead>\n",
       "  <tbody>\n",
       "    <tr>\n",
       "      <th>1</th>\n",
       "      <td>dR_leps</td>\n",
       "      <td>14.1</td>\n",
       "    </tr>\n",
       "    <tr>\n",
       "      <th>2</th>\n",
       "      <td>Hbb mass</td>\n",
       "      <td>13.7</td>\n",
       "    </tr>\n",
       "    <tr>\n",
       "      <th>3</th>\n",
       "      <td>dR_bjets</td>\n",
       "      <td>13.2</td>\n",
       "    </tr>\n",
       "    <tr>\n",
       "      <th>4</th>\n",
       "      <td>Hbb pT</td>\n",
       "      <td>12.1</td>\n",
       "    </tr>\n",
       "    <tr>\n",
       "      <th>5</th>\n",
       "      <td>Z pT</td>\n",
       "      <td>11.5</td>\n",
       "    </tr>\n",
       "    <tr>\n",
       "      <th>6</th>\n",
       "      <td>pT(ZZ)</td>\n",
       "      <td>11.3</td>\n",
       "    </tr>\n",
       "    <tr>\n",
       "      <th>7</th>\n",
       "      <td>met</td>\n",
       "      <td>10.3</td>\n",
       "    </tr>\n",
       "    <tr>\n",
       "      <th>8</th>\n",
       "      <td>M(ZZ)</td>\n",
       "      <td>7.7</td>\n",
       "    </tr>\n",
       "    <tr>\n",
       "      <th>9</th>\n",
       "      <td>Z mass</td>\n",
       "      <td>6.1</td>\n",
       "    </tr>\n",
       "  </tbody>\n",
       "</table>\n",
       "</div>"
      ],
      "text/plain": [
       "                 Rank Importance, %\n",
       "    1      dR_leps             14.1\n",
       "    2    Hbb mass              13.7\n",
       "    3      dR_bjets            13.2\n",
       "    4    Hbb pT                12.1\n",
       "    5      Z pT                11.5\n",
       "    6    pT(ZZ)                11.3\n",
       "    7         met              10.3\n",
       "    8       M(ZZ)               7.7\n",
       "    9     Z mass                6.1"
      ]
     },
     "execution_count": 3,
     "metadata": {},
     "output_type": "execute_result"
    }
   ],
   "source": [
    "#ele\n",
    "#for file: rank_high.txt\n",
    "import pandas as pd\n",
    "df = pd.DataFrame(\n",
    "\n",
    "{\" Rank \": [\" Variable  \", \" Variable Importance\"], \"    1 \": [\" dR_leps   \", \" 14.1\"], \"    2 \": [\" Hbb mass    \", \" 13.7\"], \"    3 \": [\" dR_bjets  \", \" 13.2\"], \"    4 \": [\" Hbb pT      \", \" 12.1\"], \"    5 \": [\" Z pT      \", \" 11.5\"], \"    6 \": [\" pT(ZZ)      \", \" 11.3\"], \"    7 \": [\" met    \", \" 10.3\"], \"    8 \": [\" M(ZZ)    \", \" 7.7\"], \"    9 \": [\" Z mass     \", \" 6.1\"]}\n",
    ")\n",
    "md = df.T\n",
    "md.columns = [\"Rank\", \"Importance, %\"]\n",
    "fin_df = md.iloc[:9]\n",
    "fin_df\n",
    "fin_df#.to_html()"
   ]
  },
  {
   "cell_type": "code",
   "execution_count": 6,
   "metadata": {},
   "outputs": [
    {
     "data": {
      "text/html": [
       "<div>\n",
       "<style scoped>\n",
       "    .dataframe tbody tr th:only-of-type {\n",
       "        vertical-align: middle;\n",
       "    }\n",
       "\n",
       "    .dataframe tbody tr th {\n",
       "        vertical-align: top;\n",
       "    }\n",
       "\n",
       "    .dataframe thead th {\n",
       "        text-align: right;\n",
       "    }\n",
       "</style>\n",
       "<table border=\"1\" class=\"dataframe\">\n",
       "  <thead>\n",
       "    <tr style=\"text-align: right;\">\n",
       "      <th></th>\n",
       "      <th>Rank</th>\n",
       "      <th>Importance</th>\n",
       "    </tr>\n",
       "  </thead>\n",
       "  <tbody>\n",
       "    <tr>\n",
       "      <th>1</th>\n",
       "      <td>dR_bjets</td>\n",
       "      <td>13.0</td>\n",
       "    </tr>\n",
       "    <tr>\n",
       "      <th>2</th>\n",
       "      <td>met</td>\n",
       "      <td>12.2</td>\n",
       "    </tr>\n",
       "    <tr>\n",
       "      <th>3</th>\n",
       "      <td>Hbb mass</td>\n",
       "      <td>11.9</td>\n",
       "    </tr>\n",
       "    <tr>\n",
       "      <th>4</th>\n",
       "      <td>Hbb pT</td>\n",
       "      <td>11.3</td>\n",
       "    </tr>\n",
       "    <tr>\n",
       "      <th>5</th>\n",
       "      <td>Z pT</td>\n",
       "      <td>11.1</td>\n",
       "    </tr>\n",
       "    <tr>\n",
       "      <th>6</th>\n",
       "      <td>pT(ZZ)</td>\n",
       "      <td>10.9</td>\n",
       "    </tr>\n",
       "    <tr>\n",
       "      <th>7</th>\n",
       "      <td>dR_leps</td>\n",
       "      <td>10.5</td>\n",
       "    </tr>\n",
       "    <tr>\n",
       "      <th>8</th>\n",
       "      <td>M(ZZ)</td>\n",
       "      <td>9.7</td>\n",
       "    </tr>\n",
       "    <tr>\n",
       "      <th>9</th>\n",
       "      <td>Z mass</td>\n",
       "      <td>9.5</td>\n",
       "    </tr>\n",
       "  </tbody>\n",
       "</table>\n",
       "</div>"
      ],
      "text/plain": [
       "                 Rank Importance\n",
       "    1      dR_bjets         13.0\n",
       "    2         met           12.2\n",
       "    3    Hbb mass           11.9\n",
       "    4    Hbb pT             11.3\n",
       "    5      Z pT             11.1\n",
       "    6    pT(ZZ)             10.9\n",
       "    7      dR_leps          10.5\n",
       "    8       M(ZZ)            9.7\n",
       "    9     Z mass             9.5"
      ]
     },
     "execution_count": 6,
     "metadata": {},
     "output_type": "execute_result"
    }
   ],
   "source": [
    "#muons\n",
    "#for file: rank_low.txt\n",
    "import pandas as pd\n",
    "df = pd.DataFrame(\n",
    "\n",
    "{\" Rank \": [\" Variable  \", \" Variable Importance\"], \"    1 \": [\" dR_bjets  \", \" 13.0\"], \"    2 \": [\" met    \", \" 12.2\"], \"    3 \": [\" Hbb mass    \", \" 11.9\"], \"    4 \": [\" Hbb pT      \", \" 11.3\"], \"    5 \": [\" Z pT      \", \" 11.1\"], \"    6 \": [\" pT(ZZ)      \", \" 10.9\"], \"    7 \": [\" dR_leps   \", \" 10.5\"], \"    8 \": [\" M(ZZ)    \", \" 9.7\"], \"    9 \": [\" Z mass     \", \" 9.5\"]}\n",
    ")\n",
    "md = df.T\n",
    "md.columns = [\"Rank\", \"Importance\"]\n",
    "md.iloc[:9]"
   ]
  },
  {
   "cell_type": "code",
   "execution_count": 7,
   "metadata": {},
   "outputs": [
    {
     "data": {
      "text/html": [
       "<div>\n",
       "<style scoped>\n",
       "    .dataframe tbody tr th:only-of-type {\n",
       "        vertical-align: middle;\n",
       "    }\n",
       "\n",
       "    .dataframe tbody tr th {\n",
       "        vertical-align: top;\n",
       "    }\n",
       "\n",
       "    .dataframe thead th {\n",
       "        text-align: right;\n",
       "    }\n",
       "</style>\n",
       "<table border=\"1\" class=\"dataframe\">\n",
       "  <thead>\n",
       "    <tr style=\"text-align: right;\">\n",
       "      <th></th>\n",
       "      <th>Rank</th>\n",
       "      <th>Importance</th>\n",
       "    </tr>\n",
       "  </thead>\n",
       "  <tbody>\n",
       "    <tr>\n",
       "      <th>1</th>\n",
       "      <td>Hbb mass</td>\n",
       "      <td>13.8</td>\n",
       "    </tr>\n",
       "    <tr>\n",
       "      <th>2</th>\n",
       "      <td>dR_bjets</td>\n",
       "      <td>13.1</td>\n",
       "    </tr>\n",
       "    <tr>\n",
       "      <th>3</th>\n",
       "      <td>dR_leps</td>\n",
       "      <td>12.9</td>\n",
       "    </tr>\n",
       "    <tr>\n",
       "      <th>4</th>\n",
       "      <td>Hbb pT</td>\n",
       "      <td>11.7</td>\n",
       "    </tr>\n",
       "    <tr>\n",
       "      <th>5</th>\n",
       "      <td>pT(ZZ)</td>\n",
       "      <td>11.3</td>\n",
       "    </tr>\n",
       "    <tr>\n",
       "      <th>6</th>\n",
       "      <td>Z pT</td>\n",
       "      <td>11.1</td>\n",
       "    </tr>\n",
       "    <tr>\n",
       "      <th>7</th>\n",
       "      <td>met</td>\n",
       "      <td>11.0</td>\n",
       "    </tr>\n",
       "    <tr>\n",
       "      <th>8</th>\n",
       "      <td>M(ZZ)</td>\n",
       "      <td>8.8</td>\n",
       "    </tr>\n",
       "    <tr>\n",
       "      <th>9</th>\n",
       "      <td>Z mass</td>\n",
       "      <td>6.2</td>\n",
       "    </tr>\n",
       "  </tbody>\n",
       "</table>\n",
       "</div>"
      ],
      "text/plain": [
       "                 Rank Importance\n",
       "    1    Hbb mass           13.8\n",
       "    2      dR_bjets         13.1\n",
       "    3      dR_leps          12.9\n",
       "    4    Hbb pT             11.7\n",
       "    5    pT(ZZ)             11.3\n",
       "    6      Z pT             11.1\n",
       "    7         met           11.0\n",
       "    8       M(ZZ)            8.8\n",
       "    9     Z mass             6.2"
      ]
     },
     "execution_count": 7,
     "metadata": {},
     "output_type": "execute_result"
    }
   ],
   "source": [
    "#muons\n",
    "#for file: rank_high.txt\n",
    "import pandas as pd\n",
    "df = pd.DataFrame(\n",
    "\n",
    "{\" Rank \": [\" Variable  \", \" Variable Importance\"], \"    1 \": [\" Hbb mass    \", \" 13.8\"], \"    2 \": [\" dR_bjets  \", \" 13.1\"], \"    3 \": [\" dR_leps   \", \" 12.9\"], \"    4 \": [\" Hbb pT      \", \" 11.7\"], \"    5 \": [\" pT(ZZ)      \", \" 11.3\"], \"    6 \": [\" Z pT      \", \" 11.1\"], \"    7 \": [\" met    \", \" 11.0\"], \"    8 \": [\" M(ZZ)    \", \" 8.8\"], \"    9 \": [\" Z mass     \", \" 6.2\"]}\n",
    ")\n",
    "md = df.T\n",
    "md.columns = [\"Rank\", \"Importance\"]\n",
    "md.iloc[:9]\n",
    "\n"
   ]
  },
  {
   "cell_type": "code",
   "execution_count": 29,
   "metadata": {},
   "outputs": [
    {
     "ename": "SyntaxError",
     "evalue": "invalid syntax (<ipython-input-29-59f1882abcea>, line 2)",
     "output_type": "error",
     "traceback": [
      "\u001b[0;36m  File \u001b[0;32m\"<ipython-input-29-59f1882abcea>\"\u001b[0;36m, line \u001b[0;32m2\u001b[0m\n\u001b[0;31m    return print num\u001b[0m\n\u001b[0m               ^\u001b[0m\n\u001b[0;31mSyntaxError\u001b[0m\u001b[0;31m:\u001b[0m invalid syntax\n"
     ]
    }
   ],
   "source": [
    "def print_a_number(num):\n",
    "    return print num\n",
    "\n",
    "def return_a_number(num):\n",
    "    return num\n",
    "\n",
    "def add_three(num):\n",
    "    return num + 3\n",
    "\n",
    "f1 = print_a_number(7)\n",
    "f2 = return_a_number(2)\n",
    "print f1\n",
    "#print f2\n",
    "\n",
    "#f3 = add_three(f2)\n",
    "#print f3\n",
    "#f4 = add_three(f1)\n",
    "#print f4"
   ]
  },
  {
   "cell_type": "code",
   "execution_count": 46,
   "metadata": {},
   "outputs": [
    {
     "data": {
      "text/plain": [
       "0.639516061634744"
      ]
     },
     "execution_count": 46,
     "metadata": {},
     "output_type": "execute_result"
    }
   ],
   "source": [
    "zpt0 = 3000\n",
    "EWKw = -0.1808051+6.04146*(pow((zpt0+759.098),-0.242556))\n",
    "EWKw"
   ]
  },
  {
   "cell_type": "code",
   "execution_count": 53,
   "metadata": {},
   "outputs": [
    {
     "data": {
      "text/plain": [
       "1.5286675544400001"
      ]
     },
     "execution_count": 53,
     "metadata": {},
     "output_type": "execute_result"
    }
   ],
   "source": [
    "etabb = 4\n",
    "                \n",
    "dyLOtoNLOw = 1.153*(0.940679 + 0.0306119*etabb -0.0134403*etabb*etabb + 0.0132179*etabb*etabb*etabb -0.00143832*etabb*etabb*\\\n",
    "etabb*etabb)\n",
    "dyLOtoNLOw"
   ]
  },
  {
   "cell_type": "code",
   "execution_count": 61,
   "metadata": {},
   "outputs": [
    {
     "name": "stdout",
     "output_type": "stream",
     "text": [
      "2.0\n",
      "2.0\n",
      "4.0\n"
     ]
    }
   ],
   "source": [
    "import numpy as np\n",
    "import ROOT\n",
    "\n",
    "#Must explicit declare variable type\n",
    "bin_edges = np.array([2, 4, 8, 9], dtype='float64')\n",
    "\n",
    "h = ROOT.TH1F(\"\",\"\",len(bin_edges)-1, bin_edges)\n",
    "\n",
    "for bin_num in range(len(bin_edges)-1):\n",
    "    print h.GetBinWidth(bin_num)\n",
    "    \n",
    "h.Draw()"
   ]
  },
  {
   "cell_type": "code",
   "execution_count": 63,
   "metadata": {
    "collapsed": true
   },
   "outputs": [],
   "source": [
    "from ROOT import TH1F\n",
    "from array import array\n",
    "bins = array( 'f', [10.,11.,12.] )\n",
    "h = TH1F( 'h', 'h', 2, bins )"
   ]
  },
  {
   "cell_type": "code",
   "execution_count": 64,
   "metadata": {},
   "outputs": [
    {
     "name": "stderr",
     "output_type": "stream",
     "text": [
      "Warning in <TROOT::Append>: Replacing existing TH1: h (Potential memory leak).\n"
     ]
    }
   ],
   "source": [
    "import ROOT\n",
    "import numpy as np\n",
    "m = [400,450,500,550,600,650,700,750,800,850,900,950,1000,1150,1500]\n",
    "h = ROOT.TH1D(\"h\",\";m [GeV];Events/ 50 GeV;;\",len(m)-1,np.asarray(m, 'd'))\n",
    "h.Draw()"
   ]
  },
  {
   "cell_type": "code",
   "execution_count": 2,
   "metadata": {},
   "outputs": [
    {
     "name": "stdout",
     "output_type": "stream",
     "text": [
      "shapes_CMS_btag_heavyDown/low_SR_0.1\n",
      "shapes_CMS_btag_heavyDown/low_SR_0.7\n",
      "shapes_CMS_btag_heavyDown/low_CRTT_0.1\n",
      "shapes_CMS_btag_heavyDown/low_CRTT_0.7\n",
      "shapes_CMS_btag_heavyDown/low_CRDY_0.1\n",
      "shapes_CMS_btag_heavyDown/low_CRDY_0.7\n",
      "shapes_CMS_btag_heavyDown/high_SR_0.7\n",
      "shapes_CMS_btag_heavyDown/high_SR_0.99\n",
      "shapes_CMS_btag_heavyDown/high_CRTT_0.7\n",
      "shapes_CMS_btag_heavyDown/high_CRTT_0.99\n",
      "shapes_CMS_btag_heavyDown/high_CRDY_0.7\n",
      "shapes_CMS_btag_heavyDown/high_CRDY_0.99\n",
      "shapes_CMS_btag_lightUp/low_SR_0.1\n",
      "shapes_CMS_btag_lightUp/low_SR_0.7\n",
      "shapes_CMS_btag_lightUp/low_CRTT_0.1\n",
      "shapes_CMS_btag_lightUp/low_CRTT_0.7\n",
      "shapes_CMS_btag_lightUp/low_CRDY_0.1\n",
      "shapes_CMS_btag_lightUp/low_CRDY_0.7\n",
      "shapes_CMS_btag_lightUp/high_SR_0.7\n",
      "shapes_CMS_btag_lightUp/high_SR_0.99\n",
      "shapes_CMS_btag_lightUp/high_CRTT_0.7\n",
      "shapes_CMS_btag_lightUp/high_CRTT_0.99\n",
      "shapes_CMS_btag_lightUp/high_CRDY_0.7\n",
      "shapes_CMS_btag_lightUp/high_CRDY_0.99\n",
      "shapes_CMS_btag_heavyUp/low_SR_0.1\n",
      "shapes_CMS_btag_heavyUp/low_SR_0.7\n",
      "shapes_CMS_btag_heavyUp/low_CRTT_0.1\n",
      "shapes_CMS_btag_heavyUp/low_CRTT_0.7\n",
      "shapes_CMS_btag_heavyUp/low_CRDY_0.1\n",
      "shapes_CMS_btag_heavyUp/low_CRDY_0.7\n",
      "shapes_CMS_btag_heavyUp/high_SR_0.7\n",
      "shapes_CMS_btag_heavyUp/high_SR_0.99\n",
      "shapes_CMS_btag_heavyUp/high_CRTT_0.7\n",
      "shapes_CMS_btag_heavyUp/high_CRTT_0.99\n",
      "shapes_CMS_btag_heavyUp/high_CRDY_0.7\n",
      "shapes_CMS_btag_heavyUp/high_CRDY_0.99\n",
      "shapes_CMS_res_jDown/low_SR_0.1\n",
      "shapes_CMS_res_jDown/low_SR_0.7\n",
      "shapes_CMS_res_jDown/low_CRTT_0.1\n",
      "shapes_CMS_res_jDown/low_CRTT_0.7\n",
      "shapes_CMS_res_jDown/low_CRDY_0.1\n",
      "shapes_CMS_res_jDown/low_CRDY_0.7\n",
      "shapes_CMS_res_jDown/high_SR_0.7\n",
      "shapes_CMS_res_jDown/high_SR_0.99\n",
      "shapes_CMS_res_jDown/high_CRTT_0.7\n",
      "shapes_CMS_res_jDown/high_CRTT_0.99\n",
      "shapes_CMS_res_jDown/high_CRDY_0.7\n",
      "shapes_CMS_res_jDown/high_CRDY_0.99\n",
      "shapes_CMS_btag_lightDown/low_SR_0.1\n",
      "shapes_CMS_btag_lightDown/low_SR_0.7\n",
      "shapes_CMS_btag_lightDown/low_CRTT_0.1\n",
      "shapes_CMS_btag_lightDown/low_CRTT_0.7\n",
      "shapes_CMS_btag_lightDown/low_CRDY_0.1\n",
      "shapes_CMS_btag_lightDown/low_CRDY_0.7\n",
      "shapes_CMS_btag_lightDown/high_SR_0.7\n",
      "shapes_CMS_btag_lightDown/high_SR_0.99\n",
      "shapes_CMS_btag_lightDown/high_CRTT_0.7\n",
      "shapes_CMS_btag_lightDown/high_CRTT_0.99\n",
      "shapes_CMS_btag_lightDown/high_CRDY_0.7\n",
      "shapes_CMS_btag_lightDown/high_CRDY_0.99\n",
      "shapes_nominal/low_SR_0.1\n",
      "shapes_nominal/low_SR_0.7\n",
      "shapes_nominal/low_CRTT_0.1\n",
      "shapes_nominal/low_CRTT_0.7\n",
      "shapes_nominal/low_CRDY_0.1\n",
      "shapes_nominal/low_CRDY_0.7\n",
      "shapes_nominal/high_SR_0.7\n",
      "shapes_nominal/high_SR_0.99\n",
      "shapes_nominal/high_CRTT_0.7\n",
      "shapes_nominal/high_CRTT_0.99\n",
      "shapes_nominal/high_CRDY_0.7\n",
      "shapes_nominal/high_CRDY_0.99\n",
      "shapes_CMS_res_jUp/low_SR_0.1\n",
      "shapes_CMS_res_jUp/low_SR_0.7\n",
      "shapes_CMS_res_jUp/low_CRTT_0.1\n",
      "shapes_CMS_res_jUp/low_CRTT_0.7\n",
      "shapes_CMS_res_jUp/low_CRDY_0.1\n",
      "shapes_CMS_res_jUp/low_CRDY_0.7\n",
      "shapes_CMS_res_jUp/high_SR_0.7\n",
      "shapes_CMS_res_jUp/high_SR_0.99\n",
      "shapes_CMS_res_jUp/high_CRTT_0.7\n",
      "shapes_CMS_res_jUp/high_CRTT_0.99\n",
      "shapes_CMS_res_jUp/high_CRDY_0.7\n",
      "shapes_CMS_res_jUp/high_CRDY_0.99\n",
      "shapes_CMS_scale_jUp/low_SR_0.1\n",
      "shapes_CMS_scale_jUp/low_SR_0.7\n",
      "shapes_CMS_scale_jUp/low_CRTT_0.1\n",
      "shapes_CMS_scale_jUp/low_CRTT_0.7\n",
      "shapes_CMS_scale_jUp/low_CRDY_0.1\n",
      "shapes_CMS_scale_jUp/low_CRDY_0.7\n",
      "shapes_CMS_scale_jUp/high_SR_0.7\n",
      "shapes_CMS_scale_jUp/high_SR_0.99\n",
      "shapes_CMS_scale_jUp/high_CRTT_0.7\n",
      "shapes_CMS_scale_jUp/high_CRTT_0.99\n",
      "shapes_CMS_scale_jUp/high_CRDY_0.7\n",
      "shapes_CMS_scale_jUp/high_CRDY_0.99\n",
      "shapes_CMS_scale_jDown/low_SR_0.1\n",
      "shapes_CMS_scale_jDown/low_SR_0.7\n",
      "shapes_CMS_scale_jDown/low_CRTT_0.1\n",
      "shapes_CMS_scale_jDown/low_CRTT_0.7\n",
      "shapes_CMS_scale_jDown/low_CRDY_0.1\n",
      "shapes_CMS_scale_jDown/low_CRDY_0.7\n",
      "shapes_CMS_scale_jDown/high_SR_0.7\n",
      "shapes_CMS_scale_jDown/high_SR_0.99\n",
      "shapes_CMS_scale_jDown/high_CRTT_0.7\n",
      "shapes_CMS_scale_jDown/high_CRTT_0.99\n",
      "shapes_CMS_scale_jDown/high_CRDY_0.7\n",
      "shapes_CMS_scale_jDown/high_CRDY_0.99\n",
      "shapes_CMS_eff_m_ISOUp/low_SR_0.1\n",
      "shapes_CMS_eff_m_ISOUp/low_SR_0.7\n",
      "shapes_CMS_eff_m_ISOUp/low_CRTT_0.1\n",
      "shapes_CMS_eff_m_ISOUp/low_CRTT_0.7\n",
      "shapes_CMS_eff_m_ISOUp/low_CRDY_0.1\n",
      "shapes_CMS_eff_m_ISOUp/low_CRDY_0.7\n",
      "shapes_CMS_eff_m_ISOUp/high_SR_0.7\n",
      "shapes_CMS_eff_m_ISOUp/high_SR_0.99\n",
      "shapes_CMS_eff_m_ISOUp/high_CRTT_0.7\n",
      "shapes_CMS_eff_m_ISOUp/high_CRTT_0.99\n",
      "shapes_CMS_eff_m_ISOUp/high_CRDY_0.7\n",
      "shapes_CMS_eff_m_ISOUp/high_CRDY_0.99\n",
      "shapes_CMS_eff_m_ISODown/low_SR_0.1\n",
      "shapes_CMS_eff_m_ISODown/low_SR_0.7\n",
      "shapes_CMS_eff_m_ISODown/low_CRTT_0.1\n",
      "shapes_CMS_eff_m_ISODown/low_CRTT_0.7\n",
      "shapes_CMS_eff_m_ISODown/low_CRDY_0.1\n",
      "shapes_CMS_eff_m_ISODown/low_CRDY_0.7\n",
      "shapes_CMS_eff_m_ISODown/high_SR_0.7\n",
      "shapes_CMS_eff_m_ISODown/high_SR_0.99\n",
      "shapes_CMS_eff_m_ISODown/high_CRTT_0.7\n",
      "shapes_CMS_eff_m_ISODown/high_CRTT_0.99\n",
      "shapes_CMS_eff_m_ISODown/high_CRDY_0.7\n",
      "shapes_CMS_eff_m_ISODown/high_CRDY_0.99\n",
      "shapes_CMS_eff_m_trackerDown/low_SR_0.1\n",
      "shapes_CMS_eff_m_trackerDown/low_SR_0.7\n",
      "shapes_CMS_eff_m_trackerDown/low_CRTT_0.1\n",
      "shapes_CMS_eff_m_trackerDown/low_CRTT_0.7\n",
      "shapes_CMS_eff_m_trackerDown/low_CRDY_0.1\n",
      "shapes_CMS_eff_m_trackerDown/low_CRDY_0.7\n",
      "shapes_CMS_eff_m_trackerDown/high_SR_0.7\n",
      "shapes_CMS_eff_m_trackerDown/high_SR_0.99\n",
      "shapes_CMS_eff_m_trackerDown/high_CRTT_0.7\n",
      "shapes_CMS_eff_m_trackerDown/high_CRTT_0.99\n",
      "shapes_CMS_eff_m_trackerDown/high_CRDY_0.7\n",
      "shapes_CMS_eff_m_trackerDown/high_CRDY_0.99\n",
      "shapes_CMS_eff_m_trackerUp/low_SR_0.1\n",
      "shapes_CMS_eff_m_trackerUp/low_SR_0.7\n",
      "shapes_CMS_eff_m_trackerUp/low_CRTT_0.1\n",
      "shapes_CMS_eff_m_trackerUp/low_CRTT_0.7\n",
      "shapes_CMS_eff_m_trackerUp/low_CRDY_0.1\n",
      "shapes_CMS_eff_m_trackerUp/low_CRDY_0.7\n",
      "shapes_CMS_eff_m_trackerUp/high_SR_0.7\n",
      "shapes_CMS_eff_m_trackerUp/high_SR_0.99\n",
      "shapes_CMS_eff_m_trackerUp/high_CRTT_0.7\n",
      "shapes_CMS_eff_m_trackerUp/high_CRTT_0.99\n",
      "shapes_CMS_eff_m_trackerUp/high_CRDY_0.7\n",
      "shapes_CMS_eff_m_trackerUp/high_CRDY_0.99\n",
      "shapes_CMS_eff_m_triggerDown/low_SR_0.1\n",
      "shapes_CMS_eff_m_triggerDown/low_SR_0.7\n",
      "shapes_CMS_eff_m_triggerDown/low_CRTT_0.1\n",
      "shapes_CMS_eff_m_triggerDown/low_CRTT_0.7\n",
      "shapes_CMS_eff_m_triggerDown/low_CRDY_0.1\n",
      "shapes_CMS_eff_m_triggerDown/low_CRDY_0.7\n",
      "shapes_CMS_eff_m_triggerDown/high_SR_0.7\n",
      "shapes_CMS_eff_m_triggerDown/high_SR_0.99\n",
      "shapes_CMS_eff_m_triggerDown/high_CRTT_0.7\n",
      "shapes_CMS_eff_m_triggerDown/high_CRTT_0.99\n",
      "shapes_CMS_eff_m_triggerDown/high_CRDY_0.7\n",
      "shapes_CMS_eff_m_triggerDown/high_CRDY_0.99\n",
      "shapes_CMS_eff_m_triggerUp/low_SR_0.1\n",
      "shapes_CMS_eff_m_triggerUp/low_SR_0.7\n",
      "shapes_CMS_eff_m_triggerUp/low_CRTT_0.1\n",
      "shapes_CMS_eff_m_triggerUp/low_CRTT_0.7\n",
      "shapes_CMS_eff_m_triggerUp/low_CRDY_0.1\n",
      "shapes_CMS_eff_m_triggerUp/low_CRDY_0.7\n",
      "shapes_CMS_eff_m_triggerUp/high_SR_0.7\n",
      "shapes_CMS_eff_m_triggerUp/high_SR_0.99\n",
      "shapes_CMS_eff_m_triggerUp/high_CRTT_0.7\n",
      "shapes_CMS_eff_m_triggerUp/high_CRTT_0.99\n",
      "shapes_CMS_eff_m_triggerUp/high_CRDY_0.7\n",
      "shapes_CMS_eff_m_triggerUp/high_CRDY_0.99\n",
      "shapes_CMS_eff_m_IDDown/low_SR_0.1\n",
      "shapes_CMS_eff_m_IDDown/low_SR_0.7\n",
      "shapes_CMS_eff_m_IDDown/low_CRTT_0.1\n",
      "shapes_CMS_eff_m_IDDown/low_CRTT_0.7\n",
      "shapes_CMS_eff_m_IDDown/low_CRDY_0.1\n",
      "shapes_CMS_eff_m_IDDown/low_CRDY_0.7\n",
      "shapes_CMS_eff_m_IDDown/high_SR_0.7\n",
      "shapes_CMS_eff_m_IDDown/high_SR_0.99\n",
      "shapes_CMS_eff_m_IDDown/high_CRTT_0.7\n",
      "shapes_CMS_eff_m_IDDown/high_CRTT_0.99\n",
      "shapes_CMS_eff_m_IDDown/high_CRDY_0.7\n",
      "shapes_CMS_eff_m_IDDown/high_CRDY_0.99\n",
      "shapes_CMS_eff_m_IDUp/low_SR_0.1\n",
      "shapes_CMS_eff_m_IDUp/low_SR_0.7\n",
      "shapes_CMS_eff_m_IDUp/low_CRTT_0.1\n",
      "shapes_CMS_eff_m_IDUp/low_CRTT_0.7\n",
      "shapes_CMS_eff_m_IDUp/low_CRDY_0.1\n",
      "shapes_CMS_eff_m_IDUp/low_CRDY_0.7\n",
      "shapes_CMS_eff_m_IDUp/high_SR_0.7\n",
      "shapes_CMS_eff_m_IDUp/high_SR_0.99\n",
      "shapes_CMS_eff_m_IDUp/high_CRTT_0.7\n",
      "shapes_CMS_eff_m_IDUp/high_CRTT_0.99\n",
      "shapes_CMS_eff_m_IDUp/high_CRDY_0.7\n",
      "shapes_CMS_eff_m_IDUp/high_CRDY_0.99\n",
      "204\n"
     ]
    }
   ],
   "source": [
    "channel = 'mm'\n",
    "\n",
    "\n",
    "shapes = [\n",
    "        #'shapes_CMS_eff_met_JetResDown/',\n",
    "        'shapes_CMS_btag_heavyDown/',\n",
    "        'shapes_CMS_btag_lightUp/',\n",
    "      \n",
    "     \n",
    "      \n",
    "        #'shapes_CMS_eff_met_JetResUp/',\n",
    "     #'shapes_CMS_eff_met_UnclusteredEnUp/',\n",
    "     #'shapes_CMS_eff_met_JetEnUp/',\n",
    "         'shapes_CMS_btag_heavyUp/',\n",
    "         'shapes_CMS_res_jDown/',\n",
    "     #'shapes_CMS_eff_met_UnclusteredEnDown/',\n",
    "         'shapes_CMS_btag_lightDown/',\n",
    "         'shapes_nominal/',\n",
    "         'shapes_CMS_res_jUp/',\n",
    "         'shapes_CMS_scale_jUp/',\n",
    "         'shapes_CMS_scale_jDown/',\n",
    "     #'shapes_CMS_eff_met_JetEnDown/'\n",
    "         ]\n",
    "\n",
    "ee_shapes = [\n",
    "        'shapes_CMS_eff_e_IDUp/', 'shapes_CMS_eff_e_trackerUp/', 'shapes_CMS_eff_e_triggerUp/',\n",
    "        'shapes_CMS_eff_e_IDDown/', 'shapes_CMS_eff_e_trackerDown/', 'shapes_CMS_eff_e_triggerDown/',\n",
    "        ]\n",
    "\n",
    "mm_shapes = [\n",
    "         'shapes_CMS_eff_m_ISOUp/',\n",
    "         'shapes_CMS_eff_m_ISODown/',\n",
    "\n",
    "         'shapes_CMS_eff_m_trackerDown/',\n",
    "         'shapes_CMS_eff_m_trackerUp/',\n",
    "         \n",
    "         'shapes_CMS_eff_m_triggerDown/',\n",
    "         'shapes_CMS_eff_m_triggerUp/',\n",
    "         \n",
    "         'shapes_CMS_eff_m_IDDown/',\n",
    "         'shapes_CMS_eff_m_IDUp/',\n",
    "\n",
    "        ]\n",
    "\n",
    "ee_bdtCuts = [0.4, 0.925, 0.99] #ee\n",
    "mm_bdtCuts = [0.1, 0.7, 0.99] #mm\n",
    "\n",
    "if channel == 'mm':\n",
    "    bdtCuts = mm_bdtCuts\n",
    "    shapes.extend(mm_shapes)\n",
    "    \n",
    "else:\n",
    "    bdtCuts = ee_bdtCuts\n",
    "    shapes.extend(ee_shapes)\n",
    "\n",
    "\n",
    "physRegion = [\"SR\", \"CRTT\", \"CRDY\"] #, \"CRDYlow\", \"CRDYhigh\", \"CRDYoneBin\", \"CRTToneBin\"]\n",
    "massRegion =  ['low', 'high']\n",
    "\n",
    "compare_dirs = [] \n",
    "\n",
    "for s in shapes:\n",
    "    for mR in massRegion:\n",
    "        for phys in physRegion:\n",
    "            for bdt in bdtCuts:\n",
    "                if (mR =='low' and bdt == 0.99) or (mR =='high' and bdt == 0.1):\n",
    "                    continue\n",
    "                else:\n",
    "                    print s+mR+'_'+phys+'_'+str(bdt)\n",
    "                    compare_dirs.append(s+mR+'_'+phys+'_'+str(bdt))\n",
    "print len(compare_dirs)"
   ]
  },
  {
   "cell_type": "code",
   "execution_count": null,
   "metadata": {
    "collapsed": true
   },
   "outputs": [],
   "source": []
  }
 ],
 "metadata": {
  "kernelspec": {
   "display_name": "Python 2",
   "language": "python",
   "name": "python2"
  },
  "language_info": {
   "codemirror_mode": {
    "name": "ipython",
    "version": 2
   },
   "file_extension": ".py",
   "mimetype": "text/x-python",
   "name": "python",
   "nbconvert_exporter": "python",
   "pygments_lexer": "ipython2",
   "version": "2.7.13"
  }
 },
 "nbformat": 4,
 "nbformat_minor": 1
}
